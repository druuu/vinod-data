{
 "cells": [
  {
   "cell_type": "markdown",
   "metadata": {},
   "source": [
    "## Reading Garbled Telephone Directory using Regular Expression\n",
    "\n",
    "You are given a garbled telephone directory as a string. Write a program to retrieve the phone numbers and names.\n",
    "In the input text, the names and phone numbers are mixed with some garbled text. Names start with Name:<First Last> and interspersed with some text. Finally the 10 digit phone number in the format 123-456-7890 along with some mixed text.\n",
    "You are reguired to extract 3 names and phone numbers and assign it to a list of dictionaries\n",
    "\n",
    "Input Example: phone_direct = \"Name:John Doe 'snumber201-442-2345was lost and the second Name is Name:Jane Dow and her number is @203-123-4683. The third number is Name:David Doe with the number #202-101-2021.\"\n",
    "\n",
    "\n",
    "Output Example:\n",
    "contacts = [{\"John Doe\" : \"201-442-2345\"}\n",
    "\n",
    "Hint use regular expression. https://docs.python.org/2/howto/regex.html\n"
   ]
  },
  {
   "cell_type": "code",
   "execution_count": null,
   "metadata": {},
   "outputs": [],
   "source": [
    "import re\n",
    "phone_direct = \"Name:John Doe 'snumber201-442-2345was lost and the second Name is Name:Jane Dow and her number is @203-123-4683. The third number is Name:David Doe with the number #202-101-2021.\"\n",
    "\n"
   ]
  },
  {
   "cell_type": "code",
   "execution_count": null,
   "metadata": {
    "tags": [
     "grade"
    ]
   },
   "outputs": [],
   "source": [
    "import re\n",
    "phone_direct = \"Name:John Doe 'snumber201-442-2345was lost and the second Name is Name:Jane Dow and her number is @203-123-4683. The third number is Name:David Doe with the number #202-101-2021.\"\n",
    "# Create a list of words\n",
    "phone_direct_copy = phone_direct.split()\n",
    "\n",
    "\n",
    "# Initialize a dictionary\n",
    "contacts = {}\n",
    "\n",
    "# Initialize the requirements from the questions \n",
    "# also instantiate the formart in which the number will be extracted\n",
    "clue = 'Name:'\n",
    "nums = r'\\d{3}-\\d{3}-\\d{4}'\n",
    "\n",
    "name=None\n",
    "phoneNumber=None\n",
    "\n",
    "for words in range(len(phone_direct_copy)):\n",
    "    if phoneNumber is None: \n",
    "        phoneNumber = re.search(nums, phone_direct_copy[words])\n",
    "    if name is None: \n",
    "        name = re.match(r'({0}\\w+)'.format(clue), phone_direct_copy[words])\n",
    "        if name is not None: \n",
    "            name = name.group() \n",
    "            name += ' ' + phone_direct_copy[words+1] \n",
    "            name = name.split(':')[1]\n",
    "    if name and phoneNumber: \n",
    "        contacts[name] = phoneNumber.group()\n",
    "        name = None\n",
    "        phoneNumber = None\n",
    "        \n",
    "from refactored import unittest\n",
    "unittest.test_variable('answer',contacts)\n"
   ]
  }
 ],
 "metadata": {
  "celltoolbar": "Tags",
  "kernelspec": {
   "display_name": "Python 3",
   "language": "python",
   "name": "python3"
  },
  "language_info": {
   "codemirror_mode": {
    "name": "ipython",
    "version": 3
   },
   "file_extension": ".py",
   "mimetype": "text/x-python",
   "name": "python",
   "nbconvert_exporter": "python",
   "pygments_lexer": "ipython3",
   "version": "3.6.5"
  }
 },
 "nbformat": 4,
 "nbformat_minor": 1
}
