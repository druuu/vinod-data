{
 "cells": [
  {
   "cell_type": "markdown",
   "metadata": {},
   "source": [
    "## Bias - Variance Trade-off\n",
    "\n",
    "In order to minimize the expected test error, we need to select a statistical learning method that simultaneously achieves\n",
    "low variance and low bias.\n",
    "\n",
    "\n",
    "### Variance\n",
    "\n",
    "Variance refers to the amount by which function f would change if we\n",
    "estimated it using a different training data set. Since the training data\n",
    "are used to fit the statistical learning method, different training data sets\n",
    "will result in a different function f. But ideally the estimate for f should not vary\n",
    "too much between training sets. However, if a method has high variance\n",
    "then small changes in the training data can result in large changes in estimated f. In\n",
    "general, more flexible statistical methods have higher variance.\n",
    "\n",
    "\n",
    "### Bias\n",
    "\n",
    "Bias refers to the error that is introduced by approximating\n",
    "a real-life problem, which may be extremely complicated, by a much\n",
    "simpler model. For example, linear regression assumes that there is a linear\n",
    "relationship between Y and X1,X2, . . . , Xp. It is unlikely that any real-life\n",
    "problem truly has such a simple linear relationship, and so performing linear\n",
    "regression will undoubtedly result in some bias in the estimate of f.\n",
    "\n",
    "\n",
    "### Bias-Variance Trade-off\n",
    "\n",
    "In the diagram below, as the complexity increases, the variance increases and bias decreases.\n",
    "This corresponds to the total error (= train_error + test_error) varying as a curve. It first decreases as the complexity grows to a point where the accuracy of the model is optimal. Once it reaches a point where the model starts overfitting the train data, the total error increases again.\n",
    "\n",
    "The point where the total error is minimal is the trade-off point between bias and variance. This will correspond to the most accurate and optimal model for the train and test dataset.\n",
    "\n",
    "<img src=\"../images/complexity-error.png\", style=\"width: 700px;\"> \n",
    "\n",
    "\n",
    "Reference - Introduction to Statistical Learning using R"
   ]
  },
  {
   "cell_type": "code",
   "execution_count": 4,
   "metadata": {
    "collapsed": true
   },
   "outputs": [],
   "source": [
    "# Pre-loaded code"
   ]
  },
  {
   "cell_type": "markdown",
   "metadata": {},
   "source": [
    "### Solution"
   ]
  }
 ],
 "metadata": {
  "kernelspec": {
   "display_name": "Python 3",
   "language": "python",
   "name": "python3"
  },
  "language_info": {
   "codemirror_mode": {
    "name": "ipython",
    "version": 3
   },
   "file_extension": ".py",
   "mimetype": "text/x-python",
   "name": "python",
   "nbconvert_exporter": "python",
   "pygments_lexer": "ipython3",
   "version": "3.6.5"
  }
 },
 "nbformat": 4,
 "nbformat_minor": 2
}
