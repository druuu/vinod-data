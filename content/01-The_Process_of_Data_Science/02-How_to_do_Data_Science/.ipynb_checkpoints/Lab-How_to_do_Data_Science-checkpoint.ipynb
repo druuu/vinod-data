{
 "cells": [
  {
   "cell_type": "markdown",
   "metadata": {},
   "source": [
    "# Approach to Data Science\n",
    "\n",
    "Below is a snapshot of a data set. Without performing any real analysis and without writing any code, can you outline the various steps you would perform to execute data science operations on the given data set?\n",
    "\n",
    "<img src=\"../../../images/data_snap.PNG\">\n",
    "\n",
    "Refer to the steps taught in class on how to do data sciences."
   ]
  },
  {
   "cell_type": "markdown",
   "metadata": {},
   "source": [
    "## Start writing here\n",
    "\n",
    "1. I can explore the data and find out what type of data it is.\n",
    "2. I can find some average values and median values for differnet parameters.\n",
    "3. Given data shows the info ragarding energy, temperature and time to failure. So, it might be representing a perticular machinary or a part of it.\n",
    "4. On observing the data, I came to a conclusion that I should build a model to predict the expected time to failure.\n",
    "5. I will look for the different algorithms which can be applied for this data to get best output.\n",
    "6. By building a model, I can test my model and make any changes if required."
   ]
  }
 ],
 "metadata": {
  "kernelspec": {
   "display_name": "Python 3",
   "language": "python",
   "name": "python3"
  },
  "language_info": {
   "codemirror_mode": {
    "name": "ipython",
    "version": 3
   },
   "file_extension": ".py",
   "mimetype": "text/x-python",
   "name": "python",
   "nbconvert_exporter": "python",
   "pygments_lexer": "ipython3",
   "version": "3.5.2"
  }
 },
 "nbformat": 4,
 "nbformat_minor": 2
}
