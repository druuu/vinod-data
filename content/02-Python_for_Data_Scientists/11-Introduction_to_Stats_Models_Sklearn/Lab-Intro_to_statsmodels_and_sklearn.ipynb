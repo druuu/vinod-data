{
 "cells": [
  {
   "cell_type": "markdown",
   "metadata": {},
   "source": [
    "## Statsmodels and Scikit-Learn\n",
    "\n",
    "Since, you have had a glimpse of how these libraries work we will want to know when to use these libraries. \n",
    "Here is the documentation for both the Modules.\n",
    "Statsmodels: https://www.statsmodels.org/stable/index.html <br>\n",
    "Scikit-learn: http://scikit-learn.org/stable/\n",
    "\n",
    "We would want to know how these 2 modules can help a Data Scientish with a prticular problem, so go about researching the documentation and come up with atleast 2 uses for each module."
   ]
  }
 ],
 "metadata": {
  "kernelspec": {
   "display_name": "Python 3",
   "language": "python",
   "name": "python3"
  },
  "language_info": {
   "codemirror_mode": {
    "name": "ipython",
    "version": 3
   },
   "file_extension": ".py",
   "mimetype": "text/x-python",
   "name": "python",
   "nbconvert_exporter": "python",
   "pygments_lexer": "ipython3",
   "version": "3.6.1"
  }
 },
 "nbformat": 4,
 "nbformat_minor": 2
}
