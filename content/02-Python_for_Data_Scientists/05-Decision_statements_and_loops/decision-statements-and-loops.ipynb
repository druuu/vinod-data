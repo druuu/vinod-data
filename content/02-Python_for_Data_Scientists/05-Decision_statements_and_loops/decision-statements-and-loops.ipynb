{
 "cells": [
  {
   "cell_type": "markdown",
   "metadata": {
    "cell_id": "c5dd74b8d9da480c8858fc850ef963b6",
    "tags": [
     "l3",
     "s3",
     "content"
    ]
   },
   "source": [
    "# Decision statements and Loops in Python\n",
    "As a continuation of the previous lessons, here we introduce decision statements and loops.\n",
    "\n",
    "## Decision Making\n",
    "\n",
    "Decision Making is to execute a set of statements based on the validation of a condition. The decision making in Python involves an 'if' condition that is written as:\n",
    "\n",
    "Syntax:\n",
    "\n",
    "```\n",
    "if condition:\n",
    "  statements\n",
    "```\n",
    "\n",
    "A Python example:\n",
    "```python\n",
    "a = '10'\n",
    "b = '5'\n",
    "\n",
    "if a<b:\n",
    "    print(\"a and b are not really numbers\")\n",
    "\n",
    "# Output\n",
    ">>> a and b are not really numbers\n",
    "```\n",
    "For more on the if condition, refer to: https://docs.python.org/3/tutorial/controlflow.html\n",
    "\n",
    "#### Exercise\n",
    "\n",
    "Given a = 10, b = 10, and c = 10.00, use if condition to print the following:\n",
    "* if a is equal to b and b is equal to c, print the message \"a, b and c are all similar\"\n",
    "* if location of a is same as location of b is same as the location of c, print message \"a, b and c are all referring to the same object\""
   ]
  },
  {
   "cell_type": "code",
   "execution_count": 1,
   "metadata": {
    "ExecuteTime": {
     "end_time": "2018-08-25T19:32:53.371164Z",
     "start_time": "2018-08-25T19:32:53.367196Z"
    },
    "cell_id": "4abd218e563844ae871a65d24ef58d0f",
    "scrolled": true,
    "tags": [
     "l3",
     "s3",
     "ce"
    ]
   },
   "outputs": [
    {
     "name": "stdout",
     "output_type": "stream",
     "text": [
      "a, b and c are all equal\n"
     ]
    }
   ],
   "source": [
    "# data\n",
    "\n",
    "a = 10\n",
    "b = 10\n",
    "c = 10.00\n",
    "if (a==b):\n",
    "    if(b==c):\n",
    "        print('a, b and c are all equal')\n",
    "if id(a)==id(b) :\n",
    "    if id(b)==id(c) :\n",
    "        print('a, b and c are all referring to the same object')"
   ]
  },
  {
   "cell_type": "markdown",
   "metadata": {
    "cell_id": "91e749d1adb64d208d37a1bdbfc5c282",
    "hide_input": true,
    "tags": [
     "l3",
     "s3",
     "hint"
    ]
   },
   "source": [
    "### Solution code\n",
    "\n",
    "```python\n",
    "\n",
    "if a==b and b==c: # two conditions using and operator\n",
    "    print(\"a, b and c are all similar\")\n",
    "if id(a)==id(b)==id(c): # two conditions without using and operator\n",
    "    print(\"a, b and c are all referring to the same object\")\n",
    "```"
   ]
  },
  {
   "cell_type": "markdown",
   "metadata": {
    "cell_id": "e2dd912051894581a9deab72e3642cb8"
   },
   "source": [
    "## If-elif-else\n",
    "\n",
    "An advanced approach to decision making is when we chain multiple if conditions, so as to perform different operations based on different conditions being satisfied. Here we use an 'if...elif...else' construct. 'elif' is short for else-if. It is written as:\n",
    "\n",
    "Syntax:\n",
    "\n",
    "```\n",
    "if condition:\n",
    "\n",
    "  statement(s)\n",
    "  \n",
    "elif:\n",
    "  statement(s)\n",
    ".\n",
    ".\n",
    ".\n",
    "\n",
    "else:\n",
    "  statement(s)\n",
    "```\n",
    "\n",
    "Ref: https://docs.python.org/3/reference/compound_stmts.html#if\n",
    "\n",
    "#### Exercise\n",
    "\n",
    "Given variable a, which can take any integral value, write multiple conditions to determine whether a is:\n",
    "* an even number\n",
    "* a negative number\n",
    "* or 1\n",
    "* if not any of the above, a positive odd number other than 1"
   ]
  },
  {
   "cell_type": "code",
   "execution_count": 2,
   "metadata": {
    "ExecuteTime": {
     "end_time": "2018-08-25T19:40:59.763268Z",
     "start_time": "2018-08-25T19:40:59.759282Z"
    },
    "cell_id": "b4e03cfae16f4c1b89c40261eac32582",
    "scrolled": true
   },
   "outputs": [
    {
     "name": "stdout",
     "output_type": "stream",
     "text": [
      "a is 1\n"
     ]
    }
   ],
   "source": [
    "a = 1\n",
    "\n",
    "if a%2 == 0 :\n",
    "    print('a is even number')\n",
    "elif a<0 :\n",
    "    print('a is negative number')\n",
    "elif a == 1 :\n",
    "    print('a is 1')\n",
    "else :\n",
    "    print(\"a is a positive odd number other than 1\")"
   ]
  },
  {
   "cell_type": "markdown",
   "metadata": {
    "cell_id": "d261540c2a234d1c89596012a3e86365",
    "hide_input": true
   },
   "source": [
    "### Solution code\n",
    "\n",
    "```python\n",
    "if a == 1:\n",
    "    print(\"a is equal to 1\")\n",
    "elif(a%2) == 0:\n",
    "    print(\"a is an even number\")\n",
    "elif a<0:\n",
    "    print(\"a is a negative number\")\n",
    "else:\n",
    "    print(\"a is a positive odd number other than 1\")\n",
    "```"
   ]
  },
  {
   "cell_type": "markdown",
   "metadata": {
    "cell_id": "e4438ccc5715456199a96b326590572d",
    "tags": [
     "l2",
     "content",
     "s2"
    ]
   },
   "source": [
    "### Loops\n",
    "In general, statements are executed sequentially: The first statement in a function is executed first, followed by the second, and so on. \n",
    "<br>There may be a situation when you need to execute a block of code several number of times.\n",
    "Programming languages provide various control structures that allow for more complicated execution paths.\n",
    "\n",
    "A loop statement allows us to execute a statement or group of statements multiple times. <br>The following diagram illustrates a loop statement −\n",
    "\n",
    "\n",
    "\n",
    "\n",
    "Python programming language provides following types of loops to handle looping requirements.\n",
    "\n",
    "\n",
    "#### While Loop\n",
    "Repeats a statement or group of statements while a given condition is TRUE. It tests the condition before executing the loop body.\n",
    "\n",
    "<br>\n",
    "<b>Note</b> that Python works with indentation and no braces are necessary. The next line of code following the loops or conditions or function blocks should have an indentation of two spaces or four spaces.\n",
    "\n",
    "Syntax: \n",
    "\n",
    "```\n",
    "While :\n",
    "  statements\n",
    "Example:\n",
    "i = 1\n",
    "while i < 5:\n",
    "  i += 1\n",
    "```\n",
    "\n",
    "Example: \n",
    "\n",
    "```Python\n",
    "a = 1\n",
    "# Iterating 8 times and then Printing ints 2-10\n",
    "while a < 10:\n",
    "    a += 1\n",
    "    print(a)\n",
    "    \n",
    "    \n",
    "# Output\n",
    ">>> 2\n",
    "    3\n",
    "    4\n",
    "    5\n",
    "    6\n",
    "    7\n",
    "    8\n",
    "    9\n",
    "    10\n",
    "```\n",
    "\n",
    "\n",
    "\n",
    "#### For Loop\n",
    "Executes a sequence of statements multiple times and abbreviates the code that manages the loop variable.\n",
    "\n",
    "The For loop works in a similar way as the while loop. Please put emphasis on the syntax here. We will using the \n",
    "'in' operator for the function of this loop.\n",
    "\n",
    "Syntax:\n",
    "\n",
    "range(1, 10) -- generates a list of numbers from 1 to 10\n",
    "\n",
    "for i in range(1, 10):\n",
    "\n",
    "   statements\n",
    "\n",
    "\n",
    "Example:\n",
    "```Python\n",
    "# iterating 10 times and then print ints 1-10\n",
    "for i in range(1, 11):\n",
    "    print(i)\n",
    "    \n",
    "    \n",
    "# Output\n",
    ">>> 1\n",
    "    2\n",
    "    3\n",
    "    4\n",
    "    5\n",
    "    6\n",
    "    7\n",
    "    8\n",
    "    9\n",
    "    10\n",
    "```\n",
    "Ref: https://docs.python.org/3/tutorial/controlflow.html\n",
    "\n",
    "\n",
    "### Exercise\n",
    "Given: <br>\n",
    "```Python\n",
    "array = [1,'a',2,'b','3',4]\n",
    "array2 = []\n",
    "```\n",
    "<ol>\n",
    "    <li>Use a For Loop Reversely to add the values in array2</li>\n",
    "    <li>Empty out array</li>\n",
    "    <li>Use a While Loop reversely to add the values from array2 to array</li>\n",
    "</ol>"
   ]
  },
  {
   "cell_type": "code",
   "execution_count": 3,
   "metadata": {
    "cell_id": "06305e90ecfd46f69cccd56c2882b09a",
    "scrolled": true,
    "tags": [
     "l2",
     "ce",
     "s2"
    ]
   },
   "outputs": [
    {
     "name": "stdout",
     "output_type": "stream",
     "text": [
      "[] [4, '3', 'b', 2, 'a', 1]\n",
      "[1, 'a', 2, 'b', '3', 4] [4, '3', 'b', 2, 'a', 1]\n"
     ]
    }
   ],
   "source": [
    "# Write Your solution here\n",
    "array = [1,'a',2,'b','3',4]\n",
    "array2 = []\n",
    "for i in range(1,len(array)+1) :\n",
    "    array2.append(array[-i])\n",
    "\n",
    "array = []\n",
    "print(array,array2)\n",
    "\n",
    "j=0\n",
    "while len(array) != len(array2) :\n",
    "    array.append(array2[-1-j])\n",
    "    j += 1\n",
    "\n",
    "print(array,array2)"
   ]
  },
  {
   "cell_type": "markdown",
   "metadata": {
    "cell_id": "8a53cf58bdd044a88269dc31e5278870",
    "hide_input": true,
    "tags": [
     "l2",
     "s2",
     "ans"
    ]
   },
   "source": [
    "### Solution Code\n",
    "```Python\n",
    "array = [1,'a',2,'b','3',4]\n",
    "array2 = []\n",
    "for i in range(len(array)-1, -1, -1):\n",
    "    array2.append(array[i])\n",
    "print(array2)\n",
    "array = []\n",
    "i = len(array2)-1 \n",
    "while 0 <= i:\n",
    "    array.append(array2)\n",
    "    i -= 1\n",
    "print(array2)\n",
    "```"
   ]
  },
  {
   "cell_type": "markdown",
   "metadata": {
    "cell_id": "826b7f55c47242c586c841f941be7897"
   },
   "source": [
    "### Comprehension\n",
    "Comprehension expressions are described as one line loops in python. These comprehensions help in reducing the verbosity for simple loopes \n",
    "\n",
    "Syntax\n",
    "```\n",
    "a = [do something(i) for i in array (if condition - optional)]\n",
    "```\n",
    "Example\n",
    "```Python\n",
    "a = [1,2,3]\n",
    "# Adding 1 to each element in a\n",
    "a = [i+1 for i in a]\n",
    "\n",
    "# Output \n",
    ">>> [2, 3, 4]\n",
    "```\n",
    "Exercise\n",
    "```Python\n",
    "arr = ['1', 2, '4', '5', 65,'100']\n",
    "sum_var = 0\n",
    "```\n",
    "Convert all the string elements and then sum them up and sum_var<br>\n",
    "<b>sum()</b> is used to add all the elements in the array "
   ]
  },
  {
   "cell_type": "code",
   "execution_count": 4,
   "metadata": {
    "cell_id": "1a569fe088464f9a877684176ef3e789",
    "scrolled": true
   },
   "outputs": [
    {
     "name": "stdout",
     "output_type": "stream",
     "text": [
      "['1', 2, '4', '5', 65, '100'] 110\n"
     ]
    }
   ],
   "source": [
    "# Write your Solution here\n",
    "arr = ['1', 2, '4', '5', 65,'100']\n",
    "sum_var = 0\n",
    "\n",
    "sum_var += sum([int(i) for i in arr if type(i) is str])\n",
    "print(arr,sum_var)"
   ]
  },
  {
   "cell_type": "markdown",
   "metadata": {
    "cell_id": "7b83ef0c92d543458afc5ed44a8dc15e"
   },
   "source": [
    "### Solution\n",
    "```Python\n",
    "arr = ['1', 2, '4', '5', 65,'100']\n",
    "sum_var = 0\n",
    "sum_var = sum([int(i) for i in arr if type(i) is str])\n",
    "sum_var\n",
    "```"
   ]
  },
  {
   "cell_type": "markdown",
   "metadata": {
    "cell_id": "354c101fa5ca4bfb8cde579b58bbbce6"
   },
   "source": [
    "### Loop Control\n",
    "Loop control statements change execution from its normal sequence. When execution leaves a scope, all automatic objects that were created in that scope are destroyed.\n",
    "<br>In Python there is a certain way to restrict/limit the number of iteration a for/while loop can go through. Essentially, these are designed to manipulate the control flow of a loop.\n",
    "\n",
    "#### Break\n",
    "Terminates the loop statement and transfers execution to the statement immediately following the loop.\n",
    "\n",
    "Syntax:\n",
    "```\n",
    "while condition:\n",
    "    if condition:\n",
    "        break\n",
    "\n",
    "for i in range():\n",
    "    if i is condition:\n",
    "        break\n",
    "```\n",
    "\n",
    "Example:\n",
    "```Python\n",
    "i = 0\n",
    "# The loop breaks when it reaches 'h' \n",
    "for letter in 'Python':     # First Example\n",
    "    if(letter == 'h'):\n",
    "        break\n",
    "    print ('Current Letter:', letter)\n",
    "\n",
    "\n",
    "# Output\n",
    ">>> Current Letter: P\n",
    "    Current Letter: y\n",
    "    Current Letter: t\n",
    "   \n",
    "# The loop breaks when var = 5\n",
    "var = 10\n",
    "while var > 0:\n",
    "    print('Current variable value: ', var)\n",
    "    var = var-1\n",
    "    if var == 5:\n",
    "        break \n",
    "print('Good bye!')\n",
    "    \n",
    "# Output\n",
    ">>> Current variable value:  10\n",
    "    Current variable value:  9\n",
    "    Current variable value:  8\n",
    "    Current variable value:  7\n",
    "    Current variable value:  6\n",
    "    Good bye!\n",
    "```\n",
    "\n",
    "#### Continue\n",
    "Causes the loop to skip the remainder of its body and\n",
    "immediately retest its condition prior to reiterating.\n",
    "\n",
    "Syntax:\n",
    "```\n",
    "while condition:\n",
    "    if condition:\n",
    "        continue\n",
    "        \n",
    "for i in range():\n",
    "    if condition:\n",
    "        continue\n",
    "```\n",
    "\n",
    "Example:\n",
    "```Python\n",
    "# The loops skips \n",
    "for letter in 'Python' : # First Example\n",
    "    if letter == 'h' :\n",
    "        continue\n",
    "    print(letter)\n",
    "\n",
    "\n",
    "# Output\n",
    ">>> P\n",
    "    y\n",
    "    t\n",
    "    o\n",
    "    n\n",
    "\n",
    "# Prints all numbers except 5\n",
    "var = 10 # Second Example\n",
    "while var > 0 :\n",
    "    var = var - 1\n",
    "    if var == 5 :\n",
    "        continue\n",
    "    print ('Current variable value:' , var)\n",
    "print (\"Good bye!\")\n",
    "    \n",
    "# Output\n",
    ">>> Current variable value: 9\n",
    "    Current variable value: 8\n",
    "    Current variable value: 7\n",
    "    Current variable value: 6\n",
    "    Current variable value: 4\n",
    "    Current variable value: 3\n",
    "    Current variable value: 2\n",
    "    Current variable value: 1\n",
    "    Current variable value: 0\n",
    "    Good bye!\n",
    "```\n",
    "\n",
    "\n",
    "#### Pass\n",
    "The pass statement in Python is used when a statement is required\n",
    "syntactically but you do not want any command or code to execute.\n",
    "```Python\n",
    "# Prints the sentence 'This is pass block' when it reaches 'h'\n",
    "for letter in 'Python' :\n",
    "    if letter == 'h' :\n",
    "        pass\n",
    "        print ('This is pass block')\n",
    "    print ('Current Letter :' , letter)\n",
    "print (\"Good bye!\")\n",
    "\n",
    ">>> Current Letter : P\n",
    "    Current Letter : y\n",
    "    Current Letter : t\n",
    "    This is pass block\n",
    "    Current Letter : h\n",
    "    Current Letter : o\n",
    "    Current Letter : n\n",
    "    Good bye!\n",
    "```\n",
    "\n",
    "\n",
    "#### Exercise \n",
    "```Python\n",
    "a = [100, -220, 113, -50, 65, -70, -10, 15, 65]\n",
    "```\n",
    "Add +ve ints until the sum becomes larger than 250"
   ]
  },
  {
   "cell_type": "code",
   "execution_count": 6,
   "metadata": {
    "cell_id": "71a7085eee064d1fbe780f09691e7df4",
    "scrolled": true
   },
   "outputs": [
    {
     "name": "stdout",
     "output_type": "stream",
     "text": [
      "213\n"
     ]
    }
   ],
   "source": [
    "# Write your Solution here\n",
    "arr = [100, -220, 113, -50, 65, -70, -10, 15, 65]\n",
    "sum_var = 0\n",
    "for i in arr :\n",
    "    if i<0 :\n",
    "        continue\n",
    "    sum_var += i \n",
    "    if sum_var + i > 250 :\n",
    "        break\n",
    "    \n",
    "print(sum_var)"
   ]
  },
  {
   "cell_type": "markdown",
   "metadata": {
    "cell_id": "69b6e101d1f745a891427c7e6fe7d4ae"
   },
   "source": [
    "```Python\n",
    "arr = [100, -220, 113, -50, 65, -70, -10, 15, 65]\n",
    "sum_var = 0\n",
    "for i in arr:\n",
    "    if i < 0:\n",
    "        continue\n",
    "    if sum_var > 250:\n",
    "        break\n",
    "    \n",
    "    sum_var += i\n",
    "```"
   ]
  }
 ],
 "metadata": {
  "celltoolbar": "Edit Metadata",
  "executed_sections": [],
  "kernelspec": {
   "display_name": "Python 3",
   "language": "python",
   "name": "python3"
  },
  "language_info": {
   "codemirror_mode": {
    "name": "ipython",
    "version": 3
   },
   "file_extension": ".py",
   "mimetype": "text/x-python",
   "name": "python",
   "nbconvert_exporter": "python",
   "pygments_lexer": "ipython3",
   "version": "3.6.6"
  },
  "rf_version": 1
 },
 "nbformat": 4,
 "nbformat_minor": 2
}
