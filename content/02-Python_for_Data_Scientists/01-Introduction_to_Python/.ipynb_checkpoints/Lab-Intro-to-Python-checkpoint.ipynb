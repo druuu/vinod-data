{
 "cells": [
  {
   "cell_type": "markdown",
   "metadata": {},
   "source": [
    "### Lab : Install Python and Create a Notebook\n",
    "\n",
    "* Install Python on you local system. (You can do a standalone installation, but Anaconda distribution is highly recommended)\n",
    "* Run Command Prompt/Terminal or Anaconda Prompt.\n",
    "* Verify the installation of Python by printing out the version of Python installed.\n",
    "* Re-execute the simple \"Hello World!\" print statement through terminal."
   ]
  }
 ],
 "metadata": {
  "kernelspec": {
   "display_name": "Python 3",
   "language": "python",
   "name": "python3"
  },
  "language_info": {
   "codemirror_mode": {
    "name": "ipython",
    "version": 3
   },
   "file_extension": ".py",
   "mimetype": "text/x-python",
   "name": "python",
   "nbconvert_exporter": "python",
   "pygments_lexer": "ipython3",
   "version": "3.5.2"
  }
 },
 "nbformat": 4,
 "nbformat_minor": 2
}
