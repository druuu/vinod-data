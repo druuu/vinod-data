{
 "cells": [
  {
   "cell_type": "markdown",
   "metadata": {
    "cell_id": "b796893e18864d539c554d1b737ec233"
   },
   "source": [
    "# Libraries and Functions\n",
    "\n",
    "In this section of the course, we will learn about functons in python. We will see how to write functions and invoke them in code along with various other topics such as built-in functions, libraries and modules. \n",
    "\n",
    "\n",
    "## Function basics - User defined functions\n",
    "\n",
    "A function is a block of code that executes in a sequence and can be invoked in a repeated fashion. \n",
    "\n",
    "In python, as in other languages, users can define their own set of functions such that a set of statements can be invoked multiple times from other parts of the program. The function definition starts with the keyword 'def'. Here is an example of a function that takes in two numbers and returns their sum:\n",
    "\n",
    "```python\n",
    "# function to add two values\n",
    "def add_values(x, y):\n",
    "  z = x + y\n",
    "  return z\n",
    "```\n",
    "\n",
    "Here x, y, z are called local variables as they only retain their values inside the function. This function is invoked as:\n",
    "\n",
    "```\n",
    ">>print(add_values(5, 10))\n",
    "15\n",
    "```\n",
    "\n",
    "Note the formatting of the code. The function define statement starts with the 'def' keyword and the statement ends with a ':'. Just like a decision statement or a loop, the lines of code which are to be included within this namespace are indented. i.e., all statements that are to be part of the function defined are to be indented.\n",
    "\n",
    "#### Exercise\n",
    "\n",
    "Write a simple function to calculate the cube (power 3) of a given number. Find the cube of the number 16 using this function."
   ]
  },
  {
   "cell_type": "code",
   "execution_count": 13,
   "metadata": {
    "ExecuteTime": {
     "end_time": "2018-07-23T12:32:33.556154Z",
     "start_time": "2018-07-23T12:32:33.549410Z"
    },
    "cell_id": "1e8419bc8c844a37acaaee0da6ec353a"
   },
   "outputs": [],
   "source": [
    "# write your code below"
   ]
  },
  {
   "cell_type": "markdown",
   "metadata": {
    "cell_id": "98810f55464349d2804a14afbe49b4d8",
    "hide_input": true
   },
   "source": [
    "### Solution\n",
    "\n",
    "```python\n",
    "def cube(x):\n",
    "    return x**3\n",
    "\n",
    "print(cube(16))\n",
    "```"
   ]
  },
  {
   "cell_type": "markdown",
   "metadata": {
    "cell_id": "de5215edad644ae28d0dd2c8f3f1af2e"
   },
   "source": [
    "\n",
    "## Python built-in functions\n",
    "\n",
    "There are many useful python built-in functions pre-defined within the python environment that can be directly invoked. These are not part of any libraries either, which you will learn in the subsequent lessons, that should be used after importing the corresponding libraries. But in the case of built-in functions, you do not need to do so. Some of them are listed below:\n",
    "\n",
    "<img src=\"../../../images/builtin_funcs.png\" style=\"width:90vh\">\n",
    "\n",
    "Example usage of above functions is given below:\n",
    "```python\n",
    "test_list = [10,2.53954,6,7,5,-1,3,8,9,4]\n",
    "\n",
    "print('''Maximum element is: {:d},\n",
    "Minimum element is: {:d},\n",
    "Length of list is: {:d},\n",
    "Type of test_list variable is: {},\n",
    "Sorted test_list is: {},\n",
    "Binary code of first element of test_list is: {},\n",
    "Sum of all elements of test_list is: {},\n",
    "Converting first element of test_list into string: {:s},\n",
    "Converting second element of test_list into integer: {:d},\n",
    "Converting first element of test_list into float: {:f},\n",
    "Rounding off decimals of second element of test_list up to 2 decimal places: {:f},\n",
    "Absolute value of -1 from test_list: {:d}\n",
    "'''.format(max(test_list),\n",
    "           min(test_list),\n",
    "           len(test_list),\n",
    "           type(test_list),\n",
    "           sorted(test_list),\n",
    "           bin(test_list[0]),\n",
    "           sum(test_list),\n",
    "           str(test_list[0]),\n",
    "           int(test_list[1]),\n",
    "           float(test_list[0]),\n",
    "           round(test_list[1],2),\n",
    "           abs(test_list[5])))\n",
    "           \n",
    "# Output\n",
    ">>> Maximum element is: 10,\n",
    ">>> Minimum element is: -1,\n",
    ">>> Length of list is: 10,\n",
    ">>> Type of test_list variable is: <class 'list'>,\n",
    ">>> Sorted test_list is: [-1, 2.53954, 3, 4, 5, 6, 7, 8, 9, 10],\n",
    ">>> Binary code of first element of test_list is: 0b1010,\n",
    ">>> Sum of all elements of test_list is: 53.53954,\n",
    ">>> Converting first element of test_list into string: 10,\n",
    ">>> Converting second element of test_list into integer: 2,\n",
    ">>> Converting first element of test_list into float: 10.000000,\n",
    ">>> Rounding off decimals of second element of test_list up to 2 decimal places: 2.540000,\n",
    ">>> Absolute value of -1 from test_list: 1\n",
    "```\n",
    "\n",
    "#### Enumerate function\n",
    "\n",
    "The enumerate function is a special function which acts as an iterator within an iterable object. It is really useful and helps solve programming issues which often require lengthy logics to solve. The function captures both the element of the iterable and its index/position within the iterable.\n",
    "\n",
    "A simple example:\n",
    "```python\n",
    "test_list = [10,2.53954,6,7,5,-1,3,8,9,4]\n",
    "\n",
    "for index,number in enumerate(test_list):\n",
    "    print(index,number)\n",
    "    \n",
    "# Output\n",
    ">>> 0 10\n",
    ">>> 1 2.53954\n",
    ">>> 2 6\n",
    ">>> 3 7\n",
    ">>> 4 5\n",
    ">>> 5 -1\n",
    ">>> 6 3\n",
    ">>> 7 8\n",
    ">>> 8 9\n",
    ">>> 9 4\n",
    "```\n",
    "\n",
    "When the enumerate function is coupled with a decision statement, like if, it can be used to find second occurrence of a specific element within the iterable object. This is a very useful functionality and is really simple to implement in python.\n",
    "\n",
    "Example:\n",
    "```python\n",
    "recur = [7,2,6,5,8,3,6,3,6,9,3,5,8,9,4,2,6,4]\n",
    "\n",
    "# finding second occurence of 3\n",
    "index_3 = [index for index,number in enumerate(recur) if number==3] # returns list of all indices from iterable where value is 3\n",
    "index_3[1] # second occurrence index\n",
    "\n",
    "# Output\n",
    ">>> 7\n",
    "\n",
    "# finding second occurence of 5 - in a single line\n",
    "[index for index,number in enumerate(recur) if number==5][1]\n",
    "\n",
    "# Output\n",
    ">>> 11\n",
    "```\n",
    "\n",
    "#### Exercise\n",
    "\n",
    "Given list recur = [7,2,6,5,8,3,6,3,6,9,3,5,8,9,4,2,6,4]:\n",
    "* find the index of last occurrence of 6 within the list\n",
    "* Also find the index of the second occurrence of maximum value within the list"
   ]
  },
  {
   "cell_type": "code",
   "execution_count": 14,
   "metadata": {
    "cell_id": "9af08df9890c49e4a29acbff77f7aaf1"
   },
   "outputs": [],
   "source": [
    "# data\n",
    "recur = [7,2,6,5,8,3,6,3,6,9,3,5,8,9,4,2,6,4]"
   ]
  },
  {
   "cell_type": "markdown",
   "metadata": {
    "ExecuteTime": {
     "end_time": "2018-08-24T23:37:02.499339Z",
     "start_time": "2018-08-24T23:37:02.491247Z"
    },
    "cell_id": "db407be94bd8481b8c2ceb7402fad725",
    "hide_input": true
   },
   "source": [
    "### Solution code\n",
    "\n",
    "```python\n",
    "# Answers\n",
    "\n",
    "# finding last occurence of 6\n",
    "print([index for index,number in enumerate(recur) if number==6][-1])\n",
    "\n",
    "# finding the second occurrence of maximum value within the list\n",
    "print([index for index,number in enumerate(recur) if number==max(recur)][1])\n",
    "```"
   ]
  },
  {
   "cell_type": "markdown",
   "metadata": {
    "cell_id": "052011dfb75b42f28b777abfe782ab3f"
   },
   "source": [
    "## Libraries and Modules\n",
    "\n",
    "In order to use functions which are not built into Python environment, we need to import external libraries. \n",
    "\n",
    "### What is a library?\n",
    "\n",
    "A module is a python file which contains definitions of variables, functions, values and other statements. A module is generally a .py file.\n",
    "\n",
    "A package is a module which contains '_path_' attribute which shows that this module may be interlinked to other modules in an organized heirarchy. This organized system of modules may have code which interacts with each other so as to perform a larger task(s).\n",
    "\n",
    "A published module/package, or set of modules/packages, for reuse in various applications is called a library.Numpy, Pandas, Scikit Learn are all examples of Python libraries. Libraries are created by developers and may be published publicly (open to use for everyone) or privately (use for specific organizations or individuals).\n",
    "\n",
    "### How to import a library in Python?\n",
    "\n",
    "Libraries by themselves are not executable. Libraries often contain modules (.py files) which contain functions, which can be imported into our code and executed.\n",
    "* We can use the 'import' keyword to import libraries in Python.\n",
    "* To import a specific function or module from the library, we can use the 'from' keyword to refer to the specific library that we want to import from and then use the 'import' keyword to refer to the specific module or function to import.\n",
    "\n",
    "```python\n",
    "# Import statement to include the Pandas library\n",
    "import pandas\n",
    "\n",
    "# Import statement to include the Numpy library\n",
    "import numpy\n",
    "\n",
    "# Import 'random' module from Numpy library\n",
    "from numpy import random\n",
    "\n",
    "# Import 'pyplot' module from Matplotlib library\n",
    "from matplotlib import pyplot\n",
    "```\n",
    "\n",
    "#### Exercise\n",
    "\n",
    "Code the following:\n",
    "* Import the sklearn library using an import statement.\n",
    "* Import seaborn library using an import statement.\n",
    "* Import 'arange' function from numpy library.\n",
    "* Import 'heatmap' from seaborn library."
   ]
  },
  {
   "cell_type": "code",
   "execution_count": 15,
   "metadata": {
    "ExecuteTime": {
     "end_time": "2018-07-23T00:27:18.114592Z",
     "start_time": "2018-07-23T00:27:16.937299Z"
    },
    "cell_id": "9c73897cd646423d92cd8edd7096b27d"
   },
   "outputs": [],
   "source": [
    "#Write your code with import statements below"
   ]
  },
  {
   "cell_type": "markdown",
   "metadata": {
    "cell_id": "248f7933148c41499098cd355a12533e",
    "hide_input": true
   },
   "source": [
    "### Solution\n",
    "\n",
    "```python\n",
    "import sklearn\n",
    "import seaborn\n",
    "from numpy import arange\n",
    "from seaborn import heatmap\n",
    "```"
   ]
  },
  {
   "cell_type": "markdown",
   "metadata": {
    "cell_id": "96d7147d1af44c2489dfab7379af9f24"
   },
   "source": [
    "### More on modules\n",
    "\n",
    "Python has a standard library where functions such as print(), range(), len() can be invoked at any point in our code. However, some functions that belong to a category of operations often exist in modules. For example, if we intend to use a logartithm, a square root operation, then such operations exist in a module called the 'math' module. Similarly, there are many modules in python that we can leverage to write our code. These modules need to be imported to use them.\n",
    "\n",
    "For example, to compute a square root of a number:\n",
    "\n",
    "```\n",
    "import math\n",
    "\n",
    "print(math.sqrt(25))\n",
    "5\n",
    "```\n",
    "\n",
    "Modules are sometimes heavy in terms of memory of functions that are loaded. Also modules are often built up of submodules that could be imported to save memory. Consider a module built of a heirarchy of submodules in this manner:\n",
    "\n",
    "For example consider module A that has submodule B, C, D as submodules. Suppose the submodule D has a function func(), which is all we need for our code. Then, we can import just the submodule in a heirarchial fashion as:\n",
    "\n",
    "```\n",
    "from A import D\n",
    "\n",
    "D.func()\n",
    "```\n",
    "\n",
    "#### Exercise\n",
    "\n",
    "Write a function, compute_sqrt(x), which takes a non-negative number as an input and returns a dictionary with key as number and square root of the number as its value.\n",
    "* Invoke the function compute_sqrt(25), assign it to variable sqrt_25 and print it out."
   ]
  },
  {
   "cell_type": "code",
   "execution_count": 16,
   "metadata": {
    "ExecuteTime": {
     "end_time": "2018-07-23T01:55:38.056660Z",
     "start_time": "2018-07-23T01:55:38.051674Z"
    },
    "cell_id": "da4f53e11cc8471585efc1edeaa3f4a9"
   },
   "outputs": [],
   "source": [
    "# write your code below"
   ]
  },
  {
   "cell_type": "markdown",
   "metadata": {
    "cell_id": "cc6974acfce9498a9157e8cd5ed47bd2",
    "hide_input": true
   },
   "source": [
    "### Solution\n",
    "\n",
    "```python\n",
    "import math\n",
    "\n",
    "# Solution\n",
    "def compute_sqrt(x):\n",
    "    return {x: math.sqrt(x)}\n",
    "\n",
    "sqrt_25 = compute_sqrt(25)\n",
    "```"
   ]
  },
  {
   "cell_type": "markdown",
   "metadata": {
    "ExecuteTime": {
     "end_time": "2018-07-22T03:57:07.409746Z",
     "start_time": "2018-07-22T03:57:02.786028Z"
    },
    "cell_id": "c4a6c7bcbd7340cc9a843972824224fa"
   },
   "source": [
    "### Aliasing a library or module\n",
    "\n",
    "A library may consist of multiple modules and each module may contain many functions. In order to access a function within a specific module within a library, the format would be \"libraryname.modulename.function\". If we are using many functions from the same module or library it may become a tedious job to call the library and module name each time.\n",
    "\n",
    "Aliases are short forms that we can assign to libraries or modules within libraries so we may access functions within the module easily using the shortened notation.\n",
    "\n",
    "```python\n",
    "# Alias for Pandas library\n",
    "import pandas as pd\n",
    "\n",
    "# Alias for Numpy library\n",
    "import numpy as np\n",
    "\n",
    "# Alias for 'random' module from Numpy library\n",
    "from numpy import random as ranm\n",
    "\n",
    "# Alias for 'pyplot' module from Matplotlib library\n",
    "from matplotlib import pyplot as plt\n",
    "```\n",
    "\n",
    "Note that you should not use Python keywords as alias names.\n",
    "\n",
    "#### Exercise\n",
    "\n",
    "Code the following:\n",
    "* Import sklearn and give an alias 'skl' to the library.\n",
    "* Import seaborn and give an alias 'sns' to the library.\n",
    "* Import 'arange' function from numpy library and give an alias 'ara' to it.\n",
    "* Import 'heatmap' from seaborn library and give an alias 'hmap' to it."
   ]
  },
  {
   "cell_type": "code",
   "execution_count": 17,
   "metadata": {
    "ExecuteTime": {
     "end_time": "2018-07-23T00:54:44.336914Z",
     "start_time": "2018-07-23T00:54:44.331954Z"
    },
    "cell_id": "e24074fef5564cb58596ad48424b866a"
   },
   "outputs": [],
   "source": [
    "# write your import statements below"
   ]
  },
  {
   "cell_type": "markdown",
   "metadata": {
    "cell_id": "295ada232c69454e862eba30f732969f",
    "hide_input": true
   },
   "source": [
    "### Solution\n",
    "\n",
    "```python\n",
    "import sklearn as skl\n",
    "import seaborn as sns\n",
    "from numpy import arange as ara\n",
    "from seaborn import heatmap as hmap\n",
    "```"
   ]
  },
  {
   "cell_type": "markdown",
   "metadata": {
    "cell_id": "0e4002fde9544b1283dc585db3498b93"
   },
   "source": [
    "### Magic Methods\n",
    "\n",
    "Apart from built-in functions, Python has certain built-in attributes and operations that can be readily used to supplement code. Magic methods are a way for a user to define functions/attributes which act as built-in python methods and they can be used to defined object behavior. For more on magic methods read: https://rszalski.github.io/magicmethods/\n",
    "\n",
    "There are two kinds of magics/in-built methods:\n",
    "* Line magic - called by '%'\n",
    "* Cell magic - called by '%%'\n",
    "\n",
    "```python\n",
    "# magic method to make matplotlib charts to display inline\n",
    "%matplotlib inline\n",
    "\n",
    "# magic method to display walltime of execution of a given cell\n",
    "%%time\n",
    "```\n",
    "\n",
    "#### Exercise\n",
    "\n",
    "Write a magic method to print wall time of the following code:\n",
    "```python\n",
    "# magic method to make matplotlib charts to display inline\n",
    "import numpy as np\n",
    "\n",
    "a = np.arange(0,10)\n",
    "b = []\n",
    "\n",
    "for i in a:\n",
    "    b.append(i**2)\n",
    "    \n",
    "print(b)\n",
    "```"
   ]
  },
  {
   "cell_type": "code",
   "execution_count": 18,
   "metadata": {
    "ExecuteTime": {
     "end_time": "2018-07-23T01:48:04.482618Z",
     "start_time": "2018-07-23T01:48:04.475209Z"
    },
    "cell_id": "7d3c9a226fd147259a0e0a3030732ffb"
   },
   "outputs": [],
   "source": [
    "# Write your code below"
   ]
  },
  {
   "cell_type": "markdown",
   "metadata": {
    "cell_id": "efa8d9deefc643b596f2058e7ff91e6e",
    "hide_input": true
   },
   "source": [
    "### Solution\n",
    "\n",
    "```python\n",
    "%%time\n",
    "\n",
    "import numpy as np\n",
    "\n",
    "a = np.arange(0,10)\n",
    "b = []\n",
    "\n",
    "for i in a:\n",
    "    b.append(i**2)\n",
    "    \n",
    "print(b)\n",
    "```\n"
   ]
  },
  {
   "cell_type": "markdown",
   "metadata": {
    "cell_id": "03eb8994caa5414396853aabbc37ad96"
   },
   "source": [
    "### Lambda Functions\n",
    "\n",
    "In the functional programming paradigm, functions are first class citizens. This means that functions could be defined for onetime use, they could be anonymous and also assigned to variables or passed to other functions.\n",
    "\n",
    "One of the aspects of functional programming is lambda functions.\n",
    "\n",
    "In python, the lambda functions/expressions provide a alternative for defining a function for one-time use. They are very similar to function definitions (in most ways) but instead of the 'def' keyword, we use a 'lambda' keyword, in a slightly different syntax. \n",
    "\n",
    "Syntax:\n",
    "```\n",
    "variable = lambda param: computation->param \n",
    "```\n",
    "\n",
    "Consider the following code to define a function that adds two to a number:\n",
    "\n",
    "```Python\n",
    "def addTwo(e): \n",
    "    return e+2\n",
    "print(addTwo(4))\n",
    "\n",
    "# Output\n",
    ">>> 6\n",
    "```\n",
    "\n",
    "If this function is for one-time use, we could write it as below: \n",
    "\n",
    "Example:\n",
    "```Python\n",
    "v = lambda e: e+2\n",
    "print(v(4))\n",
    "\n",
    "# Output\n",
    ">>> 6\n",
    "``` \n",
    "\n",
    "In th above code, 'lambda' defines the function for one-time use, and passes a variable 'e' (without parenthesis).\n",
    "It is followed by a ':' similar to a function definition. followed by the returned value via the expression 'e+2'.\n",
    "The result of this function is assigned to a variable v. \n",
    "\n",
    "We can be dynamic with lambda expressions such as below:\n",
    "\n",
    "```Python\n",
    "product_of_3_ints = lambda v1,v2,v3:v1*v2*v3\n",
    "product = product_of_3_ints(1,4,5)\n",
    "print(product)\n",
    "\n",
    "# Output\n",
    ">>> 20\n",
    "```\n",
    "Exercise:\n",
    "Create a lambda expression which returns any object in the form of a string"
   ]
  },
  {
   "cell_type": "code",
   "execution_count": 19,
   "metadata": {
    "cell_id": "1d2f772182df4d758a88e838c2f966aa"
   },
   "outputs": [],
   "source": [
    "# Write a Solution here\n"
   ]
  },
  {
   "cell_type": "markdown",
   "metadata": {
    "cell_id": "01e4b281befd4a5a9674e62deddba35a",
    "hide_input": true
   },
   "source": [
    "### Solution code\n",
    "\n",
    "```Python\n",
    "string = lambda number: str(number)\n",
    "```"
   ]
  },
  {
   "cell_type": "markdown",
   "metadata": {
    "cell_id": "2a7afefa85114cd8a764f6595912f39e"
   },
   "source": [
    "### Helper Functions\n",
    "Since, functions accept lists as parameters as well we should be able to create lambda expressions for them as \n",
    "well but in this case lambda expressions would require additional functions.\n",
    "#### Map\n",
    "Helps in mapping the process procedure of a function in a lambda expression over all the elements in a list\n",
    "Syntax:\n",
    "```\n",
    "value_list = list(map(lambda param: computation->param, list of elements)) \n",
    "```\n",
    "Example\n",
    "```Python\n",
    "arr = [1,2,3,4]\n",
    "# Adding 2 each element in arr\n",
    "v = list(map(lambda element: element+2, arr))\n",
    "\n",
    "# Output\n",
    ">>> [3, 4, 5, 6]\n",
    "```\n",
    "\n",
    "#### Filter\n",
    "Helps in adding a condition(s) ( more than 1 conditions can be added ) in order to select the required<br> \n",
    "elements. Here we are placing the condition after the colon (:)<br>\n",
    "Syntax\n",
    "```\n",
    "value_list = list(filter(lambda param: condition, list of elements)) \n",
    "```\n",
    "Example\n",
    "```Python\n",
    "arr = [1,-1,1,2]\n",
    "# Removing all the negative numbers\n",
    "v = list(filter(lambda element: element > 0 , arr))\n",
    "\n",
    "# Output\n",
    ">>> [1, 1, 2]\n",
    "```\n",
    "\n",
    "For more info pls check out : http://book.pythontips.com/en/latest/map_filter.html\n",
    "\n",
    "#### Reduce\n",
    "Reduce helps the user to get an aggregated value from the whole list. i.e. when you \n",
    "want to process all the elements from the list and produce a single output. \n",
    "The computations specified to a reduce operation, are iteratively performed using all elements of the list, processed one at a time.\n",
    "For instance, sum, max, min element etc.\n",
    "This function needs to be imported from functools module. It usually works\n",
    "with 2 inputs.\n",
    "\n",
    "Syntax:\n",
    "```\n",
    "reduce(lambda expression, input)\n",
    "```\n",
    "Example\n",
    "```Python\n",
    "# Importing the reduce function\n",
    "from functools import reduce\n",
    "\n",
    "# Adding up all the values in the given array\n",
    "reduce(lambda x,y: x+y, [1,2,3])\n",
    "\n",
    "# Output\n",
    ">>> 6\n",
    "```\n",
    "\n",
    "Explanation:\n",
    "<ol>\n",
    "    <li>In the example the compiler selects <br>\n",
    "    x = 1<br>\n",
    "    y = 2<br>\n",
    "    and then adds them in this form x = x + y</li>\n",
    "    <li>Now x = 3 <br>\n",
    "            y = 3 <br>\n",
    "        Therefore, final values computes to <br>\n",
    "        x = x + y<br>\n",
    "        x = 6</li>\n",
    "    <li>If the list had more values the process continues</li>\n",
    "</ol>\n",
    "\n",
    "Exercise\n",
    "<ol>\n",
    "    <li>Convert all elements to ints<br>\n",
    "        arr = ['1','-1','-2','2']\n",
    "       </li>\n",
    "    <li>Extract all ints<br>\n",
    "        arr = ['1',-1,'-2',2]</li>\n",
    "    <li>With the help of the previous function \n",
    "        add all the ints in arr<br>\n",
    "        arr = ['1',20,'50', 22, 43]</li>\n",
    "</ol>\n",
    "Print Out all the values"
   ]
  },
  {
   "cell_type": "code",
   "execution_count": 20,
   "metadata": {
    "cell_id": "80b9b2c30cfd480d803d06d3beaa5078"
   },
   "outputs": [],
   "source": [
    "# Write your Solution here \n",
    "# 1. arr = ['1','-1','-2','2']\n",
    "# 2. arr = ['1',-1,'-2',2]\n",
    "# 3. arr = ['1',20,'50', 22, 43]"
   ]
  },
  {
   "cell_type": "markdown",
   "metadata": {
    "cell_id": "143c6d885e7d42af802f5e4acfb8bbc0",
    "hide_input": true
   },
   "source": [
    "### Solution code\n",
    "```Python\n",
    "arr = ['1','-1','-2','2']\n",
    "v = list(map(lambda element: int(element), arr))\n",
    "print('1: ', v)\n",
    "\n",
    "arr = ['1',-1,'-2',2]\n",
    "v = list(filter(lambda element: type(element) is int, arr))\n",
    "print('2: ', v)\n",
    "\n",
    "arr = ['1',20,'50', 22, 43]\n",
    "f = lambda x,y: x+y\n",
    "v = reduce(f,list(filter(lambda element: type(element) is int, arr)))\n",
    "print('3: ', v)\n",
    "```"
   ]
  },
  {
   "cell_type": "markdown",
   "metadata": {
    "cell_id": "8e3f9da4947b45ef8fca0a60b4bcc38a"
   },
   "source": [
    "### Passing unknown arguments\n",
    "\n",
    "A function can take arguments as designed in its definition. The number and type of arguments that a function can take can be defined.\n",
    "\n",
    "In python, data type of a variable is automatically changed by value assignment. The function may specify what data types are accepted as arguments and care should be taken to pass only those data types as arguments, as the code within the function is programmed to process specific data types.\n",
    "\n",
    "There may be situations where though the type of arguments may be known, the number of arguments that would be passed to the function may vary from a case to case basis. In such situations, the function can be defined to accept an unspecified number of arguments. This can be done using the * character.\n",
    "\n",
    "```python\n",
    "# funtion to accept multiple values\n",
    "def add_values(*x):\n",
    "  sum = 0\n",
    "  for i in x:\n",
    "      sum += i\n",
    "  return sum\n",
    "  \n",
    "print(add_values(5,10,15,20))\n",
    "50\n",
    "```\n",
    "\n",
    "#### Exercise\n",
    "\n",
    "Write a function which accepts variable number of arguments and:\n",
    "\n",
    "* Multiplies all arguments and returns product, if total number of arguments given is 3\n",
    "* Subtracts sum of all arguments from 1000 and returns difference, if total number of arguments is 5\n",
    "* Adds all arguments if total number of arguments is not 3 or 5\n",
    "\n",
    "Print the results of following inputs, to confirm the proper working of your function:\n",
    "* 5,10,15\n",
    "* 5,10,15,20,25\n",
    "* 5,10,15,20"
   ]
  },
  {
   "cell_type": "code",
   "execution_count": 21,
   "metadata": {
    "ExecuteTime": {
     "end_time": "2018-07-23T13:31:17.434345Z",
     "start_time": "2018-07-23T13:31:17.425386Z"
    },
    "cell_id": "b2c469a9471645a9af65374d34f59c8a"
   },
   "outputs": [],
   "source": [
    "# write your code below"
   ]
  },
  {
   "cell_type": "markdown",
   "metadata": {
    "cell_id": "ddd3e39432fc435194aaca7785790999",
    "hide_input": true
   },
   "source": [
    "### Solution\n",
    "\n",
    "```python\n",
    "# funtion to accept multiple values\n",
    "def amoeboid(*x):\n",
    "    if len(x)==3:\n",
    "        total = 1\n",
    "        for i in x:\n",
    "            total *= i\n",
    "    elif len(x)==5:\n",
    "        total = 1000\n",
    "        for i in x:\n",
    "            total -= i\n",
    "    else:\n",
    "        total = 0\n",
    "        for i in x:\n",
    "            total += i\n",
    "    return total\n",
    "  \n",
    "print(amoeboid(5,10,15),amoeboid(5,10,15,20,25),amoeboid(5,10,15,20))\n",
    "```"
   ]
  },
  {
   "cell_type": "markdown",
   "metadata": {
    "cell_id": "a67362c8f96d4f739f9af3d3f8200d14"
   },
   "source": [
    "## Passing Parameters to Functions\n",
    "\n",
    "In python functions, parameters are passed by the mechanism of \"Call by Object reference\".\n",
    "\n",
    "### Reassigning Immutable Object Reference\n",
    "\n",
    "Consider the example below:\n",
    "\n",
    "```python\n",
    "def method_immutable(inner_string):\n",
    "    inner_string = \"New String\"\n",
    "    print(\"Inner String:\", inner_string)\n",
    "  \n",
    "outer_string = \"Old String\"\n",
    "print(\"Outer String:\", outer_string)\n",
    "method_immutable(outer_string)\n",
    "print(\"Outer After Method Call:\",outer_string)\n",
    "```\n",
    "Here the outer_string is a name (or reference) to the oject with value \"Old String\". Similarly, with in the function scope of method_immutable(), the reference inner_string is assigned the same object \"Old String\". Then in subsequent statements, the same name reference called inner_string is reassigned a newly created string object wth value \"New String\". This does not impact the old object \"Old String\" which has a reference outside the scope of the function.\n",
    "\n",
    "Hence the output of the above python code is as below:\n",
    "\n",
    "Outer String: Old String<br>\n",
    "Inner String: New String<br>\n",
    "Outer After Method Call: Old String<br>\n",
    "\n",
    "\n",
    "#### Exercise\n",
    "\n",
    "Write a function change_string() which takes a string and tries to modify the string within the function scope.\n"
   ]
  },
  {
   "cell_type": "code",
   "execution_count": null,
   "metadata": {
    "cell_id": "6ceff24e7e37452f8627891f9591bada"
   },
   "outputs": [],
   "source": []
  },
  {
   "cell_type": "markdown",
   "metadata": {
    "cell_id": "e4f620696d624b78808e7bd70dc170f8",
    "hide_input": true
   },
   "source": [
    "## Solution\n",
    "\n",
    "```python\n",
    "def change_string(inner_string):\n",
    "    inner_string = \"New String\"\n",
    "    print(\"Inner String:\", inner_string)\n",
    "  \n",
    "input_string = \"Old String\"\n",
    "change_string(input_string)\n",
    "print(\"Outer After Method Call:\",input_string)\n",
    "\n",
    "\n",
    "```"
   ]
  },
  {
   "cell_type": "markdown",
   "metadata": {
    "cell_id": "fcda99c4f4554e008137189396e7a6ea"
   },
   "source": [
    "### Returning Immutable Object Reference\n",
    "\n",
    "Suppose we need the changes done in the function to be used outside the function. Let us change the code slightly to accomodate a return value as below:\n",
    "\n",
    "```python\n",
    "def method_immutable_return(inner_string):\n",
    "    inner_string = \"New String\"\n",
    "    print(\"Inner String:\", inner_string)\n",
    "    return inner_string\n",
    "  \n",
    "outer_string = \"Old String\"\n",
    "print(\"Outer String:\", outer_string)\n",
    "outer_string = method_immutable_return(outer_string)\n",
    "print(\"Outer After Method Call:\",outer_string)\n",
    "```\n",
    "\n",
    "As you may know, python strings are immutable objects. This implies that a string object once created cannot be changed. This applies to both the code snippets above. In the second code snippet, we have returned a value from the function method_immutable_return(). In this case, when the function is called, the reference inner_string is reassigned to a newly created string object with value \"New String\". In addition this value is returned from the function.\n",
    "\n",
    "In the outer code, the reference outer_string is re-assigned to the same object created inside the function. Actually nothing happens to the original string object with value \"Old String\", but the reference to it is lost.\n",
    "\n",
    "The output of the new code will be as below:<br>\n",
    "Outer String: Old String<br>\n",
    "Inner String: New String<br>\n",
    "Outer After Method Call: New String<br>\n",
    "\n",
    "\n",
    "#### Exercise\n",
    "\n",
    "Write a function return_string() which takes a string and tries to modify the string within the function scope and returns the same.\n"
   ]
  },
  {
   "cell_type": "code",
   "execution_count": null,
   "metadata": {
    "cell_id": "94507f89ac814aef9560b752ed798c03"
   },
   "outputs": [],
   "source": []
  },
  {
   "cell_type": "markdown",
   "metadata": {
    "cell_id": "c5e2e49f387e4eee9061bed25bd85feb",
    "hide_input": true
   },
   "source": [
    "## Solution\n",
    "\n",
    "```python\n",
    "def return_string(inner_string):\n",
    "    inner_string = \"New String\"\n",
    "    print(\"Inner String:\", inner_string)\n",
    "    return inner_string\n",
    "  \n",
    "input_string = \"Old String\"\n",
    "input_string = return_string(input_string)\n",
    "print(\"Outer After Method Call:\",input_string)\n",
    "\n",
    "```"
   ]
  },
  {
   "cell_type": "markdown",
   "metadata": {
    "cell_id": "ee9c496d1cb448ea8f322faf55968711"
   },
   "source": [
    "### Reassigning Mutable Object Reference\n",
    "\n",
    "Suppose we need to pass a list of strings to the function. Let us change the code further to accomodate a list as the parameter as below:\n",
    "\n",
    "```python\n",
    "def method_immutable_list(inner_list):\n",
    "    inner_list = [\"New String\"]\n",
    "    print(\"Inner List:\", inner_list)\n",
    "  \n",
    "outer_list = [\"Old String\"]\n",
    "print(\"Outer List:\", outer_list)\n",
    "method_immutable_list(outer_list)\n",
    "print(\"Outer After Method Call:\",outer_list)\n",
    "\n",
    "```\n",
    "\n",
    "This is very similar to the immutable string objects. Here the outer_list is a name (or reference) to the list with value [\"Old String\"]. Similarly, with in the function scope of method_immutable_list(), the reference inner_list is assigned the same list with values [\"Old String\"] created outside the function. Then in subsequent statements, the same name reference called inner_list is reassigned a newly created list with value [\"New String\"]. This does not impact the old list [\"Old String\"] which has a reference outside the scope of the method.\n",
    "\n",
    "\n",
    "The output of the method_immutable_list code will be as below:\n",
    "\n",
    "Outer List: ['Old String']<br>\n",
    "Inner List: ['New String']<br>\n",
    "Outer After Method Call: ['Old String']<br>\n",
    "\n",
    "\n",
    "\n",
    "#### Exercise\n",
    "\n",
    "Write a function change_fruit() which takes a List of fruits and adds a fruit \"Orange\" to the list such a way that the change is not reflected outside the function scope, but only within the scope.\n"
   ]
  },
  {
   "cell_type": "code",
   "execution_count": 22,
   "metadata": {
    "cell_id": "7fb75cf5498f490e8e38041500939d19"
   },
   "outputs": [],
   "source": [
    "# Write your code below"
   ]
  },
  {
   "cell_type": "markdown",
   "metadata": {
    "cell_id": "aee62baeb6d349df9e377e4f7cceb5e2",
    "hide_input": true
   },
   "source": [
    "## Solution\n",
    "\n",
    "```python\n",
    "def change_fruit(inner_fruits):\n",
    "    new_fruits = []\n",
    "    for fruit in inner_fruits:\n",
    "        new_fruits.append(fruit)\n",
    "    new_fruits.append(\"Oranges\")\n",
    "    print(\"Inner Fruits:\", inner_fruits)\n",
    "    print(\"New Fruits:\", new_fruits)\n",
    "  \n",
    "outer_fruits = [\"Apples\"]\n",
    "print(\"Outer Fruits:\", outer_fruits)\n",
    "change_fruit(outer_fruits)\n",
    "print(\"Outer After Method Call:\",outer_fruits)\n",
    "\n",
    "```"
   ]
  },
  {
   "cell_type": "markdown",
   "metadata": {
    "cell_id": "3836484574844b84861060c61f18151c"
   },
   "source": [
    "### Modifying Mutable Object Reference\n",
    "\n",
    "Suppose we need to add another value to the list passed as a parameter to the function. Let us change the code further to accomodate this as below:\n",
    "\n",
    "```python\n",
    "def method_mutable_list(inner_list):\n",
    "    inner_list.append(\"Second String\")\n",
    "    print(\"Inner List:\", inner_list)\n",
    "  \n",
    "outer_list = [\"Old String\"]\n",
    "print(\"Outer List:\", outer_list)\n",
    "method_mutable_list(outer_list)\n",
    "print(\"Outer After Method Call:\",outer_list)\n",
    "\n",
    "```\n",
    "\n",
    "In this case even though the inner_list is a name (or reference) bound to the value [\"Old String\"], since the List objects are mutable via append() (or other methods), the subsequent statement changes the state of the object referenced by inner_list. Since this object is the same object which has a reference outside the scope of the function via a name outer_list, the change is reflected outside the function call as well.\n",
    "\n",
    "\n",
    "Hence, the output of the method_mutable_list code with list.append() call will be as below:\n",
    "\n",
    "Outer List: ['Old String']<br>\n",
    "Inner List: ['Old String', 'Second String']<br>\n",
    "Outer After Method Call: ['Old String', 'Second String']<br>\n",
    "\n",
    "Hope this helps in understanding the intricacies of function call parameters and how their states are affected for mutable and immutable objects.\n",
    "\n",
    "Reference : For detailed understanding and further reference of python object referencing refer to this link : https://jeffknupp.com/blog/2012/11/13/is-python-callbyvalue-or-callbyreference-neither/\n",
    "\n",
    "\n",
    "#### Exercise\n",
    "\n",
    "Write a function add_fruit() which takes a List of fruits and adds a fruit \"Orange\" to the list such a way that the change is reflected outside the function scope along with old values in the list.\n"
   ]
  },
  {
   "cell_type": "code",
   "execution_count": 23,
   "metadata": {
    "cell_id": "56c2b46d8d40450f86eef3b22a3838ba"
   },
   "outputs": [],
   "source": [
    "# Write your code below\n"
   ]
  },
  {
   "cell_type": "markdown",
   "metadata": {
    "cell_id": "5238e82448274782822130e5d8d7d71b",
    "hide_input": true
   },
   "source": [
    "## Solution\n",
    "\n",
    "```python\n",
    "def add_fruit(inner_fruits):\n",
    "    inner_fruits.append(\"Oranges\")\n",
    "    print(\"Inner Fruits:\", inner_fruits)\n",
    "  \n",
    "outer_fruits = [\"Apples\"]\n",
    "print(\"Outer Fruits:\", outer_fruits)\n",
    "add_fruit(outer_fruits)\n",
    "print(\"Outer After Method Call:\",outer_fruits)\n",
    "\n",
    "```"
   ]
  }
 ],
 "metadata": {
  "celltoolbar": "Edit Metadata",
  "kernelspec": {
   "display_name": "Python 3",
   "language": "python",
   "name": "python3"
  },
  "language_info": {
   "codemirror_mode": {
    "name": "ipython",
    "version": 3
   },
   "file_extension": ".py",
   "mimetype": "text/x-python",
   "name": "python",
   "nbconvert_exporter": "python",
   "pygments_lexer": "ipython3",
   "version": "3.6.6"
  }
 },
 "nbformat": 4,
 "nbformat_minor": 2
}
