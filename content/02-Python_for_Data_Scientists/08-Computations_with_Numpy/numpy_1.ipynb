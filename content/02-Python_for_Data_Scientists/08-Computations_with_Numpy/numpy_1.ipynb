{
 "cells": [
  {
   "cell_type": "markdown",
   "metadata": {},
   "source": [
    "# Numpy I\n",
    "\n",
    "## Arrays and Lists\n",
    "\n",
    "Before getting introduced to Numpy library, we need to be familiar with a very widely used data structure called 'array'. An **array** is a collection of homogenous elements. Here homogenous means elements of the same data type. And so an array can be a collection of integers (*int* datatypes), collection of fractions/decimal values (*float* datatypes) or a collection of characters (*char* datatype) also referred to as a *string*.\n",
    "\n",
    "A **list** is very similar to an array in structure differing only by the characteristic that, a list is a collection of heterogenous elements, i.e. elements with various datatypes.\n",
    "\n",
    "<img src=\"../../../images/arrayvslist.png\" width=\"800\"><br>\n",
    "\n",
    "Both arrays and lists can be accessed in the same way, using an index, which is a reference to the position of the element within the collection. Index begins from zero and ends with n-1, where n is the total length of the array (which is the number of elements in the array or list).\n",
    "\n",
    "## 1. NumPy Introduction\n",
    "\n",
    "NumPy is a library in Python that supports creation and operations on large, multidimensional arrays and matrices. It facilitates scientific and numeric computing with high level mathematical functions to operate on these arrays.\n",
    "\n",
    "A NumPy object is generally a multi-dimensional array. It is a table of elements with the same data type (int, float, char, etc.), indexed by a tuple of positive integers (also called *indices*). In Numpy, dimensions are called *axes*. The number of axes is *rank*. (ref: scipy.org)\n",
    "\n",
    "Consider a 3D space of x, y and z coordinates. A  point in 3D space [1.0, 3.0, 5.0] is an array of rank 1. If there are several such points as shown below, then the dimensions are of the nature m by n. In the example shown below, there are 4 rows and 3 columns (i.e., 3 elements or values for each point/observation), this translates to an n-dimensional array with a shape of 4 by 3.\n",
    "```python\n",
    "[[ 1.0, 0.3, 4.5],\n",
    " [ 0.5, 1.5, 2.3],\n",
    " [ 6.0, 4.6, 3.5],\n",
    " [ 4.5, 3.5, 6.3]]\n",
    "```\n",
    "To use a library, we need to import them. Any python library can be referenced by an alias that is mentioned during the import. For example, NumPy library is most commonly imported in the short form as np:\n",
    "```python\n",
    "# Importing the numpy library\n",
    "import numpy as np\n",
    "```\n",
    "\n",
    "There are several ways to initialize an array in numpy :\n",
    "* a = np.array([0,1,2,3])   ...   creates an array of rank (or dimensionality) 1\n",
    "* a = np.array([[0,1,2,3],[4,5,6,7]])   ...   creates a 2x4 matrix  \n",
    "* a = np.ones((3,3))   ...   creates a 3x3 matrix with all 1s\n",
    "* a = np.zeroes((2,2))   ...   creates a 2x2 matrix with all 0s\n",
    "* a = np.eye(3)   ...   creates a 3x3 matrix with 1s at the diagonal and 0s otherwise (i.e. an identity matrix)\n",
    "  \n",
    "Ref: http://www.numpy.org\n",
    "\n",
    "We will look at various functions (most widely used functions) within the numpy library and practice applying them.\n",
    "\n",
    "## 2. Casting a non-array datatype into an array\n",
    "\n",
    "The np.array() method can be used to convert a variable of any data type into an n-dimensional array. By simply passing the variable as an argument to this function, we can convert the variable which can be an integer, float, list, series or dataframe into an n-dimensional array.\n",
    "\n",
    "For Example:\n",
    "\n",
    "```python\n",
    "a = 5\n",
    "type(a)\n",
    ">>> int\n",
    "\n",
    "a = np.array(a)\n",
    "type(a)\n",
    ">>> numpy.ndarray\n",
    "\n",
    "b = [1.2, 3.4, 5.6]\n",
    "type(b)\n",
    ">>> list\n",
    "\n",
    "b = np.array(b)\n",
    "type(b)\n",
    ">>> numpy.ndarray\n",
    "```\n",
    "\n",
    "### Exercise:\n",
    "\n",
    "Given the list of numbers use the np.array() method to cast the list into a numpy array\n"
   ]
  },
  {
   "cell_type": "code",
   "execution_count": 2,
   "metadata": {},
   "outputs": [
    {
     "name": "stdout",
     "output_type": "stream",
     "text": [
      "['Hello' '4' '5' '17.32' '25.21' 'c']\n"
     ]
    },
    {
     "data": {
      "text/plain": [
       "numpy.ndarray"
      ]
     },
     "execution_count": 2,
     "metadata": {},
     "output_type": "execute_result"
    }
   ],
   "source": [
    "import numpy as np\n",
    "\n",
    "# Cast the below given list into an array\n",
    "a = ['Hello',4,5,17.32,25.21,'c']\n",
    "a1 = np.array(a)\n",
    "print(a1)\n",
    "type(a1)"
   ]
  },
  {
   "cell_type": "markdown",
   "metadata": {
    "hide_input": true
   },
   "source": [
    "### Solution code\n",
    "\n",
    "```python\n",
    "a = np.array(a)\n",
    "type(a)\n",
    "```"
   ]
  },
  {
   "cell_type": "code",
   "execution_count": 3,
   "metadata": {},
   "outputs": [
    {
     "name": "stdout",
     "output_type": "stream",
     "text": [
      "<class 'list'>\n"
     ]
    },
    {
     "data": {
      "text/plain": [
       "[1, 2, 3, 4.0]"
      ]
     },
     "execution_count": 3,
     "metadata": {},
     "output_type": "execute_result"
    }
   ],
   "source": [
    "#list\n",
    "l = [1,2,3,4.0,'a string']  #contains int, float and str\n",
    "print(type(l))\n",
    "l\n",
    "a = [1,2,3]   #contains only int\n",
    "a\n",
    "b = [1,2,3,4.0]  #contains a float\n",
    "b"
   ]
  },
  {
   "cell_type": "code",
   "execution_count": 4,
   "metadata": {},
   "outputs": [
    {
     "data": {
      "text/plain": [
       "array(['1', '2', '3', '4.0', 'a string'], dtype='<U32')"
      ]
     },
     "execution_count": 4,
     "metadata": {},
     "output_type": "execute_result"
    }
   ],
   "source": [
    "import numpy\n",
    "\n",
    "#n-dimensional\n",
    "arr = numpy.array(a)   #all datatypes are int\n",
    "arr\n",
    "arr2 = numpy.array(b)  #all datatypes are float\n",
    "arr2\n",
    "arr3 = numpy.array(l)  #all datatypes are str\n",
    "arr3"
   ]
  },
  {
   "cell_type": "code",
   "execution_count": 5,
   "metadata": {},
   "outputs": [
    {
     "data": {
      "text/plain": [
       "array([1, 2, 3, 4])"
      ]
     },
     "execution_count": 5,
     "metadata": {},
     "output_type": "execute_result"
    }
   ],
   "source": [
    "tup = (1,2,3,4)\n",
    "type(tup)\n",
    "arr4 = numpy.array(tup)\n",
    "arr4"
   ]
  },
  {
   "cell_type": "markdown",
   "metadata": {},
   "source": [
    "## Multi Dimension"
   ]
  },
  {
   "cell_type": "code",
   "execution_count": 6,
   "metadata": {},
   "outputs": [
    {
     "name": "stdout",
     "output_type": "stream",
     "text": [
      "[list([1, 2, 3]) list([4, 5, 6]) list([7, 8])]\n",
      "object\n"
     ]
    },
    {
     "data": {
      "text/plain": [
       "numpy.ndarray"
      ]
     },
     "execution_count": 6,
     "metadata": {},
     "output_type": "execute_result"
    }
   ],
   "source": [
    "import numpy as np\n",
    "\n",
    "multiarr = np.array([[1,2,3],[4,5,6],[7,8]])\n",
    "print(multiarr)\n",
    "print(multiarr.dtype)\n",
    "type(multiarr)"
   ]
  },
  {
   "cell_type": "code",
   "execution_count": 7,
   "metadata": {},
   "outputs": [
    {
     "name": "stdout",
     "output_type": "stream",
     "text": [
      "(3, 3)\n"
     ]
    },
    {
     "data": {
      "text/plain": [
       "array([[1, 2, 3],\n",
       "       [4, 5, 6],\n",
       "       [7, 8, 9]])"
      ]
     },
     "execution_count": 7,
     "metadata": {},
     "output_type": "execute_result"
    }
   ],
   "source": [
    "import numpy as np\n",
    "\n",
    "two_d = np.array([[1,2,3],[4,5,6],[7,8,9]])\n",
    "print(two_d.shape)\n",
    "two_d"
   ]
  },
  {
   "cell_type": "code",
   "execution_count": 8,
   "metadata": {},
   "outputs": [
    {
     "name": "stdout",
     "output_type": "stream",
     "text": [
      "[[[1]\n",
      "  [2]]\n",
      "\n",
      " [[3]\n",
      "  [4]]\n",
      "\n",
      " [[5]\n",
      "  [6]]]\n"
     ]
    },
    {
     "data": {
      "text/plain": [
       "(3, 2, 1)"
      ]
     },
     "execution_count": 8,
     "metadata": {},
     "output_type": "execute_result"
    }
   ],
   "source": [
    "three_d = np.array([[[1],[2]],[[3],[4]],[[5],[6]]])\n",
    "print(three_d)\n",
    "three_d.shape"
   ]
  },
  {
   "cell_type": "code",
   "execution_count": 9,
   "metadata": {},
   "outputs": [
    {
     "data": {
      "text/plain": [
       "array([[[0, 1]],\n",
       "\n",
       "       [[2, 3]],\n",
       "\n",
       "       [[4, 5]]])"
      ]
     },
     "execution_count": 9,
     "metadata": {},
     "output_type": "execute_result"
    }
   ],
   "source": [
    "automatedarr = np.array(np.arange(6))\n",
    "automatedarr = automatedarr.reshape(3,1,2)\n",
    "automatedarr"
   ]
  },
  {
   "cell_type": "code",
   "execution_count": 10,
   "metadata": {},
   "outputs": [
    {
     "name": "stdout",
     "output_type": "stream",
     "text": [
      "[ 0  1  2  3  4  5  6  7  8  9 10 11]\n",
      "[1 3 5 7]\n",
      "[1.   1.25 1.5  1.75 2.   2.25 2.5  2.75 3.   3.25 3.5  3.75 4.   4.25\n",
      " 4.5  4.75]\n"
     ]
    }
   ],
   "source": [
    "print(np.arange(12))\n",
    "print(np.arange(1,8,2))\n",
    "print(np.arange(1,5,0.25))"
   ]
  },
  {
   "cell_type": "code",
   "execution_count": 13,
   "metadata": {},
   "outputs": [
    {
     "name": "stdout",
     "output_type": "stream",
     "text": [
      "[[1. 1. 1.]] \n",
      "\n",
      "[[1 1 1]\n",
      " [1 1 1]] \n",
      "\n",
      "[[0. 0. 0.]\n",
      " [0. 0. 0.]\n",
      " [0. 0. 0.]] \n",
      "\n",
      "[[5.e-324 5.e-324 5.e-324]\n",
      " [5.e-324 5.e-324 5.e-324]] \n",
      "\n",
      "[[1. 0. 0.]\n",
      " [0. 1. 0.]\n",
      " [0. 0. 1.]] \n",
      "\n",
      "[[0 1 2]\n",
      " [3 4 5]\n",
      " [6 7 8]] \n",
      "\n",
      "[[0. 1. 2.]\n",
      " [3. 4. 5.]\n",
      " [6. 7. 8.]]\n"
     ]
    }
   ],
   "source": [
    "arr_with_ones = np.ones((1,3))\n",
    "print(arr_with_ones,'\\n')\n",
    "arr_with_int_ones = np.ones((2,3),np.int64)\n",
    "print(arr_with_int_ones,'\\n')\n",
    "arr_with_zeros = np.zeros((3,3))\n",
    "print(arr_with_zeros,'\\n')\n",
    "arr_with_empty =np.empty((2,3))\n",
    "print(arr_with_empty,'\\n')\n",
    "arr_with_eyes = np.eye(3)\n",
    "print(arr_with_eyes,'\\n')\n",
    "matrixl = np.array(np.arange(9)).reshape(3,3)\n",
    "print(matrixl,'\\n')\n",
    "matrixn = matrixl@arr_with_eyes\n",
    "print(matrixn)"
   ]
  },
  {
   "cell_type": "markdown",
   "metadata": {},
   "source": [
    "## Exercise:\n",
    "\n",
    "Given the list of numbers use the np.array() method to cast the list into a numpy array"
   ]
  },
  {
   "cell_type": "code",
   "execution_count": 14,
   "metadata": {},
   "outputs": [
    {
     "name": "stdout",
     "output_type": "stream",
     "text": [
      "['Hello' '4' '5' '17.32' '25.21' 'c']\n"
     ]
    },
    {
     "data": {
      "text/plain": [
       "numpy.ndarray"
      ]
     },
     "execution_count": 14,
     "metadata": {},
     "output_type": "execute_result"
    }
   ],
   "source": [
    "import numpy as np\n",
    "\n",
    "# Cast the below given list into an array\n",
    "a = ['Hello',4,5,17.32,25.21,'c']\n",
    "a1 = np.array(a)\n",
    "print(a1)\n",
    "type(a1)"
   ]
  },
  {
   "cell_type": "markdown",
   "metadata": {},
   "source": [
    "<br>\n",
    "### Wait! The above list was heterogenous...\n",
    "\n",
    "Remember that an array is a collection of homogenous elements. However, in the above exercise the list 'a' was a collection of heterogenous elements/values (values of different datatypes). The np.array() method worked anyway and converted the list into an array. The method acheives this by converting all the list elements into string data types. Another interesting behavior to note is that once the elements are cast as a string data types, they cannot be individually re-cast into integer, float or other data types. All the elements of the array need to be converted.\n",
    "\n",
    "i.e., In the above example:\n",
    "\n",
    "```python\n",
    "print(a[2],type(a[2]))\n",
    ">>> 5 <class 'numpy.str_'>\n",
    "\n",
    "# Casting to 'int'\n",
    "a[2] = int(a[2])\n",
    "print(a[2],type(a[2]))\n",
    ">>> 5 <class 'numpy.str_'>\n",
    "```\n",
    "There is no change in array element data type, by individual recasting.\n",
    "\n",
    "## 3. Casting a list of lists into a 2-dimensional array\n",
    "\n",
    "A list of lists structure can be converted into a 2-D array (or matrix) using the np.array() method.\n",
    "\n",
    "```python\n",
    "my_list2 = [[1,2,3],[4,5,6],[7,8,9],[10,11,12]]\n",
    "list_of_lists = np.array(my_list2)\n",
    "print(list_of_lists,\"\\n\",type(list_of_lists))\n",
    ">>> [[ 1  2  3]\n",
    "  [ 4  5  6]\n",
    "  [ 7  8  9]\n",
    "  [10 11 12]]\n",
    "  <class 'numpy.ndarray'>\n",
    "```\n",
    "\n",
    "## 4. Checking the shape and data type of a numpy array\n",
    "\n",
    "Shape of an array can be described as the list of lengths of every dimension pertaining to the array. <br/>\n",
    "For a 2-dimensional array, shape would be number of rows * number of columns, denoted as 'mxn' and read as 'm by n'.\n",
    "The shape attribute returns the list of all lengths of each dimension of the array, as a 'tuple'.\n",
    "\n",
    "<b>Note:</b> The length of the tuple returned by 'shape' attribute denotes the dimensionality of the array.\n",
    "\n",
    "<img src=\"../../../images/numpy_1-shape_of_array.png\">\n",
    "<br>\n",
    "\n",
    "The command shape is used to determine the dimensions of the array.\n",
    "\n",
    "```python\n",
    "print(list_of_lists.shape)\n",
    ">>> (4, 3)\n",
    "```\n",
    "\n",
    "The data type of each individual elements in an array can be identified by using the 'dtype' attribute.\n",
    "\n",
    "```python\n",
    "my_list2 = [[1,2,3],[4,5,6],[7,8,9],[10,11,12]]\n",
    "list_of_lists = np.array(my_list2)\n",
    "print(list_of_lists.dtype)\n",
    ">>> int32\n",
    "```\n",
    "\n",
    "### Exercise:\n",
    "\n",
    "Find the shape of the array below and assign to the variable: two_d_shape and print it out.\n",
    "Also find the data type of the elements in the array assign to the variable: two_d_datatype and print it out.\n",
    "\n",
    "```python\n",
    "[[1, 0.3, 4.5]\n",
    " [2, 4.0, 6.0]]\n",
    "```"
   ]
  },
  {
   "cell_type": "code",
   "execution_count": 15,
   "metadata": {},
   "outputs": [
    {
     "name": "stdout",
     "output_type": "stream",
     "text": [
      "[[1.  0.3 4.5]\n",
      " [2.  4.  6. ]]\n",
      "(2, 3)\n",
      "float64\n"
     ]
    }
   ],
   "source": [
    "import numpy as np\n",
    "\n",
    "two_d_array = np.array([[ 1 ,  0.3,  4.5],\n",
    "                        [2, 4.0, 6.0]])\n",
    "print(two_d_array)\n",
    "two_d_shape = two_d_array.shape\n",
    "print(two_d_shape)\n",
    "two_d_datatype = two_d_array.dtype\n",
    "print(two_d_datatype)"
   ]
  },
  {
   "cell_type": "markdown",
   "metadata": {
    "hide_input": true
   },
   "source": [
    "### Solution code\n",
    "\n",
    "```python\n",
    "two_d_shape = two_d_array.shape\n",
    "two_d_datatype = two_d_array.dtype\n",
    "print(two_d_shape,two_d_datatype)\n",
    "```"
   ]
  },
  {
   "cell_type": "markdown",
   "metadata": {},
   "source": [
    "## 5. Re-shaping an array\n",
    "\n",
    "The reshape() function in numpy helps us reshape a given array into an array with a specified new shape. For example,\n",
    "\n",
    "<img src=\"../../../images/numpy_2-reshaping_array.png\" width=\"500\">\n",
    "<br>\n",
    "```python\n",
    "shape_shifter = np.random.rand(12)\n",
    "shape_shifter\n",
    ">>> array([ 0.906423  ,  0.55807204,  0.28928162,  0.47020116,  0.27403332,\n",
    ">>>         0.94178672,  0.81342077,  0.5859645 ,  0.63569185,  0.84614272,\n",
    ">>>         0.36454835,  0.63664789])\n",
    "\n",
    "shape_shifter.shape\n",
    ">>> (12,)\n",
    "\n",
    "shape_shifter.reshape(3,4)\n",
    ">>> array([[ 0.906423  ,  0.55807204,  0.28928162,  0.47020116],\n",
    ">>>        [ 0.27403332,  0.94178672,  0.81342077,  0.5859645 ],\n",
    ">>>        [ 0.63569185,  0.84614272,  0.36454835,  0.63664789]])\n",
    "\n",
    "shape_shifter.reshape(4,3)\n",
    ">>> array([[ 0.906423  ,  0.55807204,  0.28928162],\n",
    ">>>        [ 0.47020116,  0.27403332,  0.94178672],\n",
    ">>>        [ 0.81342077,  0.5859645 ,  0.63569185],\n",
    ">>>        [ 0.84614272,  0.36454835,  0.63664789]])\n",
    "```\n",
    "\n",
    "### Exercise\n",
    "\n",
    "Change the shape of the given array to 2 rows, 5 columns"
   ]
  },
  {
   "cell_type": "code",
   "execution_count": 16,
   "metadata": {},
   "outputs": [
    {
     "data": {
      "text/plain": [
       "array([[0, 1, 2, 3, 4],\n",
       "       [5, 6, 7, 8, 9]])"
      ]
     },
     "execution_count": 16,
     "metadata": {},
     "output_type": "execute_result"
    }
   ],
   "source": [
    "# Modify the code below\n",
    "\n",
    "twor_fivec = np.arange(10)\n",
    "\n",
    "np.array(twor_fivec.reshape(2,5))"
   ]
  },
  {
   "cell_type": "markdown",
   "metadata": {
    "hide_input": true
   },
   "source": [
    "### Solution code\n",
    "\n",
    "```python\n",
    "twor_fivec = twor_fivec.reshape(2,5)\n",
    "twor_fivec\n",
    "```"
   ]
  },
  {
   "cell_type": "code",
   "execution_count": 19,
   "metadata": {},
   "outputs": [
    {
     "name": "stdout",
     "output_type": "stream",
     "text": [
      "[[0 1 2]\n",
      " [3 4 5]]\n"
     ]
    }
   ],
   "source": [
    "import numpy as np\n",
    "matrix1 = np.array(np.arange(6).reshape(2,3))\n",
    "print(matrix)"
   ]
  },
  {
   "cell_type": "code",
   "execution_count": 21,
   "metadata": {},
   "outputs": [
    {
     "name": "stdout",
     "output_type": "stream",
     "text": [
      "[[ 0  3  6]\n",
      " [ 9 12 15]]\n"
     ]
    }
   ],
   "source": [
    "matrix2 = np.array(np.arange(0,16,3).reshape(2,3))\n",
    "print(matrix2)"
   ]
  },
  {
   "cell_type": "code",
   "execution_count": 26,
   "metadata": {},
   "outputs": [
    {
     "data": {
      "text/plain": [
       "array([0, 1, 2, 3, 4, 5, 6])"
      ]
     },
     "execution_count": 26,
     "metadata": {},
     "output_type": "execute_result"
    }
   ],
   "source": [
    "a = np.arange(0,7)\n",
    "a"
   ]
  },
  {
   "cell_type": "code",
   "execution_count": 38,
   "metadata": {},
   "outputs": [],
   "source": [
    "b = ['a','b','c','d','e','f','g']"
   ]
  },
  {
   "cell_type": "code",
   "execution_count": 39,
   "metadata": {},
   "outputs": [
    {
     "data": {
      "text/plain": [
       "['g', 'f', 'e', 'd', 'c', 'b', 'a']"
      ]
     },
     "execution_count": 39,
     "metadata": {},
     "output_type": "execute_result"
    }
   ],
   "source": [
    "b[::-1]"
   ]
  },
  {
   "cell_type": "code",
   "execution_count": 40,
   "metadata": {},
   "outputs": [
    {
     "name": "stdout",
     "output_type": "stream",
     "text": [
      "[23 23 12]\n"
     ]
    }
   ],
   "source": [
    "numbers = np.array([23,53,52,23,55,34,67,34,98,12])\n",
    "print(numbers[numbers<30])"
   ]
  },
  {
   "cell_type": "code",
   "execution_count": 47,
   "metadata": {},
   "outputs": [
    {
     "name": "stdout",
     "output_type": "stream",
     "text": [
      "[53, 52, 55, 34, 67, 34]\n"
     ]
    }
   ],
   "source": [
    "print([i for i in numbers if i<70 and i>30])"
   ]
  },
  {
   "cell_type": "code",
   "execution_count": 74,
   "metadata": {},
   "outputs": [
    {
     "data": {
      "text/plain": [
       "True"
      ]
     },
     "execution_count": 74,
     "metadata": {},
     "output_type": "execute_result"
    }
   ],
   "source": [
    "np.any(numbers<70) and np.any(numbers>30)"
   ]
  },
  {
   "cell_type": "code",
   "execution_count": 81,
   "metadata": {},
   "outputs": [
    {
     "name": "stdout",
     "output_type": "stream",
     "text": [
      "[53 52 55 34 67 34]\n"
     ]
    }
   ],
   "source": [
    "print(numbers[(numbers<70) & (numbers>30)])"
   ]
  },
  {
   "cell_type": "code",
   "execution_count": 83,
   "metadata": {},
   "outputs": [
    {
     "ename": "ValueError",
     "evalue": "The truth value of an array with more than one element is ambiguous. Use a.any() or a.all()",
     "output_type": "error",
     "traceback": [
      "\u001b[0;31m---------------------------------------------------------------------------\u001b[0m",
      "\u001b[0;31mValueError\u001b[0m                                Traceback (most recent call last)",
      "\u001b[0;32m<ipython-input-83-ee9fd2e52c92>\u001b[0m in \u001b[0;36m<module>\u001b[0;34m()\u001b[0m\n\u001b[0;32m----> 1\u001b[0;31m \u001b[0mprint\u001b[0m\u001b[0;34m(\u001b[0m\u001b[0mnumbers\u001b[0m\u001b[0;34m[\u001b[0m\u001b[0;34m(\u001b[0m\u001b[0mnumbers\u001b[0m\u001b[0;34m<\u001b[0m\u001b[0;36m70\u001b[0m\u001b[0;34m)\u001b[0m \u001b[0;32mand\u001b[0m \u001b[0;34m(\u001b[0m\u001b[0mnumbers\u001b[0m\u001b[0;34m>\u001b[0m\u001b[0;36m30\u001b[0m\u001b[0;34m)\u001b[0m\u001b[0;34m]\u001b[0m\u001b[0;34m)\u001b[0m\u001b[0;34m\u001b[0m\u001b[0m\n\u001b[0m",
      "\u001b[0;31mValueError\u001b[0m: The truth value of an array with more than one element is ambiguous. Use a.any() or a.all()"
     ]
    }
   ],
   "source": [
    "print(numbers[(numbers<70) and (numbers>30)])"
   ]
  },
  {
   "cell_type": "markdown",
   "metadata": {},
   "source": [
    "## 6. Indexing and Selection\n",
    "\n",
    "The numpy array works like the list data structure and elements can be accessed by using their respective indices. The first element of an array is indexed with a '0' index and subsequent elements are indexed as 1,2,3...and so on, the nth element in the array will have an index of 'n-1'.\n",
    "\n",
    "<img src=\"../../../images/numpy_2-indexing_array.png\" width=\"400\">\n",
    "<br>\n",
    "``` python\n",
    "n_arr = np.array([1, 7, 4, 3, 3])\n",
    "\n",
    "n_arr[3:5]\n",
    "# Selects elements from index '3' to '4' (i.e until, but not including the specified end value)\n",
    ">>> array([3, 3])\n",
    "\n",
    "n_arr[:3]\n",
    "# Absence of start value defaults to index '0' (i.e the first element)\n",
    ">>> array([1, 7, 4])\n",
    "\n",
    "n_arr[2:]\n",
    "# Absence of end value defaults to index 'n-1' (i.e the last element)\n",
    ">>> array([4, 3, 3])\n",
    "\n",
    "n_arr[:]\n",
    ">>> array([1, 7, 4, 3, 3])\n",
    "\n",
    "n_arr[-1]\n",
    "# Negative indexing corresponds to counting from the last\n",
    ">>> 3\n",
    "```\n",
    "\n",
    "Elements of a numpy array can also be selected (or conditionally retrieved)  by using a condition in place of an index. When an array is subject to a condition (as we will show below), each element of the array will be validated against the said condition and a boolean array is generated which reflects the satisfaction of the set condition by every element of the array. When an 'array condition' is used in place of an index, the boolean array so generated gets passed to the outer array, and all elements which lie in the 'True' positions of the boolean array get retrieved. The below examples will clear this concept.\n",
    "\n",
    "```python\n",
    "array_one = np.array([16,  1,  8,  1, 17, 10,  8, 15,  6, 14])\n",
    "array_one > 10\n",
    ">>> array([ True, False, False, False, True, False, False, True, False, True])\n",
    "\n",
    "array_one[array_one>10]\n",
    ">>> array([16, 17, 15, 14])\n",
    "\n",
    "array_two = np.array([0, 1, 2, 3, 4, 5, 6, 7, 8, 9])\n",
    "array_two < 5\n",
    ">>> array([ True,  True,  True,  True,  True, False, False, False, False, False])\n",
    "\n",
    "array_two[array_two < 5]\n",
    ">>> array([0, 1, 2, 3, 4])\n",
    "```\n",
    "\n",
    "### Exercise\n",
    "\n",
    "Retrieve all elements in the given array that are greater than or equal to 25.63"
   ]
  },
  {
   "cell_type": "code",
   "execution_count": 3,
   "metadata": {},
   "outputs": [
    {
     "name": "stdout",
     "output_type": "stream",
     "text": [
      "[46.56311588 49.66285409 28.01145694 36.77562698 41.97868793 35.6520983 ]\n"
     ]
    }
   ],
   "source": [
    "import numpy as np\n",
    "array_three = np.array([46.56311588, 49.66285409, 28.01145694, 15.4632352, 16.36194605, 23.26915095, 36.77562698, 41.97868793, 35.6520983, 24.85098496])\n",
    "print(array_three[array_three>=25.63])"
   ]
  },
  {
   "cell_type": "markdown",
   "metadata": {
    "hide_input": true
   },
   "source": [
    "### Solution code\n",
    "\n",
    "```python\n",
    "array_three[array_three >= 25.63]\n",
    "```"
   ]
  },
  {
   "cell_type": "markdown",
   "metadata": {},
   "source": [
    "## 7. Re-casting, Broadcasting and Duplicating arrays\n",
    "\n",
    "Re-casting and broadcasting are two ways to change the values of an array. If one or more values (but not all) of an array are changed, it is called **re-casting**. If all values of the array are changed, it would be called as **broadcasting**. The above scenario where we conditionally extracted elements of array could be modified to conditionally re-cast certain elements of an array. Refer to the below examples:\n",
    "\n",
    "<img src=\"../../../images/numpy_2-recasting_array.png\" width=\"600\">\n",
    "<br>\n",
    "\n",
    "\n",
    "* <b>Re-casting:</b>\n",
    "```python\n",
    "array_rec = np.array([16,  1,  8,  1, 17, 10,  8, 15,  6, 14])\n",
    "array_rec[3:6] = 100\n",
    "array_rec\n",
    ">>> array([ 16,   1,   8, 100, 100, 100,   8,  15,   6,  14])\n",
    "```\n",
    "\n",
    "* <b>Broadcasting:</b>\n",
    "```python\n",
    "array_rec = np.array([16,  1,  8,  1, 17, 10,  8, 15,  6, 14])\n",
    "array_rec[:] = 100\n",
    "array_rec\n",
    ">>> array([100, 100, 100, 100, 100, 100, 100, 100, 100, 100])\n",
    "```\n",
    "\n",
    "* <b>Conditional re-casting:</b>\n",
    "```python\n",
    "array_rec = np.array([16,  1,  8,  1, 17, 10,  8, 15,  6, 14])\n",
    "array_rec[array_rec>10] = 100\n",
    "array_rec\n",
    ">>> array([100,   1,   8,   1, 100,  10,   8, 100,   6, 100])\n",
    "```\n",
    "\n",
    "**Duplicating** a numpy array is a tricky thing. As per normal programming routines, the value of a variable can be assigned to another variable, thus creating a copy. See example below:\n",
    "```python\n",
    "a = 10\n",
    "b = 10\n",
    "print(b)\n",
    ">>> 10\n",
    "```\n",
    "However, when the same logic is used in assigning arrays, the values are not assigned but rather the pointers (or addresses) of original array elements are stored in the new array. It is for this reason that, any change in the second array will also reflect in the first array.\n",
    "```python\n",
    "arr_1 = np.array([1,2,3,4,5,6,7,8,9])\n",
    "arr_2 = arr_1\n",
    "arr_2[3:6] = 4444\n",
    "print(arr_1,arr_2)\n",
    ">>> [1, 2, 3, 4444, 4444, 4444, 7, 8, 9] [1, 2, 3, 4444, 4444, 4444, 7, 8, 9]\n",
    "\n",
    "or\n",
    "\n",
    "arr_1 = np.array([1,2,3,4,5,6,7,8,9])\n",
    "arr_2 = arr_1\n",
    "arr_2[:] = [1,22,333,4444,55555,666666,7777777,88888888,999999999]\n",
    "print(arr_1,arr_2)\n",
    ">>> [1, 22, 333, 4444, 55555, 666666, 7777777, 88888888, 999999999] [1, 22, 333, 4444, 55555, 666666, 7777777, 88888888,\n",
    ">>>  999999999]\n",
    "```\n",
    "\n",
    "Hence, when a separate copy of an array is to be made, then the .copy() function needs to be used so as to create a new copy of the array which can be changed, without affecting the original array.\n",
    "\n",
    "```python\n",
    "arr_1 = np.array([1,2,3,4,5,6,7,8,9])\n",
    "arr_2 = arr_1.copy()\n",
    "arr_2[3:6] = 4444\n",
    "print(arr_1,arr_2)\n",
    ">>> [1, 2, 3, 4, 5, 6, 7, 8, 9] [1, 2, 3, 4444, 4444, 4444, 7, 8, 9]\n",
    "```\n",
    "\n",
    "### Exercise\n",
    "\n",
    "Given array 'tran_arr', create two copies of the array - one copy just referencing the values of the original array ('tran_arr') and another copy which duplicates the values of the array using .copy() function. Set 5th element of first copy array to 25, and set 5th element of second copy array to 50. Print all 3 arrays and observe the changes. "
   ]
  },
  {
   "cell_type": "code",
   "execution_count": 5,
   "metadata": {},
   "outputs": [
    {
     "name": "stdout",
     "output_type": "stream",
     "text": [
      "[ 1  2  3  4 25  6  7  8  9 10 11 12 13 14 15 16 17 18 19 20] \n",
      " [ 1  2  3  4 25  6  7  8  9 10 11 12 13 14 15 16 17 18 19 20] \n",
      " [ 1  2  3  4 50  6  7  8  9 10 11 12 13 14 15 16 17 18 19 20]\n"
     ]
    }
   ],
   "source": [
    "# Modify this code\n",
    "\n",
    "tran_arr = np.arange(1,21)\n",
    "copy_1 = tran_arr\n",
    "copy_2 = tran_arr.copy()\n",
    "copy_1[4] = 25\n",
    "copy_2[4] = 50\n",
    "print(tran_arr,'\\n',copy_1,'\\n',copy_2)"
   ]
  },
  {
   "cell_type": "markdown",
   "metadata": {
    "hide_input": true
   },
   "source": [
    "### Solution code\n",
    "\n",
    "```python\n",
    "copy_1 = tran_arr\n",
    "copy_2 = tran_arr.copy()\n",
    "copy_1[4] = 25\n",
    "copy_2[4] = 50\n",
    "print(tran_arr,\"\\n\",copy_1,\"\\n\",copy_2)\n",
    "```"
   ]
  },
  {
   "cell_type": "code",
   "execution_count": 93,
   "metadata": {},
   "outputs": [
    {
     "data": {
      "text/plain": [
       "array([23, 53, 52, 23, 55, 34, 67, 34, 98, 12])"
      ]
     },
     "execution_count": 93,
     "metadata": {},
     "output_type": "execute_result"
    }
   ],
   "source": [
    "a = np.array([23,53,52,23,55,34,67,34,98,12])\n",
    "a"
   ]
  },
  {
   "cell_type": "code",
   "execution_count": 94,
   "metadata": {},
   "outputs": [
    {
     "data": {
      "text/plain": [
       "array([23, 48, 47, 23, 50, 34, 62, 34, 93, 12])"
      ]
     },
     "execution_count": 94,
     "metadata": {},
     "output_type": "execute_result"
    }
   ],
   "source": [
    "a = np.array([i-5 if i>35 else i for i in a])\n",
    "a"
   ]
  },
  {
   "cell_type": "code",
   "execution_count": 95,
   "metadata": {},
   "outputs": [
    {
     "data": {
      "text/plain": [
       "array([ 23,  48,  47,  23,  50,  34, 100,  34, 100,  12])"
      ]
     },
     "execution_count": 95,
     "metadata": {},
     "output_type": "execute_result"
    }
   ],
   "source": [
    "a[a>50] = 100\n",
    "a"
   ]
  },
  {
   "cell_type": "code",
   "execution_count": 98,
   "metadata": {},
   "outputs": [
    {
     "name": "stdout",
     "output_type": "stream",
     "text": [
      "[ 23  48  47  23  50  34 100  34 100  12] [50 50 50 50 50 50 50 50 50 50]\n"
     ]
    }
   ],
   "source": [
    "b = a.copy()\n",
    "b[:] = 50\n",
    "print(a,b)"
   ]
  },
  {
   "cell_type": "code",
   "execution_count": null,
   "metadata": {},
   "outputs": [],
   "source": []
  },
  {
   "cell_type": "markdown",
   "metadata": {},
   "source": [
    "## 8. Arrays beyond matrices\n",
    "\n",
    "An array is a list or collection of homogenous elements, i.e., same type of items. An N-dimensional array is a collection of such arrays, and in simplest terms can be described as an array of arrays.\n",
    "\n",
    "A two dimensional array, also called a matrix (plural: matrices), is very common and most of us would be familiar with it. An array of matrices can be visualized as a 3 dimensional array. An array can be defined using the '.array' method of the numpy module. A range of functions such as dtype, shape, size, etc., are available to find out about various attributes of the array.\n",
    "\n",
    "For more details, please refer to the documentation https://docs.scipy.org/doc/numpy/reference/arrays.ndarray.html of the ndarray method.\n",
    "\n",
    "Looking at an example would help us understand in better detail.\n",
    "\n",
    "### Exercise 1\n",
    "\n",
    "* Create a three dimensional array, named tdarray consisting of 3 matrices - \n",
    "    1. $[[1,2,3],[a,b,c]]$\n",
    "    2. $[[4,5,6],[d,e,f]]$\n",
    "    3. $[[7,8,9],[g,h,i]]$\n",
    "* Access the element 'h' using indices and store it into a variable called 'target'. Print target out.\n",
    "* Print the data type of the array using the '.dtype' method, and the shape of the array using the '.shape' method."
   ]
  },
  {
   "cell_type": "code",
   "execution_count": 15,
   "metadata": {},
   "outputs": [
    {
     "name": "stdout",
     "output_type": "stream",
     "text": [
      "ℎ\n",
      "<U21\n",
      "(3, 2, 3)\n"
     ]
    }
   ],
   "source": [
    "# Importing numpy library\n",
    "import numpy as np\n",
    "\n",
    "tdarray = np.array([[[1,2,3],['𝑎','𝑏','𝑐']],[[4,5,6],['𝑑','𝑒','𝑓']],[[7,8,9],['𝑔','ℎ','𝑖']]])\n",
    "print(tdarray[2,1,1])\n",
    "print(tdarray.dtype)\n",
    "print(tdarray.shape)"
   ]
  },
  {
   "cell_type": "markdown",
   "metadata": {
    "hide_input": true
   },
   "source": [
    "### Solution code\n",
    "```python\n",
    "tdarray = np.array([[['1','2','3'],['a','b','c']],[['4','5','6'],['d','e','f']],[['7','8','9'],['g','h','i']]])\n",
    "target = tdarray[2][1][1]\n",
    "print(target,\"\\nDatatype of the array is: \",tdarray.dtype,\"\\nShape of the array is: \",tdarray.shape)\n",
    "```"
   ]
  },
  {
   "cell_type": "markdown",
   "metadata": {},
   "source": [
    "It is not possible to physically represent or visualize a n-dimensional array (where n>3). However, it is simple to code them. Let us try.\n",
    "\n",
    "### Exercise 2\n",
    "\n",
    "* Create a 4-dimensional array, named fdarray, with elements 1,2,3,4...so on and with a shape 4,3,2,2.\n",
    "* Print out the shape of the array to verify your answer. Also access the element '10' using appropriate indices, assign it to a variable target2 and print out target2."
   ]
  },
  {
   "cell_type": "code",
   "execution_count": 21,
   "metadata": {},
   "outputs": [
    {
     "name": "stdout",
     "output_type": "stream",
     "text": [
      "[[[[ 1  2]\n",
      "   [ 3  4]]\n",
      "\n",
      "  [[ 5  6]\n",
      "   [ 7  8]]\n",
      "\n",
      "  [[ 9 10]\n",
      "   [11 12]]]\n",
      "\n",
      "\n",
      " [[[13 14]\n",
      "   [15 16]]\n",
      "\n",
      "  [[17 18]\n",
      "   [19 20]]\n",
      "\n",
      "  [[21 22]\n",
      "   [23 24]]]\n",
      "\n",
      "\n",
      " [[[25 26]\n",
      "   [27 28]]\n",
      "\n",
      "  [[29 30]\n",
      "   [31 32]]\n",
      "\n",
      "  [[33 34]\n",
      "   [35 36]]]\n",
      "\n",
      "\n",
      " [[[37 38]\n",
      "   [39 40]]\n",
      "\n",
      "  [[41 42]\n",
      "   [43 44]]\n",
      "\n",
      "  [[45 46]\n",
      "   [47 48]]]]\n",
      "(4, 3, 2, 2)\n",
      "10\n"
     ]
    }
   ],
   "source": [
    "# Manual creation - Bad example\n",
    "# Use the range function to create the data and reshape function to give it necessary dimensions\n",
    "\n",
    "fdarray = np.array(np.arange(1,(4*3*2*2)+1).reshape(4,3,2,2))\n",
    "print(fdarray)\n",
    "print(fdarray.shape)\n",
    "target2 = fdarray[0][2][0][1]\n",
    "print(target2)"
   ]
  },
  {
   "cell_type": "markdown",
   "metadata": {
    "hide_input": true
   },
   "source": [
    "### Solution code\n",
    "\n",
    "```python\n",
    "# data creation\n",
    "a = np.arange(1,(4*3*2*2)+1)\n",
    "\n",
    "# Reshaping the 1-dimensional array 'a'\n",
    "fdarray = np.reshape(a,(4,3,2,2))\n",
    "\n",
    "# Retrieving target variable '10' using appropriate indices\n",
    "target2 = fdarray[0][2][0][1]\n",
    "\n",
    "# Printing results\n",
    "print(\"Shape of the array is: \",fdarray.shape,\"\\n\",target2)\n",
    "```"
   ]
  }
 ],
 "metadata": {
  "anaconda-cloud": {},
  "celltoolbar": "Edit Metadata",
  "executed_sections": [],
  "kernelspec": {
   "display_name": "Python 3",
   "language": "python",
   "name": "python3"
  },
  "language_info": {
   "codemirror_mode": {
    "name": "ipython",
    "version": 3
   },
   "file_extension": ".py",
   "mimetype": "text/x-python",
   "name": "python",
   "nbconvert_exporter": "python",
   "pygments_lexer": "ipython3",
   "version": "3.5.2"
  }
 },
 "nbformat": 4,
 "nbformat_minor": 2
}
