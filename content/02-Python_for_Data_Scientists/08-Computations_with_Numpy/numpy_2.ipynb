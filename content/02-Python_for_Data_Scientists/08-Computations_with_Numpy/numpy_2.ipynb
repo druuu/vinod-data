{
 "cells": [
  {
   "cell_type": "markdown",
   "metadata": {
    "tags": [
     "s1",
     "content",
     "l1"
    ]
   },
   "source": [
    "# Numpy II\n",
    "\n",
    "## 1. NumPy Array Operations\n",
    " \n",
    "<br>\n",
    "In this lesson we shall study various operations on numpy arrays. \n",
    "\n",
    "#### 1.1 Addition of two arrays\n",
    "\n",
    "To add another array of the same dimension use\n",
    "```python\n",
    "C = np.add(A, B)      OR     C = A + B\n",
    "```\n",
    "\n",
    "#### 1.2 Subtraction of two arrays\n",
    "\n",
    "To subtract an array from another array use \n",
    "```python\n",
    "D = np.subtract(A,B)  OR     D = A - B\n",
    "```\n",
    "\n",
    "#### 1.3 Multiplication\n",
    "\n",
    "Using \\_\\_np.multiply\\_\\_ (or the \\_\\_\\* symbol\\_\\_) you can\n",
    "\n",
    "<b>1. multiply a constant with the elements of the array</b>\n",
    "```python\n",
    "K = 10\n",
    "Y = np.multiply(K,[1, 2, 3, 4, 5])   OR     Y = K * np.array([1, 2, 3, 4, 5])\n",
    "\n",
    "# Output\n",
    ">>> array([10, 20, 30, 40, 50])\n",
    "```\n",
    "<b>2. multiply an array with another array, performs element-wise multiplication (only if both arrays are of equal shape)</b>\n",
    "``` python\n",
    "A = np.array([1,2,3])\n",
    "B = np.array([4,5,6])\n",
    "C = np.multiply(A,B)                 OR     C = A * B\n",
    "\n",
    "# Output\n",
    ">>> array([ 4, 10, 18])\n",
    "```\n",
    "\n",
    "Using \\_\\_np.dot\\_\\_ you can perform\n",
    "\n",
    "<b>3. dot product of two arrays, calculates sum of product of elements (only if both arrays are of equal shape)</b>\n",
    "```python\n",
    "A = np.array([1,2,3])\n",
    "B = np.array([4,5,6])\n",
    "C = np.dot(A, B)\n",
    "\n",
    "# Output\n",
    ">>> 32\n",
    "```\n",
    "\n",
    "Using \\_\\_np.matmul\\_\\_ you can perform\n",
    "\n",
    "<b>4. matrix multiplication (only if number of columns in the 1st one equals the number of rows in the 2nd one)</b>\n",
    "``` python\n",
    "A = [[1, 0], [0, 1]]\n",
    "B = [[4, 1], [2, 2]]\n",
    "C = np.matmul(A, B)\n",
    "\n",
    "# Output\n",
    ">>> array([[4, 1],\n",
    "       [2, 2]])\n",
    "```\n",
    "\n",
    "\n",
    "### Exercise:\n",
    "\n",
    "Given two arrays:\n",
    "```python\n",
    "A = [1, 2, 3, 4]\n",
    "B = [2, 3, 4, 5]\n",
    "```\n",
    "\n",
    "- Initilize the above arrays as variables A & B.\n",
    "- Perform a dot product of the two vectors and assign it to the variable C.\n",
    "- Print C."
   ]
  },
  {
   "cell_type": "code",
   "execution_count": 1,
   "metadata": {
    "ExecuteTime": {
     "end_time": "2018-08-26T16:37:41.542334Z",
     "start_time": "2018-08-26T16:37:41.111929Z"
    },
    "tags": [
     "s1",
     "ce",
     "l1"
    ]
   },
   "outputs": [
    {
     "name": "stdout",
     "output_type": "stream",
     "text": [
      "40\n"
     ]
    }
   ],
   "source": [
    "import numpy as np\n",
    "\n",
    "A = [1, 2, 3, 4]\n",
    "B = [2, 3, 4, 5]\n",
    "C = np.dot(A,B)\n",
    "print(C)"
   ]
  },
  {
   "cell_type": "markdown",
   "metadata": {
    "collapsed": true,
    "hide_input": true,
    "tags": [
     "s1",
     "l1",
     "ans"
    ]
   },
   "source": [
    "### Solution code\n",
    "\n",
    "```python\n",
    "A = np.array([1, 2, 3, 4])\n",
    "B = np.array([2, 3, 4, 5])\n",
    "\n",
    "C=np.dot(A,B)\n",
    "C\n",
    "```"
   ]
  },
  {
   "cell_type": "markdown",
   "metadata": {
    "tags": [
     "l2",
     "content",
     "s2"
    ]
   },
   "source": [
    "## 2. Max, Min, ArgMax, ArgMin\n",
    "\n",
    "Four simple functions that help a great deal when performing numerical computations on a large array of data is max(), min(), argmax() and argmin().\n",
    "\n",
    "* max() - can be used to find out what is the maximum value in a given array\n",
    "* min() - can be used to find out what is the minimum value in a given array\n",
    "* argmax() - can be used to find out what is the index position of the maximum value in the given array\n",
    "* argmin () - can be used to find out what is the index position of the minimum value in the given array\n",
    "\n",
    "```python\n",
    "shape_shifter\n",
    "# Output\n",
    ">>> array([ 0.906423  ,  0.55807204,  0.28928162,  0.47020116,  0.27403332,\n",
    ">>>         0.94178672,  0.81342077,  0.5859645 ,  0.63569185,  0.84614272,\n",
    ">>>         0.36454835,  0.63664789])\n",
    "\n",
    "shape_shifter.max()\n",
    "# Output\n",
    ">>> 0.94178671566784411\n",
    "\n",
    "shape_shifter.min()\n",
    "# Output\n",
    ">>> 0.27403331882439208\n",
    "\n",
    "shape_shifter.argmax()\n",
    "# Output\n",
    ">>> 5\n",
    "\n",
    "shape_shifter.argmin()\n",
    "# Output\n",
    ">>> 4\n",
    "```\n",
    "\n",
    "### Exercise\n",
    "\n",
    "An array is created below. Use the max, min, argmax and argmin functions on the given array and print the results out"
   ]
  },
  {
   "cell_type": "code",
   "execution_count": 3,
   "metadata": {
    "tags": [
     "l2",
     "ce",
     "s2"
    ]
   },
   "outputs": [
    {
     "name": "stdout",
     "output_type": "stream",
     "text": [
      "[70 81 80 55 48 17 60 80 20 46] \n",
      " 81 17 \n",
      " 1 5\n"
     ]
    }
   ],
   "source": [
    "# Edit the code below\n",
    "\n",
    "X = np.array([70, 81, 80, 55, 48, 17, 60, 80, 20, 46])\n",
    "max_X = X.max()\n",
    "min_X = X.min()\n",
    "argmax_X = X.argmax()\n",
    "argmin_X = X.argmin()\n",
    "print(X,'\\n',max_X,min_X,'\\n',argmax_X,argmin_X)"
   ]
  },
  {
   "cell_type": "markdown",
   "metadata": {
    "ExecuteTime": {
     "end_time": "2018-08-26T16:42:51.981423Z",
     "start_time": "2018-08-26T16:42:51.962474Z"
    },
    "collapsed": true,
    "hide_input": true,
    "tags": [
     "l2",
     "s2",
     "ans"
    ]
   },
   "source": [
    "### Solution code\n",
    "\n",
    "```python\n",
    "max_X = X.max()\n",
    "min_X = X.min()\n",
    "argmax_X = X.argmax()\n",
    "argmin_X = X.argmin()\n",
    "print(\"Max value is %d,\\nMin value is %d,\\nMax value index is %d,\\nMin value index is %d\"\n",
    "      %(max_X,min_X,argmax_X,argmin_X))\n",
    "```"
   ]
  },
  {
   "cell_type": "markdown",
   "metadata": {},
   "source": [
    "## 3. More array operations and attributes\n",
    "\n",
    "Common operations such as square root and exponential functions can be computed with the extensions that are common to most other languages such as :\n",
    "\n",
    "```python\n",
    "# Usage of square root and exponential\n",
    "numpy.sqrt(B), numpy.exp(A), \n",
    "```\n",
    "\n",
    "Below is a list of functions (and some attributes which can be extracted) that can be performed on a given array. Observe that the print statement details the functionalities of each of the specific functions.\n",
    "\n",
    "```python\n",
    "# Importing numpy library\n",
    "import numpy as np\n",
    "\n",
    "# data\n",
    "a = np.array([366,4,6,74,243,45,234,636,223,7,2,574])\n",
    "\n",
    "# Printing results\n",
    "print('''Array of cummulative sums of elements of the original array: {},\n",
    "         Array of cummulative products of elements of the original array: {},\n",
    "         Average of all elements of the array: {:.2f},\n",
    "         Sum of all elements of the array: {},\n",
    "         Product of all elements of the array: {},\n",
    "         Standard deviation of all elements of the array: {:.2f}'''.format(\n",
    "         a.cumsum(),\n",
    "         a.cumprod(),\n",
    "         a.mean(),\n",
    "         a.sum(),\n",
    "         a.prod(),\n",
    "         a.std())\n",
    "\n",
    "# Output\n",
    ">>> Array of cummulative sums of elements of the original array: [ 366  370  376  450  693  738  972 1608 1831 1838 1840 2414],\n",
    ">>> Array of cummulative products of elements of the original array: [ 366  1464  8784  650016  157953888  -1482009632  1102097088  854078720  1480993536  1777020160  -740926976  -90321920],\n",
    ">>> Average of all elements of the array: 201.17,\n",
    ">>> Sum of all elements of the array: 2414,\n",
    ">>> Product of all element of the array: -90321920,\n",
    ">>> Standard deviation of all elements of the array: 214.76\n",
    "\n",
    "# Sorting array in-place, this changes the original array vs the built-in sorted method which does not affect original array\n",
    "a.sort()\n",
    "\n",
    "# Sorted array\n",
    "a\n",
    "\n",
    "# Output\n",
    ">>> array([  2,   4,   6,   7,  45,  74, 223, 234, 243, 366, 574, 636])\n",
    "```\n",
    "\n",
    "Some functions that can be performed on 2-dimensional arrays are:\n",
    "* diagonal() - This function returns the diagonal elements of an n-dimensional array (required - where number of elements on each dimension is equal). When diagonal function is applied on n-dimensional array which have unequal dimension lengths, the function considers the largest possible equal-dimension data structure among the given data array and prints the diagonal elements of that data structure.\n",
    "* flatten() - This function collapses the multi-dimensional array into a 1-dimensional array and returns it.\n",
    "* transpose() - This function returns the transpose of the given n-dimensional array, i.e., swaps the elements on dimensions. In a 2-dimensional array, rows become columns and columns become rows.\n",
    "\n",
    "Examples:\n",
    "```python\n",
    "# Importing numpy library\n",
    "import numpy as np\n",
    "\n",
    "# data\n",
    "b = np.array([[366,4,6],[74,243,45],[234,636,223]])\n",
    "\n",
    "# Printing results\n",
    "print('''b is a {:d}-dimensional array,\n",
    "         Diagonal of b is: {},\n",
    "         1-dimensional equivalent of b is: {},\n",
    "         Transpose of b is: {}'''.format(\n",
    "         len(b.shape),\n",
    "         b.diagonal(),\n",
    "         b.flatten(),\n",
    "         b.transpose()))\n",
    "         \n",
    "# Output\n",
    ">>> b is a 2-dimensional array,\n",
    ">>> Diagonal of b is: [366 243 223],\n",
    ">>> 1-dimensional equivalent of b is: [366   4   6  74 243  45 234 636 223],\n",
    ">>> Transpose of b is: [[366  74 234]\n",
    ">>> [  4 243 636]\n",
    ">>> [  6  45 223]]\n",
    "```\n",
    "\n",
    "#### Exercise\n",
    "\n",
    "Given a = [52,64,35,6,67,24,12,36,2], Find:\n",
    "* shape of the array\n",
    "* index of maximum value element\n",
    "* average of all elements of the array\n",
    "* Cummulative sum of the first 6 elements"
   ]
  },
  {
   "cell_type": "code",
   "execution_count": 7,
   "metadata": {},
   "outputs": [
    {
     "name": "stdout",
     "output_type": "stream",
     "text": [
      "(9,)\n",
      "4\n",
      "33.111111111111114\n",
      "[ 52 116 151 157 224 248 260 296 298]\n"
     ]
    }
   ],
   "source": [
    "# Importing numpy\n",
    "import numpy as np\n",
    "\n",
    "# data\n",
    "a = np.array([52,64,35,6,67,24,12,36,2])\n",
    "print(a.shape)\n",
    "print(a.argmax())\n",
    "print(a.mean())\n",
    "print(a.cumsum())"
   ]
  },
  {
   "cell_type": "markdown",
   "metadata": {
    "hide_input": true
   },
   "source": [
    "### Solution code\n",
    "\n",
    "```python\n",
    "print('''Shape of array 'a':{},\n",
    "         Index of element with maximum value: {},\n",
    "         Average of all elements of the array: {},\n",
    "         Cummulative sum of first 6 elements of the array: {}'''.format(a.shape,a.argmax(),a.mean(),a.cumsum()[5]))\n",
    "```"
   ]
  },
  {
   "cell_type": "markdown",
   "metadata": {},
   "source": [
    "## 4. Some special numpy functions\n",
    "\n",
    "### 4.1 arange() function\n",
    "\n",
    "There is a basic function in python to generate a list of values. **range**(lower, upper, increment) - where the function starts from the lower value and iterates the value using increment, up to the upper value(exclusive). <br>\n",
    "Numpy's **arange**(lower, upper, increment) function has the same functionality, except that the output of this function would be an array with the iterated values.\n",
    "\n",
    "For example:\n",
    "```python\n",
    "np.arange(1,5)\n",
    ">>> array([1, 2, 3, 4])\n",
    "\n",
    "np.arange(1,11,2)\n",
    ">>> array([1, 3, 5, 7, 9])\n",
    "\n",
    "np.arange(11,1,-2)\n",
    ">>> array([11,  9,  7,  5,  3])\n",
    "```\n",
    "\n",
    "### Exercise\n",
    "\n",
    "Create 2 arrays with values 1,2,3,4 and 5.\n",
    "* first array using **range()** function\n",
    "* second array using **arange()** function"
   ]
  },
  {
   "cell_type": "code",
   "execution_count": 16,
   "metadata": {},
   "outputs": [
    {
     "name": "stdout",
     "output_type": "stream",
     "text": [
      "[1 2 3 4 5]\n",
      "[1 2 3 4 5]\n"
     ]
    }
   ],
   "source": [
    "array_one = np.array([i for i in range(1,6)])\n",
    "array_two = np.arange(1,6)\n",
    "print(array_one)\n",
    "print(array_two)"
   ]
  },
  {
   "cell_type": "markdown",
   "metadata": {
    "hide_input": true
   },
   "source": [
    "### Solution code\n",
    "\n",
    "```python\n",
    "array_one = []\n",
    "for i in range(1,6):\n",
    "    array_one.append(i)\n",
    "array_one = np.array(array_one)\n",
    "array_two = np.arange(1,6)\n",
    "\n",
    "print(array_one, array_two)\n",
    "```"
   ]
  },
  {
   "cell_type": "markdown",
   "metadata": {},
   "source": [
    "### 4.2 linspace() function\n",
    "\n",
    "The linear space function creates an array of values which are equally spaced within specified limits. The function accepts a lower limit, an upper limit and the length of the array(say 'n') and it generates _'n'_ equally spaced elements from lower limit to upper limit (inclusive).\n",
    "\n",
    "```python\n",
    "np.linspace(1,5,5)\n",
    ">>> array([ 1.,  2.,  3.,  4.,  5.])\n",
    "\n",
    "np.linspace(0,1,10)\n",
    ">>> array([ 0.        ,  0.11111111,  0.22222222,  0.33333333,  0.44444444,\n",
    "         0.55555556,  0.66666667,  0.77777778,  0.88888889,  1.        ])\n",
    "\n",
    "np.linspace(-6,6,5)\n",
    ">>> array([-6., -3.,  0.,  3.,  6.])\n",
    "```\n",
    "\n",
    "### Exercise\n",
    "\n",
    "Initialize and print:\n",
    "* a linearly spaced array with 5 values between 5 and 50"
   ]
  },
  {
   "cell_type": "code",
   "execution_count": 23,
   "metadata": {},
   "outputs": [
    {
     "data": {
      "text/plain": [
       "array([ 5.  , 16.25, 27.5 , 38.75, 50.  ])"
      ]
     },
     "execution_count": 23,
     "metadata": {},
     "output_type": "execute_result"
    }
   ],
   "source": [
    "# Modify code below\n",
    "\n",
    "lin_arr = np.linspace(5,50,5)\n",
    "lin_arr"
   ]
  },
  {
   "cell_type": "markdown",
   "metadata": {
    "hide_input": true
   },
   "source": [
    "### Solution code\n",
    "\n",
    "```python\n",
    "lin_arr = np.linspace(5,50,5)\n",
    "lin_arr\n",
    "```"
   ]
  },
  {
   "cell_type": "markdown",
   "metadata": {},
   "source": [
    "### 4.3 Zeros, Ones and Eye\n",
    "\n",
    "The **np.zeros()** and **np.ones()** functions are used to create n-dimensional arrays with all elements as zeros or ones respectively. Such arrays are extremely useful in many numeric and mathematical operations. The functions take the shape of the array that is to be created, as the argument.\n",
    "\n",
    "```python\n",
    "np.zeros(1,5)\n",
    ">>> array([[ 0.,  0.,  0.,  0.,  0.]])\n",
    "\n",
    "np.ones((2,4))\n",
    ">>> array([[1., 1., 1., 1.],\n",
    "       [1., 1., 1., 1.]])\n",
    "```\n",
    "\n",
    "The **np.eye()** function creates a square matrix, nxn, with all diagonal elements as ones and all non-diagonal elements are zeros. In mathematics, such kind of a matrix is called the \"Identity Matrix\", as the multiplicative product of any matrix A and the appropriate identity matrix, is always A itself.\n",
    "\n",
    "``` python\n",
    "np.eye(2)\n",
    ">>> array([[1., 0.],\n",
    "       [0., 1.]])\n",
    "```\n",
    "<img src=\"../../../images/numpy_1-zeroes_ones_eye.png\">\n",
    "<br>\n",
    "\n",
    "### Exercise\n",
    "\n",
    "Initiate three arrays:\n",
    "* A zeros array of shape (3,3)\n",
    "* A ones array of shape (4,4)\n",
    "* A 3x3 Identity Matrix"
   ]
  },
  {
   "cell_type": "code",
   "execution_count": 27,
   "metadata": {},
   "outputs": [
    {
     "name": "stdout",
     "output_type": "stream",
     "text": [
      "[[0. 0. 0.]\n",
      " [0. 0. 0.]\n",
      " [0. 0. 0.]]\n",
      "[[1. 1. 1. 1.]\n",
      " [1. 1. 1. 1.]\n",
      " [1. 1. 1. 1.]\n",
      " [1. 1. 1. 1.]]\n",
      "[[1. 0. 0.]\n",
      " [0. 1. 0.]\n",
      " [0. 0. 1.]]\n"
     ]
    }
   ],
   "source": [
    "# Modify code below\n",
    "\n",
    "zeros_arr = np.zeros((3,3))\n",
    "print(zeros_arr)\n",
    "ones_arr = np.ones((4,4))\n",
    "print(ones_arr)\n",
    "eye_mat = np.eye(3)\n",
    "print(eye_mat)"
   ]
  },
  {
   "cell_type": "markdown",
   "metadata": {
    "hide_input": true
   },
   "source": [
    "### Solution code\n",
    "\n",
    "```python\n",
    "zeros_arr = np.zeros((3,3))\n",
    "ones_arr = np.ones((4,4))\n",
    "eye_mat = np.eye(3)\n",
    "```"
   ]
  }
 ],
 "metadata": {
  "celltoolbar": "Edit Metadata",
  "executed_sections": [],
  "kernelspec": {
   "display_name": "Python 3",
   "language": "python",
   "name": "python3"
  },
  "language_info": {
   "codemirror_mode": {
    "name": "ipython",
    "version": 3
   },
   "file_extension": ".py",
   "mimetype": "text/x-python",
   "name": "python",
   "nbconvert_exporter": "python",
   "pygments_lexer": "ipython3",
   "version": "3.5.2"
  },
  "rf_version": 1
 },
 "nbformat": 4,
 "nbformat_minor": 2
}
