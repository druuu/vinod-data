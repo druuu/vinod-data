{
 "cells": [
  {
   "cell_type": "markdown",
   "metadata": {
    "cell_id": "178e325f0375464d8e2e9a0f0e888875"
   },
   "source": [
    "## Numpy Lab 2\n",
    "\n",
    "Create a numpy array A of shape 3*3 with random values from 100 to 300 and modify the array such that:\n",
    "\n",
    "1. If an element of array A is greater than 200% of the minimum value in the array, then reduce the value by half.\n",
    "2. Further if an element of array A is less than 50% of the maximum value, then increase the value by 50%. \n",
    "3. Assign the resultant array to B \n",
    "\n",
    "Hint: Refer to numpy documentation at  https://docs.scipy.org/doc/numpy/user/quickstart.html"
   ]
  },
  {
   "cell_type": "code",
   "execution_count": 57,
   "metadata": {
    "cell_id": "eb5df325a6e24006952b3672cb3529ef"
   },
   "outputs": [
    {
     "data": {
      "text/plain": [
       "array([[199, 289, 218],\n",
       "       [244, 173, 108],\n",
       "       [290, 255, 212]])"
      ]
     },
     "execution_count": 57,
     "metadata": {},
     "output_type": "execute_result"
    }
   ],
   "source": [
    "import numpy as np\n",
    "\n",
    "np.random.seed(5)\n",
    "A = np.random.randint(100,300,(3,3))\n",
    "A"
   ]
  },
  {
   "cell_type": "code",
   "execution_count": 58,
   "metadata": {
    "cell_id": "df78e1697d7049a09751e575ef90b391"
   },
   "outputs": [
    {
     "data": {
      "text/plain": [
       "array([[199. , 144.5, 109. ],\n",
       "       [122. , 173. , 108. ],\n",
       "       [145. , 127.5, 212. ]])"
      ]
     },
     "execution_count": 58,
     "metadata": {},
     "output_type": "execute_result"
    }
   ],
   "source": [
    "a = np.array([i/2 if i>2*np.amin(A) else i for j in A for i in j]).reshape(3,3)\n",
    "a"
   ]
  },
  {
   "cell_type": "code",
   "execution_count": 59,
   "metadata": {
    "cell_id": "24dea12680534cc1868def0baaa431f9"
   },
   "outputs": [
    {
     "data": {
      "text/plain": [
       "array([[199.  , 216.75, 163.5 ],\n",
       "       [183.  , 173.  , 162.  ],\n",
       "       [145.  , 191.25, 212.  ]])"
      ]
     },
     "execution_count": 59,
     "metadata": {},
     "output_type": "execute_result"
    }
   ],
   "source": [
    "B = np.array([3*i/2 if i<np.amax(A)/2 else i for j in a for i in j]).reshape(3,3)\n",
    "B"
   ]
  },
  {
   "cell_type": "code",
   "execution_count": null,
   "metadata": {
    "cell_id": "dac1f30980684219866ccc48e71a6bfc"
   },
   "outputs": [],
   "source": []
  }
 ],
 "metadata": {
  "kernelspec": {
   "display_name": "Python 3",
   "language": "python",
   "name": "python3"
  },
  "language_info": {
   "codemirror_mode": {
    "name": "ipython",
    "version": 3
   },
   "file_extension": ".py",
   "mimetype": "text/x-python",
   "name": "python",
   "nbconvert_exporter": "python",
   "pygments_lexer": "ipython3",
   "version": "3.6.6"
  }
 },
 "nbformat": 4,
 "nbformat_minor": 1
}
