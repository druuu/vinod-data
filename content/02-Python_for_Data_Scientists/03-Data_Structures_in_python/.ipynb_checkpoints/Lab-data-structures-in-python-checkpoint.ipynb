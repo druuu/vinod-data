{
 "cells": [
  {
   "cell_type": "markdown",
   "metadata": {},
   "source": [
    "## Grocery List\n",
    "\n",
    "Given a grocery list with the items and quantity, for 3 friends Alice, Bob and Charlie. You are also provided a price list for all the items. Write a python program to calculate the total bill amount for Alice, Bob, and Charlie and save it in a dictionary object.\n",
    "\n",
    "Input Example: grocery_list = {\"Alice\" : {\"Apples\": 10 , \"Bananas\" : 5}}\n",
    "price_list = {\"Apple\" : 1.00, \"Banana\" : 0.50}\n",
    "\n",
    "Output Example:\n",
    "bills = {\"Alice\" : 12.50}"
   ]
  },
  {
   "cell_type": "code",
   "execution_count": 4,
   "metadata": {},
   "outputs": [],
   "source": [
    "#Data \n",
    "grocery_list = {\"Alice\" : {\"Apples\": 3 , \"Bananas\" : 2, \"Potatoes\": 20 , \"Tomatoes\" : 20}, \n",
    "                \"Bob\" : {\"Apples\": 15 , \"Bananas\" : 8, \"Potatoes\": 6 }, \n",
    "                \"Charlie\" : {\"Apples\": 20 , \"Bananas\" : 12, \"Tomatoes\" : 18}\n",
    "               }\n",
    "price_list = {\"Apples\" : 1.00, \"Bananas\" : 0.50 , \"Potatoes\": 2.00 , \"Tomatoes\" : 5.50}\n"
   ]
  },
  {
   "cell_type": "code",
   "execution_count": 5,
   "metadata": {},
   "outputs": [
    {
     "name": "stdout",
     "output_type": "stream",
     "text": [
      "{'Charlie': 125.0, 'Alice': 154.0, 'Bob': 31.0}\n"
     ]
    }
   ],
   "source": [
    "bill_dict = {}\n",
    "for name in grocery_list :\n",
    "    bill = 0\n",
    "    for fruit in grocery_list[name] :\n",
    "        bill += grocery_list[name][fruit] * price_list[fruit]\n",
    "    bill_dict[name] = bill\n",
    "print(bill_dict)"
   ]
  },
  {
   "cell_type": "code",
   "execution_count": null,
   "metadata": {},
   "outputs": [],
   "source": []
  }
 ],
 "metadata": {
  "kernelspec": {
   "display_name": "Python 3",
   "language": "python",
   "name": "python3"
  },
  "language_info": {
   "codemirror_mode": {
    "name": "ipython",
    "version": 3
   },
   "file_extension": ".py",
   "mimetype": "text/x-python",
   "name": "python",
   "nbconvert_exporter": "python",
   "pygments_lexer": "ipython3",
   "version": "3.5.2"
  }
 },
 "nbformat": 4,
 "nbformat_minor": 1
}
