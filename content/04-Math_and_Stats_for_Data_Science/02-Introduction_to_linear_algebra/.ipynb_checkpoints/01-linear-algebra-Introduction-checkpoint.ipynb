{
 "cells": [
  {
   "cell_type": "markdown",
   "metadata": {
    "cell_id": "a8ba31a298d84cb88304902e79f9de47"
   },
   "source": [
    "#### Run the below code to import all libraries required to run sample code within this notebook"
   ]
  },
  {
   "cell_type": "code",
   "execution_count": 1,
   "metadata": {
    "ExecuteTime": {
     "end_time": "2019-02-27T17:04:24.322511Z",
     "start_time": "2019-02-27T17:04:18.057311Z"
    },
    "cell_id": "6cfd3983fa0c41dd9283d683ef6b43af"
   },
   "outputs": [
    {
     "data": {
      "text/html": [
       "<script type=\"text/javascript\">window.PlotlyConfig = {MathJaxConfig: 'local'};</script><script type=\"text/javascript\">if (window.MathJax) {MathJax.Hub.Config({SVG: {font: \"STIX-Web\"}});}</script><script>requirejs.config({paths: { 'plotly': ['https://cdn.plot.ly/plotly-latest.min']},});if(!window._Plotly) {require(['plotly'],function(plotly) {window._Plotly=plotly;});}</script>"
      ],
      "text/vnd.plotly.v1+html": [
       "<script type=\"text/javascript\">window.PlotlyConfig = {MathJaxConfig: 'local'};</script><script type=\"text/javascript\">if (window.MathJax) {MathJax.Hub.Config({SVG: {font: \"STIX-Web\"}});}</script><script>requirejs.config({paths: { 'plotly': ['https://cdn.plot.ly/plotly-latest.min']},});if(!window._Plotly) {require(['plotly'],function(plotly) {window._Plotly=plotly;});}</script>"
      ]
     },
     "metadata": {},
     "output_type": "display_data"
    },
    {
     "data": {
      "text/html": [
       "\n",
       "    <div class=\"bk-root\">\n",
       "        <a href=\"https://bokeh.pydata.org\" target=\"_blank\" class=\"bk-logo bk-logo-small bk-logo-notebook\"></a>\n",
       "        <span id=\"a64ee22d-1921-435a-8c2d-7bf3e57659e7\">Loading BokehJS ...</span>\n",
       "    </div>"
      ]
     },
     "metadata": {},
     "output_type": "display_data"
    },
    {
     "data": {
      "application/javascript": [
       "\n",
       "(function(root) {\n",
       "  function now() {\n",
       "    return new Date();\n",
       "  }\n",
       "\n",
       "  var force = true;\n",
       "\n",
       "  if (typeof (root._bokeh_onload_callbacks) === \"undefined\" || force === true) {\n",
       "    root._bokeh_onload_callbacks = [];\n",
       "    root._bokeh_is_loading = undefined;\n",
       "  }\n",
       "\n",
       "  var JS_MIME_TYPE = 'application/javascript';\n",
       "  var HTML_MIME_TYPE = 'text/html';\n",
       "  var EXEC_MIME_TYPE = 'application/vnd.bokehjs_exec.v0+json';\n",
       "  var CLASS_NAME = 'output_bokeh rendered_html';\n",
       "\n",
       "  /**\n",
       "   * Render data to the DOM node\n",
       "   */\n",
       "  function render(props, node) {\n",
       "    var script = document.createElement(\"script\");\n",
       "    node.appendChild(script);\n",
       "  }\n",
       "\n",
       "  /**\n",
       "   * Handle when an output is cleared or removed\n",
       "   */\n",
       "  function handleClearOutput(event, handle) {\n",
       "    var cell = handle.cell;\n",
       "\n",
       "    var id = cell.output_area._bokeh_element_id;\n",
       "    var server_id = cell.output_area._bokeh_server_id;\n",
       "    // Clean up Bokeh references\n",
       "    if (id != null && id in Bokeh.index) {\n",
       "      Bokeh.index[id].model.document.clear();\n",
       "      delete Bokeh.index[id];\n",
       "    }\n",
       "\n",
       "    if (server_id !== undefined) {\n",
       "      // Clean up Bokeh references\n",
       "      var cmd = \"from bokeh.io.state import curstate; print(curstate().uuid_to_server['\" + server_id + \"'].get_sessions()[0].document.roots[0]._id)\";\n",
       "      cell.notebook.kernel.execute(cmd, {\n",
       "        iopub: {\n",
       "          output: function(msg) {\n",
       "            var id = msg.content.text.trim();\n",
       "            if (id in Bokeh.index) {\n",
       "              Bokeh.index[id].model.document.clear();\n",
       "              delete Bokeh.index[id];\n",
       "            }\n",
       "          }\n",
       "        }\n",
       "      });\n",
       "      // Destroy server and session\n",
       "      var cmd = \"import bokeh.io.notebook as ion; ion.destroy_server('\" + server_id + \"')\";\n",
       "      cell.notebook.kernel.execute(cmd);\n",
       "    }\n",
       "  }\n",
       "\n",
       "  /**\n",
       "   * Handle when a new output is added\n",
       "   */\n",
       "  function handleAddOutput(event, handle) {\n",
       "    var output_area = handle.output_area;\n",
       "    var output = handle.output;\n",
       "\n",
       "    // limit handleAddOutput to display_data with EXEC_MIME_TYPE content only\n",
       "    if ((output.output_type != \"display_data\") || (!output.data.hasOwnProperty(EXEC_MIME_TYPE))) {\n",
       "      return\n",
       "    }\n",
       "\n",
       "    var toinsert = output_area.element.find(\".\" + CLASS_NAME.split(' ')[0]);\n",
       "\n",
       "    if (output.metadata[EXEC_MIME_TYPE][\"id\"] !== undefined) {\n",
       "      toinsert[toinsert.length - 1].firstChild.textContent = output.data[JS_MIME_TYPE];\n",
       "      // store reference to embed id on output_area\n",
       "      output_area._bokeh_element_id = output.metadata[EXEC_MIME_TYPE][\"id\"];\n",
       "    }\n",
       "    if (output.metadata[EXEC_MIME_TYPE][\"server_id\"] !== undefined) {\n",
       "      var bk_div = document.createElement(\"div\");\n",
       "      bk_div.innerHTML = output.data[HTML_MIME_TYPE];\n",
       "      var script_attrs = bk_div.children[0].attributes;\n",
       "      for (var i = 0; i < script_attrs.length; i++) {\n",
       "        toinsert[toinsert.length - 1].firstChild.setAttribute(script_attrs[i].name, script_attrs[i].value);\n",
       "      }\n",
       "      // store reference to server id on output_area\n",
       "      output_area._bokeh_server_id = output.metadata[EXEC_MIME_TYPE][\"server_id\"];\n",
       "    }\n",
       "  }\n",
       "\n",
       "  function register_renderer(events, OutputArea) {\n",
       "\n",
       "    function append_mime(data, metadata, element) {\n",
       "      // create a DOM node to render to\n",
       "      var toinsert = this.create_output_subarea(\n",
       "        metadata,\n",
       "        CLASS_NAME,\n",
       "        EXEC_MIME_TYPE\n",
       "      );\n",
       "      this.keyboard_manager.register_events(toinsert);\n",
       "      // Render to node\n",
       "      var props = {data: data, metadata: metadata[EXEC_MIME_TYPE]};\n",
       "      render(props, toinsert[toinsert.length - 1]);\n",
       "      element.append(toinsert);\n",
       "      return toinsert\n",
       "    }\n",
       "\n",
       "    /* Handle when an output is cleared or removed */\n",
       "    events.on('clear_output.CodeCell', handleClearOutput);\n",
       "    events.on('delete.Cell', handleClearOutput);\n",
       "\n",
       "    /* Handle when a new output is added */\n",
       "    events.on('output_added.OutputArea', handleAddOutput);\n",
       "\n",
       "    /**\n",
       "     * Register the mime type and append_mime function with output_area\n",
       "     */\n",
       "    OutputArea.prototype.register_mime_type(EXEC_MIME_TYPE, append_mime, {\n",
       "      /* Is output safe? */\n",
       "      safe: true,\n",
       "      /* Index of renderer in `output_area.display_order` */\n",
       "      index: 0\n",
       "    });\n",
       "  }\n",
       "\n",
       "  // register the mime type if in Jupyter Notebook environment and previously unregistered\n",
       "  if (root.Jupyter !== undefined) {\n",
       "    var events = require('base/js/events');\n",
       "    var OutputArea = require('notebook/js/outputarea').OutputArea;\n",
       "\n",
       "    if (OutputArea.prototype.mime_types().indexOf(EXEC_MIME_TYPE) == -1) {\n",
       "      register_renderer(events, OutputArea);\n",
       "    }\n",
       "  }\n",
       "\n",
       "  \n",
       "  if (typeof (root._bokeh_timeout) === \"undefined\" || force === true) {\n",
       "    root._bokeh_timeout = Date.now() + 5000;\n",
       "    root._bokeh_failed_load = false;\n",
       "  }\n",
       "\n",
       "  var NB_LOAD_WARNING = {'data': {'text/html':\n",
       "     \"<div style='background-color: #fdd'>\\n\"+\n",
       "     \"<p>\\n\"+\n",
       "     \"BokehJS does not appear to have successfully loaded. If loading BokehJS from CDN, this \\n\"+\n",
       "     \"may be due to a slow or bad network connection. Possible fixes:\\n\"+\n",
       "     \"</p>\\n\"+\n",
       "     \"<ul>\\n\"+\n",
       "     \"<li>re-rerun `output_notebook()` to attempt to load from CDN again, or</li>\\n\"+\n",
       "     \"<li>use INLINE resources instead, as so:</li>\\n\"+\n",
       "     \"</ul>\\n\"+\n",
       "     \"<code>\\n\"+\n",
       "     \"from bokeh.resources import INLINE\\n\"+\n",
       "     \"output_notebook(resources=INLINE)\\n\"+\n",
       "     \"</code>\\n\"+\n",
       "     \"</div>\"}};\n",
       "\n",
       "  function display_loaded() {\n",
       "    var el = document.getElementById(\"a64ee22d-1921-435a-8c2d-7bf3e57659e7\");\n",
       "    if (el != null) {\n",
       "      el.textContent = \"BokehJS is loading...\";\n",
       "    }\n",
       "    if (root.Bokeh !== undefined) {\n",
       "      if (el != null) {\n",
       "        el.textContent = \"BokehJS \" + root.Bokeh.version + \" successfully loaded.\";\n",
       "      }\n",
       "    } else if (Date.now() < root._bokeh_timeout) {\n",
       "      setTimeout(display_loaded, 100)\n",
       "    }\n",
       "  }\n",
       "\n",
       "\n",
       "  function run_callbacks() {\n",
       "    try {\n",
       "      root._bokeh_onload_callbacks.forEach(function(callback) { callback() });\n",
       "    }\n",
       "    finally {\n",
       "      delete root._bokeh_onload_callbacks\n",
       "    }\n",
       "    console.info(\"Bokeh: all callbacks have finished\");\n",
       "  }\n",
       "\n",
       "  function load_libs(js_urls, callback) {\n",
       "    root._bokeh_onload_callbacks.push(callback);\n",
       "    if (root._bokeh_is_loading > 0) {\n",
       "      console.log(\"Bokeh: BokehJS is being loaded, scheduling callback at\", now());\n",
       "      return null;\n",
       "    }\n",
       "    if (js_urls == null || js_urls.length === 0) {\n",
       "      run_callbacks();\n",
       "      return null;\n",
       "    }\n",
       "    console.log(\"Bokeh: BokehJS not loaded, scheduling load and callback at\", now());\n",
       "    root._bokeh_is_loading = js_urls.length;\n",
       "    for (var i = 0; i < js_urls.length; i++) {\n",
       "      var url = js_urls[i];\n",
       "      var s = document.createElement('script');\n",
       "      s.src = url;\n",
       "      s.async = false;\n",
       "      s.onreadystatechange = s.onload = function() {\n",
       "        root._bokeh_is_loading--;\n",
       "        if (root._bokeh_is_loading === 0) {\n",
       "          console.log(\"Bokeh: all BokehJS libraries loaded\");\n",
       "          run_callbacks()\n",
       "        }\n",
       "      };\n",
       "      s.onerror = function() {\n",
       "        console.warn(\"failed to load library \" + url);\n",
       "      };\n",
       "      console.log(\"Bokeh: injecting script tag for BokehJS library: \", url);\n",
       "      document.getElementsByTagName(\"head\")[0].appendChild(s);\n",
       "    }\n",
       "  };var element = document.getElementById(\"a64ee22d-1921-435a-8c2d-7bf3e57659e7\");\n",
       "  if (element == null) {\n",
       "    console.log(\"Bokeh: ERROR: autoload.js configured with elementid 'a64ee22d-1921-435a-8c2d-7bf3e57659e7' but no matching script tag was found. \")\n",
       "    return false;\n",
       "  }\n",
       "\n",
       "  var js_urls = [\"https://cdn.pydata.org/bokeh/release/bokeh-0.13.0.min.js\", \"https://cdn.pydata.org/bokeh/release/bokeh-widgets-0.13.0.min.js\", \"https://cdn.pydata.org/bokeh/release/bokeh-tables-0.13.0.min.js\", \"https://cdn.pydata.org/bokeh/release/bokeh-gl-0.13.0.min.js\"];\n",
       "\n",
       "  var inline_js = [\n",
       "    function(Bokeh) {\n",
       "      Bokeh.set_log_level(\"info\");\n",
       "    },\n",
       "    \n",
       "    function(Bokeh) {\n",
       "      \n",
       "    },\n",
       "    function(Bokeh) {\n",
       "      console.log(\"Bokeh: injecting CSS: https://cdn.pydata.org/bokeh/release/bokeh-0.13.0.min.css\");\n",
       "      Bokeh.embed.inject_css(\"https://cdn.pydata.org/bokeh/release/bokeh-0.13.0.min.css\");\n",
       "      console.log(\"Bokeh: injecting CSS: https://cdn.pydata.org/bokeh/release/bokeh-widgets-0.13.0.min.css\");\n",
       "      Bokeh.embed.inject_css(\"https://cdn.pydata.org/bokeh/release/bokeh-widgets-0.13.0.min.css\");\n",
       "      console.log(\"Bokeh: injecting CSS: https://cdn.pydata.org/bokeh/release/bokeh-tables-0.13.0.min.css\");\n",
       "      Bokeh.embed.inject_css(\"https://cdn.pydata.org/bokeh/release/bokeh-tables-0.13.0.min.css\");\n",
       "    }\n",
       "  ];\n",
       "\n",
       "  function run_inline_js() {\n",
       "    \n",
       "    if ((root.Bokeh !== undefined) || (force === true)) {\n",
       "      for (var i = 0; i < inline_js.length; i++) {\n",
       "        inline_js[i].call(root, root.Bokeh);\n",
       "      }if (force === true) {\n",
       "        display_loaded();\n",
       "      }} else if (Date.now() < root._bokeh_timeout) {\n",
       "      setTimeout(run_inline_js, 100);\n",
       "    } else if (!root._bokeh_failed_load) {\n",
       "      console.log(\"Bokeh: BokehJS failed to load within specified timeout.\");\n",
       "      root._bokeh_failed_load = true;\n",
       "    } else if (force !== true) {\n",
       "      var cell = $(document.getElementById(\"a64ee22d-1921-435a-8c2d-7bf3e57659e7\")).parents('.cell').data().cell;\n",
       "      cell.output_area.append_execute_result(NB_LOAD_WARNING)\n",
       "    }\n",
       "\n",
       "  }\n",
       "\n",
       "  if (root._bokeh_is_loading === 0) {\n",
       "    console.log(\"Bokeh: BokehJS loaded, going straight to plotting\");\n",
       "    run_inline_js();\n",
       "  } else {\n",
       "    load_libs(js_urls, function() {\n",
       "      console.log(\"Bokeh: BokehJS plotting callback run at\", now());\n",
       "      run_inline_js();\n",
       "    });\n",
       "  }\n",
       "}(window));"
      ],
      "application/vnd.bokehjs_load.v0+json": "\n(function(root) {\n  function now() {\n    return new Date();\n  }\n\n  var force = true;\n\n  if (typeof (root._bokeh_onload_callbacks) === \"undefined\" || force === true) {\n    root._bokeh_onload_callbacks = [];\n    root._bokeh_is_loading = undefined;\n  }\n\n  \n\n  \n  if (typeof (root._bokeh_timeout) === \"undefined\" || force === true) {\n    root._bokeh_timeout = Date.now() + 5000;\n    root._bokeh_failed_load = false;\n  }\n\n  var NB_LOAD_WARNING = {'data': {'text/html':\n     \"<div style='background-color: #fdd'>\\n\"+\n     \"<p>\\n\"+\n     \"BokehJS does not appear to have successfully loaded. If loading BokehJS from CDN, this \\n\"+\n     \"may be due to a slow or bad network connection. Possible fixes:\\n\"+\n     \"</p>\\n\"+\n     \"<ul>\\n\"+\n     \"<li>re-rerun `output_notebook()` to attempt to load from CDN again, or</li>\\n\"+\n     \"<li>use INLINE resources instead, as so:</li>\\n\"+\n     \"</ul>\\n\"+\n     \"<code>\\n\"+\n     \"from bokeh.resources import INLINE\\n\"+\n     \"output_notebook(resources=INLINE)\\n\"+\n     \"</code>\\n\"+\n     \"</div>\"}};\n\n  function display_loaded() {\n    var el = document.getElementById(\"a64ee22d-1921-435a-8c2d-7bf3e57659e7\");\n    if (el != null) {\n      el.textContent = \"BokehJS is loading...\";\n    }\n    if (root.Bokeh !== undefined) {\n      if (el != null) {\n        el.textContent = \"BokehJS \" + root.Bokeh.version + \" successfully loaded.\";\n      }\n    } else if (Date.now() < root._bokeh_timeout) {\n      setTimeout(display_loaded, 100)\n    }\n  }\n\n\n  function run_callbacks() {\n    try {\n      root._bokeh_onload_callbacks.forEach(function(callback) { callback() });\n    }\n    finally {\n      delete root._bokeh_onload_callbacks\n    }\n    console.info(\"Bokeh: all callbacks have finished\");\n  }\n\n  function load_libs(js_urls, callback) {\n    root._bokeh_onload_callbacks.push(callback);\n    if (root._bokeh_is_loading > 0) {\n      console.log(\"Bokeh: BokehJS is being loaded, scheduling callback at\", now());\n      return null;\n    }\n    if (js_urls == null || js_urls.length === 0) {\n      run_callbacks();\n      return null;\n    }\n    console.log(\"Bokeh: BokehJS not loaded, scheduling load and callback at\", now());\n    root._bokeh_is_loading = js_urls.length;\n    for (var i = 0; i < js_urls.length; i++) {\n      var url = js_urls[i];\n      var s = document.createElement('script');\n      s.src = url;\n      s.async = false;\n      s.onreadystatechange = s.onload = function() {\n        root._bokeh_is_loading--;\n        if (root._bokeh_is_loading === 0) {\n          console.log(\"Bokeh: all BokehJS libraries loaded\");\n          run_callbacks()\n        }\n      };\n      s.onerror = function() {\n        console.warn(\"failed to load library \" + url);\n      };\n      console.log(\"Bokeh: injecting script tag for BokehJS library: \", url);\n      document.getElementsByTagName(\"head\")[0].appendChild(s);\n    }\n  };var element = document.getElementById(\"a64ee22d-1921-435a-8c2d-7bf3e57659e7\");\n  if (element == null) {\n    console.log(\"Bokeh: ERROR: autoload.js configured with elementid 'a64ee22d-1921-435a-8c2d-7bf3e57659e7' but no matching script tag was found. \")\n    return false;\n  }\n\n  var js_urls = [\"https://cdn.pydata.org/bokeh/release/bokeh-0.13.0.min.js\", \"https://cdn.pydata.org/bokeh/release/bokeh-widgets-0.13.0.min.js\", \"https://cdn.pydata.org/bokeh/release/bokeh-tables-0.13.0.min.js\", \"https://cdn.pydata.org/bokeh/release/bokeh-gl-0.13.0.min.js\"];\n\n  var inline_js = [\n    function(Bokeh) {\n      Bokeh.set_log_level(\"info\");\n    },\n    \n    function(Bokeh) {\n      \n    },\n    function(Bokeh) {\n      console.log(\"Bokeh: injecting CSS: https://cdn.pydata.org/bokeh/release/bokeh-0.13.0.min.css\");\n      Bokeh.embed.inject_css(\"https://cdn.pydata.org/bokeh/release/bokeh-0.13.0.min.css\");\n      console.log(\"Bokeh: injecting CSS: https://cdn.pydata.org/bokeh/release/bokeh-widgets-0.13.0.min.css\");\n      Bokeh.embed.inject_css(\"https://cdn.pydata.org/bokeh/release/bokeh-widgets-0.13.0.min.css\");\n      console.log(\"Bokeh: injecting CSS: https://cdn.pydata.org/bokeh/release/bokeh-tables-0.13.0.min.css\");\n      Bokeh.embed.inject_css(\"https://cdn.pydata.org/bokeh/release/bokeh-tables-0.13.0.min.css\");\n    }\n  ];\n\n  function run_inline_js() {\n    \n    if ((root.Bokeh !== undefined) || (force === true)) {\n      for (var i = 0; i < inline_js.length; i++) {\n        inline_js[i].call(root, root.Bokeh);\n      }if (force === true) {\n        display_loaded();\n      }} else if (Date.now() < root._bokeh_timeout) {\n      setTimeout(run_inline_js, 100);\n    } else if (!root._bokeh_failed_load) {\n      console.log(\"Bokeh: BokehJS failed to load within specified timeout.\");\n      root._bokeh_failed_load = true;\n    } else if (force !== true) {\n      var cell = $(document.getElementById(\"a64ee22d-1921-435a-8c2d-7bf3e57659e7\")).parents('.cell').data().cell;\n      cell.output_area.append_execute_result(NB_LOAD_WARNING)\n    }\n\n  }\n\n  if (root._bokeh_is_loading === 0) {\n    console.log(\"Bokeh: BokehJS loaded, going straight to plotting\");\n    run_inline_js();\n  } else {\n    load_libs(js_urls, function() {\n      console.log(\"Bokeh: BokehJS plotting callback run at\", now());\n      run_inline_js();\n    });\n  }\n}(window));"
     },
     "metadata": {},
     "output_type": "display_data"
    }
   ],
   "source": [
    "import numpy as np \n",
    "from scipy.spatial import distance\n",
    "\n",
    "from ipywidgets import interact, interactive, fixed, interact_manual\n",
    "import ipywidgets as widgets\n",
    " \n",
    "from plotly.offline import download_plotlyjs, init_notebook_mode, plot, iplot\n",
    "from plotly import graph_objs as go\n",
    "init_notebook_mode(connected=True)\n",
    "import numpy as np\n",
    "\n",
    "import random\n",
    "\n",
    "from IPython.display import display, Math\n",
    "\n",
    "from bokeh.io import show, output_notebook, reset_output\n",
    "from bokeh.plotting import figure, show\n",
    "from scipy.stats import norm \n",
    "from bokeh import plotting as pl\n",
    "from bokeh.models import HoverTool, Arrow, OpenHead, NormalHead, VeeHead, Span, ColumnDataSource, PointDrawTool, TableColumn,  DataTable\n",
    "\n",
    "reset_output()\n",
    "output_notebook()"
   ]
  },
  {
   "cell_type": "markdown",
   "metadata": {
    "cell_id": "4230483f200640d5984f6b97c7ff3e4a",
    "hide_input": true
   },
   "source": [
    "### Solution code\n",
    "\n",
    "```python\n",
    "# Just run above code\n",
    "```"
   ]
  },
  {
   "cell_type": "markdown",
   "metadata": {
    "cell_id": "bae0724d446b4404964ebc12dd33d26a"
   },
   "source": [
    "In this notebook we are going to introduce  you to one of the most important fields of mathematics which is relevant to machine learning called Linear Algebra. \n",
    "\n",
    "   Linear Algebra is a vast topic that deals with manipulation and mathematics of a system of linear equations. We are not really going to go into the details of that in this notebook but what we are going to try and cover is, why is this relevant to machine learning and data science in general. What linear algebra lets us do is, it provide us a nice clear way of representing the data, such that we can manipulate the data and draw insights from it. We cannot possibly cover all of linear algebra in our course due to it large collection of topics, what we hope to do in the notebook and beyond is get you familiar with the notation and some basic principles of linear algebra, so that you can explore above and beyond. We are also going to try and use as much python as possible such as the matrix operations in order to familiarize you with the various tools available in python <br>\n",
    "   \n",
    "  In order for us to get into the details of linear algebra first we will have to learn to speak its language. Hence in this in this section we are going to focus on some core concepts in linear algebra. These will be - \n",
    "    \n",
    "    1) Scalars and Vectors \n",
    "    2) Matrices \n",
    "    3) Algebra of Matrices \n",
    "    4) Inverse and transpose of a Matrix \n",
    "    5) Eigenvectors and Eigenvalues \n",
    "    \n",
    "    \n",
    "  In this notebook we are going to talk about-  <br> \n",
    "  \n",
    "      1) Scalars and vectors  definitions  <br>\n",
    "      3) Magnitude of a vector  <br>\n",
    "      4) Unit vector <br>\n",
    "      5) Vector arithmetic <br>\n",
    "\n",
    "  \n",
    "    \n",
    " So lets get started! \n",
    " \n",
    " ## Scalars and Vectors \n",
    " \n",
    "  One of the fundamental quantities we will work with is a scalar. A scalar, simply put is any real number. For example, if you measure your weight, you are representing your weight with a real number. This is called a scalar. The height of a building, is a scalar. Scalar are a single value, they can be positive or negative. For example -45 celcius is a scalar quantity as well. \n",
    "  \n",
    "  A vector is an ordered collection of elements. We usually write a vector $\\textbf{A}$ as - <br>\n",
    "   \n",
    "   $\\textbf{A}$ = [$a_1, a_2$] <br> \n",
    "   \n",
    "   where  $a_1$ and $a_2$ are scalars. We will be using square brackets to represent vectors and matrices which w<br>\n",
    "   \n",
    "   They are also called components or elements of the vector $\\textbf{A}$ <br>\n",
    "   \n",
    "   The order of ( $a_1, a_2$) matters. This is because if have another vector $\\textbf{B}$ = [$a_2, a_1$], then\n",
    "   \n",
    "   $\\textbf{A}$ $\\neq$ $\\textbf{B}$\n",
    "    \n",
    "   For $\\textbf{A}$ to be equal to $\\textbf{B}$ we need the order of $a_1$ and $a_2$ to be the same both vectors. \n",
    "   \n",
    "   The definition that we have presented seems a bit too theoretical. So lets try to get an intuitive feel for what all of the above means. For example, we mentioned earlier that weight was a scalar. With weight, you really just need that single number to describe what your are measuring on the scale. If that is the case why do you need a vector? \n",
    "   \n",
    "   Well try and describe to someone a position of a building on the map. \n",
    "   \n",
    "   \n",
    "Question:  How many numbers do you need to describe the location of building on a paper map \n",
    "\n",
    "Answer: Lay out a paper map. Try to find any street or building on it. You will find you will need two numbers on the map. The latitude and the longitude. So the position on the map can be written down as -<br>\n",
    "\n",
    "Position on map = [latitude, longitude]\n",
    "\n",
    "this is a vector quantity! \n",
    "How? Well, the position has two components. Also, it is ordered, meaning we cannot swap the latitude and longitude values, if we do then we will get a completely different location. \n",
    "\n",
    "<img src=\"../../../images/vector_map_eg.png\" style=\"width:80vw\">\n",
    "<br>\n",
    "\n",
    "There are many quantities that can be considered as vectors- Position on a map, velocity of an object, airflow, force applied to a object. \n",
    "\n",
    "We will talk a little bit about position as a vector because it is the easiest way to highlight some of the ideas the basic ideas behind vectors\n",
    "\n",
    "Usually positions of objects are represented on a something called a cartesian grid. In python we can easily do this. We going to plot the position of point (x,y) on a grid."
   ]
  },
  {
   "cell_type": "code",
   "execution_count": 2,
   "metadata": {
    "ExecuteTime": {
     "end_time": "2019-02-27T17:08:02.777294Z",
     "start_time": "2019-02-27T17:08:02.624663Z"
    },
    "cell_id": "224d47e752a14ad99987beb029d7b89c"
   },
   "outputs": [
    {
     "data": {
      "text/html": [
       "\n",
       "\n",
       "\n",
       "\n",
       "\n",
       "\n",
       "  <div class=\"bk-root\" id=\"c0f07f98-fd16-41ad-9078-baa80c6c0bad\"></div>\n"
      ]
     },
     "metadata": {},
     "output_type": "display_data"
    },
    {
     "data": {
      "application/javascript": [
       "(function(root) {\n",
       "  function embed_document(root) {\n",
       "    \n",
       "  var docs_json = {\"16b898f0-e823-4c15-ab02-49985e53462b\":{\"roots\":{\"references\":[{\"attributes\":{\"callback\":null,\"end\":10},\"id\":\"99afb7e1-b0df-4b2e-9295-6880ceab978d\",\"type\":\"Range1d\"},{\"attributes\":{},\"id\":\"8d014548-252c-453b-a067-40a3bde2ddaa\",\"type\":\"LinearScale\"},{\"attributes\":{\"end\":{\"id\":\"2d6a02ef-7673-4381-8211-382c213f5b96\",\"type\":\"NormalHead\"},\"plot\":{\"id\":\"a5f9740e-fb26-419b-b6a4-f286ef1640bf\",\"subtype\":\"Figure\",\"type\":\"Plot\"},\"source\":{\"id\":\"e9aae7b0-56a1-48a8-8043-ace6db918470\",\"type\":\"ColumnDataSource\"},\"start\":null,\"x_end\":{\"field\":\"x\"},\"x_start\":{\"value\":0},\"y_end\":{\"field\":\"y\"},\"y_start\":{\"value\":0}},\"id\":\"4a451d65-a7f2-4e6b-b434-286c6bbbf4a5\",\"type\":\"Arrow\"},{\"attributes\":{\"axis_label\":\"x axis\",\"formatter\":{\"id\":\"ae3af731-2781-44c1-9c55-5d53f8a1195c\",\"type\":\"BasicTickFormatter\"},\"plot\":{\"id\":\"a5f9740e-fb26-419b-b6a4-f286ef1640bf\",\"subtype\":\"Figure\",\"type\":\"Plot\"},\"ticker\":{\"id\":\"f3b6d4bd-daab-4610-bc09-4265431a0a97\",\"type\":\"BasicTicker\"}},\"id\":\"8c46c288-2077-4187-b1b5-971f677b684b\",\"type\":\"LinearAxis\"},{\"attributes\":{\"fill_color\":{\"field\":\"color\"},\"line_color\":{\"field\":\"color\"},\"size\":{\"units\":\"screen\",\"value\":12},\"x\":{\"field\":\"x\"},\"y\":{\"field\":\"y\"}},\"id\":\"48d95825-7e4f-431a-a2af-e9754a9a6633\",\"type\":\"Circle\"},{\"attributes\":{},\"id\":\"f3b6d4bd-daab-4610-bc09-4265431a0a97\",\"type\":\"BasicTicker\"},{\"attributes\":{\"plot\":{\"id\":\"a5f9740e-fb26-419b-b6a4-f286ef1640bf\",\"subtype\":\"Figure\",\"type\":\"Plot\"},\"ticker\":{\"id\":\"f3b6d4bd-daab-4610-bc09-4265431a0a97\",\"type\":\"BasicTicker\"}},\"id\":\"2d68b11a-0357-4a56-9411-3780ea15409d\",\"type\":\"Grid\"},{\"attributes\":{\"axis_label\":\"y axis\",\"formatter\":{\"id\":\"1d63517f-302a-4dd0-add7-7d4e2e001f2a\",\"type\":\"BasicTickFormatter\"},\"plot\":{\"id\":\"a5f9740e-fb26-419b-b6a4-f286ef1640bf\",\"subtype\":\"Figure\",\"type\":\"Plot\"},\"ticker\":{\"id\":\"6ae16172-d268-48ad-bc1c-d9c5941d4305\",\"type\":\"BasicTicker\"}},\"id\":\"4e564b9b-ca30-4d36-ba84-66f7931b8ee7\",\"type\":\"LinearAxis\"},{\"attributes\":{},\"id\":\"6ae16172-d268-48ad-bc1c-d9c5941d4305\",\"type\":\"BasicTicker\"},{\"attributes\":{\"dimension\":1,\"plot\":{\"id\":\"a5f9740e-fb26-419b-b6a4-f286ef1640bf\",\"subtype\":\"Figure\",\"type\":\"Plot\"},\"ticker\":{\"id\":\"6ae16172-d268-48ad-bc1c-d9c5941d4305\",\"type\":\"BasicTicker\"}},\"id\":\"9975ecff-6bce-4d6e-8ae4-a739f510d669\",\"type\":\"Grid\"},{\"attributes\":{},\"id\":\"a8518524-7a31-4f02-a152-54445605d8eb\",\"type\":\"UnionRenderers\"},{\"attributes\":{},\"id\":\"1d63517f-302a-4dd0-add7-7d4e2e001f2a\",\"type\":\"BasicTickFormatter\"},{\"attributes\":{\"bottom_units\":\"screen\",\"fill_alpha\":{\"value\":0.5},\"fill_color\":{\"value\":\"lightgrey\"},\"left_units\":\"screen\",\"level\":\"overlay\",\"line_alpha\":{\"value\":1.0},\"line_color\":{\"value\":\"black\"},\"line_dash\":[4,4],\"line_width\":{\"value\":2},\"plot\":null,\"render_mode\":\"css\",\"right_units\":\"screen\",\"top_units\":\"screen\"},\"id\":\"c1c7b756-981f-44ae-af74-b34c0c881cdb\",\"type\":\"BoxAnnotation\"},{\"attributes\":{\"overlay\":{\"id\":\"c1c7b756-981f-44ae-af74-b34c0c881cdb\",\"type\":\"BoxAnnotation\"}},\"id\":\"995e62c4-e095-4549-b6cc-c29b40c88603\",\"type\":\"BoxZoomTool\"},{\"attributes\":{},\"id\":\"1f62e485-caa8-4255-bd14-6f13a7a83270\",\"type\":\"PanTool\"},{\"attributes\":{},\"id\":\"dba963bb-396f-4e33-90e3-3edd05e0ccd5\",\"type\":\"SaveTool\"},{\"attributes\":{\"callback\":null,\"renderers\":\"auto\",\"tooltips\":[[\"xvalue\",\"$x\"],[\"yvalue\",\"$y\"]]},\"id\":\"ad2345f6-0e90-4a25-b12f-49f2541d5a99\",\"type\":\"HoverTool\"},{\"attributes\":{},\"id\":\"89107b69-7df3-4d9f-957d-3c0368b91422\",\"type\":\"ResetTool\"},{\"attributes\":{\"callback\":null},\"id\":\"ea57b372-335e-4558-b223-dc69104332b1\",\"type\":\"TapTool\"},{\"attributes\":{},\"id\":\"5515b5eb-83cf-458e-8860-550c7dc0a6ae\",\"type\":\"WheelZoomTool\"},{\"attributes\":{},\"id\":\"ae3af731-2781-44c1-9c55-5d53f8a1195c\",\"type\":\"BasicTickFormatter\"},{\"attributes\":{\"source\":{\"id\":\"e9aae7b0-56a1-48a8-8043-ace6db918470\",\"type\":\"ColumnDataSource\"}},\"id\":\"c665af6f-c5a9-49ed-8eca-4e6820ccdb26\",\"type\":\"CDSView\"},{\"attributes\":{\"empty_value\":\"black\",\"renderers\":[{\"id\":\"4064f0ba-26be-4d3b-947c-a82a391a9c1e\",\"type\":\"GlyphRenderer\"}]},\"id\":\"edf97c38-cd52-4878-89e6-4077276c73cf\",\"type\":\"PointDrawTool\"},{\"attributes\":{\"callback\":null,\"data\":{\"color\":[\"red\"],\"x\":[4],\"y\":[5]},\"selected\":{\"id\":\"28d51378-8184-4c16-ab9d-830da93bb90a\",\"type\":\"Selection\"},\"selection_policy\":{\"id\":\"a8518524-7a31-4f02-a152-54445605d8eb\",\"type\":\"UnionRenderers\"}},\"id\":\"e9aae7b0-56a1-48a8-8043-ace6db918470\",\"type\":\"ColumnDataSource\"},{\"attributes\":{},\"id\":\"28d51378-8184-4c16-ab9d-830da93bb90a\",\"type\":\"Selection\"},{\"attributes\":{\"plot\":null},\"id\":\"2d6a02ef-7673-4381-8211-382c213f5b96\",\"type\":\"NormalHead\"},{\"attributes\":{\"below\":[{\"id\":\"8c46c288-2077-4187-b1b5-971f677b684b\",\"type\":\"LinearAxis\"}],\"left\":[{\"id\":\"4e564b9b-ca30-4d36-ba84-66f7931b8ee7\",\"type\":\"LinearAxis\"}],\"plot_height\":400,\"plot_width\":400,\"renderers\":[{\"id\":\"8c46c288-2077-4187-b1b5-971f677b684b\",\"type\":\"LinearAxis\"},{\"id\":\"2d68b11a-0357-4a56-9411-3780ea15409d\",\"type\":\"Grid\"},{\"id\":\"4e564b9b-ca30-4d36-ba84-66f7931b8ee7\",\"type\":\"LinearAxis\"},{\"id\":\"9975ecff-6bce-4d6e-8ae4-a739f510d669\",\"type\":\"Grid\"},{\"id\":\"c1c7b756-981f-44ae-af74-b34c0c881cdb\",\"type\":\"BoxAnnotation\"},{\"id\":\"4a451d65-a7f2-4e6b-b434-286c6bbbf4a5\",\"type\":\"Arrow\"},{\"id\":\"4064f0ba-26be-4d3b-947c-a82a391a9c1e\",\"type\":\"GlyphRenderer\"}],\"title\":{\"id\":\"5140b18e-4ed1-4887-befd-e4226bd15089\",\"type\":\"Title\"},\"toolbar\":{\"id\":\"c4ee5855-bf5b-4249-ad8d-24cefbc823d1\",\"type\":\"Toolbar\"},\"x_range\":{\"id\":\"c52cc400-6acb-401e-892b-c98a35213ac7\",\"type\":\"Range1d\"},\"x_scale\":{\"id\":\"1ffd6327-ec40-4af3-9b4b-b68478804945\",\"type\":\"LinearScale\"},\"y_range\":{\"id\":\"99afb7e1-b0df-4b2e-9295-6880ceab978d\",\"type\":\"Range1d\"},\"y_scale\":{\"id\":\"8d014548-252c-453b-a067-40a3bde2ddaa\",\"type\":\"LinearScale\"}},\"id\":\"a5f9740e-fb26-419b-b6a4-f286ef1640bf\",\"subtype\":\"Figure\",\"type\":\"Plot\"},{\"attributes\":{\"fill_alpha\":{\"value\":0.1},\"fill_color\":{\"value\":\"#1f77b4\"},\"line_alpha\":{\"value\":0.1},\"line_color\":{\"value\":\"#1f77b4\"},\"size\":{\"units\":\"screen\",\"value\":12},\"x\":{\"field\":\"x\"},\"y\":{\"field\":\"y\"}},\"id\":\"5249ac37-3e88-40d6-802e-83e071dadead\",\"type\":\"Circle\"},{\"attributes\":{\"plot\":null,\"text\":\"Red point is point P \"},\"id\":\"5140b18e-4ed1-4887-befd-e4226bd15089\",\"type\":\"Title\"},{\"attributes\":{\"callback\":null,\"end\":10},\"id\":\"c52cc400-6acb-401e-892b-c98a35213ac7\",\"type\":\"Range1d\"},{\"attributes\":{\"data_source\":{\"id\":\"e9aae7b0-56a1-48a8-8043-ace6db918470\",\"type\":\"ColumnDataSource\"},\"glyph\":{\"id\":\"48d95825-7e4f-431a-a2af-e9754a9a6633\",\"type\":\"Circle\"},\"hover_glyph\":null,\"muted_glyph\":null,\"nonselection_glyph\":{\"id\":\"5249ac37-3e88-40d6-802e-83e071dadead\",\"type\":\"Circle\"},\"selection_glyph\":null,\"view\":{\"id\":\"c665af6f-c5a9-49ed-8eca-4e6820ccdb26\",\"type\":\"CDSView\"}},\"id\":\"4064f0ba-26be-4d3b-947c-a82a391a9c1e\",\"type\":\"GlyphRenderer\"},{\"attributes\":{\"active_drag\":\"auto\",\"active_inspect\":\"auto\",\"active_multi\":null,\"active_scroll\":\"auto\",\"active_tap\":{\"id\":\"edf97c38-cd52-4878-89e6-4077276c73cf\",\"type\":\"PointDrawTool\"},\"tools\":[{\"id\":\"995e62c4-e095-4549-b6cc-c29b40c88603\",\"type\":\"BoxZoomTool\"},{\"id\":\"1f62e485-caa8-4255-bd14-6f13a7a83270\",\"type\":\"PanTool\"},{\"id\":\"dba963bb-396f-4e33-90e3-3edd05e0ccd5\",\"type\":\"SaveTool\"},{\"id\":\"ad2345f6-0e90-4a25-b12f-49f2541d5a99\",\"type\":\"HoverTool\"},{\"id\":\"89107b69-7df3-4d9f-957d-3c0368b91422\",\"type\":\"ResetTool\"},{\"id\":\"ea57b372-335e-4558-b223-dc69104332b1\",\"type\":\"TapTool\"},{\"id\":\"5515b5eb-83cf-458e-8860-550c7dc0a6ae\",\"type\":\"WheelZoomTool\"},{\"id\":\"edf97c38-cd52-4878-89e6-4077276c73cf\",\"type\":\"PointDrawTool\"}]},\"id\":\"c4ee5855-bf5b-4249-ad8d-24cefbc823d1\",\"type\":\"Toolbar\"},{\"attributes\":{},\"id\":\"1ffd6327-ec40-4af3-9b4b-b68478804945\",\"type\":\"LinearScale\"}],\"root_ids\":[\"a5f9740e-fb26-419b-b6a4-f286ef1640bf\"]},\"title\":\"Bokeh Application\",\"version\":\"0.13.0\"}};\n",
       "  var render_items = [{\"docid\":\"16b898f0-e823-4c15-ab02-49985e53462b\",\"roots\":{\"a5f9740e-fb26-419b-b6a4-f286ef1640bf\":\"c0f07f98-fd16-41ad-9078-baa80c6c0bad\"}}];\n",
       "  root.Bokeh.embed.embed_items_notebook(docs_json, render_items);\n",
       "\n",
       "  }\n",
       "  if (root.Bokeh !== undefined) {\n",
       "    embed_document(root);\n",
       "  } else {\n",
       "    var attempts = 0;\n",
       "    var timer = setInterval(function(root) {\n",
       "      if (root.Bokeh !== undefined) {\n",
       "        embed_document(root);\n",
       "        clearInterval(timer);\n",
       "      }\n",
       "      attempts++;\n",
       "      if (attempts > 100) {\n",
       "        console.log(\"Bokeh: ERROR: Unable to run BokehJS code because BokehJS library is missing\")\n",
       "        clearInterval(timer);\n",
       "      }\n",
       "    }, 10, root)\n",
       "  }\n",
       "})(window);"
      ],
      "application/vnd.bokehjs_exec.v0+json": ""
     },
     "metadata": {
      "application/vnd.bokehjs_exec.v0+json": {
       "id": "a5f9740e-fb26-419b-b6a4-f286ef1640bf"
      }
     },
     "output_type": "display_data"
    }
   ],
   "source": [
    "# vector \n",
    "tools_to_show= 'box_zoom,pan,save,hover,reset,tap,wheel_zoom'        \n",
    "\n",
    "\n",
    "fig = pl.figure(x_range =[0,10],\n",
    "                    y_range =[0,10], \n",
    "                    plot_height =400, \n",
    "                    plot_width= 400, \n",
    "                   tools= tools_to_show,\n",
    "                   x_axis_label = \"x axis\",\n",
    "                    y_axis_label = \"y axis\", \n",
    "                   title  = \"Red point is point P \"\n",
    "                   )\n",
    "    \n",
    "    \n",
    "source = ColumnDataSource({\n",
    "    'x': [4], 'y': [5], 'color': ['red']\n",
    "})\n",
    "    \n",
    "fig.add_layout(Arrow(end=NormalHead(fill_color=\"black\"),\n",
    "                       x_start=0,\n",
    "                       y_start=0,\n",
    "                       x_end=\"x\",\n",
    "                       y_end=\"y\", \n",
    "                    source = source))\n",
    "renderer = fig.scatter(\"x\",\"y\",size = 12, color= \"color\", source  =source)\n",
    "# fig.text(x=source.data[\"x\"][0] , y=source.data[\"y\"][0]+0.2, text=[\"P\"])\n",
    "draw_tool = PointDrawTool(renderers=[renderer], empty_value='black')\n",
    "fig.add_tools(draw_tool)\n",
    "fig.toolbar.active_tap = draw_tool\n",
    "\n",
    "hover = fig.select(dict(type=HoverTool))\n",
    "hover.tooltips = [(\"xvalue\", \"$x\"), (\"yvalue\", \"$y\")]\n",
    "show(fig)\n",
    " "
   ]
  },
  {
   "cell_type": "markdown",
   "metadata": {
    "cell_id": "5d406088cabe44cd8d097f3f72f803f4",
    "hide_input": true
   },
   "source": [
    "### Solution code\n",
    "\n",
    "```python\n",
    "# Just run above code\n",
    "```"
   ]
  },
  {
   "cell_type": "markdown",
   "metadata": {
    "cell_id": "aababd932c044c16a66d376a3c2b5aa3"
   },
   "source": [
    "In the plot above we have a position of a point on the grid. For example, lets say that the point P is you on a football field and 1 unit on the grid is 1 meter. So to get to where you are, starting from the football field we are going to have to walk 4 meter right and 5 meter up. We can say that your position which is a vector has direction which is given by the components 4 units right and 5 units up. \n",
    "\n",
    "### Magnitude of a vector \n",
    "\n",
    "Vectors have another proper called magnitude. The magnitude (also known as the absolute value) is the distance between two vectors. In simple terms magnitude the length of the black line in the plot. \n",
    "\n",
    "Magnitude of the vector is defined as - \n",
    "\n",
    "|$\\textbf{A}$| = $\\sqrt{({a_1}^2+{a_2}^2 )}$ \n",
    "\n",
    "In python we can represent vectors as either lists or numpy arrays. To calculate magnitude easily, we will represent it as a numpy array. \n"
   ]
  },
  {
   "cell_type": "code",
   "execution_count": 3,
   "metadata": {
    "ExecuteTime": {
     "end_time": "2019-02-27T14:51:49.648285Z",
     "start_time": "2019-02-27T14:51:49.635291Z"
    },
    "cell_id": "8cc302edb1554b81bd817ea340835de1"
   },
   "outputs": [
    {
     "name": "stdout",
     "output_type": "stream",
     "text": [
      "magnitude of point P is 9.0\n"
     ]
    }
   ],
   "source": [
    "# vector in numpy\n",
    "\n",
    "A =np.array([5,4])\n",
    "# magnitude of a vector using numpy linear algebra package\n",
    "magnitude = np.linalg.norm(A,1)\n",
    "print(\"magnitude of point P is {}\".format(magnitude))\n"
   ]
  },
  {
   "cell_type": "markdown",
   "metadata": {
    "cell_id": "793ade7dccec48dd83ebbdf9913d17fd",
    "hide_input": true
   },
   "source": [
    "### Solution code\n",
    "\n",
    "```python\n",
    "# Just run above code\n",
    "```"
   ]
  },
  {
   "cell_type": "markdown",
   "metadata": {
    "cell_id": "f551247176f24a1bb252a29d90a67158"
   },
   "source": [
    "The magnitude of point any P represents the distance between the point (0,0) which is called the origin and the point P.\n",
    "\n",
    "### Unit vector \n",
    "\n",
    "When we talk about vectors there is also also a sense of direction that we can capture. Take point P for example, we calculated its magnitude but would  two vectors $\\mathbf{P_1}$ and $\\mathbf{P_2}$ be the same if they have the same magnitude, not really because on the x-y grid you have them point in different directions. Take a look at the plot below "
   ]
  },
  {
   "cell_type": "code",
   "execution_count": 4,
   "metadata": {
    "ExecuteTime": {
     "end_time": "2019-02-27T17:10:54.910746Z",
     "start_time": "2019-02-27T17:10:54.776135Z"
    },
    "cell_id": "c35b1fb42b8143d38ef6a6b66693cece"
   },
   "outputs": [
    {
     "data": {
      "text/html": [
       "\n",
       "\n",
       "\n",
       "\n",
       "\n",
       "\n",
       "  <div class=\"bk-root\" id=\"f35865ed-fbb3-4712-ba57-abdc9cf7cc47\"></div>\n"
      ]
     },
     "metadata": {},
     "output_type": "display_data"
    },
    {
     "data": {
      "application/javascript": [
       "(function(root) {\n",
       "  function embed_document(root) {\n",
       "    \n",
       "  var docs_json = {\"b8460c42-7803-456b-a221-ab940f4acee6\":{\"roots\":{\"references\":[{\"attributes\":{},\"id\":\"0dceae36-a891-41ef-a572-21ef435d58ab\",\"type\":\"BasicTicker\"},{\"attributes\":{\"active_drag\":\"auto\",\"active_inspect\":\"auto\",\"active_multi\":null,\"active_scroll\":\"auto\",\"active_tap\":\"auto\",\"tools\":[{\"id\":\"c8b5f9a8-f312-4397-8cb0-5a1ccc772738\",\"type\":\"BoxZoomTool\"},{\"id\":\"5d3cb1c4-3350-4fe7-bd4e-46319dc4ab79\",\"type\":\"PanTool\"},{\"id\":\"17a99c47-fe37-45ed-8804-2c8279c765d4\",\"type\":\"SaveTool\"},{\"id\":\"cca47cd8-fe97-4b47-80e2-f04ab279ecb0\",\"type\":\"HoverTool\"},{\"id\":\"f02beec8-1e73-4353-bda4-269b58c3c1e5\",\"type\":\"ResetTool\"},{\"id\":\"32a57f3b-f104-4dce-bb1f-9df125397bf7\",\"type\":\"TapTool\"},{\"id\":\"9f15a95d-1bf2-4b0f-91d8-2af86f3ed450\",\"type\":\"WheelZoomTool\"}]},\"id\":\"82a84a2b-df8f-4bc5-afd4-e0c57594f8e7\",\"type\":\"Toolbar\"},{\"attributes\":{\"plot\":{\"id\":\"ee626aaf-bd3f-4ff6-900a-d96171de081d\",\"subtype\":\"Figure\",\"type\":\"Plot\"},\"ticker\":{\"id\":\"0dceae36-a891-41ef-a572-21ef435d58ab\",\"type\":\"BasicTicker\"}},\"id\":\"563b18a3-d21e-4606-9280-71ad81ecda59\",\"type\":\"Grid\"},{\"attributes\":{\"axis_label\":\"x axis\",\"formatter\":{\"id\":\"fe9ab7fa-00aa-4ed6-8dc5-a81363d11185\",\"type\":\"BasicTickFormatter\"},\"plot\":{\"id\":\"ee626aaf-bd3f-4ff6-900a-d96171de081d\",\"subtype\":\"Figure\",\"type\":\"Plot\"},\"ticker\":{\"id\":\"0dceae36-a891-41ef-a572-21ef435d58ab\",\"type\":\"BasicTicker\"}},\"id\":\"9e071041-760e-4f28-b760-d5febe08937e\",\"type\":\"LinearAxis\"},{\"attributes\":{\"data_source\":{\"id\":\"f0fcf3f2-4af7-4085-92c0-b81793b18d20\",\"type\":\"ColumnDataSource\"},\"glyph\":{\"id\":\"21b88776-3690-4b8f-9856-cc051d59dfd1\",\"type\":\"Circle\"},\"hover_glyph\":null,\"muted_glyph\":null,\"nonselection_glyph\":{\"id\":\"1d8e3bb9-02aa-44bc-9574-3706cefa1815\",\"type\":\"Circle\"},\"selection_glyph\":null,\"view\":{\"id\":\"43f03c50-5a13-4fce-8d8f-ab633b569025\",\"type\":\"CDSView\"}},\"id\":\"7e31a24a-e40e-49c4-aec4-17a71bccb8bf\",\"type\":\"GlyphRenderer\"},{\"attributes\":{},\"id\":\"a17c4031-2816-4140-a00d-59eea882f30c\",\"type\":\"LinearScale\"},{\"attributes\":{},\"id\":\"2c04ccf1-361a-4316-a112-a065088e7305\",\"type\":\"LinearScale\"},{\"attributes\":{},\"id\":\"47d44f63-4254-47e9-bd23-8b911a187ff0\",\"type\":\"BasicTickFormatter\"},{\"attributes\":{\"callback\":null,\"end\":10},\"id\":\"718295e7-ffe7-47aa-b090-df003ababb4b\",\"type\":\"Range1d\"},{\"attributes\":{\"axis_label\":\"y axis\",\"formatter\":{\"id\":\"47d44f63-4254-47e9-bd23-8b911a187ff0\",\"type\":\"BasicTickFormatter\"},\"plot\":{\"id\":\"ee626aaf-bd3f-4ff6-900a-d96171de081d\",\"subtype\":\"Figure\",\"type\":\"Plot\"},\"ticker\":{\"id\":\"5f2024b9-20e9-4ec6-a73f-758993e40be1\",\"type\":\"BasicTicker\"}},\"id\":\"1719fab1-f687-4ff4-85c0-1d8557f39578\",\"type\":\"LinearAxis\"},{\"attributes\":{\"overlay\":{\"id\":\"c782cb33-8403-46d7-8235-a042092b5b5c\",\"type\":\"BoxAnnotation\"}},\"id\":\"c8b5f9a8-f312-4397-8cb0-5a1ccc772738\",\"type\":\"BoxZoomTool\"},{\"attributes\":{\"end\":{\"id\":\"19c837d3-97f6-4a20-ba85-305bfb926f67\",\"type\":\"NormalHead\"},\"plot\":{\"id\":\"ee626aaf-bd3f-4ff6-900a-d96171de081d\",\"subtype\":\"Figure\",\"type\":\"Plot\"},\"source\":{\"id\":\"f0fcf3f2-4af7-4085-92c0-b81793b18d20\",\"type\":\"ColumnDataSource\"},\"start\":null,\"x_end\":{\"field\":\"x\"},\"x_start\":{\"value\":0},\"y_end\":{\"field\":\"y\"},\"y_start\":{\"value\":0}},\"id\":\"a27e2f10-c6d5-4968-8072-2b7db8f8b6ab\",\"type\":\"Arrow\"},{\"attributes\":{},\"id\":\"5f2024b9-20e9-4ec6-a73f-758993e40be1\",\"type\":\"BasicTicker\"},{\"attributes\":{\"plot\":null,\"text\":\"Two vectors with the same magnitude \"},\"id\":\"4a188345-695d-4447-83cf-e1dca6169d60\",\"type\":\"Title\"},{\"attributes\":{\"dimension\":1,\"plot\":{\"id\":\"ee626aaf-bd3f-4ff6-900a-d96171de081d\",\"subtype\":\"Figure\",\"type\":\"Plot\"},\"ticker\":{\"id\":\"5f2024b9-20e9-4ec6-a73f-758993e40be1\",\"type\":\"BasicTicker\"}},\"id\":\"41ce6232-8e6b-4cd1-99e2-8b1f3b4fd47c\",\"type\":\"Grid\"},{\"attributes\":{\"source\":{\"id\":\"f0fcf3f2-4af7-4085-92c0-b81793b18d20\",\"type\":\"ColumnDataSource\"}},\"id\":\"43f03c50-5a13-4fce-8d8f-ab633b569025\",\"type\":\"CDSView\"},{\"attributes\":{\"fill_alpha\":{\"value\":0.1},\"fill_color\":{\"value\":\"#1f77b4\"},\"line_alpha\":{\"value\":0.1},\"line_color\":{\"value\":\"#1f77b4\"},\"size\":{\"units\":\"screen\",\"value\":12},\"x\":{\"field\":\"x\"},\"y\":{\"field\":\"y\"}},\"id\":\"1d8e3bb9-02aa-44bc-9574-3706cefa1815\",\"type\":\"Circle\"},{\"attributes\":{\"fill_color\":{\"field\":\"color\"},\"line_color\":{\"field\":\"color\"},\"size\":{\"units\":\"screen\",\"value\":12},\"x\":{\"field\":\"x\"},\"y\":{\"field\":\"y\"}},\"id\":\"21b88776-3690-4b8f-9856-cc051d59dfd1\",\"type\":\"Circle\"},{\"attributes\":{\"below\":[{\"id\":\"9e071041-760e-4f28-b760-d5febe08937e\",\"type\":\"LinearAxis\"}],\"left\":[{\"id\":\"1719fab1-f687-4ff4-85c0-1d8557f39578\",\"type\":\"LinearAxis\"}],\"plot_height\":400,\"plot_width\":400,\"renderers\":[{\"id\":\"9e071041-760e-4f28-b760-d5febe08937e\",\"type\":\"LinearAxis\"},{\"id\":\"563b18a3-d21e-4606-9280-71ad81ecda59\",\"type\":\"Grid\"},{\"id\":\"1719fab1-f687-4ff4-85c0-1d8557f39578\",\"type\":\"LinearAxis\"},{\"id\":\"41ce6232-8e6b-4cd1-99e2-8b1f3b4fd47c\",\"type\":\"Grid\"},{\"id\":\"c782cb33-8403-46d7-8235-a042092b5b5c\",\"type\":\"BoxAnnotation\"},{\"id\":\"7e31a24a-e40e-49c4-aec4-17a71bccb8bf\",\"type\":\"GlyphRenderer\"},{\"id\":\"a27e2f10-c6d5-4968-8072-2b7db8f8b6ab\",\"type\":\"Arrow\"}],\"title\":{\"id\":\"4a188345-695d-4447-83cf-e1dca6169d60\",\"type\":\"Title\"},\"toolbar\":{\"id\":\"82a84a2b-df8f-4bc5-afd4-e0c57594f8e7\",\"type\":\"Toolbar\"},\"x_range\":{\"id\":\"b486f7bf-03d9-4a91-bc4b-86b63fab852b\",\"type\":\"Range1d\"},\"x_scale\":{\"id\":\"2c04ccf1-361a-4316-a112-a065088e7305\",\"type\":\"LinearScale\"},\"y_range\":{\"id\":\"718295e7-ffe7-47aa-b090-df003ababb4b\",\"type\":\"Range1d\"},\"y_scale\":{\"id\":\"a17c4031-2816-4140-a00d-59eea882f30c\",\"type\":\"LinearScale\"}},\"id\":\"ee626aaf-bd3f-4ff6-900a-d96171de081d\",\"subtype\":\"Figure\",\"type\":\"Plot\"},{\"attributes\":{\"plot\":null},\"id\":\"19c837d3-97f6-4a20-ba85-305bfb926f67\",\"type\":\"NormalHead\"},{\"attributes\":{\"bottom_units\":\"screen\",\"fill_alpha\":{\"value\":0.5},\"fill_color\":{\"value\":\"lightgrey\"},\"left_units\":\"screen\",\"level\":\"overlay\",\"line_alpha\":{\"value\":1.0},\"line_color\":{\"value\":\"black\"},\"line_dash\":[4,4],\"line_width\":{\"value\":2},\"plot\":null,\"render_mode\":\"css\",\"right_units\":\"screen\",\"top_units\":\"screen\"},\"id\":\"c782cb33-8403-46d7-8235-a042092b5b5c\",\"type\":\"BoxAnnotation\"},{\"attributes\":{},\"id\":\"5d3cb1c4-3350-4fe7-bd4e-46319dc4ab79\",\"type\":\"PanTool\"},{\"attributes\":{},\"id\":\"17a99c47-fe37-45ed-8804-2c8279c765d4\",\"type\":\"SaveTool\"},{\"attributes\":{},\"id\":\"fe9ab7fa-00aa-4ed6-8dc5-a81363d11185\",\"type\":\"BasicTickFormatter\"},{\"attributes\":{},\"id\":\"f02beec8-1e73-4353-bda4-269b58c3c1e5\",\"type\":\"ResetTool\"},{\"attributes\":{\"callback\":null,\"renderers\":\"auto\"},\"id\":\"cca47cd8-fe97-4b47-80e2-f04ab279ecb0\",\"type\":\"HoverTool\"},{\"attributes\":{\"callback\":null},\"id\":\"32a57f3b-f104-4dce-bb1f-9df125397bf7\",\"type\":\"TapTool\"},{\"attributes\":{},\"id\":\"009542a9-fe60-4ecb-a936-4720af80e0d9\",\"type\":\"Selection\"},{\"attributes\":{\"callback\":null,\"end\":10},\"id\":\"b486f7bf-03d9-4a91-bc4b-86b63fab852b\",\"type\":\"Range1d\"},{\"attributes\":{},\"id\":\"9f15a95d-1bf2-4b0f-91d8-2af86f3ed450\",\"type\":\"WheelZoomTool\"},{\"attributes\":{},\"id\":\"aab9e03b-ac32-444b-9451-41b7a1b342b3\",\"type\":\"UnionRenderers\"},{\"attributes\":{\"callback\":null,\"data\":{\"color\":[\"red\",\"green\"],\"x\":[4,5],\"y\":[5,4]},\"selected\":{\"id\":\"009542a9-fe60-4ecb-a936-4720af80e0d9\",\"type\":\"Selection\"},\"selection_policy\":{\"id\":\"aab9e03b-ac32-444b-9451-41b7a1b342b3\",\"type\":\"UnionRenderers\"}},\"id\":\"f0fcf3f2-4af7-4085-92c0-b81793b18d20\",\"type\":\"ColumnDataSource\"}],\"root_ids\":[\"ee626aaf-bd3f-4ff6-900a-d96171de081d\"]},\"title\":\"Bokeh Application\",\"version\":\"0.13.0\"}};\n",
       "  var render_items = [{\"docid\":\"b8460c42-7803-456b-a221-ab940f4acee6\",\"roots\":{\"ee626aaf-bd3f-4ff6-900a-d96171de081d\":\"f35865ed-fbb3-4712-ba57-abdc9cf7cc47\"}}];\n",
       "  root.Bokeh.embed.embed_items_notebook(docs_json, render_items);\n",
       "\n",
       "  }\n",
       "  if (root.Bokeh !== undefined) {\n",
       "    embed_document(root);\n",
       "  } else {\n",
       "    var attempts = 0;\n",
       "    var timer = setInterval(function(root) {\n",
       "      if (root.Bokeh !== undefined) {\n",
       "        embed_document(root);\n",
       "        clearInterval(timer);\n",
       "      }\n",
       "      attempts++;\n",
       "      if (attempts > 100) {\n",
       "        console.log(\"Bokeh: ERROR: Unable to run BokehJS code because BokehJS library is missing\")\n",
       "        clearInterval(timer);\n",
       "      }\n",
       "    }, 10, root)\n",
       "  }\n",
       "})(window);"
      ],
      "application/vnd.bokehjs_exec.v0+json": ""
     },
     "metadata": {
      "application/vnd.bokehjs_exec.v0+json": {
       "id": "ee626aaf-bd3f-4ff6-900a-d96171de081d"
      }
     },
     "output_type": "display_data"
    }
   ],
   "source": [
    "# vector \n",
    "tools_to_show= 'box_zoom,pan,save,hover,reset,tap,wheel_zoom'        \n",
    "\n",
    "\n",
    "fig = pl.figure(x_range =[0,10],\n",
    "                    y_range =[0,10], \n",
    "                    plot_height =400, \n",
    "                    plot_width= 400, \n",
    "                   tools= tools_to_show,\n",
    "                   x_axis_label = \"x axis\",\n",
    "                    y_axis_label = \"y axis\", \n",
    "                   title  = \"Two vectors with the same magnitude \"\n",
    "                   )\n",
    "    \n",
    "    \n",
    "source = ColumnDataSource({\n",
    "    'x': [4, 5], 'y': [5, 4], 'color': ['red', 'green']\n",
    "})\n",
    "fig.scatter(\"x\",\"y\",size = 12, color= \"color\", source  =source)\n",
    "   \n",
    "fig.add_layout(Arrow(end=NormalHead(fill_color=\"black\"),\n",
    "                       x_start=0,\n",
    "                       y_start=0,\n",
    "                       x_end=\"x\",\n",
    "                       y_end=\"y\", \n",
    "                    source = source))\n",
    "\n",
    "show(fig)"
   ]
  },
  {
   "cell_type": "markdown",
   "metadata": {
    "cell_id": "d102337065a74d7686310ff47ab7c564",
    "hide_input": true
   },
   "source": [
    "### Solution code\n",
    "\n",
    "```python\n",
    "# Just run above code\n",
    "```"
   ]
  },
  {
   "cell_type": "markdown",
   "metadata": {
    "cell_id": "773ad1a633234bde846a9f9682634463"
   },
   "source": [
    "This is why need to quantify a sense of direction for a vector. This is provided by the unit vector. The unit vector is a vector whose magnitude is always 1 but x and y components keeps changing on the basis of direction. So for example - \n",
    "\n",
    "$$\n",
    "\\hat{x} = [1,0 ]  \\\\\n",
    "\\hat{y} = [0,1 ]\n",
    "$$\n",
    "\n",
    "the vector $\\hat{x}$ represents the unit vector in the x direction on a x-y grid. Similarly, the vector $\\hat{y}$ represents a unit vector in the y direction. Below is the plot of a unit vector and its components. \n",
    "\n",
    "\n"
   ]
  },
  {
   "cell_type": "code",
   "execution_count": 5,
   "metadata": {
    "ExecuteTime": {
     "end_time": "2019-02-27T17:25:55.046751Z",
     "start_time": "2019-02-27T17:25:54.464354Z"
    },
    "cell_id": "c68039847308466abd1a4cdfdd8b204d"
   },
   "outputs": [
    {
     "data": {
      "application/vnd.jupyter.widget-view+json": {
       "model_id": "0217a5d904ef49efb6d3a5d38fb82e9b",
       "version_major": 2,
       "version_minor": 0
      },
      "text/plain": [
       "interactive(children=(FloatSlider(value=0.0, description='vec_1_ort', max=1.57, step=0.01), Output()), _dom_cl…"
      ]
     },
     "metadata": {},
     "output_type": "display_data"
    },
    {
     "data": {
      "text/plain": [
       "<function __main__.vec_plot(vec_1_ort)>"
      ]
     },
     "execution_count": 5,
     "metadata": {},
     "output_type": "execute_result"
    }
   ],
   "source": [
    "# vector \n",
    "tools_to_show= 'box_zoom,pan,save,hover,reset,tap,wheel_zoom'        \n",
    "\n",
    "\n",
    "# go by vector orientation \n",
    "\n",
    "def vec_plot(vec_1_ort):\n",
    "    vec_1 = [0,1]\n",
    " \n",
    "    vec_1_x = vec_1[0]*np.cos(vec_1_ort)  + vec_1[1]*np.sin(vec_1_ort) \n",
    "    vec_1_y = -vec_1[0]*np.sin(vec_1_ort) +vec_1[1]*np.cos(vec_1_ort)\n",
    "    \n",
    "    magnitude = np.linalg.norm([vec_1_x, vec_1_y])\n",
    "    \n",
    "    fig = pl.figure(x_range =[0,3],\n",
    "                    y_range =[0,3], \n",
    "                    plot_height =400, \n",
    "                    plot_width= 400, \n",
    "                   tools= tools_to_show,\n",
    "                   x_axis_label = \"x axis\",\n",
    "                    y_axis_label = \"y axis\"\n",
    "                   )\n",
    "    \n",
    "    \n",
    "    \n",
    "    fig.add_layout(Arrow(end=NormalHead(fill_color=\"black\"),\n",
    "                       x_start=0,\n",
    "                       y_start=0,\n",
    "                       x_end=vec_1_x,\n",
    "                       y_end=vec_1_y))\n",
    "    \n",
    "\n",
    "\n",
    "    \n",
    "    fig.circle(vec_1_x,vec_1_y,size = 12, color= \"red\")\n",
    "    fig.text(x= 1, y =2.5, text =[\"x_component \\n\" + \" \"+str(np.round(vec_1_x, 2))])\n",
    "    fig.text(x= 2.0, y =2.5, text =[\"y_component \\n\" + \" \" +str(np.round(vec_1_y, 2))])\n",
    "    fig.text(x = 1.5, y= 1.75, text = [ \"Magnitude \\n\" + \" \" +str(np.round(magnitude, 2))] )\n",
    "    hover = fig.select(dict(type=HoverTool))    \n",
    "    hover.tooltips = [(\"xvalue\", \"$x\"), (\"yvalue\", \"$y\")]\n",
    "    show(fig)\n",
    "    return \n",
    "\n",
    "interact(vec_plot, \n",
    "                   vec_1_ort = widgets.FloatSlider(value = 0, min= 0, max =1.57, step =0.01 )\n",
    "        \n",
    "                 \n",
    "        \n",
    "        )"
   ]
  },
  {
   "cell_type": "markdown",
   "metadata": {
    "cell_id": "1c0384651d684c5995aa472becee485c",
    "hide_input": true
   },
   "source": [
    "### Solution code\n",
    "\n",
    "```python\n",
    "# Just run above code\n",
    "```"
   ]
  },
  {
   "cell_type": "markdown",
   "metadata": {
    "cell_id": "6cffd82cf62b44f99da3804a65b4c1f5"
   },
   "source": [
    "This is why when we talk about defining a vector we talk about an object that has both magnitude, which represents the length of a vector and a direction, which tells us what direction the vector is point to. Hence, for us to say that two vectors are equal, they must have the same magnitude and direction as well. \n",
    "\n",
    "### Vector arithmetic \n",
    "In order to talk about vector arithmetic. Lets take a simple example \n",
    "\n",
    "Suppose you are standing at point P = $[4,5]$.  Now suppose you have a friend who joins you on the football field and he is standing at the point Q. So to get to him someone will have to walk 2 units up and 8 units, right hence Q=(8,2). So how would you, who is at point P get to where your friend is? \n",
    "\n",
    "well that would be \n",
    "\n",
    "R = Q-P = [8, 2] - [4,5]  =  [8-4,2-5]= [4,-3] \n",
    "\n",
    "so to get to Q, you need to walk 4 right and 3 units down (hence the negative sign). Take a look at the plot below \n"
   ]
  },
  {
   "cell_type": "code",
   "execution_count": 6,
   "metadata": {
    "ExecuteTime": {
     "end_time": "2019-02-27T17:36:52.615880Z",
     "start_time": "2019-02-27T17:36:51.804164Z"
    },
    "cell_id": "b99a802bec0d4e0cbd05238e5804bc34"
   },
   "outputs": [
    {
     "data": {
      "application/vnd.jupyter.widget-view+json": {
       "model_id": "bf70fcfd789f48fda108f9016c0fd02b",
       "version_major": 2,
       "version_minor": 0
      },
      "text/plain": [
       "interactive(children=(FloatSlider(value=4.0, description='x', max=9.0, min=1.0, step=0.01), FloatSlider(value=…"
      ]
     },
     "metadata": {},
     "output_type": "display_data"
    },
    {
     "data": {
      "text/plain": [
       "<function __main__.vec_plot(x, y)>"
      ]
     },
     "execution_count": 6,
     "metadata": {},
     "output_type": "execute_result"
    }
   ],
   "source": [
    "# vector \n",
    "tools_to_show= 'box_zoom,pan,save,hover,reset,tap,wheel_zoom'        \n",
    "\n",
    "def vec_plot(x,y):\n",
    "    fig = pl.figure(x_range =[0,10],\n",
    "                    y_range =[0,10], \n",
    "                    plot_height =400, \n",
    "                    plot_width= 400, \n",
    "                   tools= tools_to_show,\n",
    "                   x_axis_label = \"x axis\",\n",
    "                    y_axis_label = \"y axis\"\n",
    "                   )\n",
    "    \n",
    "    \n",
    "    \n",
    "    fig.add_layout(Arrow(end=NormalHead(fill_color=\"black\"),\n",
    "                       x_start=0,\n",
    "                       y_start=0,\n",
    "                       x_end=x,\n",
    "                       y_end=y))\n",
    "    \n",
    "    fig.add_layout(Arrow(end=NormalHead(fill_color=\"black\"),\n",
    "                       x_start=0,\n",
    "                       y_start=0,\n",
    "                       x_end=8,\n",
    "                       y_end=2))\n",
    "    fig.add_layout(Arrow(end=NormalHead(fill_color=\"black\"),\n",
    "                       x_start=x,\n",
    "                       y_start=y,\n",
    "                       x_end=8,\n",
    "                       y_end=2))\n",
    "    \n",
    "\n",
    "    p = np.array([x,y])\n",
    "    q = np.array([8,2])\n",
    "    \n",
    "    r_dist =  np.linalg.norm(p-q)\n",
    "    fig.circle(x,y,size = 12, color= \"red\")\n",
    "    fig.circle(x = 8,y = 2,size = 12, color= \"green\")\n",
    "    \n",
    "    fig.text(x=x, y=y+0.2, text=[\"P\"])\n",
    "    fig.text(x=8, y=2+0.2, text=[\"Q\"])\n",
    "    fig.text(x=(8-x)/2+ x, y=-(2-y)/2+(y/2), text=[\"R\"])\n",
    "    \n",
    "    hover = fig.select(dict(type=HoverTool))    \n",
    "    hover.tooltips = [(\"xvalue\", \"$x\"), (\"yvalue\", \"$y\")]\n",
    "    show(fig)\n",
    "    print(\"distance between points Q and P is {} units\".format(np.round(np.linalg.norm(p-q),2)))\n",
    "    return \n",
    "\n",
    "interact(vec_plot, \n",
    "                   x = widgets.FloatSlider(value = 4, min= 1, max =9, step =0.01 ),\n",
    "        \n",
    "                     y = widgets.FloatSlider(value = 5, min= 1, max =9, step =0.01 ), \n",
    "        \n",
    "        )"
   ]
  },
  {
   "cell_type": "markdown",
   "metadata": {
    "cell_id": "7a2a7447bb6c40e68f3968ac12ad0794",
    "hide_input": true
   },
   "source": [
    "### Solution code\n",
    "\n",
    "```python\n",
    "# Just run above code\n",
    "```"
   ]
  },
  {
   "cell_type": "markdown",
   "metadata": {
    "cell_id": "d7a376df2ff6413cb9286ba0b39a0585"
   },
   "source": [
    "Now that we have a general idea of what a vector is lets talk about the two configuration of vectors-  Row vectors and column vectors. \n",
    "\n",
    "A row vector is written as A = $[a,b]$  and  a column vector is written as  B = $ \\begin{bmatrix}c \\\\ d \\end{bmatrix} $. \n",
    "Example of row vectors would be  A  =  $[2,4,52]$, B  =  $[7,1,5]$. The corresponding column vectors would be. \n",
    "\n",
    "A = $ \\begin{bmatrix}2 \\\\ 4 \\\\52 \\end{bmatrix} $\n",
    "\n",
    "B = $ \\begin{bmatrix}7 \\\\ 1 \\\\5 \\end{bmatrix} $\n",
    "\n",
    "We can convert a row vector to a column vector using the transpose operation. The transpose operation is more generally defined for a matrix but in case of a vector it lets us write a row vector as a column vector. Take for example, the row vector  A  =  $[2,4,52]$, the corresponding column vector would be\n",
    "\n",
    "\n",
    "A$^T$ =  $ \\begin{bmatrix}2 \\\\ 4 \\\\52 \\end{bmatrix} $\n",
    "\n",
    "We can also write this as $[2,4,52]^T$\n",
    "\n",
    "All of this will be relevant especially when we start talking about vector multiplication\n",
    "\n",
    "\n",
    "\n",
    "From the previous plot,  in acquiring R what we have shown is that we can subtract vectors. There are other operations that we can do with vectors as well- \n",
    "\n",
    "$\\textbf{Addition of Vectors} -$  <br>\n",
    "\n",
    " $\\textbf{A}+\\textbf{B}  =  [a_1 + b_1, a_2 + b_2]$<br>\n",
    "\n",
    "$\\textbf{ Subtraction of Vectors} -$ <br>\n",
    "\n",
    " $\\textbf{A}-\\textbf{B}  = [a_1 - b_1,a_2 - b_2]$<br>\n",
    " \n",
    " For both addition and subtraction, you can add or subtract only row vectors to row vectors and column vectors to column vectors. \n",
    "\n",
    "In the next notebook we will spend some time talking about vector multiplication. \n"
   ]
  },
  {
   "cell_type": "code",
   "execution_count": 7,
   "metadata": {
    "cell_id": "d9b65ee6330e4125b315b073e107b8c7"
   },
   "outputs": [],
   "source": [
    "# End of notebook"
   ]
  },
  {
   "cell_type": "markdown",
   "metadata": {
    "cell_id": "0b58a351ce4a45fc821853d4ed15bd2a",
    "hide_input": true
   },
   "source": [
    "### Solution code\n",
    "\n",
    "```python\n",
    "# End of notebook\n",
    "```"
   ]
  }
 ],
 "metadata": {
  "celltoolbar": "Edit Metadata",
  "kernelspec": {
   "display_name": "Python 3",
   "language": "python",
   "name": "python3"
  },
  "language_info": {
   "codemirror_mode": {
    "name": "ipython",
    "version": 3
   },
   "file_extension": ".py",
   "mimetype": "text/x-python",
   "name": "python",
   "nbconvert_exporter": "python",
   "pygments_lexer": "ipython3",
   "version": "3.6.6"
  },
  "latex_envs": {
   "LaTeX_envs_menu_present": true,
   "autoclose": true,
   "autocomplete": true,
   "bibliofile": "biblio.bib",
   "cite_by": "apalike",
   "current_citInitial": 1,
   "eqLabelWithNumbers": true,
   "eqNumInitial": 1,
   "hotkeys": {
    "equation": "Ctrl-E",
    "itemize": "Ctrl-I"
   },
   "labels_anchors": false,
   "latex_user_defs": false,
   "report_style_numbering": true,
   "user_envs_cfg": false
  },
  "toc": {
   "base_numbering": 1,
   "nav_menu": {},
   "number_sections": true,
   "sideBar": true,
   "skip_h1_title": false,
   "title_cell": "Table of Contents",
   "title_sidebar": "Contents",
   "toc_cell": false,
   "toc_position": {},
   "toc_section_display": true,
   "toc_window_display": false
  },
  "varInspector": {
   "cols": {
    "lenName": 16,
    "lenType": 16,
    "lenVar": 40
   },
   "kernels_config": {
    "python": {
     "delete_cmd_postfix": "",
     "delete_cmd_prefix": "del ",
     "library": "var_list.py",
     "varRefreshCmd": "print(var_dic_list())"
    },
    "r": {
     "delete_cmd_postfix": ") ",
     "delete_cmd_prefix": "rm(",
     "library": "var_list.r",
     "varRefreshCmd": "cat(var_dic_list()) "
    }
   },
   "types_to_exclude": [
    "module",
    "function",
    "builtin_function_or_method",
    "instance",
    "_Feature"
   ],
   "window_display": false
  }
 },
 "nbformat": 4,
 "nbformat_minor": 2
}
