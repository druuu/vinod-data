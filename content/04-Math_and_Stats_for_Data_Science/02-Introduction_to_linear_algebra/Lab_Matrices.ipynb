{
 "cells": [
  {
   "cell_type": "markdown",
   "metadata": {},
   "source": [
    "## Lab - Matrices\n",
    "\n",
    "Create the following matrices...\n",
    "\n",
    "$A = \\left[\\begin{array}{cc}10 & 95 & 8 \\\\ 95 & 20 & 9 \\\\ 8 & 9 & 30\\end{array}\\right]$\n",
    "\n",
    "$B = \\left[\\begin{array}{cc}5 & 8 & 3 & 6\\\\ 95 & 20 & 9 & 3\\\\ 8 & 9 & 30 & 3\\\\ 8 & 9 & 30 & 3\\end{array}\\right]$\n",
    "\n",
    "$C = \\left[\\begin{array}{cc}0 & 6 & 250 \\\\ -6 & 0 & 86.3 \\\\ -250 & -86.3 & 0\\end{array}\\right]$\n",
    "\n",
    "...calculate...\n",
    "\n",
    "1. Transpose of A,B and C\n",
    "2. Inverse of A, B and C\n",
    "\n",
    "...answer the following...\n",
    "\n",
    "* What type of matrices are A, B and C\n",
    "\n",
    "...and perform the below given operations\n",
    "\n",
    "1. Add A and B. Is the additive result a special type of matrix? If yes, then what type of matrix is it?\n",
    "2. Multiply A and B. Is the product a special type of matrix? If yes, then what type of matrix is it?"
   ]
  },
  {
   "cell_type": "code",
   "execution_count": null,
   "metadata": {},
   "outputs": [],
   "source": []
  }
 ],
 "metadata": {
  "kernelspec": {
   "display_name": "Python 3",
   "language": "python",
   "name": "python3"
  },
  "language_info": {
   "codemirror_mode": {
    "name": "ipython",
    "version": 3
   },
   "file_extension": ".py",
   "mimetype": "text/x-python",
   "name": "python",
   "nbconvert_exporter": "python",
   "pygments_lexer": "ipython3",
   "version": "3.6.5"
  }
 },
 "nbformat": 4,
 "nbformat_minor": 2
}
