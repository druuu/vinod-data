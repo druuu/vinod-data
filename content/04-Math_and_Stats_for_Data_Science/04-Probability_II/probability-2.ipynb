{
 "cells": [
  {
   "cell_type": "markdown",
   "metadata": {},
   "source": [
    "# Probability 2\n",
    "\n",
    "\n",
    "## Gaussian (Normal) distribution\n",
    "\n",
    "Normal or Gaussian distribution of continuous random variables is defined mathematically as\n",
    "\n",
    "$$y=\\frac{e^{-(X-μ)^2/(2σ^2)}} {σ \\sqrt {2π}}$$\n",
    "\n",
    "\n",
    "<img src=\"../../../images/gaussian.png\" style=\"width: 700px;\">\n",
    "\n",
    "\n",
    "where \n",
    "\n",
    "μ is the mean, \n",
    "σ is the standard deviation, \n",
    "$σ^2$ is the variance, \n",
    "π = 3.14(approx), \n",
    "e = 2.718(approx)\n",
    "\n",
    "\n",
    "### Examples\n",
    "\n",
    "Heights of people, test scores etc. Normal distribution has same mean, median and mode. \n",
    "\n",
    "### Exercise\n",
    "\n",
    "Let's get started with a Gaussian distribution and plot it. Notice the bell shaped curve.\n",
    "* Compute the probability of x=0 using norm.pdf function and assign it to the variable prob. Use Shift+tab to look up the function input arguments."
   ]
  },
  {
   "cell_type": "code",
   "execution_count": 1,
   "metadata": {},
   "outputs": [],
   "source": [
    "from scipy.stats import norm\n",
    "\n",
    "ax = sns.plt.subplots(figsize=(18, 8))\n",
    "x = np.random.normal(scale=1.0, size=100)\n",
    "sns.distplot(x)"
   ]
  },
  {
   "cell_type": "markdown",
   "metadata": {
    "hide_input": true
   },
   "source": [
    "### Solution\n",
    "\n",
    "```python\n",
    "x = np.random.normal(scale=1.0, size=100)\n",
    "sns.distplot(x)\n",
    "prob = norm.pdf(0, scale=1, loc=0)\n",
    "print(prob)\n",
    "```"
   ]
  },
  {
   "cell_type": "markdown",
   "metadata": {},
   "source": [
    "## Exponential distribution\n",
    "\n",
    "Exponential distribution is a continuous probability distribution that models the time elapsed between events. The Probability Density Function of exponential distribution is mathematically defined as\n",
    "\n",
    "\n",
    "$$f(x,λ) = \\begin{cases}\n",
    "   λe^{λx} & \\text{for }x> 0\\\\    \n",
    "   0    & \\text{for }x\\le 0\\\\\n",
    "\\end{cases}$$\n",
    "\n",
    "where λ > 0 is the average number of occurences in a unit of time.\n",
    "\n",
    "\n",
    "<img src=\"../../../images/exponential_dist.png\" style=\"width: 700px;\">\n",
    "\n",
    "\n",
    "### Examples\n",
    "\n",
    "On average, a customer care desk receives $\\mu$ calls in an hour. Remember $\\mu$ follows a Poisson distribution. The time between two calls, follows an exponential distribution with $\\lambda = \\frac{1}{\\mu}$\n",
    "\n",
    "### Exercise\n",
    "\n",
    "Let us now plot a Exponential distribution.\n",
    "* Compute the mean and variance of the Exponential Distribution and assign it to mu, var."
   ]
  },
  {
   "cell_type": "code",
   "execution_count": 1,
   "metadata": {},
   "outputs": [
    {
     "name": "stderr",
     "output_type": "stream",
     "text": [
      "/home/mani/anaconda3/lib/python3.6/site-packages/matplotlib/axes/_axes.py:6462: UserWarning: The 'normed' kwarg is deprecated, and has been replaced by the 'density' kwarg.\n",
      "  warnings.warn(\"The 'normed' kwarg is deprecated, and has been \"\n"
     ]
    },
    {
     "data": {
      "image/png": "[encoded data removed]",
      "text/plain": [
       "<Figure size 432x288 with 1 Axes>"
      ]
     },
     "metadata": {},
     "output_type": "display_data"
    }
   ],
   "source": [
    "import matplotlib.pyplot as plt\n",
    "from scipy import stats\n",
    "%matplotlib inline\n",
    "from scipy.stats import expon\n",
    "import numpy as np \n",
    "import seaborn as sns\n",
    "\n",
    "lambdax = 2\n",
    "\n",
    "x = expon.rvs(0, 1/lambdax , 1000)\n",
    "\n",
    "loc, scale = expon.fit(x, floc=0)\n",
    "\n",
    "sns.distplot(x, kde=False, fit=stats.expon);"
   ]
  },
  {
   "cell_type": "markdown",
   "metadata": {
    "hide_input": true
   },
   "source": [
    "### Solution\n",
    "```python\n",
    "mu = 1/lambdax\n",
    "var = 1/(lambdax**2)\n",
    "print(mu, var)\n",
    "```"
   ]
  },
  {
   "cell_type": "markdown",
   "metadata": {},
   "source": [
    "## Gamma distribution\n",
    "\n",
    "Gamma distribution is a continuous probability distribution. The Probability Density Function of Gamma distribution is mathematically defined as\n",
    "\n",
    "$$f(x,α,β) = \\frac {β^α x^{α-1}{e^{-βx}}} {Γ(α)} $$\n",
    "\n",
    "\n",
    "where Γ(α) is a complete Gamma function.\n",
    "\n",
    "\n",
    "### Examples\n",
    "\n",
    "Typical events modeled using gamma distribution are accumulated rainfall, aggregate loan default, load on server etc.\n",
    "\n",
    "### Exercise\n",
    "\n",
    "Let's plot a Gamma distribution. \n",
    "* Compute the mean and variance of the Gamma Distribution and assign it to mu, var.\n",
    "\n"
   ]
  },
  {
   "cell_type": "code",
   "execution_count": 2,
   "metadata": {},
   "outputs": [
    {
     "name": "stderr",
     "output_type": "stream",
     "text": [
      "/home/mani/anaconda3/lib/python3.6/site-packages/matplotlib/axes/_axes.py:6462: UserWarning: The 'normed' kwarg is deprecated, and has been replaced by the 'density' kwarg.\n",
      "  warnings.warn(\"The 'normed' kwarg is deprecated, and has been \"\n"
     ]
    },
    {
     "data": {
      "image/png": "[encoded data removed]",
      "text/plain": [
       "<Figure size 432x288 with 1 Axes>"
      ]
     },
     "metadata": {},
     "output_type": "display_data"
    }
   ],
   "source": [
    "import matplotlib.pyplot as plt\n",
    "from scipy import stats\n",
    "%matplotlib inline\n",
    "import numpy as np \n",
    "import seaborn as sns\n",
    "\n",
    "alpha = 2\n",
    "beta = 1\n",
    "x = np.random.gamma(alpha, beta, size=200)\n",
    "g = sns.distplot(x, kde=False, fit=stats.gamma);\n",
    "# Modify the code below"
   ]
  },
  {
   "cell_type": "markdown",
   "metadata": {
    "hide_input": true
   },
   "source": [
    "### Solution\n",
    "\n",
    "```python\n",
    "mu = alpha/beta\n",
    "var = alpha/(beta*beta)\n",
    "print(mu, var)\n",
    "```"
   ]
  },
  {
   "cell_type": "markdown",
   "metadata": {},
   "source": [
    "## Bernoulli Distribution\n",
    "\n",
    "Bernoulli distribution is the probability distribution of a random variable that takes a boolean value such as a 1 or 0. The Probability Mass Function of Bernoulli distribution is mathematically defined as:\n",
    "\n",
    "For a possible outcome k, \n",
    "\n",
    "$$f(k,p) = {p^k}({{1-p})^{(1-k)}} $$\n",
    "\n",
    "\n",
    "where p is the probability of outcome 1 and 1-p is the probability of outcome 0.<br>\n",
    "\n",
    "### Examples\n",
    "\n",
    "Result of a coin toss, if patient has disease or not, any experiment with outcome of success or failure.\n",
    "\n",
    "\n",
    "<img src=\"../../../images/bernoulli.png\" style=\"width: 700px;\">\n",
    "\n",
    "\n",
    "Let us now plot a Bernoulli distribution\n",
    "\n",
    "### Exercise\n",
    "\n",
    "* Increase number of samples to 1000 and use bernoulli.stats() function to determine the mean of the distribution.\n",
    "* Assign it to variable, mu and print it out.\n"
   ]
  },
  {
   "cell_type": "code",
   "execution_count": 3,
   "metadata": {},
   "outputs": [
    {
     "name": "stderr",
     "output_type": "stream",
     "text": [
      "/home/mani/anaconda3/lib/python3.6/site-packages/matplotlib/axes/_axes.py:6462: UserWarning: The 'normed' kwarg is deprecated, and has been replaced by the 'density' kwarg.\n",
      "  warnings.warn(\"The 'normed' kwarg is deprecated, and has been \"\n"
     ]
    },
    {
     "data": {
      "image/png": "[encoded data removed]",
      "text/plain": [
       "<Figure size 432x288 with 1 Axes>"
      ]
     },
     "metadata": {},
     "output_type": "display_data"
    }
   ],
   "source": [
    "%matplotlib inline\n",
    "from scipy.stats import bernoulli\n",
    "import numpy as np\n",
    "import seaborn as sns\n",
    "\n",
    "p = 0.3\n",
    "x = bernoulli.rvs(p, size=1000)\n",
    "sns.distplot(x, kde=False);"
   ]
  },
  {
   "cell_type": "markdown",
   "metadata": {
    "hide_input": true
   },
   "source": [
    "### Solution\n",
    "\n",
    "```python\n",
    "\n",
    "mu = bernoulli.stats(p, moments='m')\n",
    "print(mu)\n",
    "```"
   ]
  },
  {
   "cell_type": "markdown",
   "metadata": {},
   "source": [
    "## Binomial Distribution\n",
    "\n",
    "The number of successes, $x$ in a fixed number of $n$ independent Bernoulli trials with probability of success $p$ or $\\theta$, follows a binomial distribution. $n$ and $p$ are always fixed in a binomial distribution.\n",
    "\n",
    "\n",
    "<img src=\"../../../images/binomial.png\" style=\"width: 700px;\">\n",
    "\n",
    "\n",
    "### Examples\n",
    "\n",
    "Number of heads after tossing a coin 100 times. Number of defective bulbs after inspecting 1000 bulbs.\n",
    "\n",
    "\n",
    "### Exercise\n",
    "\n",
    "Let us generate numbers that conform to a binomial distribution. Given N = 40, p=0.5 and the numbers distributed according to the binomial pmf, compute the mean and variance and assign it to variables, mu and var."
   ]
  },
  {
   "cell_type": "code",
   "execution_count": 4,
   "metadata": {},
   "outputs": [
    {
     "name": "stderr",
     "output_type": "stream",
     "text": [
      "/home/mani/anaconda3/lib/python3.6/site-packages/matplotlib/axes/_axes.py:6462: UserWarning: The 'normed' kwarg is deprecated, and has been replaced by the 'density' kwarg.\n",
      "  warnings.warn(\"The 'normed' kwarg is deprecated, and has been \"\n"
     ]
    },
    {
     "data": {
      "text/plain": [
       "<matplotlib.axes._subplots.AxesSubplot at 0x7f2cd2856240>"
      ]
     },
     "execution_count": 4,
     "metadata": {},
     "output_type": "execute_result"
    },
    {
     "data": {
      "image/png": "[encoded data removed]",
      "text/plain": [
       "<Figure size 432x288 with 1 Axes>"
      ]
     },
     "metadata": {},
     "output_type": "display_data"
    }
   ],
   "source": [
    "%matplotlib inline\n",
    "\n",
    "import numpy as np\n",
    "import seaborn as sns\n",
    "\n",
    "N = 40\n",
    "p = 0.5\n",
    "binomial_x = np.random.binomial(N, p, 10)\n",
    "sns.distplot(binomial_x)\n",
    "\n",
    "# Compute mean and variance"
   ]
  },
  {
   "cell_type": "markdown",
   "metadata": {
    "hide_input": true
   },
   "source": [
    "### Solution\n",
    "\n",
    "```python\n",
    "mu = N*p\n",
    "var = N*p*(1-p)\n",
    "print(mu, var)\n",
    "\n",
    "```"
   ]
  },
  {
   "cell_type": "markdown",
   "metadata": {},
   "source": [
    "## Poisson Distribution\n",
    "\n",
    "The probability distribution of a Poisson random variable X is the number of events occurring in a given time interval.\n",
    "\n",
    "Poisson distribution of discrete random variables is defined mathematically as\n",
    "\n",
    "$$P(X)=e^{-μ}\\frac{μ^x} {x!}$$\n",
    "\n",
    "\n",
    "<img src=\"../../../images/poisson.png\" style=\"width: 700px;\">\n",
    "\n",
    "\n",
    "where\n",
    "\n",
    "X = 0, 1, 2, …\n",
    "\n",
    "e = 2.71828\n",
    "\n",
    "μ = mean number of events in the given time interval\n",
    "\n",
    "### Examples\n",
    "\n",
    "Number of cars crossing a traffic signal in 30 minutes. Number of phone calls at a service desk in 5 minutes. Number of patients coming into a hospital every hour.\n",
    "\n",
    "### Exercise\n",
    "\n",
    "Let us now plot a poisson distribution. \n",
    "\n",
    "* Increase number of samples to 1000 and use np.mean function to determine the mean of the distribution.\n",
    "* Assign it to variable, mu and print it out."
   ]
  },
  {
   "cell_type": "code",
   "execution_count": 6,
   "metadata": {},
   "outputs": [
    {
     "name": "stderr",
     "output_type": "stream",
     "text": [
      "/home/mani/anaconda3/lib/python3.6/site-packages/matplotlib/axes/_axes.py:6462: UserWarning: The 'normed' kwarg is deprecated, and has been replaced by the 'density' kwarg.\n",
      "  warnings.warn(\"The 'normed' kwarg is deprecated, and has been \"\n"
     ]
    },
    {
     "data": {
      "text/plain": [
       "<matplotlib.axes._subplots.AxesSubplot at 0x7f2cd27b5908>"
      ]
     },
     "execution_count": 6,
     "metadata": {},
     "output_type": "execute_result"
    },
    {
     "data": {
      "image/png": "[encoded data removed]",
      "text/plain": [
       "<Figure size 1296x576 with 1 Axes>"
      ]
     },
     "metadata": {},
     "output_type": "display_data"
    }
   ],
   "source": [
    "ax = plt.subplots(figsize=(18, 8))\n",
    "x = np.random.poisson(lam=2, size=100)\n",
    "sns.distplot(x)"
   ]
  },
  {
   "cell_type": "markdown",
   "metadata": {
    "hide_input": true
   },
   "source": [
    "### Solution\n",
    "\n",
    "```python\n",
    "ax = plt.subplots(figsize=(18, 8))\n",
    "x = np.random.poisson(lam=2, size=1000)\n",
    "sns.distplot(x)\n",
    "\n",
    "mu = np.mean(x)\n",
    "print(mu)\n",
    "```"
   ]
  },
  {
   "cell_type": "markdown",
   "metadata": {},
   "source": [
    "## Conditional Probability\n",
    "\n",
    "For her vacation in Hawaii, Elizabeth has packed 5 pants, 4 skirts and 8 shirts. On her first day venturing out to explore the islands, Elizabeth is running late. In a rush to dress up, she opens her briefcase and picks out two pieces of clothing at random. Given that her first pick is a skirt, what is the probability that she is in luck and picks a shirt to go with it.\n",
    "\n",
    "This is a typical example of conditional probability, which is the probability of a second event happening given that a first event has already occured. This particular case of conditional probability deals with dependent events. Elizabeth has to pull out a second piece of clothing that matches her first pick. Elizabeth having a matching pair of clothing is dependent on her first and second pick.\n",
    "\n",
    "As most of you might have already guessed, the probability is: $$P(MatchingPair) = \\frac{4}{17} * \\frac{8}{16}$$ <br>\n",
    "(Hint): She first picks a skirt with probability 4/17, which leaves her with 3 remaining skirts, 5 pants and 8 shirts. Out of the 16 remaining clothes, her only favourable picks are the 8 shirts, thus giving us 8/16. Our final answer is a combination of the first and second pick, thus giving us our final answer = 4/17 X 8/16\n",
    "\n",
    "## Definition:\n",
    "\n",
    "In probability theory, conditional probability is the probability of an event given that another event has occured. Denoted as <strong>P(B|A)</strong>, is the probabilty of event B given event A has already occured.To put this into persepective, let us assume that the probability of rain on any random day is 10%. But if we know that there is a storm the same day, then the probability of rain will be much higher.\n",
    "\n",
    "The concept of conditional probability is one of the most fundamental concepts in probability theory. While it may seem very trivial, conditional probabilities can be quite confusing and require careful attention.<br>\n",
    "<strong>Note:</strong> If events A and B are <strong>independent</strong>, then <strong>P(B|A)</strong> is simply <strong>P(B)</strong>.\n",
    "\n",
    "## Independent Events:\n",
    "Now let us prove the note mentioned earlier for independent events using this equation:\n",
    "\n",
    "We know that, $$P(A|B) = \\frac{P(A∩B)}{P(B)}$$\n",
    "\n",
    "For independent events, we have <strong>P(A∩B) = P(A) X P(B)</strong> . Substituting this in the equation above, we get:\n",
    "\n",
    "$$P(A|B) = \\frac{P(A) X P(B)}{P(B)}$$<br>\n",
    "\n",
    "$$P(A|B) = P(A)$$\n",
    "\n",
    "## Mutually Exclusive Events:\n",
    "\n",
    "Two events are said to be mutually exclusive when the two events cannot occur at the same time. For a given sample space either one or the other can occur, not both. They have their probabilities defined as: $$P(A)+P(B)=1$$\n",
    "Furthermore,$$P(A∩B) = 0$$\n",
    "\n",
    "Therfore the conditional probability for mutually exclusive events is <strong>0</strong>\n",
    "\n",
    "### Exercise\n",
    "\n",
    "You toss a fair coin three times, write a program to compute the following:\n",
    "\n",
    "1. What is the probability of three heads,<strong> HHH</strong>? [use P1 as variable for final ans]\n",
    "2. What is the probability that you observe exactly one heads? [use P2 as variable for final ans]\n",
    "3. Given that you have observed at least one heads, what is the probability that you observe at least two heads? [use P3 as variable for final answer."
   ]
  },
  {
   "cell_type": "code",
   "execution_count": 9,
   "metadata": {},
   "outputs": [],
   "source": [
    "#Part 1:Since each toss is independent, the probability of getting a head on any toss is 1/2\n",
    "P1 = 0.5*0.5*0.5\n",
    "\n",
    "#Part 2: Let us create the sample space\n",
    "#S = [HHH,HHT,HTH,THH,HTT,TTH,THT,TTT] the favourable events are [HTT, THT, TTH]\n",
    "P2 = 3/8\n",
    "\n",
    "#Modify the solution code below"
   ]
  },
  {
   "cell_type": "markdown",
   "metadata": {
    "hide_input": true
   },
   "source": [
    "### Solution\n",
    "\n",
    "```python\n",
    "\n",
    "#Part 3: Let s1 be the event that you observe one head, and s2 be the event for two heads\n",
    "#we have to find P(s2|s1), where P(s1) = 1 - P{TTT} = 7/8 and P(s2) = 4/8\n",
    "#P(s2|s1) = P(s2 ∩ s1)/P(s1)\n",
    "P3 = (4/8)*(8/7)\n",
    "\n",
    "#print the answers:\n",
    "print(P1,P2,P3)\n",
    "```"
   ]
  },
  {
   "cell_type": "markdown",
   "metadata": {},
   "source": [
    "## Bayes' Theorem:\n",
    "\n",
    "Named after the famous English statistician Thomas Bayes, Bayes' Theorem (or Bayes' Rule). The theorem provides a way to revise exsisting predictions or hypothesis given new or additional evidence. It is a direct application of conditional probability.\n",
    "\n",
    "The formula is as follows:\n",
    "\n",
    "$$P(A|B) = \\frac{P(B|A)P(A)}{P(B)}$$\n",
    "\n",
    "### Derivation:\n",
    "\n",
    "Let us derive this equation using conditional probability. We know from conditional probabilities that:\n",
    "\n",
    "$$P(A|B) = \\frac{P(A∩B)}{P(B)}$$\n",
    "\n",
    "re-arranging the terms, we get:\n",
    "$$P(A∩B) = P(A|B).P(B)$$\n",
    "\n",
    "Similarly,\n",
    "\n",
    "$$P(B|A) = \\frac{P(A∩B)}{P(A)}$$\n",
    "\n",
    "$$P(A∩B) = P(B|A).P(A)$$\n",
    "\n",
    "Now equating the above two results, we get:\n",
    "$$P(A|B).P(B) = P(B|A).P(A)$$\n",
    "\n",
    "$$P(A|B) = \\frac{P(B|A).P(A)}{P(B)}$$\n",
    "\n",
    "Let us better understand the theorem from a simple example\n",
    "\n",
    "<strong>Example:</strong> It is the flu season and you visit your personal physician for a regular checkup. The doctor selects you at random to test for Bird flu. The virus is currently suspected to affect 1 in 10000 people across the globe. The test is 99% accurate, meaning that the false positive (you test positive when you do not have the flu) is 2%. The false negative is 0%. Your test result shows you tested positive. What is the probability that you have bird flu.\n",
    "\n",
    "<strong>Solution:</strong><br>\n",
    "Let us first breakdown the problem:<br>\n",
    "Let P(B) be the probability that you have bird flu <br>\n",
    "Let P(T) be the probability of testing positive<br>\n",
    "From the above problem statement, it is clear that we are required to find P(B|A)\n",
    "\n",
    "As per Bayes' Theorem,\n",
    "\n",
    "$$P(B|T) = \\frac{P(T|B).P(B)}{P(T)}$$\n",
    "\n",
    "From total probability, we have:\n",
    "$$P(T) = P(T|B).P(B) + P(T|NB).P(NB)$$\n",
    "\n",
    "where P(NB) is the probability of not having bird flu.\n",
    "\n",
    "We have,\n",
    "<strong>P(B) = 1/10000 = 0.0001<br>\n",
    "P(NB) = 1 - P(B) = 0.9999<br>\n",
    "P(T|B) = 1 </strong>[if you have swine flue you always test positive, false negativs is 0]<br>\n",
    "<strong>P(T|NB) = 0.02 </strong>(false posititve rate)\n",
    "\n",
    "Therefore, <strong>P(T) = P(T|B).P(B) + P(T|NB).P(NB)<br>\n",
    "P(T) ≈ 0.02\n",
    "\n",
    "$$P(B|T) = \\frac{P(T|B).P(B)}{P(T)}$$\n",
    "<br>\n",
    "$$P(B|T) = \\frac{1 X 0.0001}{0.02} ≈ 0.005$$\n",
    "<br>\n",
    "</strong>Even though you tested positive, there is only a <strong>0.5%</strong> chance you have bird flu.\n",
    "\n",
    "\n",
    "\n",
    "### Exercise\n",
    "\n",
    "The blue M&M was introduced in 1995.  Before then, the color mix in a bag of plain M&Ms was (30% Brown, 20% Yellow, 20% Red, 10% Green, 10% Orange, 10% Tan).  Afterward it was (24% Blue , 20% Green, 16% Orange, 14% Yellow, 13% Red, 13% Brown). \n",
    "A friend of mine has two bags of M&Ms, and he tells me that one is from 1994 and one from 1996.  He won't tell me which is which, but he gives me one M&M from each bag.  One is yellow and one is green.  What is the probability that the yellow M&M came from the 1994 bag?"
   ]
  },
  {
   "cell_type": "code",
   "execution_count": 10,
   "metadata": {},
   "outputs": [],
   "source": [
    "#Write your solution below"
   ]
  },
  {
   "cell_type": "markdown",
   "metadata": {
    "hide_input": true
   },
   "source": [
    "### Solution\n",
    "\n",
    "\n",
    "```python\n",
    "# Use the variable \"ans\" to denote the final probability\n",
    "ans = (0.2*0.5)/(0.2*0.5+0.14*0.5)\n",
    "print(ans)\n",
    "```"
   ]
  }
 ],
 "metadata": {
  "celltoolbar": "Edit Metadata",
  "kernelspec": {
   "display_name": "Python 3",
   "language": "python",
   "name": "python3"
  },
  "language_info": {
   "codemirror_mode": {
    "name": "ipython",
    "version": 3
   },
   "file_extension": ".py",
   "mimetype": "text/x-python",
   "name": "python",
   "nbconvert_exporter": "python",
   "pygments_lexer": "ipython3",
   "version": "3.6.5"
  }
 },
 "nbformat": 4,
 "nbformat_minor": 2
}
