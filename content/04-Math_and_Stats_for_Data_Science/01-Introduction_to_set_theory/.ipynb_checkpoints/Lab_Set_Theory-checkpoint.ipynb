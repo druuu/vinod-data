{
 "cells": [
  {
   "cell_type": "markdown",
   "metadata": {
    "cell_id": "a75d441e8a094387acadf09197a7ceec"
   },
   "source": [
    "### Lab\n",
    "\n",
    "\n",
    "#### Part 1\n",
    "\n",
    "Create a Set with the given list arr = [9,'g', 'h', 7, 5,'b', 8,'d', 0,'f', 1, 8,'e', 0,'a', 9, 2].\n",
    "\n",
    "Use python functions to create the following subsets from the set arr.\n",
    "* 2 sets - \n",
    "    * all_chars: all the charaters from arr\n",
    "    * all_int: all the integers from arr\n",
    "* A set of any 2 characters and all integers from arr, name it \"2char_int_set\"\n",
    "* A set of any 2 ints and any 3 characters from arr, name it \"2char_3int_set\"\n",
    "* A set named \"random_set\": that includes all objects in arr except 'g', 'd', 7, 3"
   ]
  },
  {
   "cell_type": "code",
   "execution_count": 2,
   "metadata": {
    "cell_id": "845a6eddd5ae46d5859e24ac7dd4cec0"
   },
   "outputs": [
    {
     "data": {
      "text/plain": [
       "{0, 1, 2, 5, 7, 8, 9, 'a', 'b', 'd', 'e', 'f', 'g', 'h'}"
      ]
     },
     "execution_count": 2,
     "metadata": {},
     "output_type": "execute_result"
    }
   ],
   "source": [
    "# Comment the Question Number\n",
    "# Write Your Solution Here\n",
    "arr = [9,'g', 'h', 7, 5,'b', 8,'d', 0,'f', 1, 8,'e', 0,'a', 9, 2]\n",
    "\n",
    "main_set = set(arr)\n",
    "main_set"
   ]
  },
  {
   "cell_type": "code",
   "execution_count": 4,
   "metadata": {
    "cell_id": "807659aca68c4c6387196518a935efe2"
   },
   "outputs": [
    {
     "data": {
      "text/plain": [
       "{'a', 'b', 'd', 'e', 'f', 'g', 'h'}"
      ]
     },
     "execution_count": 4,
     "metadata": {},
     "output_type": "execute_result"
    }
   ],
   "source": [
    "all_chars = set([i for i in main_set if type(i)==str])\n",
    "all_chars"
   ]
  },
  {
   "cell_type": "code",
   "execution_count": 5,
   "metadata": {
    "cell_id": "c23d3d3eef374da2804e509d8fc73f57"
   },
   "outputs": [
    {
     "data": {
      "text/plain": [
       "{0, 1, 2, 5, 7, 8, 9}"
      ]
     },
     "execution_count": 5,
     "metadata": {},
     "output_type": "execute_result"
    }
   ],
   "source": [
    "all_int = set([i for i in main_set if type(i)==int])\n",
    "all_int"
   ]
  },
  {
   "cell_type": "code",
   "execution_count": null,
   "metadata": {
    "cell_id": "22336b7b75d246078ffd3bdaec18f712"
   },
   "outputs": [],
   "source": [
    "2char_int_set = "
   ]
  },
  {
   "cell_type": "markdown",
   "metadata": {
    "cell_id": "97022573bafe4b0e88aaa27dbfd3c9c0"
   },
   "source": [
    "#### Part 2\n",
    "\n",
    "```python\n",
    "P = [4,6,12,1,6,7,14,17,5,13,8,9,19,16,19,5,15,15,0,18]\n",
    "S = [5,0,3,11,3,7,9,3,5,2]\n",
    "```\n",
    "\n",
    "* Check if S is the subset of P.\n",
    "* If S is not a subset of P then create a new set with elements of S which also exist in P, using set operations.\n",
    "* For the above sets provide:\n",
    "    * Union of Sets - S $\\cup$ P\n",
    "    * Intersection of Sets - S $\\cap$ P\n",
    "    * Difference of Sets - Both S-P and P-S\n",
    "\n",
    "* (Write in Comments) Assuming that Universal set, 'set_U' consists of the below elements<br>\n",
    "\n",
    "```python\n",
    "set_U = [12, 40, 31, 21, 5, 28, 27, 15, 26, 50, 2, 0, 30, 9, 19, 48, 25, 18, 37, 13, 33, 14, 34, 22, 3, 24, 42, 41, 29, 17, 43, 36, 16, 47, 39, 8, 44, 23, 6, 1, 10, 7, 20, 4, 11, 35, 49, 46, 38, 32, 45].\n",
    "```\n",
    "        \n",
    "<br> Identify the limits (Boundary Values) of set = {set_U - (S$\\cup$P)}\n",
    "    \n",
    "<small><i>Hint: In order to calculate boundary values, treat all sets as ordered intervals of numbers</i></small>"
   ]
  },
  {
   "cell_type": "code",
   "execution_count": null,
   "metadata": {
    "cell_id": "abaf795801ae431aba7be149d51ce195"
   },
   "outputs": [],
   "source": [
    "# Write Your Solution Here"
   ]
  }
 ],
 "metadata": {
  "kernelspec": {
   "display_name": "Python 3",
   "language": "python",
   "name": "python3"
  },
  "language_info": {
   "codemirror_mode": {
    "name": "ipython",
    "version": 3
   },
   "file_extension": ".py",
   "mimetype": "text/x-python",
   "name": "python",
   "nbconvert_exporter": "python",
   "pygments_lexer": "ipython3",
   "version": "3.6.6"
  }
 },
 "nbformat": 4,
 "nbformat_minor": 2
}
