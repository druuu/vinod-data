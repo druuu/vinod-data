{
 "cells": [
  {
   "cell_type": "markdown",
   "metadata": {},
   "source": [
    "### Lab\n",
    "\n",
    "\n",
    "#### Part 1\n",
    "\n",
    "Create a Set with the given list arr = [9,'g', 'h', 7, 5,'b', 8,'d', 0,'f', 1, 8,'e', 0,'a', 9, 2].\n",
    "\n",
    "Use python functions to create the following subsets from the set arr.\n",
    "* 2 sets - \n",
    "    * all_chars: all the charaters from arr\n",
    "    * all_int: all the integers from arr\n",
    "* A set of any 2 characters and all integers from arr, name it \"2char_int_set\"\n",
    "* A set of any 2 ints and any 3 characters from arr, name it \"2char_3int_set\"\n",
    "* A set named \"random_set\": that includes all objects in arr except 'g', 'd', 7, 3"
   ]
  },
  {
   "cell_type": "code",
   "execution_count": 2,
   "metadata": {},
   "outputs": [],
   "source": [
    "# Comment the Question Number\n",
    "# Write Your Solution Here\n",
    "arr = [9,'g', 'h', 7, 5,'b', 8,'d', 0,'f', 1, 8,'e', 0,'a', 9, 2]\n",
    "\n"
   ]
  },
  {
   "cell_type": "markdown",
   "metadata": {},
   "source": [
    "#### Part 2\n",
    "\n",
    "```python\n",
    "P = [4,6,12,1,6,7,14,17,5,13,8,9,19,16,19,5,15,15,0,18]\n",
    "S = [5,0,3,11,3,7,9,3,5,2]\n",
    "```\n",
    "\n",
    "* Check if S is the subset of P.\n",
    "* If S is not a subset of P then create a new set with elements of S which also exist in P, using set operations.\n",
    "* For the above sets provide:\n",
    "    * Union of Sets - S $\\cup$ P\n",
    "    * Intersection of Sets - S $\\cap$ P\n",
    "    * Difference of Sets - Both S-P and P-S\n",
    "\n",
    "* (Write in Comments) Assuming that Universal set, 'set_U' consists of the below elements<br>\n",
    "\n",
    "```python\n",
    "set_U = [12, 40, 31, 21, 5, 28, 27, 15, 26, 50, 2, 0, 30, 9, 19, 48, 25, 18, 37, 13, 33, 14, 34, 22, 3, 24, 42, 41, 29, 17, 43, 36, 16, 47, 39, 8, 44, 23, 6, 1, 10, 7, 20, 4, 11, 35, 49, 46, 38, 32, 45].\n",
    "```\n",
    "        \n",
    "<br> Identify the limits (Boundary Values) of set = {set_U - (S$\\cup$P)}\n",
    "    \n",
    "<small><i>Hint: In order to calculate boundary values, treat all sets as ordered intervals of numbers</i></small>"
   ]
  },
  {
   "cell_type": "code",
   "execution_count": null,
   "metadata": {},
   "outputs": [],
   "source": [
    "# Write Your Solution Here"
   ]
  }
 ],
 "metadata": {
  "kernelspec": {
   "display_name": "Python 3",
   "language": "python",
   "name": "python3"
  },
  "language_info": {
   "codemirror_mode": {
    "name": "ipython",
    "version": 3
   },
   "file_extension": ".py",
   "mimetype": "text/x-python",
   "name": "python",
   "nbconvert_exporter": "python",
   "pygments_lexer": "ipython3",
   "version": "3.6.5"
  }
 },
 "nbformat": 4,
 "nbformat_minor": 2
}
