{
 "cells": [
  {
   "attachments": {},
   "cell_type": "markdown",
   "metadata": {},
   "source": [
    "## Lab - Measures of Central Tendency\n",
    "\n",
    "Given the following data sets and objectives, determine which measure would be appropriate in each case and support your rationale with a brief explanation.\n",
    "\n",
    "* <b>Scenario 1:</b> A community measures body fat of all residents in the 12-18 years age group, as part of a \"healthy youth\" campaign. The observations for teenage boys of the community are given below:\n",
    "\n",
    "```python\n",
    "body_fat = [0.25,0.22,0.21,0.23,0.19,0.25,0.26,0.22,0.19,0.19,0.22,0.19,0.24,0.26,0.20,0.20,0.27,0.20,0.23,0.26,0.21,0.24,0.22,0.21,0.19,0.56,0.63,0.62,0.57,0.51,0.49,0.68]\n",
    "```\n",
    "\n",
    "Considering 23% is the acceptable level of body fat in teenage boys, identify a measure which would be representative of the body fat that a typical teenage boy from the community might have.\n",
    "\n",
    "* <b>Scenario 2:</b> A large IT organization periodically conducts testing sessions on its flagship product, a CRM application. A new manager has joined the organization and has been charged with conducting a regular testing session for the application. He has data of the number of testers who have participated in each of the 21 testing sessions conducted so far. The data is as follows:\n",
    "\n",
    "```python\n",
    "testers_data = [12,6,25,51,17,11,7,51,21,19,8,24,51,51,20,16,51,5,17,12,20]\n",
    "```\n",
    "\n",
    "Which measure should the manager use as an appropriate estimate for the next testing session and why? Also explain why other measures may not be suitable."
   ]
  },
  {
   "cell_type": "code",
   "execution_count": null,
   "metadata": {},
   "outputs": [],
   "source": [
    "# Code/Write Solution here"
   ]
  }
 ],
 "metadata": {
  "kernelspec": {
   "display_name": "Python 3",
   "language": "python",
   "name": "python3"
  },
  "language_info": {
   "codemirror_mode": {
    "name": "ipython",
    "version": 3
   },
   "file_extension": ".py",
   "mimetype": "text/x-python",
   "name": "python",
   "nbconvert_exporter": "python",
   "pygments_lexer": "ipython3",
   "version": "3.6.5"
  }
 },
 "nbformat": 4,
 "nbformat_minor": 2
}
