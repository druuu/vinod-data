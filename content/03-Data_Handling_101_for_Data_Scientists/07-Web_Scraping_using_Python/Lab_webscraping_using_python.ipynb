{
 "cells": [
  {
   "cell_type": "markdown",
   "metadata": {
    "cell_id": "88a1b512765c45289d8774d699262fde"
   },
   "source": [
    "# Lab - Webscraping Using Python\n",
    "\n",
    "In this lab, you are required to write python code to open a webpage and scrape the information on the website using BeautifulSoup.\n",
    "\n",
    "Follow these instructions:\n",
    "<ul>\n",
    "<li>Write python code with BeautifulSoup and requests modules</li>\n",
    "<li>Read the html contents from https://www.python.org/downloads/</li>\n",
    "<li>Read the button with \"Download python x.y.z\" where x.y.z is the version.</li> \n",
    "<li>Print the exact inner text within the download button with the latest version number as it is on the python download page.</li>\n",
    "</ul>\n",
    "Ref: You may refer to https://www.python.org/downloads/ and use \"inspect\" element in the browser to know the class and tag specifics. "
   ]
  },
  {
   "cell_type": "code",
   "execution_count": 5,
   "metadata": {
    "cell_id": "0cd26dbb3f3b4ca4a40620f328f54dbb"
   },
   "outputs": [
    {
     "name": "stdout",
     "output_type": "stream",
     "text": [
      "Download Python 3.7.2\n"
     ]
    }
   ],
   "source": [
    "#Write your code below\n",
    "import requests\n",
    "from bs4 import BeautifulSoup\n",
    "\n",
    "url = 'https://www.python.org/downloads/'\n",
    "response = requests.get(url)\n",
    "html = response.content\n",
    "\n",
    "soup = BeautifulSoup(html)\n",
    "tag = soup.find(\"a\", class_=\"button\")\n",
    "print(tag.text)"
   ]
  },
  {
   "cell_type": "code",
   "execution_count": null,
   "metadata": {
    "cell_id": "4a0c23ba5bf64b6c8d33cef51ebd1cb2"
   },
   "outputs": [],
   "source": []
  }
 ],
 "metadata": {
  "kernelspec": {
   "display_name": "Python 3",
   "language": "python",
   "name": "python3"
  },
  "language_info": {
   "codemirror_mode": {
    "name": "ipython",
    "version": 3
   },
   "file_extension": ".py",
   "mimetype": "text/x-python",
   "name": "python",
   "nbconvert_exporter": "python",
   "pygments_lexer": "ipython3",
   "version": "3.6.6"
  }
 },
 "nbformat": 4,
 "nbformat_minor": 2
}
