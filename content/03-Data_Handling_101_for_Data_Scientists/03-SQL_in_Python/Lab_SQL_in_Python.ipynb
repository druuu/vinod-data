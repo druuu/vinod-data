{
 "cells": [
  {
   "cell_type": "markdown",
   "metadata": {
    "cell_id": "0e7e0e56b2db4478becdc7c156d87c0d"
   },
   "source": [
    "## The Movies Database\n",
    "\n",
    "Given is the diagram of movies database consisting of 3 tables - Movies, Halls and Tickets\n",
    "\n",
    "* Movie: This table has 4 columns - Movie_id (unique identifier for each Movie specific to language), Movie_name (Name of the movie), Language (Language of the Movie), Rating (Average rating given by viewers)\n",
    "* Hall: This table has 3 columns - Hall_id (unique identifer for each Movie Hall), Hall_name (Name of the hall), Seating_capacity (maximum ticketed seats available in the hall)\n",
    "* Ticket: This table has 3 columns - Movie_id (unique identifier for each Movie specific to language), Hall_id (unique identifer for each Movie Hall), Tickets_sold (number of tickets sold for the given Movie at the given Hall)\n",
    "\n",
    "<img src=\"../../../images/movies_db.PNG\" style=\"width: 65vw;\"> <br>\n",
    "\n",
    "<b>Tasks:</b>\n",
    "1. Create an empty database named 'moviesdb' using sqlite terminal.\n",
    "2. Create empty tables with connected relationships among the three tables as shown in above diagram. Using foreign key constraints and enforce referential integrity.\n",
    "3. Extract the data from the three tables, links of which are provided in the code block. Load them into a dataframe and then into the table.\n",
    "4. Write a query to extract data of which movie ran at over 80% of seating capacity and at which hall this was achieved. The query should extract all combinations of movie and hall with over 80% capacity."
   ]
  },
  {
   "cell_type": "code",
   "execution_count": 1,
   "metadata": {
    "cell_id": "824f448de7e341c3b15bbfa416a9017e"
   },
   "outputs": [],
   "source": [
    "movies_data_link = \"../../../data/movie.csv\"\n",
    "halls_data_link = \"../../../data/hall.csv\"\n",
    "tickets_data_link = \"../../../data/ticket.csv\""
   ]
  },
  {
   "cell_type": "code",
   "execution_count": 2,
   "metadata": {
    "cell_id": "cf44463903e74903b31618255c955ab7"
   },
   "outputs": [
    {
     "name": "stdout",
     "output_type": "stream",
     "text": [
      "Requirement already satisfied: tabulate in /opt/conda/lib/python3.6/site-packages (0.8.3)\r\n"
     ]
    }
   ],
   "source": [
    "!pip install tabulate"
   ]
  },
  {
   "cell_type": "code",
   "execution_count": 3,
   "metadata": {
    "cell_id": "ae781a6949b14ca083d7e8ba88c90751"
   },
   "outputs": [],
   "source": [
    "import sqlite3\n",
    "import csv\n",
    "import pandas as pd\n",
    "from tabulate import tabulate\n",
    "\n",
    "# Connecting to the database\n",
    "vincon = sqlite3.connect('moviesDB.db')\n",
    "vincon.execute(\"PRAGMA foreign_keys = ON\")\n",
    "vincur = vincon.cursor()\n"
   ]
  },
  {
   "cell_type": "code",
   "execution_count": 4,
   "metadata": {
    "cell_id": "bee6c783b6ef49958dfc798dc8c0f078"
   },
   "outputs": [
    {
     "name": "stdout",
     "output_type": "stream",
     "text": [
      "Error: table movie already exists\n"
     ]
    }
   ],
   "source": [
    "# creating movie table\n",
    "try:\n",
    "    vincur.execute(\"\"\"CREATE TABLE movie(\n",
    "    movie_id    INTEGER PRIMARY KEY, \n",
    "    movie_name  TEXT,\n",
    "    language   TEXT,\n",
    "    rating     INTEGER\n",
    "    );\"\"\")\n",
    "except Exception as e:\n",
    "    print('Error:',e)\n"
   ]
  },
  {
   "cell_type": "code",
   "execution_count": 5,
   "metadata": {
    "cell_id": "d003e5bc6d31479d8d6f3fb059e3a58a"
   },
   "outputs": [
    {
     "name": "stdout",
     "output_type": "stream",
     "text": [
      "Error: table hall already exists\n"
     ]
    }
   ],
   "source": [
    "# creating movie hall\n",
    "try:\n",
    "    vincur.execute(\"\"\"CREATE TABLE hall(\n",
    "    hall_id    INTEGER PRIMARY KEY, \n",
    "    hall_name   TEXT,\n",
    "    seating_capacity     INTEGER\n",
    "    );\"\"\")\n",
    "except Exception as e:\n",
    "    print('Error:',e)\n"
   ]
  },
  {
   "cell_type": "code",
   "execution_count": 6,
   "metadata": {
    "cell_id": "2dc67812df7e41a784811856641f0344"
   },
   "outputs": [
    {
     "name": "stdout",
     "output_type": "stream",
     "text": [
      "Exception occurred : table ticket already exists\n"
     ]
    }
   ],
   "source": [
    "# create ticket table\n",
    "try :\n",
    "    vincur.execute('''CREATE TABLE ticket(\n",
    "    movie_id     INTEGER ,\n",
    "    hall_id      INTEGER ,\n",
    "    tickets_sold  INTEGER    NON NULL,\n",
    "    FOREIGN KEY(movie_id) REFERENCES movie(movie_id),\n",
    "    FOREIGN KEY(hall_id) REFERENCES hall(hall_id)\n",
    "    );''')\n",
    "except Exception as e :\n",
    "    print('Exception occurred :',e)"
   ]
  },
  {
   "cell_type": "code",
   "execution_count": 7,
   "metadata": {
    "cell_id": "7b7931e3090e472a844b7c0dbbbec58e"
   },
   "outputs": [],
   "source": [
    "# Reading data into tables\n",
    "moviesdf = pd.read_csv(movies_data_link)\n",
    "hallsdf = pd.read_csv(halls_data_link)\n",
    "ticketsdf = pd.read_csv(tickets_data_link)\n",
    "\n",
    "moviesdf['Movie_Id'] = [63, 56, 24, 63, 11]\n",
    "\n",
    "try:\n",
    "    moviesdf.to_sql(name='movie',con=vincon,if_exists='replace',index=False)\n",
    "    hallsdf.to_sql(name='hall',con=vincon,if_exists='replace',index=False)\n",
    "    ticketsdf.to_sql(name='ticket',con=vincon,if_exists='replace',index=False)\n",
    "except Exception as e :\n",
    "    print(e)"
   ]
  },
  {
   "cell_type": "code",
   "execution_count": 8,
   "metadata": {
    "cell_id": "0c8f937e6fc3411685edbecc09ebe6c6"
   },
   "outputs": [
    {
     "name": "stdout",
     "output_type": "stream",
     "text": [
      "Movie_Id            Movie_name      Language\n",
      "------------------  ------------  ----------\n",
      "Lakewalker          Mandarin             6.4\n",
      "Ramen loving Ronin  Japanese             8.1\n",
      "Senjiruven          Tamil                7.3\n",
      "The Unimaginable    English              7.9\n",
      "La Belle            French               6.8\n",
      "Kobali              Hindi                6.9\n",
      "Kobali              Telugu               6.9\n"
     ]
    }
   ],
   "source": [
    "vincur.execute(\"\"\"\n",
    "SELECT * FROM movie\n",
    "\"\"\")\n",
    "vin_movie = vincur.fetchall()\n",
    "headers_movie = ['Movie_Id', 'Movie_name', 'Language', 'Rating']\n",
    "print(tabulate(vin_movie, headers_movie))"
   ]
  },
  {
   "cell_type": "code",
   "execution_count": 9,
   "metadata": {
    "cell_id": "d8b3ee05aa134926986242b5a198dee5"
   },
   "outputs": [
    {
     "data": {
      "text/html": [
       "<div>\n",
       "<style scoped>\n",
       "    .dataframe tbody tr th:only-of-type {\n",
       "        vertical-align: middle;\n",
       "    }\n",
       "\n",
       "    .dataframe tbody tr th {\n",
       "        vertical-align: top;\n",
       "    }\n",
       "\n",
       "    .dataframe thead th {\n",
       "        text-align: right;\n",
       "    }\n",
       "</style>\n",
       "<table border=\"1\" class=\"dataframe\">\n",
       "  <thead>\n",
       "    <tr style=\"text-align: right;\">\n",
       "      <th></th>\n",
       "      <th>Movie_id</th>\n",
       "      <th>Hall_id</th>\n",
       "      <th>Tickets_sold</th>\n",
       "    </tr>\n",
       "  </thead>\n",
       "  <tbody>\n",
       "    <tr>\n",
       "      <th>0</th>\n",
       "      <td>63</td>\n",
       "      <td>14</td>\n",
       "      <td>100</td>\n",
       "    </tr>\n",
       "    <tr>\n",
       "      <th>1</th>\n",
       "      <td>56</td>\n",
       "      <td>2</td>\n",
       "      <td>106</td>\n",
       "    </tr>\n",
       "    <tr>\n",
       "      <th>2</th>\n",
       "      <td>24</td>\n",
       "      <td>13</td>\n",
       "      <td>34</td>\n",
       "    </tr>\n",
       "    <tr>\n",
       "      <th>3</th>\n",
       "      <td>63</td>\n",
       "      <td>1</td>\n",
       "      <td>136</td>\n",
       "    </tr>\n",
       "    <tr>\n",
       "      <th>4</th>\n",
       "      <td>11</td>\n",
       "      <td>15</td>\n",
       "      <td>114</td>\n",
       "    </tr>\n",
       "  </tbody>\n",
       "</table>\n",
       "</div>"
      ],
      "text/plain": [
       "   Movie_id  Hall_id  Tickets_sold\n",
       "0        63       14           100\n",
       "1        56        2           106\n",
       "2        24       13            34\n",
       "3        63        1           136\n",
       "4        11       15           114"
      ]
     },
     "execution_count": 9,
     "metadata": {},
     "output_type": "execute_result"
    }
   ],
   "source": [
    "ticketsdf.head()"
   ]
  }
 ],
 "metadata": {
  "kernelspec": {
   "display_name": "Python 3",
   "language": "python",
   "name": "python3"
  },
  "language_info": {
   "codemirror_mode": {
    "name": "ipython",
    "version": 3
   },
   "file_extension": ".py",
   "mimetype": "text/x-python",
   "name": "python",
   "nbconvert_exporter": "python",
   "pygments_lexer": "ipython3",
   "version": "3.6.6"
  }
 },
 "nbformat": 4,
 "nbformat_minor": 2
}
