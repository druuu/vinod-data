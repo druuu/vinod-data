{
 "cells": [
  {
   "cell_type": "markdown",
   "metadata": {
    "cell_id": "0e7e0e56b2db4478becdc7c156d87c0d"
   },
   "source": [
    "## The Movies Database\n",
    "\n",
    "Given is the diagram of movies database consisting of 3 tables - Movies, Halls and Tickets\n",
    "\n",
    "* Movie: This table has 4 columns - Movie_id (unique identifier for each Movie specific to language), Movie_name (Name of the movie), Language (Language of the Movie), Rating (Average rating given by viewers)\n",
    "* Hall: This table has 3 columns - Hall_id (unique identifer for each Movie Hall), Hall_name (Name of the hall), Seating_capacity (maximum ticketed seats available in the hall)\n",
    "* Ticket: This table has 3 columns - Movie_id (unique identifier for each Movie specific to language), Hall_id (unique identifer for each Movie Hall), Tickets_sold (number of tickets sold for the given Movie at the given Hall)\n",
    "\n",
    "<img src=\"../../../images/movies_db.PNG\" style=\"width: 65vw;\"> <br>\n",
    "\n",
    "<b>Tasks:</b>\n",
    "1. Create an empty database named 'moviesdb' using sqlite terminal.\n",
    "2. Create empty tables with connected relationships among the three tables as shown in above diagram. Using foreign key constraints and enforce referential integrity.\n",
    "3. Extract the data from the three tables, links of which are provided in the code block. Load them into a dataframe and then into the table.\n",
    "4. Write a query to extract data of which movie ran at over 80% of seating capacity and at which hall this was achieved. The query should extract all combinations of movie and hall with over 80% capacity."
   ]
  },
  {
   "cell_type": "code",
   "execution_count": 1,
   "metadata": {
    "cell_id": "824f448de7e341c3b15bbfa416a9017e"
   },
   "outputs": [],
   "source": [
    "movies_data_link = \"../../../data/movie.csv\"\n",
    "halls_data_link = \"../../../data/hall.csv\"\n",
    "tickets_data_link = \"../../../data/ticket.csv\""
   ]
  },
  {
   "cell_type": "code",
   "execution_count": 2,
   "metadata": {
    "cell_id": "cf44463903e74903b31618255c955ab7"
   },
   "outputs": [
    {
     "name": "stdout",
     "output_type": "stream",
     "text": [
      "Collecting tabulate\n",
      "Installing collected packages: tabulate\n",
      "Successfully installed tabulate-0.8.3\n"
     ]
    }
   ],
   "source": [
    "!pip install tabulate"
   ]
  },
  {
   "cell_type": "code",
   "execution_count": 3,
   "metadata": {
    "cell_id": "ae781a6949b14ca083d7e8ba88c90751"
   },
   "outputs": [],
   "source": [
    "import sqlite3\n",
    "import csv\n",
    "import pandas as pd\n",
    "from tabulate import tabulate\n",
    "\n",
    "# Connecting to the database\n",
    "vincon = sqlite3.connect('moviesdb.db')\n",
    "vincon.execute(\"PRAGMA foreign_keys = ON\")\n",
    "vincur = vincon.cursor()\n"
   ]
  },
  {
   "cell_type": "code",
   "execution_count": 5,
   "metadata": {
    "cell_id": "bee6c783b6ef49958dfc798dc8c0f078"
   },
   "outputs": [],
   "source": [
    "# creating movies table\n",
    "try:\n",
    "    vincur.execute(\"\"\"CREATE TABLE movies(\n",
    "    movie_id    INTEGER PRIMARY KEY, \n",
    "    movie_name  TEXT,\n",
    "    language   TEXT,\n",
    "    rating     INTEGER\n",
    "    );\"\"\")\n",
    "except Exception as e:\n",
    "    print('Error:',e)\n"
   ]
  },
  {
   "cell_type": "code",
   "execution_count": 6,
   "metadata": {
    "cell_id": "d003e5bc6d31479d8d6f3fb059e3a58a"
   },
   "outputs": [],
   "source": [
    "# creating halls table\n",
    "try:\n",
    "    vincur.execute(\"\"\"CREATE TABLE halls(\n",
    "    hall_id    INTEGER PRIMARY KEY, \n",
    "    hall_name   TEXT,\n",
    "    seating_capacity     INTEGER\n",
    "    );\"\"\")\n",
    "except Exception as e:\n",
    "    print('Error:',e)\n"
   ]
  },
  {
   "cell_type": "code",
   "execution_count": 7,
   "metadata": {
    "cell_id": "2dc67812df7e41a784811856641f0344"
   },
   "outputs": [],
   "source": [
    "# creating tickets table\n",
    "try :\n",
    "    vincur.execute('''CREATE TABLE tickets(\n",
    "    movie_id     INTEGER ,\n",
    "    hall_id      INTEGER ,\n",
    "    tickets_sold  INTEGER    NON NULL,\n",
    "    FOREIGN KEY(movie_id) REFERENCES movie(movie_id),\n",
    "    FOREIGN KEY(hall_id) REFERENCES hall(hall_id)\n",
    "    );''')\n",
    "except Exception as e :\n",
    "    print('Exception occurred :',e)"
   ]
  },
  {
   "cell_type": "code",
   "execution_count": 12,
   "metadata": {
    "cell_id": "7b7931e3090e472a844b7c0dbbbec58e"
   },
   "outputs": [],
   "source": [
    "# Reading data into tables\n",
    "moviesdf = pd.read_csv(movies_data_link)\n",
    "hallsdf = pd.read_csv(halls_data_link)\n",
    "ticketsdf = pd.read_csv(tickets_data_link)\n",
    "\n",
    "moviesdf.insert(loc=0, column='Movie_Id', value=[24, 56, 22, 63, 43, 33, 11])\n",
    "\n",
    "try:\n",
    "    moviesdf.to_sql(name='movies',con=vincon,if_exists='replace',index=False)\n",
    "    hallsdf.to_sql(name='halls',con=vincon,if_exists='replace',index=False)\n",
    "    ticketsdf.to_sql(name='tickets',con=vincon,if_exists='replace',index=False)\n",
    "except Exception as e :\n",
    "    print(e)\n"
   ]
  },
  {
   "cell_type": "code",
   "execution_count": 13,
   "metadata": {
    "cell_id": "0c8f937e6fc3411685edbecc09ebe6c6"
   },
   "outputs": [
    {
     "name": "stdout",
     "output_type": "stream",
     "text": [
      "  Movie_Id  Movie_name          Language      Rating\n",
      "----------  ------------------  ----------  --------\n",
      "        24  Lakewalker          Mandarin         6.4\n",
      "        56  Ramen loving Ronin  Japanese         8.1\n",
      "        22  Senjiruven          Tamil            7.3\n",
      "        63  The Unimaginable    English          7.9\n",
      "        43  La Belle            French           6.8\n",
      "        33  Kobali              Hindi            6.9\n",
      "        11  Kobali              Telugu           6.9\n"
     ]
    }
   ],
   "source": [
    "vincur.execute(\"\"\"\n",
    "SELECT * FROM movies\n",
    "\"\"\")\n",
    "vin_movie = vincur.fetchall()\n",
    "headers_movie = ['Movie_Id', 'Movie_name', 'Language', 'Rating']\n",
    "print(tabulate(vin_movie, headers_movie))"
   ]
  },
  {
   "cell_type": "code",
   "execution_count": 14,
   "metadata": {
    "cell_id": "9963d0ee49b943dcbb616099fa99769f",
    "scrolled": false
   },
   "outputs": [
    {
     "name": "stdout",
     "output_type": "stream",
     "text": [
      "  Hall_Id  Hall_name                   Seating_capacity\n",
      "---------  ------------------------  ------------------\n",
      "        1  Princessville Cinema                     150\n",
      "        2  Wang's Town Cinema                       150\n",
      "        3  Ardour Movie Hall                        150\n",
      "        4  VMC Hollowville                          150\n",
      "        5  VMC Frocksburry                          150\n",
      "        6  VMC Browns                               150\n",
      "        7  VMC Quasiland                            150\n",
      "        8  VMC Goodborough                          150\n",
      "        9  Showtime Browns                          120\n",
      "       10  Showtime Nathan Square                   120\n",
      "       11  Showtime Rivermoore                      120\n",
      "       12  Showtime Shwimm's Market                 120\n",
      "       13  Cangshin Boxes                            90\n",
      "       14  Wurchester Cinema                        150\n",
      "       15  Quagmire Movie Hall                      150\n"
     ]
    }
   ],
   "source": [
    "vincur.execute(\"\"\"\n",
    "SELECT * FROM halls\n",
    "\"\"\")\n",
    "vin_hall = vincur.fetchall()\n",
    "headers_hall = ['Hall_Id', 'Hall_name', 'Seating_capacity']\n",
    "print(tabulate(vin_hall, headers_hall))"
   ]
  },
  {
   "cell_type": "code",
   "execution_count": 15,
   "metadata": {
    "cell_id": "e13dbc3f476a4d7e814706436052fb07",
    "scrolled": true
   },
   "outputs": [
    {
     "name": "stdout",
     "output_type": "stream",
     "text": [
      "  Movie_Id    Hall_Id    Tickets_sold\n",
      "----------  ---------  --------------\n",
      "        63         14             100\n",
      "        56          2             106\n",
      "        24         13              34\n",
      "        63          1             136\n",
      "        11         15             114\n",
      "        11         11              47\n",
      "        22          6              73\n",
      "        24         15              25\n",
      "        33         15              89\n",
      "        22         14              87\n",
      "        11         10              86\n",
      "        11          1             121\n",
      "        11          8             104\n",
      "        24          9              14\n",
      "        56          5             109\n",
      "        33         13              76\n",
      "        33          6              29\n",
      "        43         11              88\n",
      "        22         10              82\n",
      "        33          2              58\n",
      "        56         15             101\n",
      "        56         12              27\n",
      "        33         12             116\n",
      "        63          4              94\n",
      "        63          8              59\n",
      "        43          6             111\n",
      "        63          2              81\n",
      "        43          4              40\n",
      "        63          6              91\n",
      "        24          6             145\n",
      "        33          8              94\n",
      "        43          2              17\n",
      "        24          3             133\n",
      "        22          5             148\n",
      "        33          4              73\n",
      "        33          9              30\n",
      "        22          8              30\n",
      "        24          7             141\n",
      "        56         11             119\n",
      "        56         10             103\n",
      "        43          3             147\n",
      "        63         11             120\n",
      "        33         11              15\n",
      "        11         14              33\n",
      "        22          2             116\n",
      "        56          1              17\n",
      "        24          8             117\n",
      "        22          3             124\n",
      "        24         10             114\n"
     ]
    }
   ],
   "source": [
    "vincur.execute(\"\"\"\n",
    "SELECT * FROM tickets\n",
    "\"\"\")\n",
    "vin_ticket = vincur.fetchall()\n",
    "headers_ticket = ['Movie_Id', 'Hall_Id', 'Tickets_sold']\n",
    "print(tabulate(vin_ticket, headers_ticket))"
   ]
  },
  {
   "cell_type": "code",
   "execution_count": null,
   "metadata": {
    "cell_id": "f4c0bfe04c1f42ba8c080d3643ded92b"
   },
   "outputs": [],
   "source": []
  }
 ],
 "metadata": {
  "kernelspec": {
   "display_name": "Python 3",
   "language": "python",
   "name": "python3"
  },
  "language_info": {
   "codemirror_mode": {
    "name": "ipython",
    "version": 3
   },
   "file_extension": ".py",
   "mimetype": "text/x-python",
   "name": "python",
   "nbconvert_exporter": "python",
   "pygments_lexer": "ipython3",
   "version": "3.6.6"
  }
 },
 "nbformat": 4,
 "nbformat_minor": 2
}
