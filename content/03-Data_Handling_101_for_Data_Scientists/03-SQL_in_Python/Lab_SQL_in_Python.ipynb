{
 "cells": [
  {
   "cell_type": "markdown",
   "metadata": {
    "cell_id": "0e7e0e56b2db4478becdc7c156d87c0d"
   },
   "source": [
    "## The Movies Database\n",
    "\n",
    "Given is the diagram of movies database consisting of 3 tables - Movies, Halls and Tickets\n",
    "\n",
    "* Movie: This table has 4 columns - Movie_id (unique identifier for each Movie specific to language), Movie_name (Name of the movie), Language (Language of the Movie), Rating (Average rating given by viewers)\n",
    "* Hall: This table has 3 columns - Hall_id (unique identifer for each Movie Hall), Hall_name (Name of the hall), Seating_capacity (maximum ticketed seats available in the hall)\n",
    "* Ticket: This table has 3 columns - Movie_id (unique identifier for each Movie specific to language), Hall_id (unique identifer for each Movie Hall), Tickets_sold (number of tickets sold for the given Movie at the given Hall)\n",
    "\n",
    "<img src=\"../../../images/movies_db.PNG\" style=\"width: 65vw;\"> <br>\n",
    "\n",
    "<b>Tasks:</b>\n",
    "1. Create an empty database named 'moviesdb' using connect method.\n",
    "2. Create empty tables with connected relationships among the three tables as shown in above diagram. Using foreign key constraints and enforce referential integrity.\n",
    "3. Extract the data from the three tables, links of which are provided in the code block. Load them into a dataframe and then into the table.\n",
    "4. Write a query to extract data of which movie ran at over 80% of seating capacity and at which hall this was achieved. The query should extract all combinations of movie and hall with over 80% capacity."
   ]
  },
  {
   "cell_type": "code",
   "execution_count": 1,
   "metadata": {
    "cell_id": "824f448de7e341c3b15bbfa416a9017e"
   },
   "outputs": [],
   "source": [
    "movies_data_link = \"../../../data/movie.csv\"\n",
    "halls_data_link = \"../../../data/hall.csv\"\n",
    "tickets_data_link = \"../../../data/ticket.csv\""
   ]
  },
  {
   "cell_type": "code",
   "execution_count": 2,
   "metadata": {
    "cell_id": "cf44463903e74903b31618255c955ab7"
   },
   "outputs": [
    {
     "name": "stdout",
     "output_type": "stream",
     "text": [
      "Requirement already satisfied: tabulate in /opt/conda/lib/python3.6/site-packages (0.8.3)\r\n"
     ]
    }
   ],
   "source": [
    "!pip install tabulate"
   ]
  },
  {
   "cell_type": "code",
   "execution_count": 3,
   "metadata": {
    "cell_id": "ae781a6949b14ca083d7e8ba88c90751"
   },
   "outputs": [],
   "source": [
    "import sqlite3\n",
    "import csv\n",
    "import pandas as pd\n",
    "from tabulate import tabulate\n",
    "\n",
    "# Connecting to the database\n",
    "vincon = sqlite3.connect('moviesdb.db')\n",
    "vincon.execute(\"PRAGMA foreign_keys = ON\")\n",
    "vincur = vincon.cursor()\n"
   ]
  },
  {
   "cell_type": "code",
   "execution_count": 4,
   "metadata": {
    "cell_id": "f46a9075a7c54e1da31a046fd6f538dd"
   },
   "outputs": [
    {
     "data": {
      "text/html": [
       "<div>\n",
       "<style scoped>\n",
       "    .dataframe tbody tr th:only-of-type {\n",
       "        vertical-align: middle;\n",
       "    }\n",
       "\n",
       "    .dataframe tbody tr th {\n",
       "        vertical-align: top;\n",
       "    }\n",
       "\n",
       "    .dataframe thead th {\n",
       "        text-align: right;\n",
       "    }\n",
       "</style>\n",
       "<table border=\"1\" class=\"dataframe\">\n",
       "  <thead>\n",
       "    <tr style=\"text-align: right;\">\n",
       "      <th></th>\n",
       "      <th>Movie_name</th>\n",
       "      <th>Language</th>\n",
       "      <th>Rating</th>\n",
       "    </tr>\n",
       "  </thead>\n",
       "  <tbody>\n",
       "    <tr>\n",
       "      <th>0</th>\n",
       "      <td>Lakewalker</td>\n",
       "      <td>Mandarin</td>\n",
       "      <td>6.4</td>\n",
       "    </tr>\n",
       "    <tr>\n",
       "      <th>1</th>\n",
       "      <td>Ramen loving Ronin</td>\n",
       "      <td>Japanese</td>\n",
       "      <td>8.1</td>\n",
       "    </tr>\n",
       "    <tr>\n",
       "      <th>2</th>\n",
       "      <td>Senjiruven</td>\n",
       "      <td>Tamil</td>\n",
       "      <td>7.3</td>\n",
       "    </tr>\n",
       "    <tr>\n",
       "      <th>3</th>\n",
       "      <td>The Unimaginable</td>\n",
       "      <td>English</td>\n",
       "      <td>7.9</td>\n",
       "    </tr>\n",
       "    <tr>\n",
       "      <th>4</th>\n",
       "      <td>La Belle</td>\n",
       "      <td>French</td>\n",
       "      <td>6.8</td>\n",
       "    </tr>\n",
       "  </tbody>\n",
       "</table>\n",
       "</div>"
      ],
      "text/plain": [
       "           Movie_name  Language  Rating\n",
       "0          Lakewalker  Mandarin     6.4\n",
       "1  Ramen loving Ronin  Japanese     8.1\n",
       "2          Senjiruven     Tamil     7.3\n",
       "3    The Unimaginable   English     7.9\n",
       "4            La Belle    French     6.8"
      ]
     },
     "execution_count": 4,
     "metadata": {},
     "output_type": "execute_result"
    }
   ],
   "source": [
    "moviesdf = pd.read_csv(movies_data_link)\n",
    "moviesdf.head()"
   ]
  },
  {
   "cell_type": "code",
   "execution_count": 5,
   "metadata": {
    "cell_id": "0ba688cb09d548e5bcaed8f7f885bbca"
   },
   "outputs": [
    {
     "data": {
      "text/html": [
       "<div>\n",
       "<style scoped>\n",
       "    .dataframe tbody tr th:only-of-type {\n",
       "        vertical-align: middle;\n",
       "    }\n",
       "\n",
       "    .dataframe tbody tr th {\n",
       "        vertical-align: top;\n",
       "    }\n",
       "\n",
       "    .dataframe thead th {\n",
       "        text-align: right;\n",
       "    }\n",
       "</style>\n",
       "<table border=\"1\" class=\"dataframe\">\n",
       "  <thead>\n",
       "    <tr style=\"text-align: right;\">\n",
       "      <th></th>\n",
       "      <th>Movie_Id</th>\n",
       "      <th>Movie_name</th>\n",
       "      <th>Language</th>\n",
       "      <th>Rating</th>\n",
       "    </tr>\n",
       "  </thead>\n",
       "  <tbody>\n",
       "    <tr>\n",
       "      <th>0</th>\n",
       "      <td>24</td>\n",
       "      <td>Lakewalker</td>\n",
       "      <td>Mandarin</td>\n",
       "      <td>6.4</td>\n",
       "    </tr>\n",
       "    <tr>\n",
       "      <th>1</th>\n",
       "      <td>56</td>\n",
       "      <td>Ramen loving Ronin</td>\n",
       "      <td>Japanese</td>\n",
       "      <td>8.1</td>\n",
       "    </tr>\n",
       "    <tr>\n",
       "      <th>2</th>\n",
       "      <td>22</td>\n",
       "      <td>Senjiruven</td>\n",
       "      <td>Tamil</td>\n",
       "      <td>7.3</td>\n",
       "    </tr>\n",
       "    <tr>\n",
       "      <th>3</th>\n",
       "      <td>63</td>\n",
       "      <td>The Unimaginable</td>\n",
       "      <td>English</td>\n",
       "      <td>7.9</td>\n",
       "    </tr>\n",
       "    <tr>\n",
       "      <th>4</th>\n",
       "      <td>43</td>\n",
       "      <td>La Belle</td>\n",
       "      <td>French</td>\n",
       "      <td>6.8</td>\n",
       "    </tr>\n",
       "  </tbody>\n",
       "</table>\n",
       "</div>"
      ],
      "text/plain": [
       "   Movie_Id          Movie_name  Language  Rating\n",
       "0        24          Lakewalker  Mandarin     6.4\n",
       "1        56  Ramen loving Ronin  Japanese     8.1\n",
       "2        22          Senjiruven     Tamil     7.3\n",
       "3        63    The Unimaginable   English     7.9\n",
       "4        43            La Belle    French     6.8"
      ]
     },
     "execution_count": 5,
     "metadata": {},
     "output_type": "execute_result"
    }
   ],
   "source": [
    "moviesdf.insert(loc=0, column='Movie_Id', value=[24, 56, 22, 63, 43, 33, 11])\n",
    "moviesdf.head()"
   ]
  },
  {
   "cell_type": "code",
   "execution_count": 6,
   "metadata": {
    "cell_id": "a458500dbfb44dc59decf7e6caa75ecd"
   },
   "outputs": [
    {
     "data": {
      "text/html": [
       "<div>\n",
       "<style scoped>\n",
       "    .dataframe tbody tr th:only-of-type {\n",
       "        vertical-align: middle;\n",
       "    }\n",
       "\n",
       "    .dataframe tbody tr th {\n",
       "        vertical-align: top;\n",
       "    }\n",
       "\n",
       "    .dataframe thead th {\n",
       "        text-align: right;\n",
       "    }\n",
       "</style>\n",
       "<table border=\"1\" class=\"dataframe\">\n",
       "  <thead>\n",
       "    <tr style=\"text-align: right;\">\n",
       "      <th></th>\n",
       "      <th>Hall_id</th>\n",
       "      <th>Hall_name</th>\n",
       "      <th>Seating_capacity</th>\n",
       "    </tr>\n",
       "  </thead>\n",
       "  <tbody>\n",
       "    <tr>\n",
       "      <th>0</th>\n",
       "      <td>1</td>\n",
       "      <td>Princessville Cinema</td>\n",
       "      <td>150</td>\n",
       "    </tr>\n",
       "    <tr>\n",
       "      <th>1</th>\n",
       "      <td>2</td>\n",
       "      <td>Wang's Town Cinema</td>\n",
       "      <td>150</td>\n",
       "    </tr>\n",
       "    <tr>\n",
       "      <th>2</th>\n",
       "      <td>3</td>\n",
       "      <td>Ardour Movie Hall</td>\n",
       "      <td>150</td>\n",
       "    </tr>\n",
       "    <tr>\n",
       "      <th>3</th>\n",
       "      <td>4</td>\n",
       "      <td>VMC Hollowville</td>\n",
       "      <td>150</td>\n",
       "    </tr>\n",
       "    <tr>\n",
       "      <th>4</th>\n",
       "      <td>5</td>\n",
       "      <td>VMC Frocksburry</td>\n",
       "      <td>150</td>\n",
       "    </tr>\n",
       "  </tbody>\n",
       "</table>\n",
       "</div>"
      ],
      "text/plain": [
       "   Hall_id             Hall_name  Seating_capacity\n",
       "0        1  Princessville Cinema               150\n",
       "1        2    Wang's Town Cinema               150\n",
       "2        3     Ardour Movie Hall               150\n",
       "3        4       VMC Hollowville               150\n",
       "4        5       VMC Frocksburry               150"
      ]
     },
     "execution_count": 6,
     "metadata": {},
     "output_type": "execute_result"
    }
   ],
   "source": [
    "hallsdf = pd.read_csv(halls_data_link)\n",
    "hallsdf.head()"
   ]
  },
  {
   "cell_type": "code",
   "execution_count": 7,
   "metadata": {
    "cell_id": "01b16e8b4957482f875b51fa0f4e0050"
   },
   "outputs": [
    {
     "data": {
      "text/html": [
       "<div>\n",
       "<style scoped>\n",
       "    .dataframe tbody tr th:only-of-type {\n",
       "        vertical-align: middle;\n",
       "    }\n",
       "\n",
       "    .dataframe tbody tr th {\n",
       "        vertical-align: top;\n",
       "    }\n",
       "\n",
       "    .dataframe thead th {\n",
       "        text-align: right;\n",
       "    }\n",
       "</style>\n",
       "<table border=\"1\" class=\"dataframe\">\n",
       "  <thead>\n",
       "    <tr style=\"text-align: right;\">\n",
       "      <th></th>\n",
       "      <th>Movie_id</th>\n",
       "      <th>Hall_id</th>\n",
       "      <th>Tickets_sold</th>\n",
       "    </tr>\n",
       "  </thead>\n",
       "  <tbody>\n",
       "    <tr>\n",
       "      <th>0</th>\n",
       "      <td>63</td>\n",
       "      <td>14</td>\n",
       "      <td>100</td>\n",
       "    </tr>\n",
       "    <tr>\n",
       "      <th>1</th>\n",
       "      <td>56</td>\n",
       "      <td>2</td>\n",
       "      <td>106</td>\n",
       "    </tr>\n",
       "    <tr>\n",
       "      <th>2</th>\n",
       "      <td>24</td>\n",
       "      <td>13</td>\n",
       "      <td>34</td>\n",
       "    </tr>\n",
       "    <tr>\n",
       "      <th>3</th>\n",
       "      <td>63</td>\n",
       "      <td>1</td>\n",
       "      <td>136</td>\n",
       "    </tr>\n",
       "    <tr>\n",
       "      <th>4</th>\n",
       "      <td>11</td>\n",
       "      <td>15</td>\n",
       "      <td>114</td>\n",
       "    </tr>\n",
       "  </tbody>\n",
       "</table>\n",
       "</div>"
      ],
      "text/plain": [
       "   Movie_id  Hall_id  Tickets_sold\n",
       "0        63       14           100\n",
       "1        56        2           106\n",
       "2        24       13            34\n",
       "3        63        1           136\n",
       "4        11       15           114"
      ]
     },
     "execution_count": 7,
     "metadata": {},
     "output_type": "execute_result"
    }
   ],
   "source": [
    "ticketsdf = pd.read_csv(tickets_data_link)\n",
    "ticketsdf.head()"
   ]
  },
  {
   "cell_type": "code",
   "execution_count": 8,
   "metadata": {
    "cell_id": "bee6c783b6ef49958dfc798dc8c0f078"
   },
   "outputs": [],
   "source": [
    "# creating movies table and loading the data\n",
    "try:\n",
    "    vincur.execute(\"\"\"CREATE TABLE movie(\n",
    "    movie_id    INTEGER PRIMARY KEY, \n",
    "    movie_name  TEXT    NON NULL,\n",
    "    language   TEXT     NON NULL,\n",
    "    rating    INTEGER   NON NULL\n",
    "    );\"\"\")\n",
    "    \n",
    "    moviesdf.to_sql(name='movie',con=vincon,if_exists='append',index=False)\n",
    "    vincon.commit()\n",
    "    \n",
    "except Exception as e:\n",
    "    vincon.rollback()\n",
    "    print('Error:',e)\n",
    "    "
   ]
  },
  {
   "cell_type": "code",
   "execution_count": 9,
   "metadata": {
    "cell_id": "d003e5bc6d31479d8d6f3fb059e3a58a"
   },
   "outputs": [],
   "source": [
    "# creating halls table and loading the data\n",
    "try:\n",
    "    vincur.execute(\"\"\"CREATE TABLE hall(\n",
    "    hall_id    INTEGER PRIMARY KEY, \n",
    "    hall_name   TEXT    NON NULL,\n",
    "    seating_capacity     INTEGER    NON NULL\n",
    "    );\"\"\")\n",
    "    \n",
    "    hallsdf.to_sql(name='hall',con=vincon,if_exists='append',index=False)\n",
    "    vincon.commit()\n",
    "    \n",
    "except Exception as e:\n",
    "    vincon.rollback()\n",
    "    print('Error:',e)\n"
   ]
  },
  {
   "cell_type": "code",
   "execution_count": 10,
   "metadata": {
    "cell_id": "2dc67812df7e41a784811856641f0344"
   },
   "outputs": [],
   "source": [
    "# creating tickets table and loading the data\n",
    "try :\n",
    "    vincur.execute('''CREATE TABLE ticket(\n",
    "    movie_id     INTEGER ,\n",
    "    hall_id      INTEGER ,\n",
    "    tickets_sold  INTEGER    NON NULL,\n",
    "    FOREIGN KEY(movie_id) REFERENCES movie(movie_id),\n",
    "    FOREIGN KEY(hall_id) REFERENCES hall(hall_id)\n",
    "    );''')\n",
    "    \n",
    "    ticketsdf.to_sql(name='ticket',con=vincon,if_exists='append',index=False)\n",
    "    vincon.commit()\n",
    "    \n",
    "except Exception as e:\n",
    "    vincon.rollback()\n",
    "    print('Error:',e)\n",
    "    "
   ]
  },
  {
   "cell_type": "code",
   "execution_count": 11,
   "metadata": {
    "cell_id": "0c8f937e6fc3411685edbecc09ebe6c6"
   },
   "outputs": [
    {
     "name": "stdout",
     "output_type": "stream",
     "text": [
      "  Movie_Id  Movie_name          Language      Rating\n",
      "----------  ------------------  ----------  --------\n",
      "        24  Lakewalker          Mandarin         6.4\n",
      "        56  Ramen loving Ronin  Japanese         8.1\n",
      "        22  Senjiruven          Tamil            7.3\n",
      "        63  The Unimaginable    English          7.9\n",
      "        43  La Belle            French           6.8\n",
      "        33  Kobali              Hindi            6.9\n",
      "        11  Kobali              Telugu           6.9\n"
     ]
    }
   ],
   "source": [
    "vincur.execute(\"\"\"\n",
    "SELECT * FROM movie\n",
    "\"\"\")\n",
    "vin_movie = vincur.fetchall()\n",
    "headers_movie = ['Movie_Id', 'Movie_name', 'Language', 'Rating']\n",
    "print(tabulate(vin_movie, headers_movie))"
   ]
  },
  {
   "cell_type": "code",
   "execution_count": 12,
   "metadata": {
    "cell_id": "9963d0ee49b943dcbb616099fa99769f",
    "scrolled": false
   },
   "outputs": [
    {
     "name": "stdout",
     "output_type": "stream",
     "text": [
      "  Hall_Id  Hall_name                   Seating_capacity\n",
      "---------  ------------------------  ------------------\n",
      "        1  Princessville Cinema                     150\n",
      "        2  Wang's Town Cinema                       150\n",
      "        3  Ardour Movie Hall                        150\n",
      "        4  VMC Hollowville                          150\n",
      "        5  VMC Frocksburry                          150\n",
      "        6  VMC Browns                               150\n",
      "        7  VMC Quasiland                            150\n",
      "        8  VMC Goodborough                          150\n",
      "        9  Showtime Browns                          120\n",
      "       10  Showtime Nathan Square                   120\n",
      "       11  Showtime Rivermoore                      120\n",
      "       12  Showtime Shwimm's Market                 120\n",
      "       13  Cangshin Boxes                            90\n",
      "       14  Wurchester Cinema                        150\n",
      "       15  Quagmire Movie Hall                      150\n"
     ]
    }
   ],
   "source": [
    "vincur.execute(\"\"\"\n",
    "SELECT * FROM hall\n",
    "\"\"\")\n",
    "vin_hall = vincur.fetchall()\n",
    "headers_hall = ['Hall_Id', 'Hall_name', 'Seating_capacity']\n",
    "print(tabulate(vin_hall, headers_hall))"
   ]
  },
  {
   "cell_type": "code",
   "execution_count": 13,
   "metadata": {
    "cell_id": "e13dbc3f476a4d7e814706436052fb07",
    "scrolled": true
   },
   "outputs": [
    {
     "name": "stdout",
     "output_type": "stream",
     "text": [
      "  Movie_Id    Hall_Id    Tickets_sold\n",
      "----------  ---------  --------------\n",
      "        63         14             100\n",
      "        56          2             106\n",
      "        24         13              34\n",
      "        63          1             136\n",
      "        11         15             114\n",
      "        11         11              47\n",
      "        22          6              73\n",
      "        24         15              25\n",
      "        33         15              89\n",
      "        22         14              87\n",
      "        11         10              86\n",
      "        11          1             121\n",
      "        11          8             104\n",
      "        24          9              14\n",
      "        56          5             109\n",
      "        33         13              76\n",
      "        33          6              29\n",
      "        43         11              88\n",
      "        22         10              82\n",
      "        33          2              58\n",
      "        56         15             101\n",
      "        56         12              27\n",
      "        33         12             116\n",
      "        63          4              94\n",
      "        63          8              59\n",
      "        43          6             111\n",
      "        63          2              81\n",
      "        43          4              40\n",
      "        63          6              91\n",
      "        24          6             145\n",
      "        33          8              94\n",
      "        43          2              17\n",
      "        24          3             133\n",
      "        22          5             148\n",
      "        33          4              73\n",
      "        33          9              30\n",
      "        22          8              30\n",
      "        24          7             141\n",
      "        56         11             119\n",
      "        56         10             103\n",
      "        43          3             147\n",
      "        63         11             120\n",
      "        33         11              15\n",
      "        11         14              33\n",
      "        22          2             116\n",
      "        56          1              17\n",
      "        24          8             117\n",
      "        22          3             124\n",
      "        24         10             114\n"
     ]
    }
   ],
   "source": [
    "vincur.execute(\"\"\"\n",
    "SELECT * FROM ticket\n",
    "\"\"\")\n",
    "vin_ticket = vincur.fetchall()\n",
    "headers_ticket = ['Movie_Id', 'Hall_Id', 'Tickets_sold']\n",
    "print(tabulate(vin_ticket, headers_ticket))"
   ]
  },
  {
   "cell_type": "code",
   "execution_count": 20,
   "metadata": {
    "cell_id": "f2b4f00c814d43af90a6860899781dbc"
   },
   "outputs": [],
   "source": [
    "try:\n",
    "    vincur.execute(\"\"\"CREATE VIEW full_view AS \n",
    "    SELECT ticket.movie_id, movie_name, language, rating, ticket.hall_id, hall_name, seating_capacity, tickets_sold\n",
    "    FROM ticket\n",
    "    LEFT JOIN movie\n",
    "    ON ticket.movie_id=movie.movie_id\n",
    "    LEFT JOIN hall\n",
    "    ON ticket.hall_id=hall.hall_id\n",
    "    \"\"\")\n",
    "    \n",
    "    vincon.commit()\n",
    "    \n",
    "except Exception as e:\n",
    "    vincon.rollback()\n",
    "    print('Error:',e)\n",
    "    "
   ]
  },
  {
   "cell_type": "code",
   "execution_count": 21,
   "metadata": {
    "cell_id": "f4c0bfe04c1f42ba8c080d3643ded92b",
    "scrolled": true
   },
   "outputs": [
    {
     "name": "stdout",
     "output_type": "stream",
     "text": [
      "  Movie_Id  Movie_name          Language      Rating    Hall_Id  Hall_name                   Seating_capacity    Tickets_sold\n",
      "----------  ------------------  ----------  --------  ---------  ------------------------  ------------------  --------------\n",
      "        63  The Unimaginable    English          7.9         14  Wurchester Cinema                        150             100\n",
      "        56  Ramen loving Ronin  Japanese         8.1          2  Wang's Town Cinema                       150             106\n",
      "        24  Lakewalker          Mandarin         6.4         13  Cangshin Boxes                            90              34\n",
      "        63  The Unimaginable    English          7.9          1  Princessville Cinema                     150             136\n",
      "        11  Kobali              Telugu           6.9         15  Quagmire Movie Hall                      150             114\n",
      "        11  Kobali              Telugu           6.9         11  Showtime Rivermoore                      120              47\n",
      "        22  Senjiruven          Tamil            7.3          6  VMC Browns                               150              73\n",
      "        24  Lakewalker          Mandarin         6.4         15  Quagmire Movie Hall                      150              25\n",
      "        33  Kobali              Hindi            6.9         15  Quagmire Movie Hall                      150              89\n",
      "        22  Senjiruven          Tamil            7.3         14  Wurchester Cinema                        150              87\n",
      "        11  Kobali              Telugu           6.9         10  Showtime Nathan Square                   120              86\n",
      "        11  Kobali              Telugu           6.9          1  Princessville Cinema                     150             121\n",
      "        11  Kobali              Telugu           6.9          8  VMC Goodborough                          150             104\n",
      "        24  Lakewalker          Mandarin         6.4          9  Showtime Browns                          120              14\n",
      "        56  Ramen loving Ronin  Japanese         8.1          5  VMC Frocksburry                          150             109\n",
      "        33  Kobali              Hindi            6.9         13  Cangshin Boxes                            90              76\n",
      "        33  Kobali              Hindi            6.9          6  VMC Browns                               150              29\n",
      "        43  La Belle            French           6.8         11  Showtime Rivermoore                      120              88\n",
      "        22  Senjiruven          Tamil            7.3         10  Showtime Nathan Square                   120              82\n",
      "        33  Kobali              Hindi            6.9          2  Wang's Town Cinema                       150              58\n",
      "        56  Ramen loving Ronin  Japanese         8.1         15  Quagmire Movie Hall                      150             101\n",
      "        56  Ramen loving Ronin  Japanese         8.1         12  Showtime Shwimm's Market                 120              27\n",
      "        33  Kobali              Hindi            6.9         12  Showtime Shwimm's Market                 120             116\n",
      "        63  The Unimaginable    English          7.9          4  VMC Hollowville                          150              94\n",
      "        63  The Unimaginable    English          7.9          8  VMC Goodborough                          150              59\n",
      "        43  La Belle            French           6.8          6  VMC Browns                               150             111\n",
      "        63  The Unimaginable    English          7.9          2  Wang's Town Cinema                       150              81\n",
      "        43  La Belle            French           6.8          4  VMC Hollowville                          150              40\n",
      "        63  The Unimaginable    English          7.9          6  VMC Browns                               150              91\n",
      "        24  Lakewalker          Mandarin         6.4          6  VMC Browns                               150             145\n",
      "        33  Kobali              Hindi            6.9          8  VMC Goodborough                          150              94\n",
      "        43  La Belle            French           6.8          2  Wang's Town Cinema                       150              17\n",
      "        24  Lakewalker          Mandarin         6.4          3  Ardour Movie Hall                        150             133\n",
      "        22  Senjiruven          Tamil            7.3          5  VMC Frocksburry                          150             148\n",
      "        33  Kobali              Hindi            6.9          4  VMC Hollowville                          150              73\n",
      "        33  Kobali              Hindi            6.9          9  Showtime Browns                          120              30\n",
      "        22  Senjiruven          Tamil            7.3          8  VMC Goodborough                          150              30\n",
      "        24  Lakewalker          Mandarin         6.4          7  VMC Quasiland                            150             141\n",
      "        56  Ramen loving Ronin  Japanese         8.1         11  Showtime Rivermoore                      120             119\n",
      "        56  Ramen loving Ronin  Japanese         8.1         10  Showtime Nathan Square                   120             103\n",
      "        43  La Belle            French           6.8          3  Ardour Movie Hall                        150             147\n",
      "        63  The Unimaginable    English          7.9         11  Showtime Rivermoore                      120             120\n",
      "        33  Kobali              Hindi            6.9         11  Showtime Rivermoore                      120              15\n",
      "        11  Kobali              Telugu           6.9         14  Wurchester Cinema                        150              33\n",
      "        22  Senjiruven          Tamil            7.3          2  Wang's Town Cinema                       150             116\n",
      "        56  Ramen loving Ronin  Japanese         8.1          1  Princessville Cinema                     150              17\n",
      "        24  Lakewalker          Mandarin         6.4          8  VMC Goodborough                          150             117\n",
      "        22  Senjiruven          Tamil            7.3          3  Ardour Movie Hall                        150             124\n",
      "        24  Lakewalker          Mandarin         6.4         10  Showtime Nathan Square                   120             114\n"
     ]
    }
   ],
   "source": [
    "vincur.execute(\"SELECT * FROM full_view\")\n",
    "queryview = vincur.fetchall()\n",
    "headers = ['Movie_Id', 'Movie_name', 'Language', 'Rating', 'Hall_Id', 'Hall_name', 'Seating_capacity', 'Tickets_sold']\n",
    "print(tabulate(queryview, headers))"
   ]
  },
  {
   "cell_type": "code",
   "execution_count": 23,
   "metadata": {
    "cell_id": "8e6c07e53d504b038a1567e127c54616"
   },
   "outputs": [
    {
     "name": "stdout",
     "output_type": "stream",
     "text": [
      "Movie_name          Hall_name                   Seating_capacity    Tickets_sold\n",
      "------------------  ------------------------  ------------------  --------------\n",
      "The Unimaginable    Princessville Cinema                     150             136\n",
      "Kobali              Princessville Cinema                     150             121\n",
      "Kobali              Cangshin Boxes                            90              76\n",
      "Kobali              Showtime Shwimm's Market                 120             116\n",
      "Lakewalker          VMC Browns                               150             145\n",
      "Lakewalker          Ardour Movie Hall                        150             133\n",
      "Senjiruven          VMC Frocksburry                          150             148\n",
      "Lakewalker          VMC Quasiland                            150             141\n",
      "Ramen loving Ronin  Showtime Rivermoore                      120             119\n",
      "Ramen loving Ronin  Showtime Nathan Square                   120             103\n",
      "La Belle            Ardour Movie Hall                        150             147\n",
      "The Unimaginable    Showtime Rivermoore                      120             120\n",
      "Senjiruven          Ardour Movie Hall                        150             124\n",
      "Lakewalker          Showtime Nathan Square                   120             114\n"
     ]
    }
   ],
   "source": [
    "vincur.execute(\"\"\"SELECT movie_name, hall_name, seating_capacity, tickets_sold \n",
    "               FROM full_view \n",
    "               WHERE tickets_sold >= seating_capacity*0.8\n",
    "               \"\"\")\n",
    "queryview = vincur.fetchall()\n",
    "headers = ['Movie_name', 'Hall_name', 'Seating_capacity', 'Tickets_sold']\n",
    "print(tabulate(queryview, headers))"
   ]
  },
  {
   "cell_type": "code",
   "execution_count": null,
   "metadata": {
    "cell_id": "c8413a6d4861432884159f6a9acf2b25"
   },
   "outputs": [],
   "source": []
  }
 ],
 "metadata": {
  "kernelspec": {
   "display_name": "Python 3",
   "language": "python",
   "name": "python3"
  },
  "language_info": {
   "codemirror_mode": {
    "name": "ipython",
    "version": 3
   },
   "file_extension": ".py",
   "mimetype": "text/x-python",
   "name": "python",
   "nbconvert_exporter": "python",
   "pygments_lexer": "ipython3",
   "version": "3.6.5"
  }
 },
 "nbformat": 4,
 "nbformat_minor": 2
}
