{
 "cells": [
  {
   "cell_type": "markdown",
   "metadata": {
    "cell_id": "8f4c019245ec498083df81c0068c85d5"
   },
   "source": [
    "# SQL in Python.\n",
    "\n",
    "As mentioned in earlier lessons, Python is very flexible and has a wide range of libraries and third-party modules to support many operations. SQL (Structured Query Language) can be executed from within Python using sqlite3. The sqlite3 module offers support to connect to an external database and execute SQL queries. However, this module does not offer the complete querying capability of a typical SQL engine and functions as a light-weight API version of the querying engine. Other modules like MySQLdb (same as mysql-python), offer a more extensive range of functions and query processing abilities.\n",
    "\n",
    "We will be discussing sqlite3 module, as it is the widely used. Though it is a light-weight module, it supports almost all basic sql operations and can be implemented for a database of up to 140 Terabytes in size.\n",
    "\n",
    "The sqlite db engine is also available for installation as a standalone application. The installation packages are available at Sqlite's official downloads page - https://www.sqlite.org/download.html. Once downloaded and installed, the application/db engine can be launched by running the 'sqlite3' application file through terminal. While starting the engine we can also simultaneously create and open a new database. This is saved as a '.db' file in your computer.\n",
    "\n",
    "<b>How to create a sqlite3 database(db) file? </b>\n",
    "\n",
    "Once installation of sqlite engine is complete, the steps to create a new db are fairly simple.\n",
    "\n",
    "1. Launch command prompt or any other terminal window\n",
    "2. Navigate to the folder where the sqlite installation is done\n",
    "3. Execute the command 'sqlite3 <path/new_db_name.db>' and type '.databases' command to verify the creation of the database\n",
    "\n",
    "Step 1. Launch command prompt or any other terminal window<br>\n",
    "<img src=\"../../../images/launch-cmd.png\" style=\"width:20vw\">\n",
    "\n",
    "<br>Step 2: Navigate to the folder where the sqlite installation is done<br>\n",
    "<img src=\"../../../images/sqlite-path.PNG\" style=\"width:60vw\">\n",
    "\n",
    "<br>Step 3: Execute the command sqlite3 <path/new_db_name.db><br>\n",
    "<img src=\"../../../images/create-sqlitedb.PNG\" style=\"width:60vw\">\n",
    "\n",
    "<br>Result:<br>\n",
    "<img src=\"../../../images/created-sqlitedb.PNG\" style=\"width:45vw\">\n",
    "<br>\n",
    "Note: The 'db' file is created in the same folder where 'sqlite3' application file exists, as no path was mentioned in the above command.\n",
    "\n",
    "## Connect() Method - Connecting to the Database \n",
    "\n",
    "The first step in executing SQL through Python is connecting to an external database file. The 'connect' method in the sqlite module helps to create a connection with an external database. The method accepts the name of the external database as argument. \n",
    "\n",
    "<b>Note:</b> When a database name is passed as an argument to the 'connect' method, a connection is established with the external database. However, if no such database exists, sqlite creates a new database with the same name and connect method establishes a connection with the newly created database, bearing the same name.\n",
    "\n",
    "We can also create a database in-memory by passing \":memory:\" as the argument, however care needs to be taken as this consumes RAM.\n",
    "\n",
    "The connection is stored as a connection object. Methods like cursor, commit, close, rollback, execute, create_function, etc., can be called on the connection object. In order to learn the full-range of methods and their descriptions, please refer to the sqlite module documentation (Link: https://docs.python.org/2/library/sqlite3.html#module-sqlite3).\n",
    "\n",
    "### Exercise\n",
    "\n",
    "<u>Data History</u>: As part of this exercise, we will work with the 'Murders' data. This dataset consists of the number of murders committed in the given metropolitan city. The data for two years, 2014 and 2015 is given, along with a column which shows the change in number of murders.\n",
    "\n",
    "Use the connect method to establish a connection with a database file created within memory (Hint: Use :memory: to create an in-memory database)."
   ]
  },
  {
   "cell_type": "code",
   "execution_count": 1,
   "metadata": {
    "ExecuteTime": {
     "end_time": "2018-09-11T15:45:56.588680Z",
     "start_time": "2018-09-11T15:45:56.585686Z"
    },
    "cell_id": "8ae94e51b8cf4cdf859da1f38420e59a"
   },
   "outputs": [],
   "source": [
    "import sqlite3\n",
    "\n",
    "murcon = sqlite3.connect(':memory:')"
   ]
  },
  {
   "cell_type": "markdown",
   "metadata": {
    "cell_id": "9e1fac79037144f39a4656187f014a79",
    "hide_input": true
   },
   "source": [
    "### Solution code\n",
    "\n",
    "```python\n",
    "# Run above code\n",
    "```"
   ]
  },
  {
   "cell_type": "markdown",
   "metadata": {
    "cell_id": "2350589407b848e68112cbe0313f6cff"
   },
   "source": [
    "## pandas to_sql() - Copying an Existing Data Set\n",
    "\n",
    "New tables can be created in a database and data can be inserted through queries, or, data can also be integrated from an existing source table. The 'Murders' data set can be integrated into the murdersdb database using to_sql method of pandas module. There are two steps to do this:<br>\n",
    "<br>1) Load the data from the source file into a pandas data frame\n",
    "<br>2) Use the to_sql method to copy the data from the data frame into a new/existing table\n",
    "<br>\n",
    "\n",
    "### Exercise\n",
    "\n",
    "Load the murders data from source file into a table called 'murderstable' in the murdersdb database"
   ]
  },
  {
   "cell_type": "code",
   "execution_count": 3,
   "metadata": {
    "ExecuteTime": {
     "end_time": "2018-09-11T15:45:59.847487Z",
     "start_time": "2018-09-11T15:45:59.724907Z"
    },
    "cell_id": "1dd1e5fcd6db4800a466163feb946127"
   },
   "outputs": [
    {
     "data": {
      "text/html": [
       "<div>\n",
       "<style scoped>\n",
       "    .dataframe tbody tr th:only-of-type {\n",
       "        vertical-align: middle;\n",
       "    }\n",
       "\n",
       "    .dataframe tbody tr th {\n",
       "        vertical-align: top;\n",
       "    }\n",
       "\n",
       "    .dataframe thead th {\n",
       "        text-align: right;\n",
       "    }\n",
       "</style>\n",
       "<table border=\"1\" class=\"dataframe\">\n",
       "  <thead>\n",
       "    <tr style=\"text-align: right;\">\n",
       "      <th></th>\n",
       "      <th>city</th>\n",
       "      <th>state</th>\n",
       "      <th>2014_murders</th>\n",
       "      <th>2015_murders</th>\n",
       "      <th>change</th>\n",
       "    </tr>\n",
       "  </thead>\n",
       "  <tbody>\n",
       "    <tr>\n",
       "      <th>0</th>\n",
       "      <td>Baltimore</td>\n",
       "      <td>Maryland</td>\n",
       "      <td>211</td>\n",
       "      <td>344</td>\n",
       "      <td>133</td>\n",
       "    </tr>\n",
       "    <tr>\n",
       "      <th>1</th>\n",
       "      <td>Chicago</td>\n",
       "      <td>Illinois</td>\n",
       "      <td>411</td>\n",
       "      <td>478</td>\n",
       "      <td>67</td>\n",
       "    </tr>\n",
       "    <tr>\n",
       "      <th>2</th>\n",
       "      <td>Houston</td>\n",
       "      <td>Texas</td>\n",
       "      <td>242</td>\n",
       "      <td>303</td>\n",
       "      <td>61</td>\n",
       "    </tr>\n",
       "    <tr>\n",
       "      <th>3</th>\n",
       "      <td>Cleveland</td>\n",
       "      <td>Ohio</td>\n",
       "      <td>63</td>\n",
       "      <td>120</td>\n",
       "      <td>57</td>\n",
       "    </tr>\n",
       "    <tr>\n",
       "      <th>4</th>\n",
       "      <td>Washington</td>\n",
       "      <td>D.C.</td>\n",
       "      <td>105</td>\n",
       "      <td>162</td>\n",
       "      <td>57</td>\n",
       "    </tr>\n",
       "  </tbody>\n",
       "</table>\n",
       "</div>"
      ],
      "text/plain": [
       "         city     state  2014_murders  2015_murders  change\n",
       "0   Baltimore  Maryland           211           344     133\n",
       "1     Chicago  Illinois           411           478      67\n",
       "2     Houston     Texas           242           303      61\n",
       "3   Cleveland      Ohio            63           120      57\n",
       "4  Washington      D.C.           105           162      57"
      ]
     },
     "execution_count": 3,
     "metadata": {},
     "output_type": "execute_result"
    }
   ],
   "source": [
    "import csv\n",
    "import pandas as pd\n",
    "\n",
    "murdersdf = pd.read_csv('https://raw.githubusercontent.com/colaberry/538data/master/murder_2016/murder_2015_final.csv')\n",
    "murdersdf.head(5)\n"
   ]
  },
  {
   "cell_type": "code",
   "execution_count": 4,
   "metadata": {
    "cell_id": "b4980f968a5f410282eb022aea653e42"
   },
   "outputs": [],
   "source": [
    "# renaming columns as SQL columns cannot start with a number\n",
    "murdersdf.columns = ['city','state','murders_2014','murders_2015','change']\n",
    "murdersdf.to_sql(name='murderstable',con=murcon,if_exists='replace',index=False)"
   ]
  },
  {
   "cell_type": "markdown",
   "metadata": {
    "cell_id": "09729575e0d6440b89f7d66eef03f037",
    "hide_input": true
   },
   "source": [
    "### Solution code\n",
    "\n",
    "```python\n",
    "# Run above code\n",
    "```"
   ]
  },
  {
   "cell_type": "markdown",
   "metadata": {
    "cell_id": "7fde0b9d0f4444f8a486c074fe9cf0a1"
   },
   "source": [
    "## Cursor() method\n",
    "\n",
    "The cursor method can be called on the connection object. This method directs control for carrying out operations through the connection. Once the cursor object is created, it can be used to carry out querying operations by using methods like execute, executemany, executeall, fetchone, fetchmany, fetchall, rowcount, etc.<br>\n",
    "<br>1) Execute: SQL queries can be passed as arguments to this method for execution\n",
    "<br>2) fetchone/many/all: this method collects the output of the SQL query, one/many/all rows at a time, and prints them out<br>\n",
    "<br>\n",
    "### Exercise (a)\n",
    "\n",
    "Create a cursor object on the connection created previously. Use the cursor object to execute a 'Select' query to show (use fetchall method to store the query result in a variable 'queryone') the first 5 rows of the table created in the previous exercise. Print 'queryone' variable to see the result."
   ]
  },
  {
   "cell_type": "code",
   "execution_count": 5,
   "metadata": {
    "ExecuteTime": {
     "end_time": "2018-09-11T15:46:13.300399Z",
     "start_time": "2018-09-11T15:46:13.296410Z"
    },
    "cell_id": "22e10bc16d964b079257ea4e48f85e7e"
   },
   "outputs": [],
   "source": [
    "murcur = murcon.cursor()"
   ]
  },
  {
   "cell_type": "markdown",
   "metadata": {
    "cell_id": "2f621cffebbf40a98e7979bccb8d0cba",
    "hide_input": true
   },
   "source": [
    "### Solution code\n",
    "\n",
    "```python\n",
    "murcur.execute(\"SELECT * FROM murderstable LIMIT 5\")\n",
    "queryone = murcur.fetchall()\n",
    "print(queryone)\n",
    "```"
   ]
  },
  {
   "cell_type": "markdown",
   "metadata": {
    "cell_id": "aa29638a459a4b758fa5077423ef006f"
   },
   "source": [
    "There is an alternate way to execute a query using the read_sql_query() method from pandas. The method can be called on a pandas instance and takes two main arguments - the SQL query to be executed on the data set and the connection object which connects the database.\n",
    "\n",
    "### Exercise (b)\n",
    "\n",
    "Use the read_sql_query() method on the 'murdersdf' data frame to print the same output as Exercise (a)"
   ]
  },
  {
   "cell_type": "code",
   "execution_count": 6,
   "metadata": {
    "ExecuteTime": {
     "end_time": "2018-09-11T15:46:20.559058Z",
     "start_time": "2018-09-11T15:46:20.550048Z"
    },
    "cell_id": "c1f55b406005419c8bd2970e5557590c"
   },
   "outputs": [
    {
     "name": "stdout",
     "output_type": "stream",
     "text": [
      "         city     state  murders_2014  murders_2015  change\n",
      "0   Baltimore  Maryland           211           344     133\n",
      "1     Chicago  Illinois           411           478      67\n",
      "2     Houston     Texas           242           303      61\n",
      "3   Cleveland      Ohio            63           120      57\n",
      "4  Washington      D.C.           105           162      57\n"
     ]
    }
   ],
   "source": [
    "print(pd.read_sql_query(\"SELECT * FROM murderstable LIMIT 5\",murcon))"
   ]
  },
  {
   "cell_type": "markdown",
   "metadata": {
    "cell_id": "79c4aec841d04788850e8556b383271a",
    "hide_input": true
   },
   "source": [
    "### Solution code\n",
    "\n",
    "```python\n",
    "print(pd.read_sql_query(\"SELECT * FROM murderstable LIMIT 5\",murcon))\n",
    "```"
   ]
  },
  {
   "cell_type": "code",
   "execution_count": null,
   "metadata": {
    "cell_id": "b19c66adf3a44df7813b2b741dde4716"
   },
   "outputs": [],
   "source": [
    "#GROUP BY\n",
    "#GROUP BY ... HAVING\n",
    "#ORDER BY (DESC / ASC) - with multiple columns\n",
    "# UNION / UNION ALL\n",
    "#NESTED QUERIES\n",
    "#JOIN - \n"
   ]
  },
  {
   "cell_type": "markdown",
   "metadata": {
    "cell_id": "4991cde8438a43b28fba950f0e6e337f"
   },
   "source": [
    "## CRUD Operations\n",
    "\n",
    "Create, read, update and delete opearations performed on databases are oftened referred to as CRUD operations. For details on framing SQL queries for these operations please refer to any online SQL tutorial.\n",
    "\n",
    "The aim of the following set of exercises is to familiarize us with CRUD operations performed through python. We will the murders data set when needed.\n",
    "\n",
    "### Creating a table\n",
    "\n",
    "### Exercise\n",
    "\n",
    "Create a table with table name as 'murderstabletwo' and the same columns as the murderstable\n",
    "\n",
    "<b>Remember:</b> Use triple quotes to enclose arguments which span multiple-lines"
   ]
  },
  {
   "cell_type": "code",
   "execution_count": 7,
   "metadata": {
    "ExecuteTime": {
     "end_time": "2018-09-11T15:46:27.855558Z",
     "start_time": "2018-09-11T15:46:27.851596Z"
    },
    "cell_id": "2d0b5f7f55254d7bae932afb5e9d1039"
   },
   "outputs": [],
   "source": [
    "try:\n",
    "    murcur.execute(\"\"\"CREATE TABLE murderstabletwo (\n",
    "                      city TEXT,\n",
    "                      state TEXT,\n",
    "                      murders_2014 INTEGER,\n",
    "                      murders_2015 INTEGER,\n",
    "                      change INTEGER)\"\"\")\n",
    "except Exception as er:\n",
    "    print(er)"
   ]
  },
  {
   "cell_type": "markdown",
   "metadata": {
    "cell_id": "9d834b0df704410185b05b84b6995827",
    "collapsed": true,
    "hide_input": true
   },
   "source": [
    "### Solution code\n",
    "\n",
    "```python\n",
    "# Run above code\n",
    "```"
   ]
  },
  {
   "cell_type": "markdown",
   "metadata": {
    "cell_id": "b6fb3c4cbddd42a68b899c2e0121e92f"
   },
   "source": [
    "We have previously executed a SELECT query to read some data from the newly created table. That is an example of a read query.\n",
    "\n",
    "### Reading a table\n",
    "\n",
    "### Exercise\n",
    "\n",
    "Execute a read query, which reads the contents of the murderstable and sorts the output rows in a descending order of 2015 murders. Store the first five rows of this output in a variable ('topfive') and print it out."
   ]
  },
  {
   "cell_type": "code",
   "execution_count": 8,
   "metadata": {
    "ExecuteTime": {
     "end_time": "2018-09-11T15:46:42.751587Z",
     "start_time": "2018-09-11T15:46:42.747623Z"
    },
    "cell_id": "c1a51b5db3884556ac0b2d88c38f09a9"
   },
   "outputs": [
    {
     "name": "stdout",
     "output_type": "stream",
     "text": [
      "[('Chicago', 'Illinois', 411, 478, 67), ('New York', 'New York', 333, 352, 19), ('Baltimore', 'Maryland', 211, 344, 133), ('Houston', 'Texas', 242, 303, 61), ('Detroit', 'Michigan', 298, 295, -3)]\n"
     ]
    }
   ],
   "source": [
    "# use \"select\" query to read and fetchall to print.\n",
    "murcur.execute(\"SELECT * FROM murderstable ORDER BY murders_2015 DESC LIMIT 5\")\n",
    "topfive = murcur.fetchall()\n",
    "print(topfive)"
   ]
  },
  {
   "cell_type": "markdown",
   "metadata": {
    "cell_id": "f252598847f34afc8d6f7d8c37f146e7",
    "hide_input": true
   },
   "source": [
    "### Solution code\n",
    "\n",
    "```python\n",
    "murcur.execute(\"SELECT * FROM murderstable ORDER BY murders_2015 DESC LIMIT 5\")\n",
    "topfive = murcur.fetchall()\n",
    "print(topfive)\n",
    "```"
   ]
  },
  {
   "cell_type": "markdown",
   "metadata": {
    "cell_id": "2d0a7c019c7943ba855224aa9048bab4",
    "collapsed": true
   },
   "source": [
    "### Inserting into a table\n",
    "\n",
    "### Exercise\n",
    "\n",
    "Insert the top five rows of data in the 'topfive' list, into the second table ('murderstabletwo') created previously. Use the 'executemany' function in order to insert multiple records using a single query. Retrieve the contents of the 'murderstabletwo' using a SELECT query and store the output into a variable 'querytwo'. Print out 'querytwo'."
   ]
  },
  {
   "cell_type": "code",
   "execution_count": 9,
   "metadata": {
    "ExecuteTime": {
     "end_time": "2018-09-11T15:46:55.838908Z",
     "start_time": "2018-09-11T15:46:55.834921Z"
    },
    "cell_id": "3ca8311c09ea4eaaa6d29a769bc89443"
   },
   "outputs": [
    {
     "name": "stdout",
     "output_type": "stream",
     "text": [
      "[('Chicago', 'Illinois', 411, 478, 67), ('New York', 'New York', 333, 352, 19), ('Baltimore', 'Maryland', 211, 344, 133), ('Houston', 'Texas', 242, 303, 61), ('Detroit', 'Michigan', 298, 295, -3)]\n"
     ]
    }
   ],
   "source": [
    "# In this case, executemany() method takes two arguments, the sql query and the data frame which contains values of each row.\n",
    "# Use '?' as placeholder for values within the query. This is a more secure way of passing arguments as is explained below.\n",
    "murcur.executemany(\"INSERT INTO murderstabletwo VALUES (?,?,?,?,?)\",topfive)\n",
    "murcur.execute(\"SELECT * FROM murderstabletwo\")\n",
    "querytwo = murcur.fetchall()\n",
    "print(querytwo)"
   ]
  },
  {
   "cell_type": "markdown",
   "metadata": {
    "cell_id": "e34a6e7c0b294b93baf2f323ac11cf84",
    "hide_input": true
   },
   "source": [
    "### Solution code\n",
    "\n",
    "```python\n",
    "murcur.executemany(\"INSERT INTO murderstabletwo VALUES (?,?,?,?,?)\",topfive)\n",
    "murcur.execute(\"SELECT * FROM murderstabletwo\")\n",
    "querytwo = murcur.fetchall()\n",
    "print(querytwo)\n",
    "```"
   ]
  },
  {
   "cell_type": "markdown",
   "metadata": {
    "cell_id": "b98be3cdf9e94dfd8d2b271fb5412a92"
   },
   "source": [
    "We used '?' as a placeholder in the above query. This is because, using %s to pass arguments to the SQL execute method is insecure, as the string input is taken in as entered, and it may contain SQL key words which may perform unintentional actions and lead to a SQL injection attack. Using ? ensures that the user input is sanitized and processed in the query.\n",
    "\n",
    "### Updating a row in the table\n",
    "\n",
    "### Exercise\n",
    "\n",
    "Make 'Chicago' the safest city. Update the 2015 murders value for Chicago as zero. Retreive the updated contents of 'murderstabletwo' and store them in a variable 'querythree'. Print 'querythree'."
   ]
  },
  {
   "cell_type": "code",
   "execution_count": 11,
   "metadata": {
    "ExecuteTime": {
     "end_time": "2018-09-11T15:47:07.492911Z",
     "start_time": "2018-09-11T15:47:07.488918Z"
    },
    "cell_id": "a4e6230379fa4a4a89ab74fc3fa552d5"
   },
   "outputs": [
    {
     "name": "stdout",
     "output_type": "stream",
     "text": [
      "[('Chicago', 'Illinois', 411, 0, 67), ('New York', 'New York', 333, 352, 19), ('Baltimore', 'Maryland', 211, 344, 133), ('Houston', 'Texas', 242, 303, 61), ('Detroit', 'Michigan', 298, 100, -3)]\n"
     ]
    }
   ],
   "source": [
    "murcur.execute(\"UPDATE murderstabletwo SET murders_2015=0 WHERE city='Chicago'\")\n",
    "murcur.execute(\"SELECT * FROM murderstabletwo\")\n",
    "querythree = murcur.fetchall()\n",
    "print(querythree)"
   ]
  },
  {
   "cell_type": "markdown",
   "metadata": {
    "cell_id": "43e4d2d0db9247f1808ad0a983191467",
    "hide_input": true
   },
   "source": [
    "### Solution code\n",
    "\n",
    "```python\n",
    "murcur.execute(\"UPDATE murderstabletwo SET murders_2015=0 WHERE city='Chicago'\")\n",
    "murcur.execute(\"SELECT * FROM murderstabletwo\")\n",
    "querythree = murcur.fetchall()\n",
    "print(querythree)\n",
    "```"
   ]
  },
  {
   "cell_type": "markdown",
   "metadata": {
    "cell_id": "14a4d759854f4ad28d5ee6a79733d613"
   },
   "source": [
    "### Deleting Rows and Dropping Tables\n",
    "\n",
    "Deleting rows is the same as Update query. As in SQL, deleting only deletes the data and does not delete the table itself. 'Drop' is the command that can be used to delete a table\n",
    "\n",
    "### Exercise\n",
    "\n",
    "Delete the table 'murderstabletwo' and 'murderstable'"
   ]
  },
  {
   "cell_type": "code",
   "execution_count": 12,
   "metadata": {
    "ExecuteTime": {
     "end_time": "2018-09-11T15:47:10.973222Z",
     "start_time": "2018-09-11T15:47:10.968209Z"
    },
    "cell_id": "55b71f08f7a349dd89f229c156366ae3"
   },
   "outputs": [],
   "source": [
    "try:\n",
    "    murcur.execute(\"DROP TABLE murderstable\")\n",
    "    murcur.execute(\"DROP TABLE murderstabletwo\")\n",
    "except Exception as e:\n",
    "    print(e)"
   ]
  },
  {
   "cell_type": "markdown",
   "metadata": {
    "cell_id": "46889cc121d04f67950799a1a21cf70e",
    "collapsed": true,
    "hide_input": true
   },
   "source": [
    "### Solution code\n",
    "\n",
    "```python\n",
    "# Run above code\n",
    "```"
   ]
  },
  {
   "cell_type": "markdown",
   "metadata": {
    "cell_id": "8d0a7fca54f8498280293b62f29cb15b"
   },
   "source": [
    "## Commit, rollback and close\n",
    "\n",
    "The operations performed to the database can all be saved by calling the commit method on the connection object. Another method 'rollback' can rollback all the changes done to the database after the last commit. 'Close' method called on the connection object closes the connection to the database.\n",
    "\n",
    "### Exercise\n",
    "\n",
    "Rollback changes made to the database. Commit the changes and close the connection."
   ]
  },
  {
   "cell_type": "code",
   "execution_count": 13,
   "metadata": {
    "ExecuteTime": {
     "end_time": "2018-09-11T15:47:16.661828Z",
     "start_time": "2018-09-11T15:47:16.656815Z"
    },
    "cell_id": "e0aa369780454432854a44d4e2063c41"
   },
   "outputs": [],
   "source": [
    "try:\n",
    "    murcon.rollback()\n",
    "    murcon.commit()\n",
    "    murcon.close()\n",
    "except Exception as e:\n",
    "    print(e)"
   ]
  },
  {
   "cell_type": "markdown",
   "metadata": {
    "cell_id": "b32e9e4ea4c14029ab2d0e8daeebec08",
    "collapsed": true,
    "hide_input": true
   },
   "source": [
    "### Solution code\n",
    "\n",
    "```python\n",
    "# Run above code\n",
    "```"
   ]
  },
  {
   "cell_type": "code",
   "execution_count": 14,
   "metadata": {
    "cell_id": "4e403082d6374189ad9290b4edc18a56"
   },
   "outputs": [
    {
     "ename": "ProgrammingError",
     "evalue": "Cannot operate on a closed database.",
     "output_type": "error",
     "traceback": [
      "\u001b[0;31m---------------------------------------------------------------------------\u001b[0m",
      "\u001b[0;31mProgrammingError\u001b[0m                          Traceback (most recent call last)",
      "\u001b[0;32m<ipython-input-14-b7249958a472>\u001b[0m in \u001b[0;36m<module>\u001b[0;34m\u001b[0m\n\u001b[1;32m      1\u001b[0m \u001b[0;32mtry\u001b[0m\u001b[0;34m:\u001b[0m\u001b[0;34m\u001b[0m\u001b[0m\n\u001b[0;32m----> 2\u001b[0;31m     \u001b[0mmurcur\u001b[0m\u001b[0;34m.\u001b[0m\u001b[0mexecute\u001b[0m\u001b[0;34m(\u001b[0m\u001b[0;34m\"UPDATE murderstabletwo SET murders_2015 = 0 WHERE city = 'Chicago' \"\u001b[0m\u001b[0;34m)\u001b[0m\u001b[0;34m\u001b[0m\u001b[0m\n\u001b[0m\u001b[1;32m      3\u001b[0m     \u001b[0mmurcur\u001b[0m\u001b[0;34m.\u001b[0m\u001b[0mexecute\u001b[0m\u001b[0;34m(\u001b[0m\u001b[0;34m\"UPDATE murderstabletwo SET murders_2015 = 100 WHERE city = 'Detroit' \"\u001b[0m\u001b[0;34m)\u001b[0m\u001b[0;34m\u001b[0m\u001b[0m\n",
      "\u001b[0;31mProgrammingError\u001b[0m: Cannot operate on a closed database.",
      "\nDuring handling of the above exception, another exception occurred:\n",
      "\u001b[0;31mProgrammingError\u001b[0m                          Traceback (most recent call last)",
      "\u001b[0;32m<ipython-input-14-b7249958a472>\u001b[0m in \u001b[0;36m<module>\u001b[0;34m\u001b[0m\n\u001b[1;32m      4\u001b[0m     \u001b[0mmurcon\u001b[0m\u001b[0;34m.\u001b[0m\u001b[0mcommit\u001b[0m\u001b[0;34m(\u001b[0m\u001b[0;34m)\u001b[0m\u001b[0;34m\u001b[0m\u001b[0m\n\u001b[1;32m      5\u001b[0m \u001b[0;32mexcept\u001b[0m \u001b[0mException\u001b[0m \u001b[0;32mas\u001b[0m \u001b[0me\u001b[0m\u001b[0;34m:\u001b[0m\u001b[0;34m\u001b[0m\u001b[0m\n\u001b[0;32m----> 6\u001b[0;31m     \u001b[0mmurcon\u001b[0m\u001b[0;34m.\u001b[0m\u001b[0mrollback\u001b[0m\u001b[0;34m(\u001b[0m\u001b[0;34m)\u001b[0m\u001b[0;34m\u001b[0m\u001b[0m\n\u001b[0m\u001b[1;32m      7\u001b[0m     \u001b[0mprint\u001b[0m\u001b[0;34m(\u001b[0m\u001b[0me\u001b[0m\u001b[0;34m)\u001b[0m\u001b[0;34m\u001b[0m\u001b[0m\n",
      "\u001b[0;31mProgrammingError\u001b[0m: Cannot operate on a closed database."
     ]
    }
   ],
   "source": [
    "try:\n",
    "    murcur.execute(\"UPDATE murderstabletwo SET murders_2015 = 0 WHERE city = 'Chicago' \")\n",
    "    murcur.execute(\"UPDATE murderstabletwo SET murders_2015 = 100 WHERE city = 'Detroit' \")\n",
    "    murcon.commit()\n",
    "except Exception as e:\n",
    "    murcon.rollback()\n",
    "    print(e)\n"
   ]
  },
  {
   "cell_type": "code",
   "execution_count": null,
   "metadata": {
    "cell_id": "21b9b94c347246a5868785ba9eb2ee9e"
   },
   "outputs": [],
   "source": []
  }
 ],
 "metadata": {
  "celltoolbar": "Edit Metadata",
  "executed_sections": [],
  "kernelspec": {
   "display_name": "Python 3",
   "language": "python",
   "name": "python3"
  },
  "language_info": {
   "codemirror_mode": {
    "name": "ipython",
    "version": 3
   },
   "file_extension": ".py",
   "mimetype": "text/x-python",
   "name": "python",
   "nbconvert_exporter": "python",
   "pygments_lexer": "ipython3",
   "version": "3.6.5"
  }
 },
 "nbformat": 4,
 "nbformat_minor": 2
}
