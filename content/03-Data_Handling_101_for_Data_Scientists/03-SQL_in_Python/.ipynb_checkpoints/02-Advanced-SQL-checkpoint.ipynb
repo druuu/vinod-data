{
 "cells": [
  {
   "cell_type": "markdown",
   "metadata": {
    "cell_id": "3d43bf92dd2947b593d61bec984770a9",
    "tags": [
     "s1",
     "content",
     "l1"
    ]
   },
   "source": [
    "# Advanced SQL\n",
    "\n",
    "After handling basic sql queries through Python, let us look at slightly more advanced SQL queries and their execution through Python's sqlite module. SQL concepts like nested queries, merges, join operations are some of the basic concepts among advanced sql queries. In order to execute queries and practice these concepts, we need to first load data. Most of these concepts involve more than one table, so we will load and work with data among two tables.\n",
    "\n",
    "## Introduction to Fandango dataset\n",
    "\n",
    "Fandango is an online ticketing platform for movies. In order to support user's ticket buying decision, Fandango has viewer reviews and ratings for movie listings. This Fandango data set consists of two files - Fandango scrape and Fandango score comparison. The Fandango scrape consists of the list of movies on Fandango and their ratings. The score comparison file consists of the movie name and compares Fandango's movie score with that of other movie review websites like rotten tomatoes and metacritic.\n",
    "\n",
    "### Exercise\n",
    "\n",
    "Connect to fandangodb.db and load the two data sets, fandango_scrape and fandango_score_comparison into two tables 'fscrape' and 'fscore' respectively."
   ]
  },
  {
   "cell_type": "code",
   "execution_count": 72,
   "metadata": {
    "cell_id": "7a7e4f9a152b4eae9f6cc12aa4495ab2",
    "tags": [
     "s1",
     "ce",
     "l1"
    ]
   },
   "outputs": [],
   "source": [
    "import sqlite3\n",
    "import csv\n",
    "import pandas as pd\n",
    "\n",
    "# Connecting to the database\n",
    "fancon = sqlite3.connect(':memory:')\n",
    "fancon.execute(\"PRAGMA foreign_keys = 1\")\n",
    "\n",
    "# Reading data into tables\n",
    "scrapedf = pd.read_csv('https://raw.githubusercontent.com/colaberry/538data/master/fandango/fandango_scrape.csv')\n",
    "scoredf = pd.read_csv('https://raw.githubusercontent.com/colaberry/538data/master/fandango/fandango_score_comparison.csv')\n",
    "scrapedf.to_sql(name='fscrape',con=fancon,if_exists='append',index=False)\n",
    "scoredf.to_sql(name='fscore',con=fancon,if_exists='append',index=False)"
   ]
  },
  {
   "cell_type": "code",
   "execution_count": 73,
   "metadata": {
    "cell_id": "8f02a44a5bb74d97870e8df9997cc26f"
   },
   "outputs": [
    {
     "name": "stdout",
     "output_type": "stream",
     "text": [
      "                          FILM  STARS  RATING  VOTES\n",
      "0  Fifty Shades of Grey (2015)    4.0     3.9  34846\n",
      "1        Jurassic World (2015)    4.5     4.5  34390\n",
      "2       American Sniper (2015)    5.0     4.8  34085\n",
      "3             Furious 7 (2015)    5.0     4.8  33538\n",
      "4            Inside Out (2015)    4.5     4.5  15749\n"
     ]
    }
   ],
   "source": [
    "print(pd.read_sql_query(\"SELECT * FROM fscrape LIMIT 5\",fancon))"
   ]
  },
  {
   "cell_type": "code",
   "execution_count": 74,
   "metadata": {
    "cell_id": "8845a29dfe2e47969c2e05d5d002ff12"
   },
   "outputs": [
    {
     "data": {
      "text/plain": [
       "[('Fifty Shades of Grey (2015)', 4.0, 3.9, 34846),\n",
       " ('Jurassic World (2015)', 4.5, 4.5, 34390),\n",
       " ('American Sniper (2015)', 5.0, 4.8, 34085),\n",
       " ('Furious 7 (2015)', 5.0, 4.8, 33538),\n",
       " ('Inside Out (2015)', 4.5, 4.5, 15749)]"
      ]
     },
     "execution_count": 74,
     "metadata": {},
     "output_type": "execute_result"
    }
   ],
   "source": [
    "fancur = fancon.cursor()\n",
    "fancur.execute(\"SELECT * FROM fscrape LIMIT 5\")\n",
    "fancur.fetchall()"
   ]
  },
  {
   "cell_type": "code",
   "execution_count": 75,
   "metadata": {
    "cell_id": "69d6fcd3cea64992bb1433cfc9b86ef2"
   },
   "outputs": [
    {
     "data": {
      "text/plain": [
       "[(510,)]"
      ]
     },
     "execution_count": 75,
     "metadata": {},
     "output_type": "execute_result"
    }
   ],
   "source": [
    "fancur = fancon.cursor()\n",
    "fancur.execute(\"SELECT count(*) FROM fscrape\")\n",
    "fancur.fetchall()"
   ]
  },
  {
   "cell_type": "code",
   "execution_count": 76,
   "metadata": {
    "cell_id": "238d33f19679421c83748123cfd06a54",
    "scrolled": true
   },
   "outputs": [
    {
     "data": {
      "text/plain": [
       "[('Avengers: Age of Ultron (2015)',\n",
       "  74,\n",
       "  86,\n",
       "  66,\n",
       "  7.1,\n",
       "  7.8,\n",
       "  5.0,\n",
       "  4.5,\n",
       "  3.7,\n",
       "  4.3,\n",
       "  3.3,\n",
       "  3.55,\n",
       "  3.9,\n",
       "  3.5,\n",
       "  4.5,\n",
       "  3.5,\n",
       "  3.5,\n",
       "  4.0,\n",
       "  1330,\n",
       "  271107,\n",
       "  14846,\n",
       "  0.5),\n",
       " ('Cinderella (2015)',\n",
       "  85,\n",
       "  80,\n",
       "  67,\n",
       "  7.5,\n",
       "  7.1,\n",
       "  5.0,\n",
       "  4.5,\n",
       "  4.25,\n",
       "  4.0,\n",
       "  3.35,\n",
       "  3.75,\n",
       "  3.55,\n",
       "  4.5,\n",
       "  4.0,\n",
       "  3.5,\n",
       "  4.0,\n",
       "  3.5,\n",
       "  249,\n",
       "  65709,\n",
       "  12640,\n",
       "  0.5),\n",
       " ('Ant-Man (2015)',\n",
       "  80,\n",
       "  90,\n",
       "  64,\n",
       "  8.1,\n",
       "  7.8,\n",
       "  5.0,\n",
       "  4.5,\n",
       "  4.0,\n",
       "  4.5,\n",
       "  3.2,\n",
       "  4.05,\n",
       "  3.9,\n",
       "  4.0,\n",
       "  4.5,\n",
       "  3.0,\n",
       "  4.0,\n",
       "  4.0,\n",
       "  627,\n",
       "  103660,\n",
       "  12055,\n",
       "  0.5),\n",
       " ('Do You Believe? (2015)',\n",
       "  18,\n",
       "  84,\n",
       "  22,\n",
       "  4.7,\n",
       "  5.4,\n",
       "  5.0,\n",
       "  4.5,\n",
       "  0.9,\n",
       "  4.2,\n",
       "  1.1,\n",
       "  2.35,\n",
       "  2.7,\n",
       "  1.0,\n",
       "  4.0,\n",
       "  1.0,\n",
       "  2.5,\n",
       "  2.5,\n",
       "  31,\n",
       "  3136,\n",
       "  1793,\n",
       "  0.5),\n",
       " ('Hot Tub Time Machine 2 (2015)',\n",
       "  14,\n",
       "  28,\n",
       "  29,\n",
       "  3.4,\n",
       "  5.1,\n",
       "  3.5,\n",
       "  3.0,\n",
       "  0.7,\n",
       "  1.4,\n",
       "  1.45,\n",
       "  1.7,\n",
       "  2.55,\n",
       "  0.5,\n",
       "  1.5,\n",
       "  1.5,\n",
       "  1.5,\n",
       "  2.5,\n",
       "  88,\n",
       "  19560,\n",
       "  1021,\n",
       "  0.5)]"
      ]
     },
     "execution_count": 76,
     "metadata": {},
     "output_type": "execute_result"
    }
   ],
   "source": [
    "fancur = fancon.cursor()\n",
    "fancur.execute(\"SELECT * FROM fscore LIMIT 5\")\n",
    "fancur.fetchall()"
   ]
  },
  {
   "cell_type": "markdown",
   "metadata": {
    "cell_id": "732052b5506146259fa53ff3d08287bd",
    "collapsed": true,
    "hide_input": true,
    "tags": [
     "s1",
     "l1",
     "hint"
    ]
   },
   "source": [
    "### Solution code\n",
    "\n",
    "```python\n",
    "# Run above code\n",
    "```"
   ]
  },
  {
   "cell_type": "markdown",
   "metadata": {
    "cell_id": "bcc6b337556548c1a055b25916ea63d4",
    "tags": [
     "l2",
     "content",
     "s2"
    ]
   },
   "source": [
    "In the above step we have loaded two files fandango_score_comparison and fandango_scrape into two dataframes. Let us verify the success of the loading operation by visualizing the dataframes.\n",
    "\n",
    "### Exercise\n",
    "\n",
    "Visualize the heads of both data frames created in the step above. Read and understand the nature of the data."
   ]
  },
  {
   "cell_type": "code",
   "execution_count": 77,
   "metadata": {
    "cell_id": "6e575cc4bc134a0987b98e6bdbe88781",
    "tags": [
     "l2",
     "ce",
     "s2"
    ]
   },
   "outputs": [
    {
     "name": "stdout",
     "output_type": "stream",
     "text": [
      "                          FILM  STARS  RATING  VOTES\n",
      "0  Fifty Shades of Grey (2015)    4.0     3.9  34846\n",
      "1        Jurassic World (2015)    4.5     4.5  34390\n",
      "2       American Sniper (2015)    5.0     4.8  34085\n",
      "3             Furious 7 (2015)    5.0     4.8  33538\n",
      "4            Inside Out (2015)    4.5     4.5  15749                              FILM  RottenTomatoes  RottenTomatoes_User  \\\n",
      "0  Avengers: Age of Ultron (2015)              74                   86   \n",
      "1               Cinderella (2015)              85                   80   \n",
      "2                  Ant-Man (2015)              80                   90   \n",
      "3          Do You Believe? (2015)              18                   84   \n",
      "4   Hot Tub Time Machine 2 (2015)              14                   28   \n",
      "\n",
      "   Metacritic  Metacritic_User  IMDB  Fandango_Stars  Fandango_Ratingvalue  \\\n",
      "0          66              7.1   7.8             5.0                   4.5   \n",
      "1          67              7.5   7.1             5.0                   4.5   \n",
      "2          64              8.1   7.8             5.0                   4.5   \n",
      "3          22              4.7   5.4             5.0                   4.5   \n",
      "4          29              3.4   5.1             3.5                   3.0   \n",
      "\n",
      "   RT_norm  RT_user_norm         ...           IMDB_norm  RT_norm_round  \\\n",
      "0     3.70           4.3         ...                3.90            3.5   \n",
      "1     4.25           4.0         ...                3.55            4.5   \n",
      "2     4.00           4.5         ...                3.90            4.0   \n",
      "3     0.90           4.2         ...                2.70            1.0   \n",
      "4     0.70           1.4         ...                2.55            0.5   \n",
      "\n",
      "   RT_user_norm_round  Metacritic_norm_round  Metacritic_user_norm_round  \\\n",
      "0                 4.5                    3.5                         3.5   \n",
      "1                 4.0                    3.5                         4.0   \n",
      "2                 4.5                    3.0                         4.0   \n",
      "3                 4.0                    1.0                         2.5   \n",
      "4                 1.5                    1.5                         1.5   \n",
      "\n",
      "   IMDB_norm_round  Metacritic_user_vote_count  IMDB_user_vote_count  \\\n",
      "0              4.0                        1330                271107   \n",
      "1              3.5                         249                 65709   \n",
      "2              4.0                         627                103660   \n",
      "3              2.5                          31                  3136   \n",
      "4              2.5                          88                 19560   \n",
      "\n",
      "   Fandango_votes  Fandango_Difference  \n",
      "0           14846                  0.5  \n",
      "1           12640                  0.5  \n",
      "2           12055                  0.5  \n",
      "3            1793                  0.5  \n",
      "4            1021                  0.5  \n",
      "\n",
      "[5 rows x 22 columns]\n"
     ]
    }
   ],
   "source": [
    "# Use .head(5) function on the dataframes to visualize first 5 rows of the dataframes.\n",
    "# Use print function to print both the dataframes in a single step.\n",
    "\n",
    "print(scrapedf.head(5),scoredf.head(5))"
   ]
  },
  {
   "cell_type": "markdown",
   "metadata": {
    "cell_id": "a2c849fb55d744e29b99fc68c06f5c60",
    "hide_input": true,
    "tags": [
     "l2",
     "s2",
     "ans"
    ]
   },
   "source": [
    "### Solution code\n",
    "\n",
    "```python\n",
    "print(scrapedf.head(5),scoredf.head(5))\n",
    "```"
   ]
  },
  {
   "cell_type": "markdown",
   "metadata": {
    "cell_id": "b2deddf3784948fa9b819a88bf2911dd",
    "tags": [
     "l3",
     "s3",
     "content"
    ]
   },
   "source": [
    "Let us understand a bit more about the data, before using SQL queries to analyze it.\n",
    "\n",
    "### Exercise\n",
    "\n",
    "Find the total number of rows in both the tables and print them out. You may use the dataframes to count the data."
   ]
  },
  {
   "cell_type": "code",
   "execution_count": 78,
   "metadata": {
    "cell_id": "a4ee24a993c04f1c8d42609df6b22f8d",
    "tags": [
     "l3",
     "s3",
     "ce"
    ]
   },
   "outputs": [
    {
     "name": "stdout",
     "output_type": "stream",
     "text": [
      "Total number of records in fscrape table=510 and fscore table=146\n"
     ]
    }
   ],
   "source": [
    "# Use a simple print statement to print the number of rows\n",
    "# Use the length method on the dataframes\n",
    "\n",
    "print(\"Total number of records in fscrape table=%d and fscore table=%d\"%(len(scrapedf),len(scoredf)))"
   ]
  },
  {
   "cell_type": "markdown",
   "metadata": {
    "cell_id": "6ee917864a404614adc5e8b0c86559d8",
    "collapsed": true,
    "hide_input": true,
    "tags": [
     "l3",
     "s3",
     "ans"
    ]
   },
   "source": [
    "### Solution code\n",
    "\n",
    "```python\n",
    "print(\"Total number of records in fscrape table=%d and fscore table=%d\"%(len(scrapedf),len(scoredf)))\n",
    "```"
   ]
  },
  {
   "cell_type": "code",
   "execution_count": 13,
   "metadata": {
    "cell_id": "eb9aa988f6784d6eb1c1552ee4f727bc"
   },
   "outputs": [
    {
     "data": {
      "text/plain": [
       "[(146,), (510,)]"
      ]
     },
     "execution_count": 13,
     "metadata": {},
     "output_type": "execute_result"
    }
   ],
   "source": [
    "fancur = fancon.cursor()\n",
    "fancur.execute(\"\"\"SELECT count(*) FROM fscrape\n",
    "               UNION \n",
    "               SELECT count(*) FROM fscore \"\"\")\n",
    "fancur.fetchall()"
   ]
  },
  {
   "cell_type": "code",
   "execution_count": 14,
   "metadata": {
    "cell_id": "421aefbf261646c495f999571ba1d839"
   },
   "outputs": [
    {
     "data": {
      "text/plain": [
       "[(146,), (510,)]"
      ]
     },
     "execution_count": 14,
     "metadata": {},
     "output_type": "execute_result"
    }
   ],
   "source": [
    "fancur = fancon.cursor()\n",
    "fancur.execute(\"\"\"SELECT count(*) FROM fscore\n",
    "               UNION \n",
    "               SELECT count(*) FROM fscrape \"\"\")\n",
    "fancur.fetchall()"
   ]
  },
  {
   "cell_type": "code",
   "execution_count": 19,
   "metadata": {
    "cell_id": "5208800b1d2e481882bf7b1e95785777"
   },
   "outputs": [
    {
     "ename": "OperationalError",
     "evalue": "SELECTs to the left and right of UNION do not have the same number of result columns",
     "output_type": "error",
     "traceback": [
      "\u001b[0;31m---------------------------------------------------------------------------\u001b[0m",
      "\u001b[0;31mOperationalError\u001b[0m                          Traceback (most recent call last)",
      "\u001b[0;32m<ipython-input-19-10b9f8edb2ed>\u001b[0m in \u001b[0;36m<module>\u001b[0;34m\u001b[0m\n\u001b[1;32m      2\u001b[0m fancur.execute(\"\"\"SELECT * FROM fscore \n\u001b[1;32m      3\u001b[0m                \u001b[0mUNION\u001b[0m\u001b[0;34m\u001b[0m\u001b[0m\n\u001b[0;32m----> 4\u001b[0;31m                SELECT * FROM fscrape \"\"\")\n\u001b[0m\u001b[1;32m      5\u001b[0m \u001b[0mfancur\u001b[0m\u001b[0;34m.\u001b[0m\u001b[0mfetchall\u001b[0m\u001b[0;34m(\u001b[0m\u001b[0;34m)\u001b[0m\u001b[0;34m\u001b[0m\u001b[0m\n\u001b[1;32m      6\u001b[0m \u001b[0;34m\u001b[0m\u001b[0m\n",
      "\u001b[0;31mOperationalError\u001b[0m: SELECTs to the left and right of UNION do not have the same number of result columns"
     ]
    }
   ],
   "source": [
    "fancur = fancon.cursor()\n",
    "fancur.execute(\"\"\"SELECT * FROM fscore \n",
    "               UNION \n",
    "               SELECT * FROM fscrape \"\"\")\n",
    "fancur.fetchall()\n",
    "\n",
    "#cannot join, because no. of columns are different in two tables"
   ]
  },
  {
   "cell_type": "code",
   "execution_count": 20,
   "metadata": {
    "cell_id": "48371e60ab42497b8155d7b79b872309"
   },
   "outputs": [
    {
     "data": {
      "text/plain": [
       "[('Ant-Man (2015)', 12055), ('Ant-Man (2015)', 103660)]"
      ]
     },
     "execution_count": 20,
     "metadata": {},
     "output_type": "execute_result"
    }
   ],
   "source": [
    "fancur = fancon.cursor()\n",
    "fancur.execute(\"\"\"SELECT FILM,VOTES FROM fscrape WHERE FILM='Ant-Man (2015)'\n",
    "               UNION \n",
    "               SELECT FILM,IMDB_user_vote_count FROM fscore WHERE FILM='Ant-Man (2015)' \"\"\")\n",
    "fancur.fetchall()\n",
    "\n",
    "# remember we lose the order here"
   ]
  },
  {
   "cell_type": "markdown",
   "metadata": {
    "cell_id": "f3acb08257ba4fa2832b6fee6272995e",
    "tags": [
     "l4",
     "s4",
     "content"
    ]
   },
   "source": [
    "## Union, Intersection and Minus\n",
    "\n",
    "<img src=\"../../../images/intersect_union_minus.png\" style=\"width: 65vw;\"> <br>\n",
    "\n",
    "Union is a set theory concept which says that it is a collection of all unique elements of two or more sets. When performed among two tables say by specifying column name, it outputs the collection of all unique values that appear in the common column, of either or both tables. Intersection outputs the values that are appear in both tables. Note that when performed on same inputs, intersection will always be a subset of Union. Minus operation results in values/records, featuring in one table but not featuring in the other - i.e. A-B = A-(Intersection(A,B)).\n",
    "\n",
    "### Exercise\n",
    "\n",
    "Execute Union and Intersection operations on 'FILM' column of 'fscore' and 'fscrape' tables to understand the data better as well as understand the operations better.\n",
    "* 1) Execute the SQL query\n",
    "* 2) Fetch the output and store it in an array\n",
    "* 3) Print the first five rows and size of the array to show total number of records in output"
   ]
  },
  {
   "cell_type": "code",
   "execution_count": 21,
   "metadata": {
    "cell_id": "ca84c1bbf4b14cd5b2e47b8cb9a875e8",
    "tags": [
     "l4",
     "s4",
     "ce"
    ]
   },
   "outputs": [],
   "source": [
    "fancur = fancon.cursor()\n",
    "\n",
    "# Modify the code below\n",
    "fancur.execute(\"SELECT FILM FROM fscore UNION SELECT FILM FROM fscrape\")\n",
    "unionout = fancur.fetchall()\n",
    "fancur.execute(\"SELECT FILM FROM fscore INTERSECT SELECT FILM FROM fscrape\")\n",
    "intersectout = fancur.fetchall()\n",
    "fancur.execute(\"SELECT FILM FROM fscrape EXCEPT SELECT FILM FROM fscore\")\n",
    "exceptout = fancur.fetchall()\n",
    "\n",
    "# 'MINUS' keyword is not supported in sqlite module at present. 'EXCEPT' keyword can be used as a substitute.\n",
    "# The EXCEPT query returns the same output as MINUS."
   ]
  },
  {
   "cell_type": "code",
   "execution_count": 22,
   "metadata": {
    "cell_id": "3f5d990c3c2c4ca0bb74966c7f12a285"
   },
   "outputs": [
    {
     "name": "stdout",
     "output_type": "stream",
     "text": [
      "[(' Like Sunday, Like Rain (2015)',), (\"'71 (2015)\",), ('1001 Grams (2015)',), ('12 Golden Ducks (2015)',), ('24 Days (2015)',)] [(\"'71 (2015)\",), ('5 Flights Up (2015)',), ('A Little Chaos (2015)',), ('A Most Violent Year (2014)',), ('About Elly (2015)',)] [(' Like Sunday, Like Rain (2015)',), ('1001 Grams (2015)',), ('12 Golden Ducks (2015)',), ('24 Days (2015)',), ('3 1/2 Minutes, Ten Bullets (2015)',)]\n",
      "510 145 364\n"
     ]
    }
   ],
   "source": [
    "print(unionout[:5],intersectout[:5],exceptout[:5])\n",
    "print(len(unionout),len(intersectout),len(exceptout))"
   ]
  },
  {
   "cell_type": "markdown",
   "metadata": {
    "cell_id": "3963e86d937c4c1fa811d6f0be71b6b0",
    "hide_input": true,
    "tags": [
     "s4",
     "l4",
     "ans"
    ]
   },
   "source": [
    "### Solution code\n",
    "\n",
    "```python\n",
    "fancur.execute(\"SELECT FILM FROM fscore UNION SELECT FILM FROM fscrape\")\n",
    "unionout = fancur.fetchall()\n",
    "fancur.execute(\"SELECT FILM FROM fscore INTERSECT SELECT FILM FROM fscrape\")\n",
    "intersectout = fancur.fetchall()\n",
    "fancur.execute(\"SELECT FILM FROM fscrape EXCEPT SELECT FILM FROM fscore\")\n",
    "exceptout = fancur.fetchall()\n",
    "print(unionout[:5],intersectout[:5],exceptout[:5])\n",
    "print(\"total number of rows in union=%d, total number of rows in intersection=%d, total number of rows in minus=%d\"%(len(unionout),len(intersectout),len(exceptout)))\n",
    "```"
   ]
  },
  {
   "cell_type": "markdown",
   "metadata": {
    "cell_id": "bf1fe557618b4f8b947117e9d21ececb",
    "tags": [
     "l5",
     "content",
     "s5"
    ]
   },
   "source": [
    "### Nested query\n",
    "\n",
    "A Nested query, also referred to as sub-query, is a query within a query. This means that the innermost query is executed first and the output of that query serves as an input to the query which surrounds the embedded query.\n",
    "\n",
    "From above analysis we can see that fscrape is a bigger list and fscore is a smaller list of movies. Let us retrieve complete Fandango information for all movies that have an IMDB score of more than 7.5\n",
    "\n",
    "#### Exercise\n",
    "\n",
    "Retrieve FILM, STARS, RATING, VOTES for all movies that have an IMDB rating greater than 7.5 in the fscore table. Note: Do not use 'JOIN' operation to solve this exercise."
   ]
  },
  {
   "cell_type": "code",
   "execution_count": 30,
   "metadata": {
    "cell_id": "f735d66779d04d2f8a5cefd5a5d9fcf4",
    "tags": [
     "l5",
     "ce",
     "s5"
    ]
   },
   "outputs": [
    {
     "name": "stdout",
     "output_type": "stream",
     "text": [
      "[('Inside Out (2015)', 4.5, 4.5, 15749), ('Kingsman: The Secret Service (2015)', 4.5, 4.2, 15205), ('Avengers: Age of Ultron (2015)', 5.0, 4.5, 14846), ('Ant-Man (2015)', 5.0, 4.5, 12055), ('Mad Max: Fury Road (2015)', 4.5, 4.3, 10509)]\n",
      "Total no. of rows = 27\n"
     ]
    }
   ],
   "source": [
    "# Modify the code below\n",
    "fancur.execute(\"\"\"SELECT film,stars,rating,votes FROM fscrape \n",
    "WHERE film IN \n",
    "(SELECT film FROM fscore WHERE imdb > 7.5)\n",
    "\"\"\")\n",
    "nestout = fancur.fetchall()\n",
    "print(nestout[:5])\n",
    "print(\"Total no. of rows = %d\"%len(nestout))"
   ]
  },
  {
   "cell_type": "markdown",
   "metadata": {
    "cell_id": "6af9e40cbce54458a30316d6e039b891",
    "hide_input": true,
    "tags": [
     "l5",
     "s5",
     "ans"
    ]
   },
   "source": [
    "### Solution code\n",
    "\n",
    "```python\n",
    "fancur.execute('''SELECT * FROM fscrape\n",
    "                WHERE FILM IN (\n",
    "                SELECT FILM FROM fscore\n",
    "                WHERE IMDB>7.5)''')\n",
    "nestout = fancur.fetchall()\n",
    "print(nestout[:5])\n",
    "print(\"total number of rows=%d\"%len(nestout))\n",
    "```"
   ]
  },
  {
   "cell_type": "code",
   "execution_count": 23,
   "metadata": {
    "cell_id": "fad59a1920bb4d208e3473b402d25978"
   },
   "outputs": [
    {
     "name": "stdout",
     "output_type": "stream",
     "text": [
      "[('Fifty Shades of Grey (2015)', 4.0, 3.9, 34846), ('Cinderella (2015)', 5.0, 4.5, 12640), ('Trainwreck (2015)', 4.5, 4.1, 8381)]\n",
      "Total no. of rows = 3\n"
     ]
    }
   ],
   "source": [
    "fancur.execute(\"\"\" SELECT * FROM fscrape WHERE film IN \n",
    "(SELECT film FROM fscore WHERE rottentomatoes=85 OR rottentomatoes=25)\n",
    "               \"\"\")\n",
    "nestout = fancur.fetchall()\n",
    "print(nestout[:5])\n",
    "print(\"Total no. of rows = %d\"%len(nestout))"
   ]
  },
  {
   "cell_type": "code",
   "execution_count": 24,
   "metadata": {
    "cell_id": "32c546c40f2a4d46a53824b79aeb9451"
   },
   "outputs": [
    {
     "name": "stdout",
     "output_type": "stream",
     "text": [
      "[('Fifty Shades of Grey (2015)', 4.0, 3.9, 34846), ('Jurassic World (2015)', 4.5, 4.5, 34390), ('American Sniper (2015)', 5.0, 4.8, 34085), ('Furious 7 (2015)', 5.0, 4.8, 33538), ('Inside Out (2015)', 4.5, 4.5, 15749)]\n",
      "Total no. of rows = 145\n"
     ]
    }
   ],
   "source": [
    "fancur.execute(\"\"\" SELECT * FROM fscrape WHERE film IN \n",
    "(SELECT film FROM fscore WHERE rottentomatoes < 85 OR rottentomatoes > 25)\n",
    "               \"\"\")\n",
    "nestout = fancur.fetchall()\n",
    "print(nestout[:5])\n",
    "print(\"Total no. of rows = %d\"%len(nestout))"
   ]
  },
  {
   "cell_type": "code",
   "execution_count": 25,
   "metadata": {
    "cell_id": "1ed5eca69a784c9c83eba29cf47cb14a"
   },
   "outputs": [
    {
     "name": "stdout",
     "output_type": "stream",
     "text": [
      "[('Jurassic World (2015)', 4.5, 4.5, 34390), ('American Sniper (2015)', 5.0, 4.8, 34085), ('Furious 7 (2015)', 5.0, 4.8, 33538), ('The Hobbit: The Battle of the Five Armies (2014)', 4.5, 4.3, 15337), ('Kingsman: The Secret Service (2015)', 4.5, 4.2, 15205)]\n",
      "Total no. of rows = 75\n"
     ]
    }
   ],
   "source": [
    "fancur.execute(\"\"\" SELECT * FROM fscrape WHERE film IN \n",
    "(SELECT film FROM fscore WHERE rottentomatoes < 85 AND rottentomatoes > 25)\n",
    "               \"\"\")\n",
    "nestout = fancur.fetchall()\n",
    "print(nestout[:5])\n",
    "print(\"Total no. of rows = %d\"%len(nestout))"
   ]
  },
  {
   "cell_type": "markdown",
   "metadata": {
    "cell_id": "9fd281c485ba4c4283e0c35ff55deb81",
    "tags": [
     "content",
     "l6",
     "s6"
    ]
   },
   "source": [
    "### Types of joins\n",
    "\n",
    "A join is an operation that is used to combine data from two tables, given that there is a common column in both of them. There are four types of joins:\n",
    "1) Inner join - returns common records among both the tables\n",
    "2) Right join - returns all records from right table, and the common records from the left table\n",
    "3) Left join - returns all records from left table, and the common records from the right table\n",
    "4) Full join - returns all records when the common record is either in table 1 or table 2.\n",
    "\n",
    "Lets understand what they actually mean by executing these operations on the two tables.\n",
    "\n",
    "#### Exercise (a)\n",
    "\n",
    "Execute inner join operation on the 'fscore' and 'fscrape' tables. Note that FILM is the common column among both tables."
   ]
  },
  {
   "cell_type": "code",
   "execution_count": 31,
   "metadata": {
    "cell_id": "bfa4542653a4461abdb9e0bbdd913a66"
   },
   "outputs": [
    {
     "name": "stdout",
     "output_type": "stream",
     "text": [
      "Collecting tabulate\n",
      "\u001b[?25l  Downloading https://files.pythonhosted.org/packages/c2/fd/202954b3f0eb896c53b7b6f07390851b1fd2ca84aa95880d7ae4f434c4ac/tabulate-0.8.3.tar.gz (46kB)\n",
      "\u001b[K    100% |████████████████████████████████| 51kB 2.0MB/s ta 0:00:011\n",
      "\u001b[?25hBuilding wheels for collected packages: tabulate\n",
      "  Running setup.py bdist_wheel for tabulate ... \u001b[?25ldone\n",
      "\u001b[?25h  Stored in directory: /home/jovyan/.cache/pip/wheels/2b/67/89/414471314a2d15de625d184d8be6d38a03ae1e983dbda91e84\n",
      "Successfully built tabulate\n",
      "Installing collected packages: tabulate\n",
      "Successfully installed tabulate-0.8.3\n"
     ]
    }
   ],
   "source": [
    "!pip install tabulate"
   ]
  },
  {
   "cell_type": "code",
   "execution_count": 34,
   "metadata": {
    "cell_id": "a79c35151af94f0b9b28b4ff6d561f22",
    "tags": [
     "ce",
     "l6",
     "s6"
    ]
   },
   "outputs": [
    {
     "name": "stdout",
     "output_type": "stream",
     "text": [
      "Film                                                                      RottenTomatoes    Metacritic    IMDB    Rating    Votes\n",
      "----------------------------------------------------------------------  ----------------  ------------  ------  --------  -------\n",
      "Fifty Shades of Grey (2015)                                                           25            46     4.2       3.9    34846\n",
      "Jurassic World (2015)                                                                 71            59     7.3       4.5    34390\n",
      "American Sniper (2015)                                                                72            72     7.4       4.8    34085\n",
      "Furious 7 (2015)                                                                      81            67     7.4       4.8    33538\n",
      "Inside Out (2015)                                                                     98            94     8.6       4.5    15749\n",
      "The Hobbit: The Battle of the Five Armies (2014)                                      61            59     7.5       4.3    15337\n",
      "Kingsman: The Secret Service (2015)                                                   75            58     7.8       4.2    15205\n",
      "Minions (2015)                                                                        54            56     6.7       4      14998\n",
      "Avengers: Age of Ultron (2015)                                                        74            66     7.8       4.5    14846\n",
      "Into the Woods (2014)                                                                 71            69     6         3.4    13055\n",
      "Cinderella (2015)                                                                     85            67     7.1       4.5    12640\n",
      "Ant-Man (2015)                                                                        80            64     7.8       4.5    12055\n",
      "Mad Max: Fury Road (2015)                                                             97            89     8.3       4.3    10509\n",
      "San Andreas (2015)                                                                    50            43     6.5       4.3     9749\n",
      "Unbroken (2014)                                                                       51            59     7.2       4.1     9443\n",
      "Spy (2015)                                                                            93            75     7.3       4.3     9418\n",
      "Magic Mike XXL (2015)                                                                 62            60     6.3       4.4     9363\n",
      "Trainwreck (2015)                                                                     85            75     6.7       4.1     8381\n",
      "Straight Outta Compton (2015)                                                         90            72     8.4       4.8     8096\n",
      "Tomorrowland (2015)                                                                   50            60     6.6       3.7     8077\n",
      "The Imitation Game (2014)                                                             90            73     8.1       4.6     8055\n",
      "Home (2015)                                                                           45            55     6.7       4.4     7705\n",
      "The Divergent Series: Insurgent (2015)                                                30            42     6.4       4.2     7123\n",
      "Selma (2014)                                                                          99            89     7.5       4.6     7025\n",
      "Annie (2014)                                                                          27            33     5.2       4.2     6835\n",
      "Taken 3 (2015)                                                                         9            26     6.1       4.1     6757\n",
      "The Wedding Ringer (2015)                                                             27            35     6.7       4.4     6506\n",
      "Ted 2 (2015)                                                                          46            48     6.6       4.1     6437\n",
      "Fantastic Four (2015)                                                                  9            27     4         2.7     6288\n",
      "Terminator Genisys (2015)                                                             26            38     6.9       4.2     6272\n",
      "Get Hard (2015)                                                                       29            34     6.1       3.9     5933\n",
      "Southpaw (2015)                                                                       59            57     7.8       4.6     5597\n",
      "Night at the Museum: Secret of the Tomb (2014)                                        50            47     6.3       4.1     5445\n",
      "Focus (2015)                                                                          57            56     6.6       3.9     4933\n",
      "Pitch Perfect 2 (2015)                                                                67            63     6.7       4.2     4577\n",
      "The SpongeBob Movie: Sponge Out of Water (2015)                                       78            62     6.1       3.3     4493\n",
      "Entourage (2015)                                                                      32            38     7.1       4.2     4279\n",
      "Birdman (2014)                                                                        92            88     7.9       3.7     4194\n",
      "Jupiter Ascending (2015)                                                              26            40     5.5       3.4     4122\n",
      "Paddington (2015)                                                                     98            77     7.2       4.3     4045\n",
      "Pixels (2015)                                                                         17            27     5.6       4.1     3886\n",
      "Vacation (2015)                                                                       27            34     6.3       3.8     3815\n",
      "Chappie (2015)                                                                        30            41     7         3.8     3642\n",
      "Ex Machina (2015)                                                                     92            78     7.7       4.1     3458\n",
      "Max (2015)                                                                            35            47     7         4.5     3412\n",
      "McFarland, USA (2015)                                                                 79            60     7.5       4.6     3364\n",
      "The Age of Adaline (2015)                                                             54            51     7.3       4.2     3325\n",
      "Insidious: Chapter 3 (2015)                                                           59            52     6.3       4.1     3276\n",
      "Top Five (2014)                                                                       86            81     6.5       3.5     3223\n",
      "Paul Blart: Mall Cop 2 (2015)                                                          5            13     4.3       3.5     3054\n",
      "The Boy Next Door (2015)                                                              10            30     4.6       3.6     2800\n",
      "Poltergeist (2015)                                                                    31            47     5         2.8     2704\n",
      "The Man From U.N.C.L.E. (2015)                                                        68            55     7.6       4.1     2686\n",
      "The Gift (2015)                                                                       93            77     7.6       3.7     2680\n",
      "Hot Pursuit (2015)                                                                     8            31     4.9       3.7     2618\n",
      "The Longest Ride (2015)                                                               31            33     7.2       4.5     2603\n",
      "Unfriended (2015)                                                                     60            59     5.9       2.7     2507\n",
      "Woman in Gold (2015)                                                                  52            51     7.4       4.4     2435\n",
      "Aloha (2015)                                                                          19            40     5.5       3.1     2284\n",
      "The DUFF (2015)                                                                       71            56     6.6       4.2     2273\n",
      "Dope (2015)                                                                           87            72     7.5       4.3     2195\n",
      "It Follows (2015)                                                                     96            83     6.9       2.9     2097\n",
      "Run All Night (2015)                                                                  60            59     6.6       4.1     2066\n",
      "The Gallows (2015)                                                                    16            30     4.4       2.9     1896\n",
      "The Second Best Exotic Marigold Hotel (2015)                                          62            51     6.6       3.9     1870\n",
      "Black or White (2015)                                                                 39            45     6.6       4.2     1862\n",
      "Project Almanac (2015)                                                                34            47     6.4       3.7     1834\n",
      "Do You Believe? (2015)                                                                18            22     5.4       4.5     1793\n",
      "Paper Towns (2015)                                                                    55            56     6.9       3.8     1750\n",
      "The Lazarus Effect (2015)                                                             14            31     5.2       3       1651\n",
      "Big Eyes (2014)                                                                       72            62     7         3.8     1501\n",
      "Ricki and the Flash (2015)                                                            64            54     6.2       3.7     1462\n",
      "Blackhat (2015)                                                                       34            51     5.4       2.8     1430\n",
      "Self/less (2015)                                                                      20            34     6.6       3.8     1415\n",
      "Mr. Holmes (2015)                                                                     87            67     7.4       4       1348\n",
      "The Woman In Black 2 Angel of Death (2015)                                            22            42     4.9       3       1333\n",
      "Still Alice (2015)                                                                    88            72     7.5       4.1     1258\n",
      "Seventh Son (2015)                                                                    12            30     5.5       3.2     1213\n",
      "Mortdecai (2015)                                                                      12            27     5.5       3.2     1196\n",
      "Strange Magic (2015)                                                                  17            25     5.7       3.4     1117\n",
      "Inherent Vice (2014)                                                                  73            81     6.7       2.9     1078\n",
      "Hot Tub Time Machine 2 (2015)                                                         14            29     5.1       3       1021\n",
      "The Gunman (2015)                                                                     17            39     5.8       3.4      996\n",
      "Sinister 2 (2015)                                                                     13            31     5.5       3.3      973\n",
      "Hitman: Agent 47 (2015)                                                                7            28     5.9       3.9      917\n",
      "Shaun the Sheep Movie (2015)                                                          99            81     7.4       4        896\n",
      "Love & Mercy (2015)                                                                   89            80     7.8       4        864\n",
      "Unfinished Business (2015)                                                            11            32     5.4       3.2      821\n",
      "The Loft (2015)                                                                       11            24     6.3       3.6      811\n",
      "Little Boy (2015)                                                                     20            30     7.4       4.3      811\n",
      "Far From The Madding Crowd (2015)                                                     84            71     7.2       4        804\n",
      "Amy (2015)                                                                            97            85     8         4.4      729\n",
      "Monkey Kingdom (2015)                                                                 94            72     7.3       4.2      701\n",
      "A Most Violent Year (2014)                                                            90            79     7.1       3.4      675\n",
      "American Ultra (2015)                                                                 46            50     6.5       3.7      638\n",
      "Me and Earl and The Dying Girl (2015)                                                 81            74     8.2       4.3      624\n",
      "True Story (2015)                                                                     45            50     6.3       3.2      540\n",
      "Danny Collins (2015)                                                                  77            58     7.1       4        531\n",
      "Cake (2015)                                                                           49            49     6.5       3.4      482\n",
      "Spare Parts (2015)                                                                    52            50     7.2       4.5      450\n",
      "While We're Young (2015)                                                              83            76     6.4       2.9      449\n",
      "The Water Diviner (2015)                                                              63            50     7.2       4        397\n",
      "Child 44 (2015)                                                                       26            41     6.4       3.7      308\n",
      "Mr. Turner (2014)                                                                     98            94     6.9       3.2      290\n",
      "I'll See You In My Dreams (2015)                                                      94            75     6.9       3.6      281\n",
      "What We Do in the Shadows (2015)                                                      96            75     7.6       4.3      259\n",
      "Irrational Man (2015)                                                                 42            53     6.9       3.5      252\n",
      "Wild Tales (2014)                                                                     96            77     8.2       4.1      235\n",
      "Black Sea (2015)                                                                      82            62     6.4       3.5      218\n",
      "The Vatican Tapes (2015)                                                              13            37     4.6       2.9      210\n",
      "'71 (2015)                                                                            97            83     7.2       3.5      192\n",
      "Clouds of Sils Maria (2015)                                                           89            78     6.8       3.4      162\n",
      "Testament of Youth (2015)                                                             81            77     7.3       3.9      127\n",
      "Infinitely Polar Bear (2015)                                                          80            64     7.2       3.9      124\n",
      "The End of the Tour (2015)                                                            92            84     7.9       4.1      121\n",
      "Two Days, One Night (2014)                                                            97            89     7.4       3.5      118\n",
      "The Overnight (2015)                                                                  82            65     6.9       3.3      110\n",
      "The Last Five Years (2015)                                                            60            60     6         4.4       99\n",
      "Maggie (2015)                                                                         54            52     5.6       3.3       95\n",
      "The Salt of the Earth (2015)                                                          96            83     8.4       4.3       83\n",
      "A Little Chaos (2015)                                                                 40            51     6.4       3.9       83\n",
      "5 Flights Up (2015)                                                                   52            55     6.1       3.6       79\n",
      "Timbuktu (2015)                                                                       99            91     7.2       3.6       74\n",
      "Phoenix (2015)                                                                        99            91     7.2       3.4       70\n",
      "Song of the Sea (2014)                                                                99            86     8.2       4.3       66\n",
      "The Wolfpack (2015)                                                                   84            75     7.1       3.4       66\n",
      "Leviathan (2014)                                                                      99            92     7.7       3.5       64\n",
      "The 100-Year-Old Man Who Climbed Out the Window and Disappeared (2015)                67            58     7.1       3.9       63\n",
      "Gett: The Trial of Viviane Amsalem (2015)                                            100            90     7.8       3.5       59\n",
      "Welcome to Me (2015)                                                                  71            67     5.9       3.6       56\n",
      "Dark Places (2015)                                                                    26            39     6.3       3.7       55\n",
      "Red Army (2015)                                                                       96            82     7.7       4.1       54\n",
      "The Stanford Prison Experiment (2015)                                                 84            68     7.1       3.9       51\n",
      "Serena (2015)                                                                         18            36     5.4       3         50\n",
      "Escobar: Paradise Lost (2015)                                                         52            56     6.6       3.9       48\n",
      "When Marnie Was There (2015)                                                          89            71     7.8       4.1       46\n",
      "Saint Laurent (2015)                                                                  51            52     6.3       3.1       43\n",
      "About Elly (2015)                                                                     97            87     8.2       3.6       43\n",
      "The Hunting Ground (2015)                                                             92            77     7.5       4.1       42\n",
      "Seymour: An Introduction (2015)                                                      100            83     7.7       4.2       41\n",
      "Kumiko, The Treasure Hunter (2015)                                                    87            68     6.7       3.5       41\n",
      "The Diary of a Teenage Girl (2015)                                                    95            87     7         3.6       38\n",
      "The Wrecking Crew (2015)                                                              93            67     7.8       4.2       38\n",
      "Tangerine (2015)                                                                      95            86     7.4       3.9       36\n",
      "Maps to the Stars (2015)                                                              60            67     6.3       3.1       35\n",
      "145\n"
     ]
    }
   ],
   "source": [
    "from tabulate import tabulate\n",
    "\n",
    "fancur.execute('''SELECT fscrape.FILM, rottentomatoes, metacritic, imdb, rating, votes\n",
    "FROM fscrape\n",
    "INNER JOIN fscore\n",
    "ON fscore.FILM=fscrape.FILM \n",
    "''')\n",
    "templist1 = fancur.fetchall()\n",
    "headers1 = ['Film', 'RottenTomatoes', 'Metacritic', 'IMDB', 'Rating', 'Votes']\n",
    "print(tabulate(templist1, headers1))\n",
    "print(len(templist1))"
   ]
  },
  {
   "cell_type": "code",
   "execution_count": 35,
   "metadata": {
    "cell_id": "17d58bfe99114b3d83bd9d3b1ad1ebbb"
   },
   "outputs": [
    {
     "name": "stdout",
     "output_type": "stream",
     "text": [
      "Film                                                                      RottenTomatoes    Metacritic    IMDB    Rating    Votes\n",
      "----------------------------------------------------------------------  ----------------  ------------  ------  --------  -------\n",
      "Avengers: Age of Ultron (2015)                                                        74            66     7.8       4.5    14846\n",
      "Cinderella (2015)                                                                     85            67     7.1       4.5    12640\n",
      "Ant-Man (2015)                                                                        80            64     7.8       4.5    12055\n",
      "Do You Believe? (2015)                                                                18            22     5.4       4.5     1793\n",
      "Hot Tub Time Machine 2 (2015)                                                         14            29     5.1       3       1021\n",
      "The Water Diviner (2015)                                                              63            50     7.2       4        397\n",
      "Irrational Man (2015)                                                                 42            53     6.9       3.5      252\n",
      "Top Five (2014)                                                                       86            81     6.5       3.5     3223\n",
      "Shaun the Sheep Movie (2015)                                                          99            81     7.4       4        896\n",
      "Love & Mercy (2015)                                                                   89            80     7.8       4        864\n",
      "Far From The Madding Crowd (2015)                                                     84            71     7.2       4        804\n",
      "Black Sea (2015)                                                                      82            62     6.4       3.5      218\n",
      "Leviathan (2014)                                                                      99            92     7.7       3.5       64\n",
      "Unbroken (2014)                                                                       51            59     7.2       4.1     9443\n",
      "The Imitation Game (2014)                                                             90            73     8.1       4.6     8055\n",
      "Taken 3 (2015)                                                                         9            26     6.1       4.1     6757\n",
      "Ted 2 (2015)                                                                          46            48     6.6       4.1     6437\n",
      "Southpaw (2015)                                                                       59            57     7.8       4.6     5597\n",
      "Night at the Museum: Secret of the Tomb (2014)                                        50            47     6.3       4.1     5445\n",
      "Pixels (2015)                                                                         17            27     5.6       4.1     3886\n",
      "McFarland, USA (2015)                                                                 79            60     7.5       4.6     3364\n",
      "Insidious: Chapter 3 (2015)                                                           59            52     6.3       4.1     3276\n",
      "The Man From U.N.C.L.E. (2015)                                                        68            55     7.6       4.1     2686\n",
      "Run All Night (2015)                                                                  60            59     6.6       4.1     2066\n",
      "Trainwreck (2015)                                                                     85            75     6.7       4.1     8381\n",
      "Selma (2014)                                                                          99            89     7.5       4.6     7025\n",
      "Ex Machina (2015)                                                                     92            78     7.7       4.1     3458\n",
      "Still Alice (2015)                                                                    88            72     7.5       4.1     1258\n",
      "Wild Tales (2014)                                                                     96            77     8.2       4.1      235\n",
      "The End of the Tour (2015)                                                            92            84     7.9       4.1      121\n",
      "Red Army (2015)                                                                       96            82     7.7       4.1       54\n",
      "When Marnie Was There (2015)                                                          89            71     7.8       4.1       46\n",
      "The Hunting Ground (2015)                                                             92            77     7.5       4.1       42\n",
      "The Boy Next Door (2015)                                                              10            30     4.6       3.6     2800\n",
      "Aloha (2015)                                                                          19            40     5.5       3.1     2284\n",
      "The Loft (2015)                                                                       11            24     6.3       3.6      811\n",
      "5 Flights Up (2015)                                                                   52            55     6.1       3.6       79\n",
      "Welcome to Me (2015)                                                                  71            67     5.9       3.6       56\n",
      "Saint Laurent (2015)                                                                  51            52     6.3       3.1       43\n",
      "Maps to the Stars (2015)                                                              60            67     6.3       3.1       35\n",
      "I'll See You In My Dreams (2015)                                                      94            75     6.9       3.6      281\n",
      "Timbuktu (2015)                                                                       99            91     7.2       3.6       74\n",
      "About Elly (2015)                                                                     97            87     8.2       3.6       43\n",
      "The Diary of a Teenage Girl (2015)                                                    95            87     7         3.6       38\n",
      "Kingsman: The Secret Service (2015)                                                   75            58     7.8       4.2    15205\n",
      "Tomorrowland (2015)                                                                   50            60     6.6       3.7     8077\n",
      "The Divergent Series: Insurgent (2015)                                                30            42     6.4       4.2     7123\n",
      "Annie (2014)                                                                          27            33     5.2       4.2     6835\n",
      "Fantastic Four (2015)                                                                  9            27     4         2.7     6288\n",
      "Terminator Genisys (2015)                                                             26            38     6.9       4.2     6272\n",
      "Pitch Perfect 2 (2015)                                                                67            63     6.7       4.2     4577\n",
      "Entourage (2015)                                                                      32            38     7.1       4.2     4279\n",
      "The Age of Adaline (2015)                                                             54            51     7.3       4.2     3325\n",
      "Hot Pursuit (2015)                                                                     8            31     4.9       3.7     2618\n",
      "The DUFF (2015)                                                                       71            56     6.6       4.2     2273\n",
      "Black or White (2015)                                                                 39            45     6.6       4.2     1862\n",
      "Project Almanac (2015)                                                                34            47     6.4       3.7     1834\n",
      "Ricki and the Flash (2015)                                                            64            54     6.2       3.7     1462\n",
      "Seventh Son (2015)                                                                    12            30     5.5       3.2     1213\n",
      "Mortdecai (2015)                                                                      12            27     5.5       3.2     1196\n",
      "Unfinished Business (2015)                                                            11            32     5.4       3.2      821\n",
      "American Ultra (2015)                                                                 46            50     6.5       3.7      638\n",
      "True Story (2015)                                                                     45            50     6.3       3.2      540\n",
      "Child 44 (2015)                                                                       26            41     6.4       3.7      308\n",
      "Dark Places (2015)                                                                    26            39     6.3       3.7       55\n",
      "Birdman (2014)                                                                        92            88     7.9       3.7     4194\n",
      "The Gift (2015)                                                                       93            77     7.6       3.7     2680\n",
      "Unfriended (2015)                                                                     60            59     5.9       2.7     2507\n",
      "Monkey Kingdom (2015)                                                                 94            72     7.3       4.2      701\n",
      "Mr. Turner (2014)                                                                     98            94     6.9       3.2      290\n",
      "Seymour: An Introduction (2015)                                                      100            83     7.7       4.2       41\n",
      "The Wrecking Crew (2015)                                                              93            67     7.8       4.2       38\n",
      "American Sniper (2015)                                                                72            72     7.4       4.8    34085\n",
      "Furious 7 (2015)                                                                      81            67     7.4       4.8    33538\n",
      "The Hobbit: The Battle of the Five Armies (2014)                                      61            59     7.5       4.3    15337\n",
      "San Andreas (2015)                                                                    50            43     6.5       4.3     9749\n",
      "Straight Outta Compton (2015)                                                         90            72     8.4       4.8     8096\n",
      "Vacation (2015)                                                                       27            34     6.3       3.8     3815\n",
      "Chappie (2015)                                                                        30            41     7         3.8     3642\n",
      "Poltergeist (2015)                                                                    31            47     5         2.8     2704\n",
      "Paper Towns (2015)                                                                    55            56     6.9       3.8     1750\n",
      "Big Eyes (2014)                                                                       72            62     7         3.8     1501\n",
      "Blackhat (2015)                                                                       34            51     5.4       2.8     1430\n",
      "Self/less (2015)                                                                      20            34     6.6       3.8     1415\n",
      "Sinister 2 (2015)                                                                     13            31     5.5       3.3      973\n",
      "Little Boy (2015)                                                                     20            30     7.4       4.3      811\n",
      "Me and Earl and The Dying Girl (2015)                                                 81            74     8.2       4.3      624\n",
      "Maggie (2015)                                                                         54            52     5.6       3.3       95\n",
      "Mad Max: Fury Road (2015)                                                             97            89     8.3       4.3    10509\n",
      "Spy (2015)                                                                            93            75     7.3       4.3     9418\n",
      "The SpongeBob Movie: Sponge Out of Water (2015)                                       78            62     6.1       3.3     4493\n",
      "Paddington (2015)                                                                     98            77     7.2       4.3     4045\n",
      "Dope (2015)                                                                           87            72     7.5       4.3     2195\n",
      "What We Do in the Shadows (2015)                                                      96            75     7.6       4.3      259\n",
      "The Overnight (2015)                                                                  82            65     6.9       3.3      110\n",
      "The Salt of the Earth (2015)                                                          96            83     8.4       4.3       83\n",
      "Song of the Sea (2014)                                                                99            86     8.2       4.3       66\n",
      "Fifty Shades of Grey (2015)                                                           25            46     4.2       3.9    34846\n",
      "Get Hard (2015)                                                                       29            34     6.1       3.9     5933\n",
      "Focus (2015)                                                                          57            56     6.6       3.9     4933\n",
      "Jupiter Ascending (2015)                                                              26            40     5.5       3.4     4122\n",
      "The Gallows (2015)                                                                    16            30     4.4       2.9     1896\n",
      "The Second Best Exotic Marigold Hotel (2015)                                          62            51     6.6       3.9     1870\n",
      "Strange Magic (2015)                                                                  17            25     5.7       3.4     1117\n",
      "The Gunman (2015)                                                                     17            39     5.8       3.4      996\n",
      "Hitman: Agent 47 (2015)                                                                7            28     5.9       3.9      917\n",
      "Cake (2015)                                                                           49            49     6.5       3.4      482\n",
      "The Vatican Tapes (2015)                                                              13            37     4.6       2.9      210\n",
      "A Little Chaos (2015)                                                                 40            51     6.4       3.9       83\n",
      "The 100-Year-Old Man Who Climbed Out the Window and Disappeared (2015)                67            58     7.1       3.9       63\n",
      "Escobar: Paradise Lost (2015)                                                         52            56     6.6       3.9       48\n",
      "Into the Woods (2014)                                                                 71            69     6         3.4    13055\n",
      "It Follows (2015)                                                                     96            83     6.9       2.9     2097\n",
      "Inherent Vice (2014)                                                                  73            81     6.7       2.9     1078\n",
      "A Most Violent Year (2014)                                                            90            79     7.1       3.4      675\n",
      "While We're Young (2015)                                                              83            76     6.4       2.9      449\n",
      "Clouds of Sils Maria (2015)                                                           89            78     6.8       3.4      162\n",
      "Testament of Youth (2015)                                                             81            77     7.3       3.9      127\n",
      "Infinitely Polar Bear (2015)                                                          80            64     7.2       3.9      124\n",
      "Phoenix (2015)                                                                        99            91     7.2       3.4       70\n",
      "The Wolfpack (2015)                                                                   84            75     7.1       3.4       66\n",
      "The Stanford Prison Experiment (2015)                                                 84            68     7.1       3.9       51\n",
      "Tangerine (2015)                                                                      95            86     7.4       3.9       36\n",
      "Magic Mike XXL (2015)                                                                 62            60     6.3       4.4     9363\n",
      "Home (2015)                                                                           45            55     6.7       4.4     7705\n",
      "The Wedding Ringer (2015)                                                             27            35     6.7       4.4     6506\n",
      "Woman in Gold (2015)                                                                  52            51     7.4       4.4     2435\n",
      "The Last Five Years (2015)                                                            60            60     6         4.4       99\n",
      "Amy (2015)                                                                            97            85     8         4.4      729\n",
      "Jurassic World (2015)                                                                 71            59     7.3       4.5    34390\n",
      "Minions (2015)                                                                        54            56     6.7       4      14998\n",
      "Max (2015)                                                                            35            47     7         4.5     3412\n",
      "Paul Blart: Mall Cop 2 (2015)                                                          5            13     4.3       3.5     3054\n",
      "The Longest Ride (2015)                                                               31            33     7.2       4.5     2603\n",
      "The Lazarus Effect (2015)                                                             14            31     5.2       3       1651\n",
      "The Woman In Black 2 Angel of Death (2015)                                            22            42     4.9       3       1333\n",
      "Danny Collins (2015)                                                                  77            58     7.1       4        531\n",
      "Spare Parts (2015)                                                                    52            50     7.2       4.5      450\n",
      "Serena (2015)                                                                         18            36     5.4       3         50\n",
      "Inside Out (2015)                                                                     98            94     8.6       4.5    15749\n",
      "Mr. Holmes (2015)                                                                     87            67     7.4       4       1348\n",
      "'71 (2015)                                                                            97            83     7.2       3.5      192\n",
      "Two Days, One Night (2014)                                                            97            89     7.4       3.5      118\n",
      "Gett: The Trial of Viviane Amsalem (2015)                                            100            90     7.8       3.5       59\n",
      "Kumiko, The Treasure Hunter (2015)                                                    87            68     6.7       3.5       41\n",
      "145\n"
     ]
    }
   ],
   "source": [
    "from tabulate import tabulate\n",
    "\n",
    "fancur.execute('''SELECT fscrape.FILM, rottentomatoes, metacritic, imdb, rating, votes\n",
    "FROM fscore\n",
    "INNER JOIN fscrape\n",
    "ON fscore.FILM=fscrape.FILM \n",
    "''')\n",
    "templist1 = fancur.fetchall()\n",
    "headers1 = ['Film', 'RottenTomatoes', 'Metacritic', 'IMDB', 'Rating', 'Votes']\n",
    "print(tabulate(templist1, headers1))\n",
    "print(len(templist1))"
   ]
  },
  {
   "cell_type": "markdown",
   "metadata": {
    "cell_id": "bf3c053998f0481d898444e8a1456f14",
    "hide_input": true,
    "tags": [
     "l6",
     "s6",
     "ans"
    ]
   },
   "source": [
    "### Solution code\n",
    "\n",
    "```python\n",
    "fancur.execute('''SELECT fscore.FILM,\n",
    "                  fscore.RottenTomatoes,\n",
    "                  fscore.Metacritic,\n",
    "                  fscore.IMDB,\n",
    "                  fscrape.RATING,\n",
    "                  fscrape.VOTES\n",
    "                  FROM fscore\n",
    "                  INNER JOIN fscrape\n",
    "                  ON\n",
    "                  fscore.FILM=fscrape.FILM''')\n",
    "templist1 = fancur.fetchall()\n",
    "headers1 = ['FILM','rottentomatoes','metacritic','Imdb','fandangorating','fandangovotes']\n",
    "print(tabulate(templist1, headers1))\n",
    "print(len(templist1))\n",
    "```"
   ]
  },
  {
   "cell_type": "code",
   "execution_count": 39,
   "metadata": {
    "cell_id": "9098f02add81464f917a8ac6097b0a6c"
   },
   "outputs": [
    {
     "name": "stdout",
     "output_type": "stream",
     "text": [
      "Film                           RottenTomatoes    Metacritic    Votes\n",
      "---------------------------  ----------------  ------------  -------\n",
      "Fifty Shades of Grey (2015)                25            46    34846\n",
      "Jurassic World (2015)                      71            59    34390\n",
      "American Sniper (2015)                     72            72    34085\n",
      "Furious 7 (2015)                           81            67    33538\n",
      "Inside Out (2015)                          98            94    15749\n",
      "5\n"
     ]
    }
   ],
   "source": [
    "from tabulate import tabulate\n",
    "\n",
    "fancur.execute('''SELECT fscrape.FILM, rottentomatoes, metacritic, votes\n",
    "FROM fscrape\n",
    "LEFT JOIN fscore\n",
    "ON fscore.FILM=fscrape.FILM \n",
    "LIMIT 5''')\n",
    "templist1 = fancur.fetchall()\n",
    "headers1 = ['Film', 'RottenTomatoes', 'Metacritic', 'Votes']\n",
    "print(tabulate(templist1, headers1))\n",
    "print(len(templist1))"
   ]
  },
  {
   "cell_type": "markdown",
   "metadata": {
    "cell_id": "15399985c19f46e0918aebda904edba5",
    "tags": [
     "l7",
     "s7",
     "content"
    ]
   },
   "source": [
    "Now that we have seen the results of an 'inner join' operation, Let's replicate the same for a 'left join'.\n",
    "\n",
    "#### Exercise (b)\n",
    "\n",
    "Execute a left join operation on the 'fscore' and 'fscrape' tables. Note that FILM is the common column among both tables."
   ]
  },
  {
   "cell_type": "code",
   "execution_count": 36,
   "metadata": {
    "cell_id": "250c3285e4a74b728d2b53f9b66e80bb",
    "tags": [
     "l7",
     "s7",
     "ce"
    ]
   },
   "outputs": [
    {
     "name": "stdout",
     "output_type": "stream",
     "text": [
      "Film                                                                      RottenTomatoes    Metacritic    IMDB    Rating    Votes\n",
      "----------------------------------------------------------------------  ----------------  ------------  ------  --------  -------\n",
      "Avengers: Age of Ultron (2015)                                                        74            66     7.8       4.5    14846\n",
      "Cinderella (2015)                                                                     85            67     7.1       4.5    12640\n",
      "Ant-Man (2015)                                                                        80            64     7.8       4.5    12055\n",
      "Do You Believe? (2015)                                                                18            22     5.4       4.5     1793\n",
      "Hot Tub Time Machine 2 (2015)                                                         14            29     5.1       3       1021\n",
      "The Water Diviner (2015)                                                              63            50     7.2       4        397\n",
      "Irrational Man (2015)                                                                 42            53     6.9       3.5      252\n",
      "Top Five (2014)                                                                       86            81     6.5       3.5     3223\n",
      "Shaun the Sheep Movie (2015)                                                          99            81     7.4       4        896\n",
      "Love & Mercy (2015)                                                                   89            80     7.8       4        864\n",
      "Far From The Madding Crowd (2015)                                                     84            71     7.2       4        804\n",
      "Black Sea (2015)                                                                      82            62     6.4       3.5      218\n",
      "Leviathan (2014)                                                                      99            92     7.7       3.5       64\n",
      "Unbroken (2014)                                                                       51            59     7.2       4.1     9443\n",
      "The Imitation Game (2014)                                                             90            73     8.1       4.6     8055\n",
      "Taken 3 (2015)                                                                         9            26     6.1       4.1     6757\n",
      "Ted 2 (2015)                                                                          46            48     6.6       4.1     6437\n",
      "Southpaw (2015)                                                                       59            57     7.8       4.6     5597\n",
      "Night at the Museum: Secret of the Tomb (2014)                                        50            47     6.3       4.1     5445\n",
      "Pixels (2015)                                                                         17            27     5.6       4.1     3886\n",
      "McFarland, USA (2015)                                                                 79            60     7.5       4.6     3364\n",
      "Insidious: Chapter 3 (2015)                                                           59            52     6.3       4.1     3276\n",
      "The Man From U.N.C.L.E. (2015)                                                        68            55     7.6       4.1     2686\n",
      "Run All Night (2015)                                                                  60            59     6.6       4.1     2066\n",
      "Trainwreck (2015)                                                                     85            75     6.7       4.1     8381\n",
      "Selma (2014)                                                                          99            89     7.5       4.6     7025\n",
      "Ex Machina (2015)                                                                     92            78     7.7       4.1     3458\n",
      "Still Alice (2015)                                                                    88            72     7.5       4.1     1258\n",
      "Wild Tales (2014)                                                                     96            77     8.2       4.1      235\n",
      "The End of the Tour (2015)                                                            92            84     7.9       4.1      121\n",
      "Red Army (2015)                                                                       96            82     7.7       4.1       54\n",
      "When Marnie Was There (2015)                                                          89            71     7.8       4.1       46\n",
      "The Hunting Ground (2015)                                                             92            77     7.5       4.1       42\n",
      "The Boy Next Door (2015)                                                              10            30     4.6       3.6     2800\n",
      "Aloha (2015)                                                                          19            40     5.5       3.1     2284\n",
      "The Loft (2015)                                                                       11            24     6.3       3.6      811\n",
      "5 Flights Up (2015)                                                                   52            55     6.1       3.6       79\n",
      "Welcome to Me (2015)                                                                  71            67     5.9       3.6       56\n",
      "Saint Laurent (2015)                                                                  51            52     6.3       3.1       43\n",
      "Maps to the Stars (2015)                                                              60            67     6.3       3.1       35\n",
      "I'll See You In My Dreams (2015)                                                      94            75     6.9       3.6      281\n",
      "Timbuktu (2015)                                                                       99            91     7.2       3.6       74\n",
      "About Elly (2015)                                                                     97            87     8.2       3.6       43\n",
      "The Diary of a Teenage Girl (2015)                                                    95            87     7         3.6       38\n",
      "Kingsman: The Secret Service (2015)                                                   75            58     7.8       4.2    15205\n",
      "Tomorrowland (2015)                                                                   50            60     6.6       3.7     8077\n",
      "The Divergent Series: Insurgent (2015)                                                30            42     6.4       4.2     7123\n",
      "Annie (2014)                                                                          27            33     5.2       4.2     6835\n",
      "Fantastic Four (2015)                                                                  9            27     4         2.7     6288\n",
      "Terminator Genisys (2015)                                                             26            38     6.9       4.2     6272\n",
      "Pitch Perfect 2 (2015)                                                                67            63     6.7       4.2     4577\n",
      "Entourage (2015)                                                                      32            38     7.1       4.2     4279\n",
      "The Age of Adaline (2015)                                                             54            51     7.3       4.2     3325\n",
      "Hot Pursuit (2015)                                                                     8            31     4.9       3.7     2618\n",
      "The DUFF (2015)                                                                       71            56     6.6       4.2     2273\n",
      "Black or White (2015)                                                                 39            45     6.6       4.2     1862\n",
      "Project Almanac (2015)                                                                34            47     6.4       3.7     1834\n",
      "Ricki and the Flash (2015)                                                            64            54     6.2       3.7     1462\n",
      "Seventh Son (2015)                                                                    12            30     5.5       3.2     1213\n",
      "Mortdecai (2015)                                                                      12            27     5.5       3.2     1196\n",
      "Unfinished Business (2015)                                                            11            32     5.4       3.2      821\n",
      "American Ultra (2015)                                                                 46            50     6.5       3.7      638\n",
      "True Story (2015)                                                                     45            50     6.3       3.2      540\n",
      "Child 44 (2015)                                                                       26            41     6.4       3.7      308\n",
      "Dark Places (2015)                                                                    26            39     6.3       3.7       55\n",
      "Birdman (2014)                                                                        92            88     7.9       3.7     4194\n",
      "The Gift (2015)                                                                       93            77     7.6       3.7     2680\n",
      "Unfriended (2015)                                                                     60            59     5.9       2.7     2507\n",
      "Monkey Kingdom (2015)                                                                 94            72     7.3       4.2      701\n",
      "Mr. Turner (2014)                                                                     98            94     6.9       3.2      290\n",
      "Seymour: An Introduction (2015)                                                      100            83     7.7       4.2       41\n",
      "The Wrecking Crew (2015)                                                              93            67     7.8       4.2       38\n",
      "American Sniper (2015)                                                                72            72     7.4       4.8    34085\n",
      "Furious 7 (2015)                                                                      81            67     7.4       4.8    33538\n",
      "The Hobbit: The Battle of the Five Armies (2014)                                      61            59     7.5       4.3    15337\n",
      "San Andreas (2015)                                                                    50            43     6.5       4.3     9749\n",
      "Straight Outta Compton (2015)                                                         90            72     8.4       4.8     8096\n",
      "Vacation (2015)                                                                       27            34     6.3       3.8     3815\n",
      "Chappie (2015)                                                                        30            41     7         3.8     3642\n",
      "Poltergeist (2015)                                                                    31            47     5         2.8     2704\n",
      "Paper Towns (2015)                                                                    55            56     6.9       3.8     1750\n",
      "Big Eyes (2014)                                                                       72            62     7         3.8     1501\n",
      "Blackhat (2015)                                                                       34            51     5.4       2.8     1430\n",
      "Self/less (2015)                                                                      20            34     6.6       3.8     1415\n",
      "Sinister 2 (2015)                                                                     13            31     5.5       3.3      973\n",
      "Little Boy (2015)                                                                     20            30     7.4       4.3      811\n",
      "Me and Earl and The Dying Girl (2015)                                                 81            74     8.2       4.3      624\n",
      "Maggie (2015)                                                                         54            52     5.6       3.3       95\n",
      "Mad Max: Fury Road (2015)                                                             97            89     8.3       4.3    10509\n",
      "Spy (2015)                                                                            93            75     7.3       4.3     9418\n",
      "The SpongeBob Movie: Sponge Out of Water (2015)                                       78            62     6.1       3.3     4493\n",
      "Paddington (2015)                                                                     98            77     7.2       4.3     4045\n",
      "Dope (2015)                                                                           87            72     7.5       4.3     2195\n",
      "What We Do in the Shadows (2015)                                                      96            75     7.6       4.3      259\n",
      "The Overnight (2015)                                                                  82            65     6.9       3.3      110\n",
      "The Salt of the Earth (2015)                                                          96            83     8.4       4.3       83\n",
      "Song of the Sea (2014)                                                                99            86     8.2       4.3       66\n",
      "Fifty Shades of Grey (2015)                                                           25            46     4.2       3.9    34846\n",
      "Get Hard (2015)                                                                       29            34     6.1       3.9     5933\n",
      "Focus (2015)                                                                          57            56     6.6       3.9     4933\n",
      "Jupiter Ascending (2015)                                                              26            40     5.5       3.4     4122\n",
      "The Gallows (2015)                                                                    16            30     4.4       2.9     1896\n",
      "The Second Best Exotic Marigold Hotel (2015)                                          62            51     6.6       3.9     1870\n",
      "Strange Magic (2015)                                                                  17            25     5.7       3.4     1117\n",
      "The Gunman (2015)                                                                     17            39     5.8       3.4      996\n",
      "Hitman: Agent 47 (2015)                                                                7            28     5.9       3.9      917\n",
      "Cake (2015)                                                                           49            49     6.5       3.4      482\n",
      "The Vatican Tapes (2015)                                                              13            37     4.6       2.9      210\n",
      "A Little Chaos (2015)                                                                 40            51     6.4       3.9       83\n",
      "The 100-Year-Old Man Who Climbed Out the Window and Disappeared (2015)                67            58     7.1       3.9       63\n",
      "Escobar: Paradise Lost (2015)                                                         52            56     6.6       3.9       48\n",
      "Into the Woods (2014)                                                                 71            69     6         3.4    13055\n",
      "It Follows (2015)                                                                     96            83     6.9       2.9     2097\n",
      "Inherent Vice (2014)                                                                  73            81     6.7       2.9     1078\n",
      "A Most Violent Year (2014)                                                            90            79     7.1       3.4      675\n",
      "While We're Young (2015)                                                              83            76     6.4       2.9      449\n",
      "Clouds of Sils Maria (2015)                                                           89            78     6.8       3.4      162\n",
      "Testament of Youth (2015)                                                             81            77     7.3       3.9      127\n",
      "Infinitely Polar Bear (2015)                                                          80            64     7.2       3.9      124\n",
      "Phoenix (2015)                                                                        99            91     7.2       3.4       70\n",
      "The Wolfpack (2015)                                                                   84            75     7.1       3.4       66\n",
      "The Stanford Prison Experiment (2015)                                                 84            68     7.1       3.9       51\n",
      "Tangerine (2015)                                                                      95            86     7.4       3.9       36\n",
      "Magic Mike XXL (2015)                                                                 62            60     6.3       4.4     9363\n",
      "Home (2015)                                                                           45            55     6.7       4.4     7705\n",
      "The Wedding Ringer (2015)                                                             27            35     6.7       4.4     6506\n",
      "Woman in Gold (2015)                                                                  52            51     7.4       4.4     2435\n",
      "The Last Five Years (2015)                                                            60            60     6         4.4       99\n",
      "                                                                                      92            75     7.8\n",
      "Amy (2015)                                                                            97            85     8         4.4      729\n",
      "Jurassic World (2015)                                                                 71            59     7.3       4.5    34390\n",
      "Minions (2015)                                                                        54            56     6.7       4      14998\n",
      "Max (2015)                                                                            35            47     7         4.5     3412\n",
      "Paul Blart: Mall Cop 2 (2015)                                                          5            13     4.3       3.5     3054\n",
      "The Longest Ride (2015)                                                               31            33     7.2       4.5     2603\n",
      "The Lazarus Effect (2015)                                                             14            31     5.2       3       1651\n",
      "The Woman In Black 2 Angel of Death (2015)                                            22            42     4.9       3       1333\n",
      "Danny Collins (2015)                                                                  77            58     7.1       4        531\n",
      "Spare Parts (2015)                                                                    52            50     7.2       4.5      450\n",
      "Serena (2015)                                                                         18            36     5.4       3         50\n",
      "Inside Out (2015)                                                                     98            94     8.6       4.5    15749\n",
      "Mr. Holmes (2015)                                                                     87            67     7.4       4       1348\n",
      "'71 (2015)                                                                            97            83     7.2       3.5      192\n",
      "Two Days, One Night (2014)                                                            97            89     7.4       3.5      118\n",
      "Gett: The Trial of Viviane Amsalem (2015)                                            100            90     7.8       3.5       59\n",
      "Kumiko, The Treasure Hunter (2015)                                                    87            68     6.7       3.5       41\n",
      "146\n"
     ]
    }
   ],
   "source": [
    "from tabulate import tabulate\n",
    "\n",
    "fancur.execute('''SELECT fscrape.FILM, rottentomatoes, metacritic, imdb, rating, votes\n",
    "FROM fscore\n",
    "LEFT JOIN fscrape\n",
    "ON fscore.FILM=fscrape.FILM \n",
    "''')\n",
    "templist2 = fancur.fetchall()\n",
    "headers2 = ['Film', 'RottenTomatoes', 'Metacritic', 'IMDB', 'Rating', 'Votes']\n",
    "print(tabulate(templist2, headers2))\n",
    "print(len(templist2))"
   ]
  },
  {
   "cell_type": "markdown",
   "metadata": {
    "cell_id": "4f79c76906f344758868cff378a7c489",
    "hide_input": true,
    "tags": [
     "l7",
     "s7",
     "ans"
    ]
   },
   "source": [
    "### Solution code\n",
    "\n",
    "```python\n",
    "fancur.execute('''SELECT fscore.FILM,\n",
    "                  fscore.RottenTomatoes,\n",
    "                  fscore.Metacritic,\n",
    "                  fscore.IMDB,\n",
    "                  fscrape.RATING,\n",
    "                  fscrape.VOTES\n",
    "                  FROM fscore\n",
    "                  LEFT JOIN fscrape\n",
    "                  ON\n",
    "                  fscore.FILM=fscrape.FILM''')\n",
    "templist2 = fancur.fetchall()\n",
    "headers2 = ['FILM','rottentomatoes','metacritic','Imdb','fandangorating','fandangovotes']\n",
    "print(tabulate(templist2, headers2))\n",
    "print(len(templist2))\n",
    "```"
   ]
  },
  {
   "cell_type": "markdown",
   "metadata": {
    "cell_id": "e438160ca1754d06bdea32b5a27bd4d2",
    "tags": [
     "s8",
     "content",
     "l8"
    ]
   },
   "source": [
    "From above code we can see that INNER JOIN and LEFT JOIN produce almost the same output. This is because the fscore table is a subset of fscrape table.\n",
    "\n",
    "As of now, RIGHT OUTER JOIN and FULL OUTER JOIN are not supported by the sqlite module.\n",
    "\n",
    "### Stored Procedures, Triggers and Materialized Views\n",
    "\n",
    "Stored procedures, triggers and materialized views are some of the advanced SQL concepts. A stored procedure is a set of instructions/SQL queries which performs a logical action on the database server and is executed on a recurring basis, much like a standard operating procedure. A trigger is a type of stored procedure, which is set to automatically execute when a certain event occurs in the database (Eg. Say a record in a specific table is updated or deleted). A view is the output of a sql query which is presented in the console, but not stored on disk. When this output is stored on disk, in the form of a structure, in order to retrieve it frequently (instead of having to run the query again), it is called a materialized view.\n",
    "\n",
    "Some additional reading on the above topics:\n",
    "Stored procedures: https://en.wikipedia.org/wiki/Stored_procedure, https://www.tutorialspoint.com/t_sql/t_sql_stored_procedures.htm\n",
    "\n",
    "Triggers: https://www.tutorialspoint.com/plsql/plsql_triggers.htm\n",
    "\n",
    "Materialized views: https://en.wikipedia.org/wiki/Materialized_view, http://www.postgresqltutorial.com/postgresql-materialized-views/\n",
    "\n",
    "The above concepts are not supported by sqlite module."
   ]
  },
  {
   "cell_type": "code",
   "execution_count": 1,
   "metadata": {
    "ExecuteTime": {
     "end_time": "2018-09-11T16:04:10.298460Z",
     "start_time": "2018-09-11T16:04:10.292473Z"
    },
    "cell_id": "46d98ae47d24468c8a3dc9d1028c4584",
    "collapsed": true,
    "tags": [
     "s8",
     "ce",
     "l8"
    ]
   },
   "outputs": [],
   "source": [
    "# No exercise"
   ]
  },
  {
   "cell_type": "markdown",
   "metadata": {
    "cell_id": "5d8e81047e1e4aa0a56e5d43805654f5",
    "collapsed": true,
    "hide_input": true,
    "tags": [
     "s8",
     "l8",
     "hint"
    ]
   },
   "source": [
    "### Solution code\n",
    "\n",
    "```python\n",
    "# No exercise\n",
    "```"
   ]
  },
  {
   "cell_type": "code",
   "execution_count": 85,
   "metadata": {
    "cell_id": "ecdcf7dce4124ba88312fd0f97c77063"
   },
   "outputs": [],
   "source": [
    "#AutoIncrement - Create\n",
    "fancur = fancon.cursor()\n",
    "try:\n",
    "    fancur.execute(\"\"\"CREATE TABLE company(\n",
    "       id INTEGER PRIMARY KEY AUTOINCREMENT,\n",
    "       name           TEXT      NOT NULL,\n",
    "       gender         TEXT      NOT NULL,\n",
    "       age            INT       NOT NULL,\n",
    "       address        CHAR(50),\n",
    "       salary         REAL\n",
    "    );\n",
    "    \"\"\")\n",
    "except Exception as error:\n",
    "    print('Exception occurred :',error)\n",
    "    "
   ]
  },
  {
   "cell_type": "code",
   "execution_count": 86,
   "metadata": {
    "cell_id": "1e6e14929a2549eba975a611d7d49177"
   },
   "outputs": [],
   "source": [
    "#AutoIncrement - Insert\n",
    "companies = []\n",
    "companies.append(( 'Paul', 'M', 32, 'California', 20000.00 ))\n",
    "companies.append(('Allen', 'F', 25, 'Texas', 15000.00 ))\n",
    "companies.append(('Teddy', 'M', 23, 'Norway', 20000.00 ))\n",
    "companies.append(( 'Mark', 'M', 25, 'Rich-Mond ', 65000.00 ))\n",
    "companies.append(( 'David', 'M', 27, 'Texas', 85000.00 ))\n",
    "companies.append(( 'Hannah', 'F', 22, 'South-Hall', 45000.00 ))\n",
    "companies.append(( 'James', 'M', 24, 'Houston', 10000.00 ))\n"
   ]
  },
  {
   "cell_type": "code",
   "execution_count": 87,
   "metadata": {
    "cell_id": "f4734269c7f7494c897f0279b23d0952"
   },
   "outputs": [
    {
     "data": {
      "text/plain": [
       "<sqlite3.Cursor at 0x7f26fc24f880>"
      ]
     },
     "execution_count": 87,
     "metadata": {},
     "output_type": "execute_result"
    }
   ],
   "source": [
    "fancur.executemany(\"\"\"INSERT INTO COMPANY (NAME,GENDER,AGE,ADDRESS,SALARY)\n",
    "VALUES (?,?,?,?,?)\"\"\", companies)"
   ]
  },
  {
   "cell_type": "code",
   "execution_count": 88,
   "metadata": {
    "cell_id": "98996ea1e14144c88a5e784f047719da"
   },
   "outputs": [
    {
     "name": "stdout",
     "output_type": "stream",
     "text": [
      "  ID  Name    Gender      Age  Address       Salary\n",
      "----  ------  --------  -----  ----------  --------\n",
      "   1  Paul    M            32  California     20000\n",
      "   2  Allen   F            25  Texas          15000\n",
      "   3  Teddy   M            23  Norway         20000\n",
      "   4  Mark    M            25  Rich-Mond      65000\n",
      "   5  David   M            27  Texas          85000\n",
      "   6  Hannah  F            22  South-Hall     45000\n",
      "   7  James   M            24  Houston        10000\n"
     ]
    }
   ],
   "source": [
    "from tabulate import tabulate\n",
    "\n",
    "fancur.execute(\"SELECT * FROM COMPANY\")\n",
    "querycompany = fancur.fetchall()\n",
    "headerscompany = ['ID','Name', 'Gender', 'Age','Address','Salary']\n",
    "print(tabulate(querycompany, headerscompany))\n"
   ]
  },
  {
   "cell_type": "code",
   "execution_count": null,
   "metadata": {
    "cell_id": "11dff3e1774749ec80cb4ffe77ac6e8f"
   },
   "outputs": [],
   "source": []
  },
  {
   "cell_type": "code",
   "execution_count": 79,
   "metadata": {
    "cell_id": "8eb60ea351b54ee98a1937c2f482bddf"
   },
   "outputs": [],
   "source": [
    "#Primary Key - create\n",
    "try:\n",
    "    fancur.execute(\"\"\"CREATE TABLE artist(\n",
    "    artistid    INTEGER PRIMARY KEY, \n",
    "    artistname  TEXT\n",
    "    );\"\"\")\n",
    "except Exception as e:\n",
    "    print('Error:',e)\n"
   ]
  },
  {
   "cell_type": "code",
   "execution_count": null,
   "metadata": {
    "cell_id": "aabab3ce69a74b7791699d819b950d17"
   },
   "outputs": [],
   "source": [
    "#Foreign Key - create\n",
    "try:\n",
    "    fancur.execute(\"\"\"CREATE TABLE track(\n",
    "    trackid     INTEGER, \n",
    "    trackname   TEXT, \n",
    "    trackartist INTEGER,\n",
    "    FOREIGN KEY(trackartist) REFERENCES artist(artistid)\n",
    "    );\"\"\")\n",
    "except Exception as e:\n",
    "    print('Error:',e)\n"
   ]
  },
  {
   "cell_type": "code",
   "execution_count": 80,
   "metadata": {
    "cell_id": "9b23e8f9d9e24d7e902c8595fa671dee"
   },
   "outputs": [
    {
     "name": "stdout",
     "output_type": "stream",
     "text": [
      "[(1, 'Dean Martin'), (2, 'Frank Sinatra')]\n"
     ]
    }
   ],
   "source": [
    "#Primary Key - Insert\n",
    "artistes = []\n",
    "artistes.append(( 1, 'Dean Martin'))\n",
    "artistes.append((2, 'Frank Sinatra' ))\n",
    "\n",
    "\n",
    "fancur.executemany(\"\"\"INSERT INTO artist (artistid,artistname)\n",
    "VALUES (?,?)\"\"\", artistes)\n",
    "fancur.execute(\"SELECT * FROM artist\")\n",
    "queryartist = fancur.fetchall()\n",
    "print(queryartist)\n"
   ]
  },
  {
   "cell_type": "code",
   "execution_count": 81,
   "metadata": {
    "cell_id": "01d5bee7e6b4409db52bc00b344200b0"
   },
   "outputs": [
    {
     "name": "stdout",
     "output_type": "stream",
     "text": [
      "[(11, \"That's Amore\", 1), (12, 'Christmas Blues', 1), (13, 'My Way', 2)]\n"
     ]
    },
    {
     "data": {
      "text/plain": [
       "<sqlite3.Cursor at 0x7f26d5e045e0>"
      ]
     },
     "execution_count": 81,
     "metadata": {},
     "output_type": "execute_result"
    }
   ],
   "source": [
    "#Foreign Key - Insert\n",
    "tracks = []\n",
    "tracks.append(( 11, \"That's Amore\", 1 ))\n",
    "tracks.append(( 12, \"Christmas Blues\", 1 ))\n",
    "tracks.append(( 13, \"My Way\", 2 ))\n",
    "\n",
    "fancur.executemany(\"\"\"INSERT INTO track (trackid,trackname, trackartist)\n",
    "VALUES (?,?,?)\"\"\", tracks)\n",
    "fancur.execute(\"SELECT * FROM track\")\n",
    "querytrack = fancur.fetchall()\n",
    "print(querytrack)\n",
    "tracks = []\n",
    "tracks.append(( 14, \"That's Am\", 3 ))\n",
    "fancur.execute(\"PRAGMA foreign_keys=ON\")\n",
    "fancur.execute(\"commit;\")\n"
   ]
  },
  {
   "cell_type": "code",
   "execution_count": 82,
   "metadata": {
    "cell_id": "4584529655ed43a588b43e864cebd9e5"
   },
   "outputs": [
    {
     "name": "stdout",
     "output_type": "stream",
     "text": [
      "Error: FOREIGN KEY constraint failed\n",
      "[(1,)]\n"
     ]
    }
   ],
   "source": [
    "try:\n",
    "    fancur.executemany(\"\"\"INSERT INTO track (trackid,trackname, trackartist)\n",
    "    VALUES (?,?,?)\"\"\", tracks)\n",
    "except Exception as e:\n",
    "    print('Error:',e) \n",
    "\n",
    "fancur.execute(\"PRAGMA foreign_keys\")\n",
    "querytrack = fancur.fetchall()\n",
    "print(querytrack)\n"
   ]
  },
  {
   "cell_type": "code",
   "execution_count": null,
   "metadata": {
    "cell_id": "84a39f785598471d83166bd814bd548d"
   },
   "outputs": [],
   "source": []
  },
  {
   "cell_type": "code",
   "execution_count": 90,
   "metadata": {
    "cell_id": "5e9803eda21945508d8e95ab68f65dea"
   },
   "outputs": [
    {
     "name": "stdout",
     "output_type": "stream",
     "text": [
      "------\n",
      "Paul\n",
      "Allen\n",
      "Teddy\n",
      "Mark\n",
      "David\n",
      "Hannah\n",
      "James\n",
      "------\n"
     ]
    }
   ],
   "source": [
    "#DISTINCT\n",
    "fancur.execute(\"SELECT DISTINCT name FROM company\")\n",
    "querydistinct = fancur.fetchall()\n",
    "headersseq = []\n",
    "print(tabulate(querydistinct, headersseq))\n"
   ]
  },
  {
   "cell_type": "code",
   "execution_count": 91,
   "metadata": {
    "cell_id": "a1357fd6c44a4a51a363fce477b57196"
   },
   "outputs": [
    {
     "name": "stdout",
     "output_type": "stream",
     "text": [
      "[(1, 'Paul', 32), (2, 'Allen', 25), (3, 'Teddy', 23), (4, 'Mark', 25), (5, 'David', 27), (6, 'Hannah', 22), (7, 'James', 24)]\n"
     ]
    }
   ],
   "source": [
    "#Views - create\n",
    "try:\n",
    "    fancur.execute(\"\"\"\n",
    "    CREATE VIEW company_view \n",
    "    AS\n",
    "    SELECT id, name, age\n",
    "    FROM  company;\"\"\")\n",
    "except Exception as e:\n",
    "    print('Error:',e) #Views - Select\n",
    "\n",
    "fancur.execute(\"SELECT * FROM COMPANY_VIEW\")\n",
    "queryview = fancur.fetchall()\n",
    "print(queryview)\n"
   ]
  },
  {
   "cell_type": "code",
   "execution_count": null,
   "metadata": {
    "cell_id": "11cbad788a4c478283d0dedc4c4182fc"
   },
   "outputs": [],
   "source": []
  },
  {
   "cell_type": "code",
   "execution_count": 51,
   "metadata": {
    "cell_id": "7829aaac5c1c407c8afdc89b62ce19c9"
   },
   "outputs": [],
   "source": [
    "# Audit Table & Triggers - create\n",
    "try:\n",
    "    fancur.execute(\"\"\"CREATE TABLE audit(\n",
    "    EMP_ID INT NOT NULL,\n",
    "    ENTRY_DATE TEXT NOT NULL,\n",
    "    ENTRY_TYPE TEXT NOT NULL\n",
    "    );\"\"\")\n",
    "except Exception as e:\n",
    "    print('Error:',e)\n",
    "\n",
    "# Trigger - create\n",
    "try:\n",
    "    fancur.execute(\"\"\"CREATE TRIGGER audit_log_insert_trigger \n",
    "    AFTER INSERT \n",
    "    ON company\n",
    "    BEGIN\n",
    "       INSERT INTO audit(EMP_ID, ENTRY_DATE, ENTRY_TYPE) VALUES (new.ID, datetime('now'), 'INSERT');\n",
    "    END;\"\"\")\n",
    "except Exception as e:\n",
    "    print('Error:',e)\n"
   ]
  },
  {
   "cell_type": "code",
   "execution_count": 52,
   "metadata": {
    "cell_id": "ec41528055ff4ead832fdc4a62095a4a"
   },
   "outputs": [
    {
     "name": "stdout",
     "output_type": "stream",
     "text": [
      "Tables :  [('fscrape',), ('fscore',), ('company',), ('sqlite_sequence',), ('artist',), ('track',), ('audit',)]\n",
      "Views :  [('company_view',)]\n",
      "Triggers :  [('audit_log_insert_trigger',)]\n"
     ]
    }
   ],
   "source": [
    "#Table, View , Trigger objects from Database\n",
    "fancur.execute(\"SELECT name FROM sqlite_master WHERE type = 'table'\")\n",
    "queryview = fancur.fetchall()\n",
    "print('Tables : ', queryview)\n",
    "fancur.execute(\"SELECT name FROM sqlite_master WHERE type = 'view'\")\n",
    "queryview = fancur.fetchall()\n",
    "print('Views : ', queryview)\n",
    "fancur.execute(\"SELECT name FROM sqlite_master WHERE type = 'trigger'\")\n",
    "queryview = fancur.fetchall()\n",
    "print('Triggers : ',  queryview)\n"
   ]
  },
  {
   "cell_type": "code",
   "execution_count": 53,
   "metadata": {
    "cell_id": "f341708738884adf8eeba06d264b500f"
   },
   "outputs": [],
   "source": [
    "# Trigger Before Delete - create\n",
    "try:\n",
    "    fancur.execute(\"\"\"CREATE TRIGGER audit_log_delete_trigger \n",
    "    BEFORE DELETE \n",
    "    ON company\n",
    "    BEGIN\n",
    "       INSERT INTO audit(EMP_ID, ENTRY_DATE, ENTRY_TYPE) VALUES (old.ID, datetime('now'), 'DELETE');\n",
    "    END;\"\"\")\n",
    "except Exception as e:\n",
    "    print('Error:',e)\n",
    "\n"
   ]
  },
  {
   "cell_type": "code",
   "execution_count": 54,
   "metadata": {
    "cell_id": "62708990bdb24b32b9896a91bce3b4c2"
   },
   "outputs": [
    {
     "name": "stdout",
     "output_type": "stream",
     "text": [
      "[(1, 'Paul', 32, 'California', 20000.0), (2, 'Allen', 25, 'Texas', 15000.0), (3, 'Teddy', 23, 'Norway', 20000.0), (4, 'Mark', 25, 'Rich-Mond ', 65000.0), (5, 'David', 27, 'Texas', 85000.0), (6, 'Kim', 22, 'South-Hall', 45000.0), (7, 'James', 24, 'Houston', 10000.0), (8, 'TriggerUser1', 25, 'California', 20000.0), (9, 'TriggerUser2', 22, 'Texas', 15000.0)]\n"
     ]
    }
   ],
   "source": [
    "#Invoking a Trigger\n",
    "companies = []\n",
    "companies.append(( 'TriggerUser1', 25, 'California', 20000.00 ))\n",
    "companies.append(('TriggerUser2', 22, 'Texas', 15000.00 ))\n",
    "\n",
    "\n",
    "fancur.executemany(\"\"\"INSERT INTO COMPANY (NAME,AGE,ADDRESS,SALARY)\n",
    "VALUES (?,?,?,?)\"\"\", companies)\n",
    "fancur.execute(\"SELECT * FROM COMPANY\")\n",
    "querycompany = fancur.fetchall()\n",
    "print(querycompany)\n"
   ]
  },
  {
   "cell_type": "code",
   "execution_count": 55,
   "metadata": {
    "cell_id": "1a5e43088d914bf58f7de542d0bebc0a"
   },
   "outputs": [
    {
     "name": "stdout",
     "output_type": "stream",
     "text": [
      "  ID  Event Time           Action Type\n",
      "----  -------------------  -------------\n",
      "   8  2019-02-17 09:48:06  INSERT\n",
      "   9  2019-02-17 09:48:06  INSERT\n"
     ]
    }
   ],
   "source": [
    "#Viewing - Audit Table based on Trigger\n",
    "fancur.execute(\"SELECT * FROM audit\")\n",
    "queryaudit = fancur.fetchall()\n",
    "headerscompany = ['ID','Event Time','Action Type']\n",
    "print(tabulate(queryaudit, headerscompany))\n"
   ]
  },
  {
   "cell_type": "code",
   "execution_count": 56,
   "metadata": {
    "cell_id": "4e2336a94de84cabb5b4692c33963926"
   },
   "outputs": [
    {
     "name": "stdout",
     "output_type": "stream",
     "text": [
      "-------  -\n",
      "company  9\n",
      "-------  -\n"
     ]
    }
   ],
   "source": [
    "fancur.execute(\"SELECT * FROM sqlite_sequence\")\n",
    "queryaudit = fancur.fetchall()\n",
    "headersseq = []\n",
    "print(tabulate(queryaudit, headersseq))\n"
   ]
  },
  {
   "cell_type": "code",
   "execution_count": null,
   "metadata": {
    "cell_id": "00f8f29575a54e9e91c34407ac1dc34f"
   },
   "outputs": [],
   "source": []
  }
 ],
 "metadata": {
  "celltoolbar": "Edit Metadata",
  "executed_sections": [],
  "kernelspec": {
   "display_name": "Python 3",
   "language": "python",
   "name": "python3"
  },
  "language_info": {
   "codemirror_mode": {
    "name": "ipython",
    "version": 3
   },
   "file_extension": ".py",
   "mimetype": "text/x-python",
   "name": "python",
   "nbconvert_exporter": "python",
   "pygments_lexer": "ipython3",
   "version": "3.6.6"
  },
  "rf_version": 1
 },
 "nbformat": 4,
 "nbformat_minor": 2
}
