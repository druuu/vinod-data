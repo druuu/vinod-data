{
 "cells": [
  {
   "cell_type": "code",
   "execution_count": 1,
   "metadata": {
    "cell_id": "3a4fdf534e8e4ddab1fb143c7ffe7740"
   },
   "outputs": [
    {
     "name": "stdout",
     "output_type": "stream",
     "text": [
      "Requirement already satisfied: tabulate in /opt/conda/lib/python3.6/site-packages (0.8.3)\r\n"
     ]
    }
   ],
   "source": [
    "!pip install tabulate"
   ]
  },
  {
   "cell_type": "code",
   "execution_count": 2,
   "metadata": {
    "cell_id": "ae695d57738f424eb43e454c7d7f74d6"
   },
   "outputs": [],
   "source": [
    "import sqlite3\n",
    "import csv\n",
    "import pandas as pd\n",
    "from tabulate import tabulate\n",
    "\n",
    "# Connecting to the database\n",
    "vincon = sqlite3.connect('coffeeshop.db')\n",
    "vincon.execute(\"PRAGMA foreign_keys = ON\")\n",
    "vincur = vincon.cursor()\n"
   ]
  },
  {
   "cell_type": "code",
   "execution_count": 3,
   "metadata": {
    "cell_id": "96b3e5dbe37146be8028c64fa143e90e"
   },
   "outputs": [],
   "source": [
    "customerdf = pd.read_csv(\"customer_level_data.csv\")\n",
    "itemdf = pd.read_csv(\"item_level_data.csv\")\n",
    "transactiondf = pd.read_csv(\"transaction_level_data.csv\")"
   ]
  },
  {
   "cell_type": "code",
   "execution_count": 4,
   "metadata": {
    "cell_id": "b3adefc33c4543ae8ca398f427eadd04"
   },
   "outputs": [
    {
     "data": {
      "text/html": [
       "<div>\n",
       "<style scoped>\n",
       "    .dataframe tbody tr th:only-of-type {\n",
       "        vertical-align: middle;\n",
       "    }\n",
       "\n",
       "    .dataframe tbody tr th {\n",
       "        vertical-align: top;\n",
       "    }\n",
       "\n",
       "    .dataframe thead th {\n",
       "        text-align: right;\n",
       "    }\n",
       "</style>\n",
       "<table border=\"1\" class=\"dataframe\">\n",
       "  <thead>\n",
       "    <tr style=\"text-align: right;\">\n",
       "      <th></th>\n",
       "      <th>customer_number</th>\n",
       "      <th>app_install_time</th>\n",
       "      <th>gender</th>\n",
       "      <th>marital_status</th>\n",
       "      <th>date_of_birth</th>\n",
       "      <th>referral_as_source_of_app_install</th>\n",
       "    </tr>\n",
       "  </thead>\n",
       "  <tbody>\n",
       "    <tr>\n",
       "      <th>0</th>\n",
       "      <td>1</td>\n",
       "      <td>2018-06-29 20:40:12</td>\n",
       "      <td>MALE</td>\n",
       "      <td>NaN</td>\n",
       "      <td>2018-06-05</td>\n",
       "      <td>Not_through_referral</td>\n",
       "    </tr>\n",
       "    <tr>\n",
       "      <th>1</th>\n",
       "      <td>2</td>\n",
       "      <td>2018-07-03 19:11:13</td>\n",
       "      <td>FEMALE</td>\n",
       "      <td>NaN</td>\n",
       "      <td>1998-12-08</td>\n",
       "      <td>Not_through_referral</td>\n",
       "    </tr>\n",
       "    <tr>\n",
       "      <th>2</th>\n",
       "      <td>3</td>\n",
       "      <td>2018-07-21 12:03:39</td>\n",
       "      <td>FEMALE</td>\n",
       "      <td>NaN</td>\n",
       "      <td>1997-11-19</td>\n",
       "      <td>Installed_through_referral</td>\n",
       "    </tr>\n",
       "    <tr>\n",
       "      <th>3</th>\n",
       "      <td>4</td>\n",
       "      <td>2018-07-23 18:22:37</td>\n",
       "      <td>MALE</td>\n",
       "      <td>NaN</td>\n",
       "      <td>2018-01-11</td>\n",
       "      <td>Not_through_referral</td>\n",
       "    </tr>\n",
       "    <tr>\n",
       "      <th>4</th>\n",
       "      <td>5</td>\n",
       "      <td>2018-08-03 01:40:45</td>\n",
       "      <td>MALE</td>\n",
       "      <td>NaN</td>\n",
       "      <td>1982-08-19</td>\n",
       "      <td>Not_through_referral</td>\n",
       "    </tr>\n",
       "  </tbody>\n",
       "</table>\n",
       "</div>"
      ],
      "text/plain": [
       "   customer_number     app_install_time  gender marital_status date_of_birth  \\\n",
       "0                1  2018-06-29 20:40:12    MALE            NaN    2018-06-05   \n",
       "1                2  2018-07-03 19:11:13  FEMALE            NaN    1998-12-08   \n",
       "2                3  2018-07-21 12:03:39  FEMALE            NaN    1997-11-19   \n",
       "3                4  2018-07-23 18:22:37    MALE            NaN    2018-01-11   \n",
       "4                5  2018-08-03 01:40:45    MALE            NaN    1982-08-19   \n",
       "\n",
       "  referral_as_source_of_app_install  \n",
       "0              Not_through_referral  \n",
       "1              Not_through_referral  \n",
       "2        Installed_through_referral  \n",
       "3              Not_through_referral  \n",
       "4              Not_through_referral  "
      ]
     },
     "execution_count": 4,
     "metadata": {},
     "output_type": "execute_result"
    }
   ],
   "source": [
    "customerdf.head()"
   ]
  },
  {
   "cell_type": "code",
   "execution_count": 5,
   "metadata": {
    "cell_id": "54ab73044b8c429984a143a81262c5b6"
   },
   "outputs": [
    {
     "data": {
      "text/plain": [
       "(10767, 6)"
      ]
     },
     "execution_count": 5,
     "metadata": {},
     "output_type": "execute_result"
    }
   ],
   "source": [
    "customerdf.shape"
   ]
  },
  {
   "cell_type": "code",
   "execution_count": 6,
   "metadata": {
    "cell_id": "0d0f0151d5be474182797eea74c8eaa8"
   },
   "outputs": [
    {
     "data": {
      "text/html": [
       "<div>\n",
       "<style scoped>\n",
       "    .dataframe tbody tr th:only-of-type {\n",
       "        vertical-align: middle;\n",
       "    }\n",
       "\n",
       "    .dataframe tbody tr th {\n",
       "        vertical-align: top;\n",
       "    }\n",
       "\n",
       "    .dataframe thead th {\n",
       "        text-align: right;\n",
       "    }\n",
       "</style>\n",
       "<table border=\"1\" class=\"dataframe\">\n",
       "  <thead>\n",
       "    <tr style=\"text-align: right;\">\n",
       "      <th></th>\n",
       "      <th>customer_number</th>\n",
       "      <th>app_install_time</th>\n",
       "      <th>gender</th>\n",
       "      <th>date_of_birth</th>\n",
       "      <th>referral_as_source_of_app_install</th>\n",
       "    </tr>\n",
       "  </thead>\n",
       "  <tbody>\n",
       "    <tr>\n",
       "      <th>0</th>\n",
       "      <td>1</td>\n",
       "      <td>2018-06-29 20:40:12</td>\n",
       "      <td>MALE</td>\n",
       "      <td>2018-06-05</td>\n",
       "      <td>Not_through_referral</td>\n",
       "    </tr>\n",
       "    <tr>\n",
       "      <th>1</th>\n",
       "      <td>2</td>\n",
       "      <td>2018-07-03 19:11:13</td>\n",
       "      <td>FEMALE</td>\n",
       "      <td>1998-12-08</td>\n",
       "      <td>Not_through_referral</td>\n",
       "    </tr>\n",
       "    <tr>\n",
       "      <th>2</th>\n",
       "      <td>3</td>\n",
       "      <td>2018-07-21 12:03:39</td>\n",
       "      <td>FEMALE</td>\n",
       "      <td>1997-11-19</td>\n",
       "      <td>Installed_through_referral</td>\n",
       "    </tr>\n",
       "    <tr>\n",
       "      <th>3</th>\n",
       "      <td>4</td>\n",
       "      <td>2018-07-23 18:22:37</td>\n",
       "      <td>MALE</td>\n",
       "      <td>2018-01-11</td>\n",
       "      <td>Not_through_referral</td>\n",
       "    </tr>\n",
       "    <tr>\n",
       "      <th>4</th>\n",
       "      <td>5</td>\n",
       "      <td>2018-08-03 01:40:45</td>\n",
       "      <td>MALE</td>\n",
       "      <td>1982-08-19</td>\n",
       "      <td>Not_through_referral</td>\n",
       "    </tr>\n",
       "  </tbody>\n",
       "</table>\n",
       "</div>"
      ],
      "text/plain": [
       "   customer_number     app_install_time  gender date_of_birth  \\\n",
       "0                1  2018-06-29 20:40:12    MALE    2018-06-05   \n",
       "1                2  2018-07-03 19:11:13  FEMALE    1998-12-08   \n",
       "2                3  2018-07-21 12:03:39  FEMALE    1997-11-19   \n",
       "3                4  2018-07-23 18:22:37    MALE    2018-01-11   \n",
       "4                5  2018-08-03 01:40:45    MALE    1982-08-19   \n",
       "\n",
       "  referral_as_source_of_app_install  \n",
       "0              Not_through_referral  \n",
       "1              Not_through_referral  \n",
       "2        Installed_through_referral  \n",
       "3              Not_through_referral  \n",
       "4              Not_through_referral  "
      ]
     },
     "execution_count": 6,
     "metadata": {},
     "output_type": "execute_result"
    }
   ],
   "source": [
    "customerdf.drop(\"marital_status\", axis=1, inplace=True)\n",
    "customerdf.head()"
   ]
  },
  {
   "cell_type": "code",
   "execution_count": 7,
   "metadata": {
    "cell_id": "00c017ed00a2473d9b578317c8496b70"
   },
   "outputs": [
    {
     "data": {
      "text/html": [
       "<div>\n",
       "<style scoped>\n",
       "    .dataframe tbody tr th:only-of-type {\n",
       "        vertical-align: middle;\n",
       "    }\n",
       "\n",
       "    .dataframe tbody tr th {\n",
       "        vertical-align: top;\n",
       "    }\n",
       "\n",
       "    .dataframe thead th {\n",
       "        text-align: right;\n",
       "    }\n",
       "</style>\n",
       "<table border=\"1\" class=\"dataframe\">\n",
       "  <thead>\n",
       "    <tr style=\"text-align: right;\">\n",
       "      <th></th>\n",
       "      <th>transaction_number</th>\n",
       "      <th>customer_number</th>\n",
       "      <th>item_name</th>\n",
       "      <th>sale_amount</th>\n",
       "    </tr>\n",
       "  </thead>\n",
       "  <tbody>\n",
       "    <tr>\n",
       "      <th>0</th>\n",
       "      <td>4271</td>\n",
       "      <td>400</td>\n",
       "      <td>FRAPPE</td>\n",
       "      <td>203.0</td>\n",
       "    </tr>\n",
       "    <tr>\n",
       "      <th>1</th>\n",
       "      <td>17539</td>\n",
       "      <td>1781</td>\n",
       "      <td>FOOD92</td>\n",
       "      <td>222.5</td>\n",
       "    </tr>\n",
       "    <tr>\n",
       "      <th>2</th>\n",
       "      <td>8963</td>\n",
       "      <td>2444</td>\n",
       "      <td>FOOD6</td>\n",
       "      <td>332.0</td>\n",
       "    </tr>\n",
       "    <tr>\n",
       "      <th>3</th>\n",
       "      <td>19087</td>\n",
       "      <td>6952</td>\n",
       "      <td>FOOD132</td>\n",
       "      <td>322.5</td>\n",
       "    </tr>\n",
       "    <tr>\n",
       "      <th>4</th>\n",
       "      <td>5139</td>\n",
       "      <td>7786</td>\n",
       "      <td>TOPPING SYRUPS</td>\n",
       "      <td>196.0</td>\n",
       "    </tr>\n",
       "  </tbody>\n",
       "</table>\n",
       "</div>"
      ],
      "text/plain": [
       "   transaction_number  customer_number       item_name  sale_amount\n",
       "0                4271              400          FRAPPE        203.0\n",
       "1               17539             1781          FOOD92        222.5\n",
       "2                8963             2444           FOOD6        332.0\n",
       "3               19087             6952         FOOD132        322.5\n",
       "4                5139             7786  TOPPING SYRUPS        196.0"
      ]
     },
     "execution_count": 7,
     "metadata": {},
     "output_type": "execute_result"
    }
   ],
   "source": [
    "itemdf.head()"
   ]
  },
  {
   "cell_type": "code",
   "execution_count": 8,
   "metadata": {
    "cell_id": "d2764aa96d39409c989a2dd0b086c76c"
   },
   "outputs": [
    {
     "data": {
      "text/plain": [
       "(17972, 4)"
      ]
     },
     "execution_count": 8,
     "metadata": {},
     "output_type": "execute_result"
    }
   ],
   "source": [
    "itemdf.shape"
   ]
  },
  {
   "cell_type": "code",
   "execution_count": 9,
   "metadata": {
    "cell_id": "119d1e44649a4f2c8aa7c04b98dcf76e"
   },
   "outputs": [
    {
     "data": {
      "text/html": [
       "<div>\n",
       "<style scoped>\n",
       "    .dataframe tbody tr th:only-of-type {\n",
       "        vertical-align: middle;\n",
       "    }\n",
       "\n",
       "    .dataframe tbody tr th {\n",
       "        vertical-align: top;\n",
       "    }\n",
       "\n",
       "    .dataframe thead th {\n",
       "        text-align: right;\n",
       "    }\n",
       "</style>\n",
       "<table border=\"1\" class=\"dataframe\">\n",
       "  <thead>\n",
       "    <tr style=\"text-align: right;\">\n",
       "      <th></th>\n",
       "      <th>transaction_number</th>\n",
       "      <th>customer_number</th>\n",
       "      <th>transaction_time</th>\n",
       "      <th>store_name</th>\n",
       "      <th>sale_amount_including_loyalty_points_used</th>\n",
       "      <th>loyalty_points_used_by_customer</th>\n",
       "      <th>offer_used_by_customer_to_earn_loyalty_points</th>\n",
       "    </tr>\n",
       "  </thead>\n",
       "  <tbody>\n",
       "    <tr>\n",
       "      <th>0</th>\n",
       "      <td>463</td>\n",
       "      <td>3050</td>\n",
       "      <td>2018-06-01 15:42:43</td>\n",
       "      <td>MUMBAI STORE 333</td>\n",
       "      <td>150.5</td>\n",
       "      <td>0.0</td>\n",
       "      <td>NaN</td>\n",
       "    </tr>\n",
       "    <tr>\n",
       "      <th>1</th>\n",
       "      <td>465</td>\n",
       "      <td>10736</td>\n",
       "      <td>2018-06-01 15:43:28</td>\n",
       "      <td>KANCHIPURAM STORE 72</td>\n",
       "      <td>199.5</td>\n",
       "      <td>0.0</td>\n",
       "      <td>NaN</td>\n",
       "    </tr>\n",
       "    <tr>\n",
       "      <th>2</th>\n",
       "      <td>467</td>\n",
       "      <td>3815</td>\n",
       "      <td>2018-06-01 17:34:04</td>\n",
       "      <td>CHENNAI STORE 1093</td>\n",
       "      <td>118.0</td>\n",
       "      <td>0.0</td>\n",
       "      <td>NaN</td>\n",
       "    </tr>\n",
       "    <tr>\n",
       "      <th>3</th>\n",
       "      <td>469</td>\n",
       "      <td>8590</td>\n",
       "      <td>2018-06-01 17:52:11</td>\n",
       "      <td>DHANBAD STORE 817</td>\n",
       "      <td>72.5</td>\n",
       "      <td>0.0</td>\n",
       "      <td>NaN</td>\n",
       "    </tr>\n",
       "    <tr>\n",
       "      <th>4</th>\n",
       "      <td>471</td>\n",
       "      <td>3315</td>\n",
       "      <td>2018-06-01 17:56:01</td>\n",
       "      <td>MADURAI STORE 54</td>\n",
       "      <td>177.0</td>\n",
       "      <td>0.0</td>\n",
       "      <td>NaN</td>\n",
       "    </tr>\n",
       "  </tbody>\n",
       "</table>\n",
       "</div>"
      ],
      "text/plain": [
       "   transaction_number  customer_number     transaction_time  \\\n",
       "0                 463             3050  2018-06-01 15:42:43   \n",
       "1                 465            10736  2018-06-01 15:43:28   \n",
       "2                 467             3815  2018-06-01 17:34:04   \n",
       "3                 469             8590  2018-06-01 17:52:11   \n",
       "4                 471             3315  2018-06-01 17:56:01   \n",
       "\n",
       "             store_name  sale_amount_including_loyalty_points_used  \\\n",
       "0      MUMBAI STORE 333                                      150.5   \n",
       "1  KANCHIPURAM STORE 72                                      199.5   \n",
       "2    CHENNAI STORE 1093                                      118.0   \n",
       "3     DHANBAD STORE 817                                       72.5   \n",
       "4      MADURAI STORE 54                                      177.0   \n",
       "\n",
       "   loyalty_points_used_by_customer  \\\n",
       "0                              0.0   \n",
       "1                              0.0   \n",
       "2                              0.0   \n",
       "3                              0.0   \n",
       "4                              0.0   \n",
       "\n",
       "  offer_used_by_customer_to_earn_loyalty_points  \n",
       "0                                           NaN  \n",
       "1                                           NaN  \n",
       "2                                           NaN  \n",
       "3                                           NaN  \n",
       "4                                           NaN  "
      ]
     },
     "execution_count": 9,
     "metadata": {},
     "output_type": "execute_result"
    }
   ],
   "source": [
    "transactiondf.head()"
   ]
  },
  {
   "cell_type": "code",
   "execution_count": 10,
   "metadata": {
    "cell_id": "b393a7d65b5349198b76c57132edada2"
   },
   "outputs": [
    {
     "data": {
      "text/plain": [
       "(17164, 7)"
      ]
     },
     "execution_count": 10,
     "metadata": {},
     "output_type": "execute_result"
    }
   ],
   "source": [
    "transactiondf.shape"
   ]
  },
  {
   "cell_type": "code",
   "execution_count": 11,
   "metadata": {
    "cell_id": "edc54fd8dd8f46bb895b19eb951a33c8"
   },
   "outputs": [],
   "source": [
    "# creating customers table and loading the data\n",
    "try:\n",
    "    vincur.execute(\"\"\"CREATE TABLE customers(\n",
    "    customer_number    INTEGER   PRIMARY KEY, \n",
    "    app_install_time  TEXT,\n",
    "    gender   TEXT,\n",
    "    date_of_birth     TEXT,\n",
    "    referral_as_source_of_app_install  TEXT\n",
    "    );\"\"\")\n",
    "    \n",
    "    customerdf.to_sql(name='customers',con=vincon,if_exists='append',index=False)\n",
    "    vincon.commit()\n",
    "    \n",
    "except Exception as e:\n",
    "    vincon.rollback()\n",
    "    print('Error:',e)\n",
    "    "
   ]
  },
  {
   "cell_type": "code",
   "execution_count": 12,
   "metadata": {
    "cell_id": "f13387bd7dd444ae8478dae073d27b27"
   },
   "outputs": [
    {
     "name": "stdout",
     "output_type": "stream",
     "text": [
      "  customer_number  app_install_time     gender    date_of_birth    referral_as_source_of_app_install\n",
      "-----------------  -------------------  --------  ---------------  -----------------------------------\n",
      "                1  2018-06-29 20:40:12  MALE      2018-06-05       Not_through_referral\n",
      "                2  2018-07-03 19:11:13  FEMALE    1998-12-08       Not_through_referral\n",
      "                3  2018-07-21 12:03:39  FEMALE    1997-11-19       Installed_through_referral\n",
      "                4  2018-07-23 18:22:37  MALE      2018-01-11       Not_through_referral\n",
      "                5  2018-08-03 01:40:45  MALE      1982-08-19       Not_through_referral\n"
     ]
    }
   ],
   "source": [
    "vincur.execute(\"\"\"\n",
    "SELECT * FROM customers LIMIT(5)\n",
    "\"\"\")\n",
    "vin_customer = vincur.fetchall()\n",
    "headers_cust = ['customer_number', 'app_install_time', 'gender', 'date_of_birth', 'referral_as_source_of_app_install']\n",
    "print(tabulate(vin_customer, headers_cust))"
   ]
  },
  {
   "cell_type": "code",
   "execution_count": 13,
   "metadata": {
    "cell_id": "2ac583d878964dad8e7553b6109b94df"
   },
   "outputs": [],
   "source": [
    "# creating transactions table and loading the data\n",
    "try:\n",
    "    vincur.execute(\"\"\"CREATE TABLE transactions (\n",
    "    transaction_number INTEGER PRIMARY KEY,\n",
    "    customer_number INTEGER,\n",
    "    transaction_time TEXT,\n",
    "    store_name TEXT,\n",
    "    sale_amount_including_loyalty_points_used INTEGER,\n",
    "    loyalty_points_used_by_customer INTEGER,\n",
    "    offer_used_by_customer_to_earn_loyalty_points TEXT,\n",
    "    FOREIGN KEY(customer_number) REFERENCES customers(customer_number)\n",
    "    );\"\"\")\n",
    "    \n",
    "    transactiondf.to_sql(name='transactions',con=vincon,if_exists='append',index=False)\n",
    "    vincon.commit()\n",
    "    \n",
    "except Exception as e:\n",
    "    vincon.rollback()\n",
    "    print(e)\n"
   ]
  },
  {
   "cell_type": "code",
   "execution_count": 14,
   "metadata": {
    "cell_id": "9be63a61d95e487e818755c2f6b148fe"
   },
   "outputs": [
    {
     "name": "stdout",
     "output_type": "stream",
     "text": [
      "  transaction_number    customer_number  transaction_time     store_name              sale_amount    loyalty_points  offer_used\n",
      "--------------------  -----------------  -------------------  --------------------  -------------  ----------------  ------------\n",
      "                 463               3050  2018-06-01 15:42:43  MUMBAI STORE 333              150.5                 0\n",
      "                 465              10736  2018-06-01 15:43:28  KANCHIPURAM STORE 72          199.5                 0\n",
      "                 467               3815  2018-06-01 17:34:04  CHENNAI STORE 1093            118                   0\n",
      "                 469               8590  2018-06-01 17:52:11  DHANBAD STORE 817              72.5                 0\n",
      "                 471               3315  2018-06-01 17:56:01  MADURAI STORE 54              177                   0\n"
     ]
    }
   ],
   "source": [
    "vincur.execute(\"\"\"\n",
    "SELECT * FROM transactions LIMIT(5)\n",
    "\"\"\")\n",
    "vin_trans = vincur.fetchall()\n",
    "headers_trans = ['transaction_number','customer_number', 'transaction_time', 'store_name', 'sale_amount', 'loyalty_points','offer_used']\n",
    "print(tabulate(vin_trans, headers_trans))\n"
   ]
  },
  {
   "cell_type": "code",
   "execution_count": 15,
   "metadata": {
    "cell_id": "eaa6a95e8c5844c7bacc5055592abc31"
   },
   "outputs": [],
   "source": [
    "# creating items table and loading the data\n",
    "try:\n",
    "    vincur.execute(\"\"\"CREATE TABLE items (\n",
    "    transaction_number INTEGER,\n",
    "    customer_number INTEGER,\n",
    "    item_name TEXT,\n",
    "    sale_amount INTEGER,\n",
    "    FOREIGN KEY(transaction_number) REFERENCES transactions(transaction_number),\n",
    "    FOREIGN KEY(customer_number) REFERENCES customers(customer_number)\n",
    "    );\"\"\")\n",
    "    \n",
    "    itemdf.to_sql(name='items',con=vincon,if_exists='append',index=False)\n",
    "    vincon.commit()\n",
    "    \n",
    "except Exception as e:\n",
    "    vincon.rollback()\n",
    "    print(e)\n"
   ]
  },
  {
   "cell_type": "code",
   "execution_count": 18,
   "metadata": {
    "cell_id": "a05795920b874114bbe8031e04f3c039"
   },
   "outputs": [
    {
     "name": "stdout",
     "output_type": "stream",
     "text": [
      "  transaction_number    customer_number  item_name         sale_amount\n",
      "--------------------  -----------------  --------------  -------------\n",
      "                4271                400  FRAPPE                  203\n",
      "               17539               1781  FOOD92                  222.5\n",
      "                8963               2444  FOOD6                   332\n",
      "               19087               6952  FOOD132                 322.5\n",
      "                5139               7786  TOPPING SYRUPS          196\n"
     ]
    }
   ],
   "source": [
    "vincur.execute(\"\"\"\n",
    "SELECT * FROM items LIMIT(5)\n",
    "\"\"\")\n",
    "vin_items = vincur.fetchall()\n",
    "headers_items = ['transaction_number','customer_number', 'item_name', 'sale_amount']\n",
    "print(tabulate(vin_items, headers_items))\n"
   ]
  },
  {
   "cell_type": "code",
   "execution_count": 16,
   "metadata": {
    "cell_id": "cc0a535dd1394f78bb73a2227c706164"
   },
   "outputs": [
    {
     "name": "stdout",
     "output_type": "stream",
     "text": [
      "Tables :  [('customers',), ('transactions',), ('items',)]\n"
     ]
    }
   ],
   "source": [
    "vincur.execute(\"SELECT name FROM sqlite_master WHERE type = 'table'\")\n",
    "queryview = vincur.fetchall()\n",
    "print('Tables : ', queryview)"
   ]
  },
  {
   "cell_type": "code",
   "execution_count": null,
   "metadata": {
    "cell_id": "81d228e5415b43068b4d61fa2b4f8980"
   },
   "outputs": [],
   "source": []
  }
 ],
 "metadata": {
  "kernelspec": {
   "display_name": "Python 3",
   "language": "python",
   "name": "python3"
  },
  "language_info": {
   "codemirror_mode": {
    "name": "ipython",
    "version": 3
   },
   "file_extension": ".py",
   "mimetype": "text/x-python",
   "name": "python",
   "nbconvert_exporter": "python",
   "pygments_lexer": "ipython3",
   "version": "3.6.6"
  }
 },
 "nbformat": 4,
 "nbformat_minor": 2
}
