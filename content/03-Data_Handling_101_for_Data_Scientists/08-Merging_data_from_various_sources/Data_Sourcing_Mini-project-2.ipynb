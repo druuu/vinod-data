{
 "cells": [
  {
   "cell_type": "markdown",
   "metadata": {},
   "source": [
    "# Data Sourcing Mini Project - 2\n",
    "In this mini project, you are required to collect the temperatures for top US cities(2 cities per state) and perform the basic operations as below.\n",
    "\n",
    "Follow these instructions:\n",
    "\n",
    "<li> Collect the temperatures for top US cities(2 cities per state) for the year 2018 (Jan 1 to Dec 31) - Use any of the various approaches such as web scraping, API call, CSV file download etc from one or more sources on the web.\n",
    "<li> Store them in local file DB (SQLite) for storage and later use Dataframes for processing.\n",
    "<li> You are required to research the best websites to source the information - if API is available free of cost, you could use the API. Otherwise, find the best alternative approach to get the data. \n",
    "<li> Finally, you are required to present the temperature in a visualizations with a map of the United States.\n",
    "<li> Each city must be shown on the US map in a color based on the temperature on the given day. Use a color gradient from coldest being blue to hottest being red.\n",
    "<li> Use a slider to move the dates of the year 2018 from Jan1 to Dec 31. Based on the slider position, display the temperature of all the cities on the map on the given day, along with the name of the city and the colored circle representing the temperature."
   ]
  }
 ],
 "metadata": {
  "kernelspec": {
   "display_name": "Python 3",
   "language": "python",
   "name": "python3"
  },
  "language_info": {
   "codemirror_mode": {
    "name": "ipython",
    "version": 3
   },
   "file_extension": ".py",
   "mimetype": "text/x-python",
   "name": "python",
   "nbconvert_exporter": "python",
   "pygments_lexer": "ipython3",
   "version": "3.6.5"
  }
 },
 "nbformat": 4,
 "nbformat_minor": 2
}
