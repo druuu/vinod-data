{
 "cells": [
  {
   "cell_type": "markdown",
   "metadata": {},
   "source": [
    "# Data Sourcing Mini Project - 1\n",
    "In this mini project, you are required to collect Stock prices for Top stoks from NYSE and perform the basic operations as below.\n",
    "\n",
    "Follow these instructions:\n",
    "\n",
    "<li> Collect stock prices for Top 100 stocks from NYSE(New York Stock Exchange) for the year 2018 (Jan 1 to Dec 31) - Use any of the various approaches such as web scraping, API call, CSV file download etc.\n",
    "<li> Store them in local file DB (SQLite) for storage and later use Dataframes for processing.\n",
    "<li> Compute the top 10 performing stock based the % price increase from Jan 1st, 2018. Note that the max returns could be based on any day within the year and not necessarily based on year closing price on Dec 31st, 2018.\n",
    "<li> Get the current price for the Top 10 performing stocks - agin based on Web Scraping.\n",
    "<li> You are required to research the best websites to source in information - if API is available free of cost, you could use the API. Otherwise, find the best alternative approach to get the data. \n",
    "<li> Finally, you are required to present the top performing stocks in suitable visualizations - such as bar chart etc."
   ]
  }
 ],
 "metadata": {
  "kernelspec": {
   "display_name": "Python 3",
   "language": "python",
   "name": "python3"
  },
  "language_info": {
   "codemirror_mode": {
    "name": "ipython",
    "version": 3
   },
   "file_extension": ".py",
   "mimetype": "text/x-python",
   "name": "python",
   "nbconvert_exporter": "python",
   "pygments_lexer": "ipython3",
   "version": "3.6.5"
  }
 },
 "nbformat": 4,
 "nbformat_minor": 2
}
