{
 "cells": [
  {
   "cell_type": "markdown",
   "metadata": {
    "cell_id": "35b5422a1353465584045cc54b09d4d3"
   },
   "source": [
    "## Lab : Introduction to data\n",
    "\n",
    "In this lab, you are required to:\n",
    "\n",
    "Research on the topics given below and read about real life use cases where each of these concepts are used. Write a brief 1-2 paragraph summary of the use case for each topic. It is important to quote your sources and provides links to references online.\n",
    "\n",
    "1. Graph database and associated technologies\n",
    "2. Columnar databases\n",
    "3. Computer Vision\n",
    "4. Speech Recognition and\n",
    "5. Natural Language Processing"
   ]
  },
  {
   "cell_type": "markdown",
   "metadata": {
    "cell_id": "be6fecc24c594f2a8fb4a4e9d875c9f7"
   },
   "source": [
    "### Write your answer here"
   ]
  }
 ],
 "metadata": {
  "kernelspec": {
   "display_name": "Python 3",
   "language": "python",
   "name": "python3"
  },
  "language_info": {
   "codemirror_mode": {
    "name": "ipython",
    "version": 3
   },
   "file_extension": ".py",
   "mimetype": "text/x-python",
   "name": "python",
   "nbconvert_exporter": "python",
   "pygments_lexer": "ipython3",
   "version": "3.6.6"
  }
 },
 "nbformat": 4,
 "nbformat_minor": 2
}
