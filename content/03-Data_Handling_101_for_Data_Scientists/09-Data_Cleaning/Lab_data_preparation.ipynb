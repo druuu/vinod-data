{
 "cells": [
  {
   "cell_type": "markdown",
   "metadata": {
    "cell_id": "22ee376384594bf589571b91414f1ddb"
   },
   "source": [
    "# Data Preparation and Cleaning Lab\n",
    "\n",
    "Given a dataset with Air Quality for London based on various species.\n",
    "\n",
    "Courtesy : https://www.londonair.org.uk/london/asp/datasite.asp?CBXSpecies2=NOm&CBXSpecies3=NO2m&CBXSpecies4=NOXm&CBXSpecies5=O3m&CBXSpecies6=PM10m&day1=1&month1=jan&year1=2018&day2=1&month2=jan&year2=2019&period=hourly&ratidate=&site=BL0&res=6&Submit=Replot+graph\n",
    "\n",
    "Based on the dataset, you are required to do the following:\n",
    "\n",
    "1. Clean/handle missing values\n",
    "2. Detect and remove outliers in the data\n",
    "3. Remove skewness in data"
   ]
  },
  {
   "cell_type": "code",
   "execution_count": 1,
   "metadata": {
    "cell_id": "9cb800bb9cf1440e9282a73807417767"
   },
   "outputs": [
    {
     "data": {
      "text/html": [
       "<div>\n",
       "<style scoped>\n",
       "    .dataframe tbody tr th:only-of-type {\n",
       "        vertical-align: middle;\n",
       "    }\n",
       "\n",
       "    .dataframe tbody tr th {\n",
       "        vertical-align: top;\n",
       "    }\n",
       "\n",
       "    .dataframe thead th {\n",
       "        text-align: right;\n",
       "    }\n",
       "</style>\n",
       "<table border=\"1\" class=\"dataframe\">\n",
       "  <thead>\n",
       "    <tr style=\"text-align: right;\">\n",
       "      <th></th>\n",
       "      <th>Site</th>\n",
       "      <th>Species</th>\n",
       "      <th>ReadingDateTime</th>\n",
       "      <th>Value</th>\n",
       "      <th>Units</th>\n",
       "      <th>Provisional or Ratified</th>\n",
       "    </tr>\n",
       "  </thead>\n",
       "  <tbody>\n",
       "    <tr>\n",
       "      <th>0</th>\n",
       "      <td>BL0</td>\n",
       "      <td>NO</td>\n",
       "      <td>01/01/2018 00:00</td>\n",
       "      <td>2.5</td>\n",
       "      <td>ug m-3</td>\n",
       "      <td>R</td>\n",
       "    </tr>\n",
       "    <tr>\n",
       "      <th>1</th>\n",
       "      <td>BL0</td>\n",
       "      <td>NO</td>\n",
       "      <td>01/01/2018 01:00</td>\n",
       "      <td>1.9</td>\n",
       "      <td>ug m-3</td>\n",
       "      <td>R</td>\n",
       "    </tr>\n",
       "    <tr>\n",
       "      <th>2</th>\n",
       "      <td>BL0</td>\n",
       "      <td>NO</td>\n",
       "      <td>01/01/2018 02:00</td>\n",
       "      <td>1.8</td>\n",
       "      <td>ug m-3</td>\n",
       "      <td>R</td>\n",
       "    </tr>\n",
       "    <tr>\n",
       "      <th>3</th>\n",
       "      <td>BL0</td>\n",
       "      <td>NO</td>\n",
       "      <td>01/01/2018 03:00</td>\n",
       "      <td>0.9</td>\n",
       "      <td>ug m-3</td>\n",
       "      <td>R</td>\n",
       "    </tr>\n",
       "    <tr>\n",
       "      <th>4</th>\n",
       "      <td>BL0</td>\n",
       "      <td>NO</td>\n",
       "      <td>01/01/2018 04:00</td>\n",
       "      <td>0.9</td>\n",
       "      <td>ug m-3</td>\n",
       "      <td>R</td>\n",
       "    </tr>\n",
       "  </tbody>\n",
       "</table>\n",
       "</div>"
      ],
      "text/plain": [
       "  Site Species   ReadingDateTime  Value   Units Provisional or Ratified\n",
       "0  BL0      NO  01/01/2018 00:00    2.5  ug m-3                       R\n",
       "1  BL0      NO  01/01/2018 01:00    1.9  ug m-3                       R\n",
       "2  BL0      NO  01/01/2018 02:00    1.8  ug m-3                       R\n",
       "3  BL0      NO  01/01/2018 03:00    0.9  ug m-3                       R\n",
       "4  BL0      NO  01/01/2018 04:00    0.9  ug m-3                       R"
      ]
     },
     "execution_count": 1,
     "metadata": {},
     "output_type": "execute_result"
    }
   ],
   "source": [
    "import pandas as pd\n",
    "\n",
    "air_data = pd.read_csv('../../../data/LaqnData.csv')\n",
    "air_data.head()\n",
    "\n",
    "#Write your code below"
   ]
  },
  {
   "cell_type": "code",
   "execution_count": 2,
   "metadata": {
    "cell_id": "530793a5fc3547379bff3e14a5e34e51"
   },
   "outputs": [
    {
     "name": "stdout",
     "output_type": "stream",
     "text": [
      "<class 'pandas.core.frame.DataFrame'>\n",
      "RangeIndex: 43800 entries, 0 to 43799\n",
      "Data columns (total 6 columns):\n",
      "Site                       43800 non-null object\n",
      "Species                    43800 non-null object\n",
      "ReadingDateTime            43800 non-null object\n",
      "Value                      36287 non-null float64\n",
      "Units                      43800 non-null object\n",
      "Provisional or Ratified    43800 non-null object\n",
      "dtypes: float64(1), object(5)\n",
      "memory usage: 2.0+ MB\n"
     ]
    }
   ],
   "source": [
    "air_data.info()"
   ]
  },
  {
   "cell_type": "code",
   "execution_count": 3,
   "metadata": {
    "cell_id": "ae186393d4bf4ef7aa7973cc1d89edb2"
   },
   "outputs": [],
   "source": [
    "def missing_values_table(df):\n",
    "        mis_val = df.isnull().sum()\n",
    "        mis_val_percent = 100 * df.isnull().sum() / len(df)\n",
    "        mis_val_table = pd.concat([mis_val, mis_val_percent], axis=1)\n",
    "        mis_val_table_ren_columns = mis_val_table.rename(\n",
    "        columns = {0 : 'Missing Values', 1 : '% of Total Values'})\n",
    "        mis_val_table_ren_columns = mis_val_table_ren_columns[\n",
    "            mis_val_table_ren_columns.iloc[:,1] != 0].sort_values(\n",
    "        '% of Total Values', ascending=False).round(1)\n",
    "        print (\"Your selected dataframe has \" + str(df.shape[1]) + \" columns.\\n\"      \n",
    "            \"There are \" + str(mis_val_table_ren_columns.shape[0]) +\n",
    "              \" columns that have missing values.\")\n",
    "        return mis_val_table_ren_columns\n"
   ]
  },
  {
   "cell_type": "code",
   "execution_count": 4,
   "metadata": {
    "cell_id": "e98bb8a42500449d8697dd7b0bdb11ec"
   },
   "outputs": [
    {
     "name": "stdout",
     "output_type": "stream",
     "text": [
      "Your selected dataframe has 6 columns.\n",
      "There are 1 columns that have missing values.\n"
     ]
    },
    {
     "data": {
      "text/html": [
       "<div>\n",
       "<style scoped>\n",
       "    .dataframe tbody tr th:only-of-type {\n",
       "        vertical-align: middle;\n",
       "    }\n",
       "\n",
       "    .dataframe tbody tr th {\n",
       "        vertical-align: top;\n",
       "    }\n",
       "\n",
       "    .dataframe thead th {\n",
       "        text-align: right;\n",
       "    }\n",
       "</style>\n",
       "<table border=\"1\" class=\"dataframe\">\n",
       "  <thead>\n",
       "    <tr style=\"text-align: right;\">\n",
       "      <th></th>\n",
       "      <th>Missing Values</th>\n",
       "      <th>% of Total Values</th>\n",
       "    </tr>\n",
       "  </thead>\n",
       "  <tbody>\n",
       "    <tr>\n",
       "      <th>Value</th>\n",
       "      <td>7513</td>\n",
       "      <td>17.2</td>\n",
       "    </tr>\n",
       "  </tbody>\n",
       "</table>\n",
       "</div>"
      ],
      "text/plain": [
       "       Missing Values  % of Total Values\n",
       "Value            7513               17.2"
      ]
     },
     "execution_count": 4,
     "metadata": {},
     "output_type": "execute_result"
    }
   ],
   "source": [
    "missing_values_table(air_data)"
   ]
  },
  {
   "cell_type": "code",
   "execution_count": 5,
   "metadata": {
    "cell_id": "ef669808c3a044458d2b7e5ae086ff12"
   },
   "outputs": [
    {
     "data": {
      "text/plain": [
       "array(['BL0'], dtype=object)"
      ]
     },
     "execution_count": 5,
     "metadata": {},
     "output_type": "execute_result"
    }
   ],
   "source": [
    "air_data.Site.unique()"
   ]
  },
  {
   "cell_type": "code",
   "execution_count": 6,
   "metadata": {
    "cell_id": "c2d16267843e4a2b8708ee1dfcc61e68"
   },
   "outputs": [
    {
     "data": {
      "text/plain": [
       "array(['NO', 'NO2', 'NOX', 'O3', 'PM10'], dtype=object)"
      ]
     },
     "execution_count": 6,
     "metadata": {},
     "output_type": "execute_result"
    }
   ],
   "source": [
    "air_data.Species.unique()"
   ]
  },
  {
   "cell_type": "code",
   "execution_count": 7,
   "metadata": {
    "cell_id": "81cccfb21b0e440e8e38419943e39030"
   },
   "outputs": [
    {
     "data": {
      "text/plain": [
       "array(['ug m-3', 'ug m-3 as NO2', 'ug/m3'], dtype=object)"
      ]
     },
     "execution_count": 7,
     "metadata": {},
     "output_type": "execute_result"
    }
   ],
   "source": [
    "air_data.Units.unique()"
   ]
  },
  {
   "cell_type": "code",
   "execution_count": 8,
   "metadata": {
    "cell_id": "7e91e0a762684eb6957d36f8b10f7fb9"
   },
   "outputs": [
    {
     "data": {
      "text/plain": [
       "array(['R', 'P'], dtype=object)"
      ]
     },
     "execution_count": 8,
     "metadata": {},
     "output_type": "execute_result"
    }
   ],
   "source": [
    "air_data['Provisional or Ratified'].unique()"
   ]
  },
  {
   "cell_type": "code",
   "execution_count": 12,
   "metadata": {
    "cell_id": "bdf430af4c4e4719ad1457db7d2acdb7"
   },
   "outputs": [
    {
     "data": {
      "text/html": [
       "<div>\n",
       "<style scoped>\n",
       "    .dataframe tbody tr th:only-of-type {\n",
       "        vertical-align: middle;\n",
       "    }\n",
       "\n",
       "    .dataframe tbody tr th {\n",
       "        vertical-align: top;\n",
       "    }\n",
       "\n",
       "    .dataframe thead tr th {\n",
       "        text-align: left;\n",
       "    }\n",
       "\n",
       "    .dataframe thead tr:last-of-type th {\n",
       "        text-align: right;\n",
       "    }\n",
       "</style>\n",
       "<table border=\"1\" class=\"dataframe\">\n",
       "  <thead>\n",
       "    <tr>\n",
       "      <th></th>\n",
       "      <th colspan=\"8\" halign=\"left\">Value</th>\n",
       "    </tr>\n",
       "    <tr>\n",
       "      <th></th>\n",
       "      <th>count</th>\n",
       "      <th>mean</th>\n",
       "      <th>std</th>\n",
       "      <th>min</th>\n",
       "      <th>25%</th>\n",
       "      <th>50%</th>\n",
       "      <th>75%</th>\n",
       "      <th>max</th>\n",
       "    </tr>\n",
       "    <tr>\n",
       "      <th>Species</th>\n",
       "      <th></th>\n",
       "      <th></th>\n",
       "      <th></th>\n",
       "      <th></th>\n",
       "      <th></th>\n",
       "      <th></th>\n",
       "      <th></th>\n",
       "      <th></th>\n",
       "    </tr>\n",
       "  </thead>\n",
       "  <tbody>\n",
       "    <tr>\n",
       "      <th>NO</th>\n",
       "      <td>8567.0</td>\n",
       "      <td>11.484230</td>\n",
       "      <td>18.802801</td>\n",
       "      <td>0.0</td>\n",
       "      <td>1.7</td>\n",
       "      <td>4.9</td>\n",
       "      <td>13.5</td>\n",
       "      <td>256.29999</td>\n",
       "    </tr>\n",
       "    <tr>\n",
       "      <th>NO2</th>\n",
       "      <td>8567.0</td>\n",
       "      <td>36.463254</td>\n",
       "      <td>18.385162</td>\n",
       "      <td>0.0</td>\n",
       "      <td>22.6</td>\n",
       "      <td>34.4</td>\n",
       "      <td>48.0</td>\n",
       "      <td>126.60000</td>\n",
       "    </tr>\n",
       "    <tr>\n",
       "      <th>NOX</th>\n",
       "      <td>2343.0</td>\n",
       "      <td>71.523261</td>\n",
       "      <td>42.649111</td>\n",
       "      <td>2.9</td>\n",
       "      <td>40.8</td>\n",
       "      <td>62.3</td>\n",
       "      <td>95.0</td>\n",
       "      <td>485.79999</td>\n",
       "    </tr>\n",
       "    <tr>\n",
       "      <th>O3</th>\n",
       "      <td>8535.0</td>\n",
       "      <td>35.084663</td>\n",
       "      <td>23.020574</td>\n",
       "      <td>0.0</td>\n",
       "      <td>17.8</td>\n",
       "      <td>33.5</td>\n",
       "      <td>48.5</td>\n",
       "      <td>143.89999</td>\n",
       "    </tr>\n",
       "    <tr>\n",
       "      <th>PM10</th>\n",
       "      <td>8275.0</td>\n",
       "      <td>17.570356</td>\n",
       "      <td>11.739188</td>\n",
       "      <td>-0.6</td>\n",
       "      <td>10.1</td>\n",
       "      <td>14.8</td>\n",
       "      <td>21.7</td>\n",
       "      <td>202.70000</td>\n",
       "    </tr>\n",
       "  </tbody>\n",
       "</table>\n",
       "</div>"
      ],
      "text/plain": [
       "          Value                                                        \n",
       "          count       mean        std  min   25%   50%   75%        max\n",
       "Species                                                                \n",
       "NO       8567.0  11.484230  18.802801  0.0   1.7   4.9  13.5  256.29999\n",
       "NO2      8567.0  36.463254  18.385162  0.0  22.6  34.4  48.0  126.60000\n",
       "NOX      2343.0  71.523261  42.649111  2.9  40.8  62.3  95.0  485.79999\n",
       "O3       8535.0  35.084663  23.020574  0.0  17.8  33.5  48.5  143.89999\n",
       "PM10     8275.0  17.570356  11.739188 -0.6  10.1  14.8  21.7  202.70000"
      ]
     },
     "execution_count": 12,
     "metadata": {},
     "output_type": "execute_result"
    }
   ],
   "source": [
    "data = air_data.groupby('Species')\n",
    "data.describe()"
   ]
  },
  {
   "cell_type": "code",
   "execution_count": null,
   "metadata": {
    "cell_id": "9cb1c37a14584b7498f1811333e19057"
   },
   "outputs": [],
   "source": []
  }
 ],
 "metadata": {
  "celltoolbar": "Edit Metadata",
  "kernelspec": {
   "display_name": "Python 3",
   "language": "python",
   "name": "python3"
  },
  "language_info": {
   "codemirror_mode": {
    "name": "ipython",
    "version": 3
   },
   "file_extension": ".py",
   "mimetype": "text/x-python",
   "name": "python",
   "nbconvert_exporter": "python",
   "pygments_lexer": "ipython3",
   "version": "3.6.6"
  }
 },
 "nbformat": 4,
 "nbformat_minor": 2
}
