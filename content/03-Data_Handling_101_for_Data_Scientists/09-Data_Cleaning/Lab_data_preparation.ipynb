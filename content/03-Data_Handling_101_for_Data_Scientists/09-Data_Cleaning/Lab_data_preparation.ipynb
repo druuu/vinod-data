{
 "cells": [
  {
   "cell_type": "markdown",
   "metadata": {},
   "source": [
    "# Data Preparation and Cleaning Lab\n",
    "\n",
    "Given a dataset with Air Quality for London based on various species.\n",
    "\n",
    "Courtesy : https://www.londonair.org.uk/london/asp/datasite.asp?CBXSpecies2=NOm&CBXSpecies3=NO2m&CBXSpecies4=NOXm&CBXSpecies5=O3m&CBXSpecies6=PM10m&day1=1&month1=jan&year1=2018&day2=1&month2=jan&year2=2019&period=hourly&ratidate=&site=BL0&res=6&Submit=Replot+graph\n",
    "\n",
    "Based on the dataset, you are required to do the following:\n",
    "\n",
    "1. Clean/handle missing values\n",
    "2. Detect and remove outliers in the data\n",
    "3. Remove skewness in data"
   ]
  },
  {
   "cell_type": "code",
   "execution_count": 2,
   "metadata": {},
   "outputs": [
    {
     "data": {
      "text/html": [
       "<div>\n",
       "<style scoped>\n",
       "    .dataframe tbody tr th:only-of-type {\n",
       "        vertical-align: middle;\n",
       "    }\n",
       "\n",
       "    .dataframe tbody tr th {\n",
       "        vertical-align: top;\n",
       "    }\n",
       "\n",
       "    .dataframe thead th {\n",
       "        text-align: right;\n",
       "    }\n",
       "</style>\n",
       "<table border=\"1\" class=\"dataframe\">\n",
       "  <thead>\n",
       "    <tr style=\"text-align: right;\">\n",
       "      <th></th>\n",
       "      <th>Site</th>\n",
       "      <th>Species</th>\n",
       "      <th>ReadingDateTime</th>\n",
       "      <th>Value</th>\n",
       "      <th>Units</th>\n",
       "      <th>Provisional or Ratified</th>\n",
       "    </tr>\n",
       "  </thead>\n",
       "  <tbody>\n",
       "    <tr>\n",
       "      <th>0</th>\n",
       "      <td>BL0</td>\n",
       "      <td>NO</td>\n",
       "      <td>01/01/2018 00:00</td>\n",
       "      <td>2.5</td>\n",
       "      <td>ug m-3</td>\n",
       "      <td>R</td>\n",
       "    </tr>\n",
       "    <tr>\n",
       "      <th>1</th>\n",
       "      <td>BL0</td>\n",
       "      <td>NO</td>\n",
       "      <td>01/01/2018 01:00</td>\n",
       "      <td>1.9</td>\n",
       "      <td>ug m-3</td>\n",
       "      <td>R</td>\n",
       "    </tr>\n",
       "    <tr>\n",
       "      <th>2</th>\n",
       "      <td>BL0</td>\n",
       "      <td>NO</td>\n",
       "      <td>01/01/2018 02:00</td>\n",
       "      <td>1.8</td>\n",
       "      <td>ug m-3</td>\n",
       "      <td>R</td>\n",
       "    </tr>\n",
       "    <tr>\n",
       "      <th>3</th>\n",
       "      <td>BL0</td>\n",
       "      <td>NO</td>\n",
       "      <td>01/01/2018 03:00</td>\n",
       "      <td>0.9</td>\n",
       "      <td>ug m-3</td>\n",
       "      <td>R</td>\n",
       "    </tr>\n",
       "    <tr>\n",
       "      <th>4</th>\n",
       "      <td>BL0</td>\n",
       "      <td>NO</td>\n",
       "      <td>01/01/2018 04:00</td>\n",
       "      <td>0.9</td>\n",
       "      <td>ug m-3</td>\n",
       "      <td>R</td>\n",
       "    </tr>\n",
       "  </tbody>\n",
       "</table>\n",
       "</div>"
      ],
      "text/plain": [
       "  Site Species   ReadingDateTime  Value   Units Provisional or Ratified\n",
       "0  BL0      NO  01/01/2018 00:00    2.5  ug m-3                       R\n",
       "1  BL0      NO  01/01/2018 01:00    1.9  ug m-3                       R\n",
       "2  BL0      NO  01/01/2018 02:00    1.8  ug m-3                       R\n",
       "3  BL0      NO  01/01/2018 03:00    0.9  ug m-3                       R\n",
       "4  BL0      NO  01/01/2018 04:00    0.9  ug m-3                       R"
      ]
     },
     "execution_count": 2,
     "metadata": {},
     "output_type": "execute_result"
    }
   ],
   "source": [
    "import pandas as pd\n",
    "\n",
    "air_data = pd.read_csv('../../../data/LaqnData.csv')\n",
    "air_data.head()\n",
    "\n",
    "#Write your code below"
   ]
  }
 ],
 "metadata": {
  "celltoolbar": "Edit Metadata",
  "kernelspec": {
   "display_name": "Python 3",
   "language": "python",
   "name": "python3"
  },
  "language_info": {
   "codemirror_mode": {
    "name": "ipython",
    "version": 3
   },
   "file_extension": ".py",
   "mimetype": "text/x-python",
   "name": "python",
   "nbconvert_exporter": "python",
   "pygments_lexer": "ipython3",
   "version": "3.6.5"
  }
 },
 "nbformat": 4,
 "nbformat_minor": 2
}
