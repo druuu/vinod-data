{
 "cells": [
  {
   "cell_type": "markdown",
   "metadata": {
    "cell_id": "248b38d00c9c495f8e5ac1712b6946d7"
   },
   "source": [
    "# Lab - File IO\n",
    "\n",
    "In this lab, you are required to read a json file and convert the contents of the file to csv format.\n",
    "\n",
    "Follow these instructions: \n",
    "\n",
    "1. Read the file from the URL, /data/sample-data.json\n",
    "2. The JSON is a list of documents, with each document representing a row in the CSV\n",
    "3. Each element within each document must correspond to a column.\n",
    "4. First row in the CSV must contain the headers. \n",
    "5. Output must be saved as sample-output.csv\n",
    "\n",
    "Ref: Sample data is from http://mysafeinfo.com/api/data?list=englishmonarchs&format=json"
   ]
  },
  {
   "cell_type": "code",
   "execution_count": 1,
   "metadata": {
    "cell_id": "9132f38e2d3e42bd88c56eeef2ce534e"
   },
   "outputs": [],
   "source": [
    "# Write your code below:\n",
    "import requests\n",
    "import pandas as pd"
   ]
  },
  {
   "cell_type": "code",
   "execution_count": 2,
   "metadata": {
    "cell_id": "54587c9219f844e58d9fe46542b9dabe",
    "scrolled": true
   },
   "outputs": [
    {
     "name": "stdout",
     "output_type": "stream",
     "text": [
      "{'id': 1, 'nm': 'Edward the Elder', 'cty': 'United Kingdom', 'hse': 'House of Wessex', 'yrs': '899-925'}\n"
     ]
    },
    {
     "data": {
      "text/plain": [
       "dict"
      ]
     },
     "execution_count": 2,
     "metadata": {},
     "output_type": "execute_result"
    }
   ],
   "source": [
    "url = 'http://mysafeinfo.com/api/data?list=englishmonarchs&format=json'\n",
    "json_obj_list = requests.get(url).json()\n",
    "print(json_obj_list[0])\n",
    "type(json_obj_list[0])"
   ]
  },
  {
   "cell_type": "code",
   "execution_count": 3,
   "metadata": {
    "cell_id": "2f9d7b096a94469a81a9ca40ac8234bb"
   },
   "outputs": [],
   "source": [
    "to_dict = {}\n",
    "for json_obj in json_obj_list :\n",
    "    \n",
    "    for key, value in json_obj.items() :\n",
    "        \n",
    "        if key not in to_dict.keys() :\n",
    "            to_dict[key] = []\n",
    "            \n",
    "        to_dict[key].append(value)\n",
    "    "
   ]
  },
  {
   "cell_type": "code",
   "execution_count": 4,
   "metadata": {
    "cell_id": "6b126bcb488d43d69c6906061cdf6109"
   },
   "outputs": [
    {
     "data": {
      "text/html": [
       "<div>\n",
       "<style scoped>\n",
       "    .dataframe tbody tr th:only-of-type {\n",
       "        vertical-align: middle;\n",
       "    }\n",
       "\n",
       "    .dataframe tbody tr th {\n",
       "        vertical-align: top;\n",
       "    }\n",
       "\n",
       "    .dataframe thead th {\n",
       "        text-align: right;\n",
       "    }\n",
       "</style>\n",
       "<table border=\"1\" class=\"dataframe\">\n",
       "  <thead>\n",
       "    <tr style=\"text-align: right;\">\n",
       "      <th></th>\n",
       "      <th>id</th>\n",
       "      <th>nm</th>\n",
       "      <th>cty</th>\n",
       "      <th>hse</th>\n",
       "      <th>yrs</th>\n",
       "    </tr>\n",
       "  </thead>\n",
       "  <tbody>\n",
       "    <tr>\n",
       "      <th>0</th>\n",
       "      <td>1</td>\n",
       "      <td>Edward the Elder</td>\n",
       "      <td>United Kingdom</td>\n",
       "      <td>House of Wessex</td>\n",
       "      <td>899-925</td>\n",
       "    </tr>\n",
       "    <tr>\n",
       "      <th>1</th>\n",
       "      <td>2</td>\n",
       "      <td>Athelstan</td>\n",
       "      <td>United Kingdom</td>\n",
       "      <td>House of Wessex</td>\n",
       "      <td>925-940</td>\n",
       "    </tr>\n",
       "    <tr>\n",
       "      <th>2</th>\n",
       "      <td>3</td>\n",
       "      <td>Edmund</td>\n",
       "      <td>United Kingdom</td>\n",
       "      <td>House of Wessex</td>\n",
       "      <td>940-946</td>\n",
       "    </tr>\n",
       "    <tr>\n",
       "      <th>3</th>\n",
       "      <td>4</td>\n",
       "      <td>Edred</td>\n",
       "      <td>United Kingdom</td>\n",
       "      <td>House of Wessex</td>\n",
       "      <td>946-955</td>\n",
       "    </tr>\n",
       "    <tr>\n",
       "      <th>4</th>\n",
       "      <td>5</td>\n",
       "      <td>Edwy</td>\n",
       "      <td>United Kingdom</td>\n",
       "      <td>House of Wessex</td>\n",
       "      <td>955-959</td>\n",
       "    </tr>\n",
       "  </tbody>\n",
       "</table>\n",
       "</div>"
      ],
      "text/plain": [
       "   id                nm             cty              hse      yrs\n",
       "0   1  Edward the Elder  United Kingdom  House of Wessex  899-925\n",
       "1   2         Athelstan  United Kingdom  House of Wessex  925-940\n",
       "2   3            Edmund  United Kingdom  House of Wessex  940-946\n",
       "3   4             Edred  United Kingdom  House of Wessex  946-955\n",
       "4   5              Edwy  United Kingdom  House of Wessex  955-959"
      ]
     },
     "execution_count": 4,
     "metadata": {},
     "output_type": "execute_result"
    }
   ],
   "source": [
    "pd.DataFrame(to_dict).head()"
   ]
  },
  {
   "cell_type": "code",
   "execution_count": 5,
   "metadata": {
    "cell_id": "6b2a7e8335304aaf9ab7706ef3abdaeb"
   },
   "outputs": [
    {
     "data": {
      "text/html": [
       "<div>\n",
       "<style scoped>\n",
       "    .dataframe tbody tr th:only-of-type {\n",
       "        vertical-align: middle;\n",
       "    }\n",
       "\n",
       "    .dataframe tbody tr th {\n",
       "        vertical-align: top;\n",
       "    }\n",
       "\n",
       "    .dataframe thead th {\n",
       "        text-align: right;\n",
       "    }\n",
       "</style>\n",
       "<table border=\"1\" class=\"dataframe\">\n",
       "  <thead>\n",
       "    <tr style=\"text-align: right;\">\n",
       "      <th></th>\n",
       "      <th>id</th>\n",
       "      <th>nm</th>\n",
       "      <th>cty</th>\n",
       "      <th>hse</th>\n",
       "      <th>yrs</th>\n",
       "    </tr>\n",
       "  </thead>\n",
       "  <tbody>\n",
       "    <tr>\n",
       "      <th>52</th>\n",
       "      <td>53</td>\n",
       "      <td>Edward VII</td>\n",
       "      <td>United Kingdom</td>\n",
       "      <td>House of Saxe-Coburg-Gotha</td>\n",
       "      <td>1901-1910</td>\n",
       "    </tr>\n",
       "    <tr>\n",
       "      <th>53</th>\n",
       "      <td>54</td>\n",
       "      <td>George V</td>\n",
       "      <td>United Kingdom</td>\n",
       "      <td>House of Windsor</td>\n",
       "      <td>1910-1936</td>\n",
       "    </tr>\n",
       "    <tr>\n",
       "      <th>54</th>\n",
       "      <td>55</td>\n",
       "      <td>Edward VIII</td>\n",
       "      <td>United Kingdom</td>\n",
       "      <td>House of Windsor</td>\n",
       "      <td>1936</td>\n",
       "    </tr>\n",
       "    <tr>\n",
       "      <th>55</th>\n",
       "      <td>56</td>\n",
       "      <td>George VI</td>\n",
       "      <td>United Kingdom</td>\n",
       "      <td>House of Windsor</td>\n",
       "      <td>1936-1952</td>\n",
       "    </tr>\n",
       "    <tr>\n",
       "      <th>56</th>\n",
       "      <td>57</td>\n",
       "      <td>Elizabeth II</td>\n",
       "      <td>United Kingdom</td>\n",
       "      <td>House of Windsor</td>\n",
       "      <td>1952-</td>\n",
       "    </tr>\n",
       "  </tbody>\n",
       "</table>\n",
       "</div>"
      ],
      "text/plain": [
       "    id            nm             cty                         hse        yrs\n",
       "52  53    Edward VII  United Kingdom  House of Saxe-Coburg-Gotha  1901-1910\n",
       "53  54      George V  United Kingdom            House of Windsor  1910-1936\n",
       "54  55   Edward VIII  United Kingdom            House of Windsor       1936\n",
       "55  56     George VI  United Kingdom            House of Windsor  1936-1952\n",
       "56  57  Elizabeth II  United Kingdom            House of Windsor      1952-"
      ]
     },
     "execution_count": 5,
     "metadata": {},
     "output_type": "execute_result"
    }
   ],
   "source": [
    "pd.DataFrame(to_dict).tail()"
   ]
  },
  {
   "cell_type": "code",
   "execution_count": 6,
   "metadata": {
    "cell_id": "2df54df04eb845198beb02ffaf8ca27d"
   },
   "outputs": [],
   "source": [
    "pd.DataFrame(to_dict).to_csv('sample_output.csv', index=False)"
   ]
  },
  {
   "cell_type": "code",
   "execution_count": 7,
   "metadata": {
    "cell_id": "b94396a64c2b43c7925e2c03d6c7db70"
   },
   "outputs": [
    {
     "data": {
      "text/html": [
       "<div>\n",
       "<style scoped>\n",
       "    .dataframe tbody tr th:only-of-type {\n",
       "        vertical-align: middle;\n",
       "    }\n",
       "\n",
       "    .dataframe tbody tr th {\n",
       "        vertical-align: top;\n",
       "    }\n",
       "\n",
       "    .dataframe thead th {\n",
       "        text-align: right;\n",
       "    }\n",
       "</style>\n",
       "<table border=\"1\" class=\"dataframe\">\n",
       "  <thead>\n",
       "    <tr style=\"text-align: right;\">\n",
       "      <th></th>\n",
       "      <th>id</th>\n",
       "      <th>nm</th>\n",
       "      <th>cty</th>\n",
       "      <th>hse</th>\n",
       "      <th>yrs</th>\n",
       "    </tr>\n",
       "  </thead>\n",
       "  <tbody>\n",
       "    <tr>\n",
       "      <th>0</th>\n",
       "      <td>1</td>\n",
       "      <td>Edward the Elder</td>\n",
       "      <td>United Kingdom</td>\n",
       "      <td>House of Wessex</td>\n",
       "      <td>899-925</td>\n",
       "    </tr>\n",
       "    <tr>\n",
       "      <th>1</th>\n",
       "      <td>2</td>\n",
       "      <td>Athelstan</td>\n",
       "      <td>United Kingdom</td>\n",
       "      <td>House of Wessex</td>\n",
       "      <td>925-940</td>\n",
       "    </tr>\n",
       "    <tr>\n",
       "      <th>2</th>\n",
       "      <td>3</td>\n",
       "      <td>Edmund</td>\n",
       "      <td>United Kingdom</td>\n",
       "      <td>House of Wessex</td>\n",
       "      <td>940-946</td>\n",
       "    </tr>\n",
       "    <tr>\n",
       "      <th>3</th>\n",
       "      <td>4</td>\n",
       "      <td>Edred</td>\n",
       "      <td>United Kingdom</td>\n",
       "      <td>House of Wessex</td>\n",
       "      <td>946-955</td>\n",
       "    </tr>\n",
       "    <tr>\n",
       "      <th>4</th>\n",
       "      <td>5</td>\n",
       "      <td>Edwy</td>\n",
       "      <td>United Kingdom</td>\n",
       "      <td>House of Wessex</td>\n",
       "      <td>955-959</td>\n",
       "    </tr>\n",
       "  </tbody>\n",
       "</table>\n",
       "</div>"
      ],
      "text/plain": [
       "   id                nm             cty              hse      yrs\n",
       "0   1  Edward the Elder  United Kingdom  House of Wessex  899-925\n",
       "1   2         Athelstan  United Kingdom  House of Wessex  925-940\n",
       "2   3            Edmund  United Kingdom  House of Wessex  940-946\n",
       "3   4             Edred  United Kingdom  House of Wessex  946-955\n",
       "4   5              Edwy  United Kingdom  House of Wessex  955-959"
      ]
     },
     "execution_count": 7,
     "metadata": {},
     "output_type": "execute_result"
    }
   ],
   "source": [
    "pd.read_csv('sample_output.csv').head()"
   ]
  },
  {
   "cell_type": "code",
   "execution_count": null,
   "metadata": {
    "cell_id": "e8a4c4c1ad7e4e8898e784853a53c407"
   },
   "outputs": [],
   "source": []
  }
 ],
 "metadata": {
  "kernelspec": {
   "display_name": "Python 3",
   "language": "python",
   "name": "python3"
  },
  "language_info": {
   "codemirror_mode": {
    "name": "ipython",
    "version": 3
   },
   "file_extension": ".py",
   "mimetype": "text/x-python",
   "name": "python",
   "nbconvert_exporter": "python",
   "pygments_lexer": "ipython3",
   "version": "3.6.6"
  }
 },
 "nbformat": 4,
 "nbformat_minor": 2
}
