{
 "cells": [
  {
   "cell_type": "markdown",
   "metadata": {
    "cell_id": "e96f72ecc7a9422695b17cadd994f265"
   },
   "source": [
    "# Importing data from various sources\n",
    "\n",
    "<br>\n",
    "As a Data Scientist, you may work with a lot of data! This data can be from one or more sources of any type, say databases or excel sheets or csv or json. It may also be unstructured, media data like spoken text, audio files, images etc. In this lesson we shall see how to import data from the following sources:\n",
    "\n",
    "* Text files\n",
    "* Relational data - CSV and Excel sheets\n",
    "* Objects - JSON\n",
    "* Images - TIFF\n",
    "* Audio - MP3/WAV\n",
    "* XML & HTML\n",
    "* Data Sources from the web\n",
    "\n",
    "<img src=\"../../../images/data_handling-data_formats.PNG\" width=\"50vw\">\n",
    "\n",
    "<br>\n",
    "## 1. Text files:\n",
    "\n",
    "Text files are very easy for computer to read. Text files contain data with  no structured relationships between records; they contain only basic formatting and have small fixed number of fields. While reading a text file, you need to specify the access mode of a file through the *mode* argument. This might be ** *r* **, ** *w* ** or ** *a* ** for **read**, **write** and  **append** respectively. Let's say I have a text file *sample.txt* which has the following data: <br><br>\n",
    "*\n",
    "Welcome to Colaberry!<br>\n",
    "You are currently in \"DS in 100 days\" course<br>\n",
    "Hope you have a good learning experience.<br>\n",
    "*\n",
    "\n",
    "If we want to input this data from the text file:\n",
    "\n",
    "``` python\n",
    "text_file = open(\"sample.txt\", \"r\")\n",
    "lines = text_file.read()\n",
    "print(lines)\n",
    "\n",
    "# Output\n",
    ">>> Welcome to Colaberry!\n",
    ">>> You are currently in 'DS in 100 days' course\n",
    ">>> Hope you have a good learning experience.\n",
    "```\n",
    "\n",
    "### Exercise\n",
    "\n",
    "Now open a new text file and type in the following in seperate lines as given: <br><br>\n",
    "*\n",
    "I have enrolled in \"DS in 100 days\" course <br>\n",
    "I am liking the course contents! <br>\n",
    "It's helping me learn Data Science in a easy way... <br>\n",
    "*<br>\n",
    "Save your text file as **my_sample.txt**. Now open this file, read your data and print it."
   ]
  },
  {
   "cell_type": "code",
   "execution_count": 21,
   "metadata": {
    "cell_id": "f9352ad7483745448c53308b82bbcd55"
   },
   "outputs": [],
   "source": [
    "file = open(\"textfile.txt\",\"w\") \n",
    " \n",
    "file.write('I have enrolled in \"DS in 100 days\" course \\n') \n",
    "file.write(\"I am liking the course contents! \\n\") \n",
    "file.write(\"It's helping me learn Data Science in a easy way...\") \n",
    " \n",
    "file.close() \n"
   ]
  },
  {
   "cell_type": "code",
   "execution_count": 22,
   "metadata": {
    "cell_id": "fc95ea680fbd4ece87d77a5e3b8a380c"
   },
   "outputs": [
    {
     "name": "stdout",
     "output_type": "stream",
     "text": [
      "I have enrolled in \"DS in 100 days\" course \n",
      "\n",
      "I am liking the course contents! \n",
      "\n",
      "It's helping me learn Data Science in a easy way...\n"
     ]
    }
   ],
   "source": [
    "f = open(\"textfile.txt\",\"r\")\n",
    "text = f.readlines()\n",
    "f.close()\n",
    "for txt in text:\n",
    "    print(txt)"
   ]
  },
  {
   "cell_type": "markdown",
   "metadata": {
    "cell_id": "d233bfac93de4dfea96f05c3be1489a2",
    "hide_input": true
   },
   "source": [
    "### Solution code\n",
    "\n",
    "```python\n",
    "text_file = open(\"my_sample.txt\", \"r\")\n",
    "lines = text_file.read()\n",
    "print(lines)\n",
    "```"
   ]
  },
  {
   "cell_type": "markdown",
   "metadata": {
    "cell_id": "8a2b810283ac48eb8cc25c1cdcd0bdf8"
   },
   "source": [
    "## 2. Excel sheets:\n",
    "\n",
    "Microsoft Excel is a quick way for business analysts to provide data for engineers to enrich reporting. Excel files are a huge part of any business operation and it becomes imperative that you learn exactly how to import these into python for data analysis. Python's ** *pandas* ** library has a function called **ExcelFile()** which converts data from your excel file into a pandas *dataframe*.\n",
    "\n",
    "``` python\n",
    "import pandas as pd\n",
    "\n",
    "excel_file = pd.ExcelFile(\"myfile.xls\") \n",
    "print(excel_file.sheet_names) # printing out all the sheet names in the excel file\n",
    "df = excel_file.parse('sheet1') # extracting data from the first sheet as a dataframe\n",
    "df.head()\n",
    "```\n",
    "\n",
    "### Exercise\n",
    "\n",
    "Now open an excel file in the following location **\"../../../data/sample_excel.xls\"**. Print the sheet names as well as the sheet contents. "
   ]
  },
  {
   "cell_type": "code",
   "execution_count": 29,
   "metadata": {
    "cell_id": "958dcf7a456b4f92826fc0bc3e909455"
   },
   "outputs": [
    {
     "name": "stdout",
     "output_type": "stream",
     "text": [
      "['sheet1']\n"
     ]
    },
    {
     "data": {
      "text/html": [
       "<div>\n",
       "<style scoped>\n",
       "    .dataframe tbody tr th:only-of-type {\n",
       "        vertical-align: middle;\n",
       "    }\n",
       "\n",
       "    .dataframe tbody tr th {\n",
       "        vertical-align: top;\n",
       "    }\n",
       "\n",
       "    .dataframe thead th {\n",
       "        text-align: right;\n",
       "    }\n",
       "</style>\n",
       "<table border=\"1\" class=\"dataframe\">\n",
       "  <thead>\n",
       "    <tr style=\"text-align: right;\">\n",
       "      <th></th>\n",
       "      <th>1</th>\n",
       "      <th>Eldon Base for stackable storage shelf, platinum</th>\n",
       "      <th>Muhammed MacIntyre</th>\n",
       "      <th>3</th>\n",
       "      <th>-213.25</th>\n",
       "      <th>38.94</th>\n",
       "      <th>35</th>\n",
       "      <th>Nunavut</th>\n",
       "      <th>Storage &amp; Organization</th>\n",
       "      <th>0.8</th>\n",
       "    </tr>\n",
       "  </thead>\n",
       "  <tbody>\n",
       "    <tr>\n",
       "      <th>0</th>\n",
       "      <td>2</td>\n",
       "      <td>1.7 Cubic Foot Compact \"Cube\" Office Refrigera...</td>\n",
       "      <td>Barry French</td>\n",
       "      <td>293</td>\n",
       "      <td>457.8100</td>\n",
       "      <td>208.16</td>\n",
       "      <td>68.02</td>\n",
       "      <td>Nunavut</td>\n",
       "      <td>Appliances</td>\n",
       "      <td>0.58</td>\n",
       "    </tr>\n",
       "    <tr>\n",
       "      <th>1</th>\n",
       "      <td>3</td>\n",
       "      <td>Cardinal Slant-D® Ring Binder, Heavy Gauge Vinyl</td>\n",
       "      <td>Barry French</td>\n",
       "      <td>293</td>\n",
       "      <td>46.7075</td>\n",
       "      <td>8.69</td>\n",
       "      <td>2.99</td>\n",
       "      <td>Nunavut</td>\n",
       "      <td>Binders and Binder Accessories</td>\n",
       "      <td>0.39</td>\n",
       "    </tr>\n",
       "    <tr>\n",
       "      <th>2</th>\n",
       "      <td>4</td>\n",
       "      <td>R380</td>\n",
       "      <td>Clay Rozendal</td>\n",
       "      <td>483</td>\n",
       "      <td>1198.9710</td>\n",
       "      <td>195.99</td>\n",
       "      <td>3.99</td>\n",
       "      <td>Nunavut</td>\n",
       "      <td>Telephones and Communication</td>\n",
       "      <td>0.58</td>\n",
       "    </tr>\n",
       "    <tr>\n",
       "      <th>3</th>\n",
       "      <td>5</td>\n",
       "      <td>Holmes HEPA Air Purifier</td>\n",
       "      <td>Carlos Soltero</td>\n",
       "      <td>515</td>\n",
       "      <td>30.9400</td>\n",
       "      <td>21.78</td>\n",
       "      <td>5.94</td>\n",
       "      <td>Nunavut</td>\n",
       "      <td>Appliances</td>\n",
       "      <td>0.50</td>\n",
       "    </tr>\n",
       "    <tr>\n",
       "      <th>4</th>\n",
       "      <td>6</td>\n",
       "      <td>G.E. Longer-Life Indoor Recessed Floodlight Bulbs</td>\n",
       "      <td>Carlos Soltero</td>\n",
       "      <td>515</td>\n",
       "      <td>4.4300</td>\n",
       "      <td>6.64</td>\n",
       "      <td>4.95</td>\n",
       "      <td>Nunavut</td>\n",
       "      <td>Office Furnishings</td>\n",
       "      <td>0.37</td>\n",
       "    </tr>\n",
       "  </tbody>\n",
       "</table>\n",
       "</div>"
      ],
      "text/plain": [
       "   1   Eldon Base for stackable storage shelf, platinum Muhammed MacIntyre  \\\n",
       "0  2  1.7 Cubic Foot Compact \"Cube\" Office Refrigera...       Barry French   \n",
       "1  3   Cardinal Slant-D® Ring Binder, Heavy Gauge Vinyl       Barry French   \n",
       "2  4                                               R380      Clay Rozendal   \n",
       "3  5                           Holmes HEPA Air Purifier     Carlos Soltero   \n",
       "4  6  G.E. Longer-Life Indoor Recessed Floodlight Bulbs     Carlos Soltero   \n",
       "\n",
       "     3    -213.25   38.94     35  Nunavut          Storage & Organization  \\\n",
       "0  293   457.8100  208.16  68.02  Nunavut                      Appliances   \n",
       "1  293    46.7075    8.69   2.99  Nunavut  Binders and Binder Accessories   \n",
       "2  483  1198.9710  195.99   3.99  Nunavut    Telephones and Communication   \n",
       "3  515    30.9400   21.78   5.94  Nunavut                      Appliances   \n",
       "4  515     4.4300    6.64   4.95  Nunavut              Office Furnishings   \n",
       "\n",
       "    0.8  \n",
       "0  0.58  \n",
       "1  0.39  \n",
       "2  0.58  \n",
       "3  0.50  \n",
       "4  0.37  "
      ]
     },
     "execution_count": 29,
     "metadata": {},
     "output_type": "execute_result"
    }
   ],
   "source": [
    "import pandas as pd\n",
    "\n",
    "excel_file = pd.ExcelFile(\"https://github.com/colaberry/DSin100days/blob/master/data/sample_excel.xls?raw=true\") \n",
    "print(excel_file.sheet_names) # printing out all the sheet names in the excel file\n",
    "df = excel_file.parse('sheet1') # extracting data from the first sheet as a dataframe\n",
    "df.head()"
   ]
  },
  {
   "cell_type": "markdown",
   "metadata": {
    "cell_id": "4518a3d66373457b8bb65c427098c4b2",
    "hide_input": true
   },
   "source": [
    "### Solution code\n",
    "\n",
    "```python\n",
    "import pandas as pd\n",
    "\n",
    "excel_file = pd.ExcelFile(\"../../../data/sample_excel.xls\") \n",
    "print(excel_file.sheet_names) # printing out all the sheet names in the excel file\n",
    "df = excel_file.parse('sheet1') # extracting data from the first sheet as a dataframe\n",
    "df.head()\n",
    "```"
   ]
  },
  {
   "cell_type": "markdown",
   "metadata": {
    "cell_id": "bad7bb2eef5c483cb90e58b2f7fbedc1"
   },
   "source": [
    "## 3. CSV\n",
    "\n",
    "CSV (Comma Separated Values) files usually contain mixed data types and are used to transfer large database between programs. There are multiple ways to import csv into Python. The first method we’ll look at uses the **csv** module, a powerful and versatile module available in the core python install. It has **reader()** function which reads in the data as rows, then we can print each row. The second and by far the best method, is to import it as a dataframe using the pandas **read_csv()** funtion in python. \n",
    "\n",
    "* **Method 1:**\n",
    "\n",
    "Using the CSV module\n",
    "\n",
    "```python\n",
    "import csv\n",
    "\n",
    "csv_file = csv.reader(open(\"myfile.csv\"))\n",
    "for row in csv_file:\n",
    "    print(row)\n",
    "```\n",
    "\n",
    "* **Method 2:**\n",
    "\n",
    "Using the pandas module\n",
    "\n",
    "```python\n",
    "import pandas as pd\n",
    "\n",
    "df = pd.read_csv(\"myfile.csv\")\n",
    "df.head()\n",
    "```\n",
    "\n",
    "### Exercise\n",
    "\n",
    "Now open a csv file in the following location **\"../../../data/NBA.csv\"** and use pandas to import the data into Python. After importing, use *head()* function to print the rows in your dataframe."
   ]
  },
  {
   "cell_type": "code",
   "execution_count": null,
   "metadata": {
    "cell_id": "61d29197ad384feb8260fc4625da9964",
    "collapsed": true
   },
   "outputs": [],
   "source": []
  },
  {
   "cell_type": "markdown",
   "metadata": {
    "cell_id": "058c6343a30e431f8579747bd6a2b79e",
    "hide_input": true
   },
   "source": [
    "### Solution code\n",
    "\n",
    "```python\n",
    "df = pd.read_csv(\"../../../data/NBA.csv\")\n",
    "df.head()\n",
    "```"
   ]
  },
  {
   "cell_type": "markdown",
   "metadata": {
    "cell_id": "01b75d61fe2846648678a54272a40293"
   },
   "source": [
    "## 4. XML & HTML\n",
    "\n",
    "### 4.1 XML\n",
    "\n",
    "Another common format to exchange data is XML. XML is used to structure data so that it can be stored and transported. Unfortunately, Pandas package does not have an inbuilt function to import data from XML, so we need to use standard XML package and then convert the data to Pandas DataFrames. Let's see how to do this..\n",
    "\n",
    "* First let's import data from a xml source\n",
    "\n",
    "``` python\n",
    "import requests\n",
    "\n",
    "plant_catalog_url = \"https://www.w3schools.com/xml/plant_catalog.xml\"\n",
    "xml_data = requests.get(plant_catalog_url).content\n",
    "```\n",
    "\n",
    "* Second let's see a function that converts XML to a dataframe\n",
    "\n",
    "``` python\n",
    "import xml.etree.ElementTree as ET\n",
    "import pandas as pd\n",
    "\n",
    "class convert_XML2DataFrame:\n",
    "\n",
    "    def __init__(self, xml_data):\n",
    "        self.root = ET.XML(xml_data)\n",
    "\n",
    "    def parse_root(self, root):\n",
    "        return [self.parse_element(child) for child in iter(root)]\n",
    "\n",
    "    def parse_element(self, element, parsed=None):\n",
    "        if parsed is None:\n",
    "            parsed = dict()\n",
    "        for key in element.keys():\n",
    "            parsed[key] = element.attrib.get(key)\n",
    "        if element.text:\n",
    "            parsed[element.tag] = element.text\n",
    "        for child in list(element):\n",
    "            self.parse_element(child, parsed)\n",
    "        return parsed\n",
    "\n",
    "    def process(self):\n",
    "        structured_data = self.parse_root(self.root)\n",
    "        return pd.DataFrame(structured_data)\n",
    "\n",
    "conversion = convert_XML2DataFrame(xml_data)\n",
    "xml_df = conversion.process()\n",
    "xml_df.head()\n",
    "```\n",
    "<br>\n",
    "### 4.2 HTML\n",
    "\n",
    "As a Data Scientist, sometimes you might have to search the web for some raw data needed for a project. Unfortunately the data is inside a web page and you don't want to waste time in coming up with a crappy script to scrape the data.. Luckily there's a simple way to do this in Python. The Pandas library has a built-in method called **read_html()**, to scrape tabular data from html pages.\n",
    "\n",
    "``` python\n",
    "import pandas as pd\n",
    "\n",
    "tables = pd.read_html(\"myfile.html\") # Scraping tabular data out of html file\n",
    "df = tables[0] # Transforming tables to dataframe, here I am using the first table scraped\n",
    "df.head()\n",
    "```\n",
    "\n",
    "### Exercise\n",
    "\n",
    "Now open a html file in the following location **\"../../../data/sample_html.html\"** and use pandas to import the data into Python. After importing, use *head()* function to print the rows in your dataframe."
   ]
  },
  {
   "cell_type": "code",
   "execution_count": null,
   "metadata": {
    "cell_id": "9616b5f4a2b44529839309eaf4314e69",
    "collapsed": true
   },
   "outputs": [],
   "source": []
  },
  {
   "cell_type": "markdown",
   "metadata": {
    "cell_id": "ae8f5b84930f4f0885354e52dcfbec6b",
    "hide_input": true
   },
   "source": [
    "### Solution code\n",
    "\n",
    "```python\n",
    "import pandas as pd\n",
    "\n",
    "tables = pd.read_html(\"../../../data/sample_html.html\")\n",
    "df = tables[0]\n",
    "df\n",
    "```"
   ]
  },
  {
   "cell_type": "markdown",
   "metadata": {
    "cell_id": "c3e9aac887ae455d812d56b197bda8e1"
   },
   "source": [
    "## 5. JSON\n",
    "\n",
    "Javascript Object Notation (JSON), similar to XML, is another common way for exchange of structured information over a network and sharing information across platforms. It is basically text with *dict* structure, i.e it stores data as ** *key:value pairs* **. The structure can be simple to complex. There are mutiple ways to do this.\n",
    "\n",
    "* **Method 1:**\n",
    "\n",
    "Python pandas can easliy read JSON files using the **read_json()** function. \n",
    "\n",
    "``` python\n",
    "import pandas as pd\n",
    "\n",
    "df = pd.read_json(\"myfile.json\")\n",
    "df.head()\n",
    "```\n",
    "\n",
    "* **Method 2:**\n",
    "\n",
    "There is also an alternate way of doing this. You can first read the data using **json** module, and then transform it into a dataframe.\n",
    "\n",
    "``` python\n",
    "import json\n",
    "with open('myfile.json', 'r') as f:\n",
    "    data = json.load(f)\n",
    "\n",
    "df = pd.DataFrame({'value': data})\n",
    "df.head()\n",
    "```\n",
    "\n",
    "### Exercise\n",
    "\n",
    "Now open a json file in the following location **\"../../../data/Customer.json\"** and use pandas to import the data into Python. After importing, use *head()* function to print the rows in your dataframe."
   ]
  },
  {
   "cell_type": "code",
   "execution_count": null,
   "metadata": {
    "cell_id": "d23d040fed11461b8eda832432bebae7",
    "collapsed": true
   },
   "outputs": [],
   "source": []
  },
  {
   "cell_type": "markdown",
   "metadata": {
    "cell_id": "e7b0bcd0b65c4d94ae6c554ea9d0cbcd",
    "hide_input": true
   },
   "source": [
    "### Solution code\n",
    "\n",
    "```python\n",
    "import pandas as pd\n",
    "\n",
    "df = pd.read_json(\"../../../data/Customer.json\")\n",
    "df.head()\n",
    "```"
   ]
  },
  {
   "cell_type": "markdown",
   "metadata": {
    "cell_id": "3c2ca368009f467b887bfd87800814ea"
   },
   "source": [
    "## 6. Images - TIFFs and PNGs\n",
    "\n",
    "### TIFF\n",
    "\n",
    "TIFF (Tagged Image File Format) is a kind of image format like JPEG, PNG, Bitmap and GIF. However the advantage of TIFF over other formats is that it has unparalleled image quality and file security. It is a loss-less format and it is also difficult to alter making it ideal for protecting information and archiving. Python has an imaging library called **PIL**, that can process images. \n",
    "\n",
    "* First, let's see how to use this library to import images..\n",
    "\n",
    "``` python\n",
    "from PIL import Image\n",
    "\n",
    "im = Image.open('myfile.tif')\n",
    "im.show()\n",
    "```\n",
    "**Note:** The *.show()* function opens image in your systems's default image viewer.\n",
    "\n",
    "* Next, let's convert this image to a numpy array for processing, it's as simple as:\n",
    "\n",
    "``` python\n",
    "import numpy as np\n",
    "\n",
    "imarray = np.array(im)\n",
    "imarray\n",
    "```\n",
    "This converts your image into numpy array values, which can be used for manipulating the image.\n",
    "\n",
    "#### Exercise\n",
    "\n",
    "Now open a tiff file in the following location **\"../../../images/data_handling-sample_tiff.tiff\"** and use pil to import the data into Python. After importing, convert the image into numpy array values and print the array."
   ]
  },
  {
   "cell_type": "code",
   "execution_count": null,
   "metadata": {
    "cell_id": "b1f9786c0c57459ab6a2b3f149335c2d",
    "collapsed": true
   },
   "outputs": [],
   "source": []
  },
  {
   "cell_type": "markdown",
   "metadata": {
    "ExecuteTime": {
     "end_time": "2018-11-05T19:30:12.921022Z",
     "start_time": "2018-11-05T19:30:12.914036Z"
    },
    "cell_id": "6868c1a5ee3c400880e25197817d57dc",
    "hide_input": true
   },
   "source": [
    "### Solution code\n",
    "\n",
    "```python\n",
    "from PIL import Image\n",
    "\n",
    "im = Image.open('../../../images/data_handling-sample_tiff.tif')\n",
    "im.show()\n",
    "\n",
    "\n",
    "import numpy as np\n",
    "\n",
    "imarray = np.array(im)\n",
    "imarray\n",
    "```"
   ]
  },
  {
   "cell_type": "markdown",
   "metadata": {
    "cell_id": "3446b6a908c643e98df8d0ac759e4441"
   },
   "source": [
    "### PNG\n",
    "\n",
    "Portable Network Graphics (PNG) is an open image format that was created to replace the GIF (Graphics Interchange Format). It is the most widely used lossless image compression file format on the internet today. (Source: https://en.wikipedia.org/wiki/Portable_Network_Graphics)\n",
    "\n",
    "### Viewing an image file using matplotlib\n",
    "\n",
    "There are many libraries which allow reading, loading and analysis of images in Python. 'Pillow' is probably one of the most widely used libraries for image analysis. As seen in above section, the 'open' function from 'Image' module launches an image viewer in your local operating system and reads/displays the image file in that application. If we would like to display the image within the Jupyter Notebook, we can do so by simply plotting the image data on coordinate system. We can do this easily using the matplotlib library.\n",
    "\n",
    "The 'image' sub-module within matplotlib contains a function called 'imread()'. This function is specifically built to read image files. Once the data is read using this function, it can be passed to the 'show()' function from 'pyplot' sub-module, to display as a plot. See below for a simple example:\n",
    "\n",
    "An Example:\n",
    "```python\n",
    "# importing pyplot\n",
    "import matplotlib.pyplot as plt\n",
    "# importing image module from matplotlib\n",
    "import matplotlib.image as mpimg\n",
    "# Rendering all plots inline within the notebook\n",
    "%matplotlib inline\n",
    "\n",
    "# Reading the image file data into a variable\n",
    "py_img=mpimg.imread('../../../data/python-logo.png')\n",
    "\n",
    "# Showing/Displaying the image data as a plot\n",
    "plt.imshow(py_img)\n",
    "\n",
    "# Output\n",
    ">>>\n",
    "```\n",
    "\n",
    "<img src=\"../../../images/py-logo.PNG\" style=\"width:65vw\">\n",
    "\n",
    "#### Exercise\n",
    "\n",
    "Use the same image as in above exercise. Display **\"../../../data/tiny.png\"** image as a matplotlib plot. Refer to the example code above."
   ]
  },
  {
   "cell_type": "code",
   "execution_count": null,
   "metadata": {
    "ExecuteTime": {
     "end_time": "2018-11-05T19:34:01.333389Z",
     "start_time": "2018-11-05T19:34:01.182783Z"
    },
    "cell_id": "7f3216a24a224de280d66e79ab99bcc3",
    "collapsed": true
   },
   "outputs": [],
   "source": []
  },
  {
   "cell_type": "markdown",
   "metadata": {
    "ExecuteTime": {
     "end_time": "2018-10-31T05:46:02.703490Z",
     "start_time": "2018-10-31T05:46:02.446725Z"
    },
    "cell_id": "c107a204e0c8497581eb4eb22460459c",
    "hide_input": true
   },
   "source": [
    "### Solution code\n",
    "\n",
    "```python\n",
    "# importing pyplot\n",
    "import matplotlib.pyplot as plt\n",
    "# importing image module from matplotlib\n",
    "import matplotlib.image as mpimg\n",
    "# Rendering all plots inline within the notebook\n",
    "%matplotlib inline\n",
    "\n",
    "# Reading the image file data into a variable\n",
    "py_img=mpimg.imread('../../../data/tiny.png')\n",
    "\n",
    "# Showing/Displaying the image data as a plot\n",
    "plt.imshow(py_img)\n",
    "```"
   ]
  },
  {
   "cell_type": "markdown",
   "metadata": {
    "cell_id": "62ca8edad93b4eed8efc478dc36ce4ff"
   },
   "source": [
    "### Constituents of an image\n",
    "\n",
    "When you load the image into a numpy array and see the quantitative values and associated structure that makes up the image file, we notice that the resulting array is (generally) a 3D array. The 3 dimensions of the image signify - height, width and depth.\n",
    "\n",
    "* Height - height of the image\n",
    "* Width - width of the image\n",
    "* Depth - The color (RGB) values of each pixel\n",
    "\n",
    "The 'shape' attribute of an ndarray object will tell us about the dimensional values of an image file. In a color image, each 2D array (that constitutes to the 3D array) can be said to be a line of pixels with set 'RGB' values. The number of 'RGB' values in the 2D array denote the number of pixels in the line, also denoting the length of the line (in pixels). The number of lines that make up the 3D array would then be the height of the image in pixels.\n",
    "\n",
    "#### Exercise\n",
    "\n",
    "'tiny.png' is a 160 x 160 png image file. The image is that of a black circle on a magenta colored background.\n",
    "\n",
    "* Load the image using the link '../../../data/tiny.png'\n",
    "* Convert the image into an ndarray (Refer to above lesson) and print it out\n",
    "* Print the shape of the ndarray and observe the dimensions"
   ]
  },
  {
   "cell_type": "code",
   "execution_count": null,
   "metadata": {
    "ExecuteTime": {
     "end_time": "2018-11-01T23:24:13.689643Z",
     "start_time": "2018-11-01T23:24:12.175683Z"
    },
    "cell_id": "335abef97f2f4ff48d51a20a47ef7fd2",
    "collapsed": true,
    "hide_input": true
   },
   "outputs": [],
   "source": []
  },
  {
   "cell_type": "markdown",
   "metadata": {
    "ExecuteTime": {
     "end_time": "2018-10-31T13:29:17.937337Z",
     "start_time": "2018-10-31T13:29:17.931322Z"
    },
    "cell_id": "7f0bbe84ed174a28aea164c087c0dc85",
    "hide_input": true
   },
   "source": [
    "### Solution code\n",
    "\n",
    "```python\n",
    "from PIL import Image\n",
    "\n",
    "im = Image.open('../../../data/tiny.png')\n",
    "im.show()\n",
    "\n",
    "\n",
    "import numpy as np\n",
    "\n",
    "imarray = np.array(im)\n",
    "print(imarray, imarray.shape)\n",
    "```"
   ]
  },
  {
   "cell_type": "markdown",
   "metadata": {
    "cell_id": "023b2fd5ecf04c218819de01426c177c"
   },
   "source": [
    "### Manipulating image data - Recoloring\n",
    "\n",
    "There are many ways in which an image can be manipulated and analyzed - mostly by playing with one or more of its dimensions. Resizing, rescaling, distorting (by changing aspect ratio - i.e. ratio of height to width), recoloring are all some of the more common manipulations of images. Once the image is loaded as a ndarray, manipulation is fairly easy.\n",
    "\n",
    "For example, for the image 'tiny.png' which is an image of a black circle on a magenta background, we can easily manipulate it to show black circle on a white background. This can be simply achieved by converting all magenta colored pixels into white pixels.\n",
    "\n",
    "Example:\n",
    "```python\n",
    "# ORIGINAL IMAGE\n",
    "\n",
    "# Loading Image module from Pillow library\n",
    "from PIL import Image\n",
    "\n",
    "# Loading numpy for array manipulation of image data\n",
    "import numpy as np\n",
    "\n",
    "# importing pyplot\n",
    "import matplotlib.pyplot as plt\n",
    "\n",
    "# importing image module from matplotlib\n",
    "import matplotlib.image as mpimg\n",
    "\n",
    "# Rendering all plots inline within the notebook\n",
    "%matplotlib inline\n",
    "\n",
    "im = Image.open('../../../data/tiny.png') # Opening the image\n",
    "imarray = np.array(im) # Converting image data into n-dimensional array\n",
    "\n",
    "# Showing/Displaying the image data as a plot\n",
    "plt.imshow(imarray)\n",
    "\n",
    "# Output\n",
    ">>>\n",
    "```\n",
    "<img src=\"../../../images/before-tiny.PNG\" style=\"width:10vw\">\n",
    "<br>\n",
    "\n",
    "```python\n",
    "# IMAGE AFTER MANIPULATION (Re-coloring)\n",
    "\n",
    "# Looping the 3D array to scan for RGB values of each pixel \n",
    "for i in range(0,len(imarray)):\n",
    "    for j in range(0,len(imarray[i])):\n",
    "        if (imarray[i][j] == np.array([255,0,255])).all(): # Verify if pixel has magenta color\n",
    "            imarray[i][j] = np.array([255,255,255]) # Changing magenta pixel to white color\n",
    "            \n",
    "# Showing/Displaying the image data as a plot         \n",
    "plt.imshow(imarray)\n",
    "\n",
    "# Output\n",
    ">>>\n",
    "```\n",
    "<img src=\"../../../images/after-tiny.PNG\" style=\"width:10vw\">\n",
    "<br>\n",
    "\n",
    "Likewise, many manipulations can be done on the image. Below exercise allows you to practice re-coloring\n",
    "\n",
    "#### Exercise\n",
    "\n",
    "* Load the image \"tiny.png\" using the link \"../../../images/tiny.png\"\n",
    "* Re-color the background as white (i.e. execute above sample code example to create white background)\n",
    "* Mark a red dot in the center of the image by color exactly 100 pixels (10x10 square) at the center of the picture with the color 'red'. Use RGB value for red as (255,0,0)"
   ]
  },
  {
   "cell_type": "code",
   "execution_count": null,
   "metadata": {
    "ExecuteTime": {
     "end_time": "2018-11-27T22:01:59.427740Z",
     "start_time": "2018-11-27T22:01:59.010828Z"
    },
    "cell_id": "9cb442e39d804e3fbbf1c71414025639",
    "collapsed": true
   },
   "outputs": [],
   "source": []
  },
  {
   "cell_type": "markdown",
   "metadata": {
    "cell_id": "83f51df9a0f44fce8d8b46fd7b58d3f3",
    "hide_input": true
   },
   "source": [
    "### Solution code\n",
    "\n",
    "```python\n",
    "# Loading Image module from Pillow library\n",
    "from PIL import Image\n",
    "\n",
    "# Loading numpy for array manipulation of image data\n",
    "import numpy as np\n",
    "\n",
    "# importing pyplot\n",
    "import matplotlib.pyplot as plt\n",
    "\n",
    "# importing image module from matplotlib\n",
    "import matplotlib.image as mpimg\n",
    "\n",
    "# Rendering all plots inline within the notebook\n",
    "%matplotlib inline\n",
    "\n",
    "im = Image.open('../../../data/tiny.png') # Opening the image\n",
    "imarray = np.array(im) # Converting image data into n-dimensional array\n",
    "\n",
    "# Looping the 3D array to scan for RGB values of each pixel \n",
    "for i in range(0,len(imarray)):\n",
    "    for j in range(0,len(imarray[i])):\n",
    "        if (imarray[i][j] == np.array([255,0,255])).all(): # Verify if pixel has magenta color\n",
    "            imarray[i][j] = np.array([255,255,255]) # Changing magenta pixel to white color\n",
    "\n",
    "# Printing the shape of the array\n",
    "print(imarray.shape)\n",
    "\n",
    "# As the number of pixels on row and column is even, there would be two points which constitute the center\n",
    "\n",
    "# Coloring the red dot\n",
    "midpt = int((imarray.shape[0]/2)) # Calculating the index value around mid point of image using shape of image. Here it is 80\n",
    "\n",
    "# Recoloring 100 pixels\n",
    "for i in range(-5,5): # 5 pixels before and after the mid point\n",
    "    for j in range(-5,5): # 2nd iterator used as there are 2 dimensions on the coordinate scale\n",
    "        imarray[midpt+i][midpt+j] = np.array([255,0,0])\n",
    "\n",
    "# Showing/Displaying the image data as a plot         \n",
    "plt.imshow(imarray)\n",
    "```"
   ]
  },
  {
   "cell_type": "markdown",
   "metadata": {
    "cell_id": "02a1f3bf131140c39319081e6f8c14d1"
   },
   "source": [
    "### Manipulating image data - Vertical and Horizontal flip\n",
    "\n",
    "Another manipulation that we will learn here is to flip the image in order to obtain the mirror reflection of a given image. \n",
    "\n",
    "Note: A horizontal flip is when you flip the image on an imaginary vertical axis. A vertical flip happens when you flip the image on an imaginary horizontal axis.\n",
    "\n",
    "You may have flipped images on axes in tools such as paint brush, photoshop or any other photo editing tools. Here we will do the same using a pythonic, programmatic approach.\n",
    "\n",
    "As we know that the image data is nothing but a numpy array, we can use numpy's flip function to flip the values of the array over one of the dimensions. Here is an example:\n",
    "\n",
    "```python\n",
    "# ORIGINAL IMAGE\n",
    "\n",
    "# Loading Image module from Pillow library\n",
    "from PIL import Image\n",
    "\n",
    "# Loading numpy for array manipulation of image data\n",
    "import numpy as np\n",
    "\n",
    "# importing pyplot\n",
    "import matplotlib.pyplot as plt\n",
    "\n",
    "# importing image module from matplotlib\n",
    "import matplotlib.image as mpimg\n",
    "\n",
    "# Rendering all plots inline within the notebook\n",
    "%matplotlib inline\n",
    "\n",
    "# Reading the image file data into a variable\n",
    "py_img=mpimg.imread('../../../data/python-logo.png')\n",
    "\n",
    "# Converting image data into n-dimensional array\n",
    "imarray = np.array(py_img)\n",
    "\n",
    "# Showing/Displaying the image data as a plot\n",
    "plt.imshow(imarray)\n",
    "\n",
    "# Output\n",
    ">>>\n",
    "```\n",
    "<img src=\"../../../images/py-logo.PNG\" style=\"width:25vw\">\n",
    "<br>\n",
    "\n",
    "```python\n",
    "# IMAGE AFTER MANIPULATION (Horizontal flip)\n",
    "\n",
    "# Using numpy's flip function to flip the image array. Flip on axis=0 for a Horizontal flip\n",
    "imarray = np.flip(imarray,axis=2)\n",
    "            \n",
    "# Showing/Displaying the image data as a plot         \n",
    "plt.imshow(imarray)\n",
    "\n",
    "# Output\n",
    ">>>\n",
    "```\n",
    "<img src=\"../../../images/py-logo-hf.PNG\" style=\"width:25vw\">\n",
    "<br>\n",
    "```python\n",
    "# IMAGE AFTER MANIPULATION (Vertical flip)\n",
    "\n",
    "# Using numpy's flip function to flip the image array. Flip on axis=1 for a Vertical flip\n",
    "imarray = np.flip(imarray,axis=1)\n",
    "            \n",
    "# Showing/Displaying the image data as a plot         \n",
    "plt.imshow(imarray)\n",
    "\n",
    "# Output\n",
    ">>>\n",
    "```\n",
    "<img src=\"../../../images/py-logo-vf.PNG\" style=\"width:25vw\">\n",
    "<br>\n",
    "```python\n",
    "# IMAGE AFTER MANIPULATION (Color flip)\n",
    "\n",
    "# Using numpy's flip function to flip the image array. Flip on axis=2 for a Color flip\n",
    "imarray = np.flip(imarray,axis=2)\n",
    "            \n",
    "# Showing/Displaying the image data as a plot         \n",
    "plt.imshow(imarray)\n",
    "\n",
    "# Output\n",
    ">>>\n",
    "```\n",
    "<img src=\"../../../images/py-logo-cf.PNG\" style=\"width:25vw\">\n",
    "<br>\n",
    "<b>Note:</b> The color flip is not an exact flip of color, i.e. complement of the color may or may not be visualized as the colors are flipped on RGB scales, so values of Red, Green and Blue values are switched so as to give rise to new combination of RGB values. These new combinations may or may not be the exact complement of the original color.\n",
    "\n",
    "\n",
    "### Exercise\n",
    "\n",
    "Perform flips in order to acheive the given output image from the given input image.\n",
    "The link to input image is \"../../../data/python-logo.png\"\n",
    "\n",
    "<b>Input Image:</b>\n",
    "<img src=\"../../../images/py-logo.PNG\" style=\"width:25vw\">\n",
    "<br>\n",
    "<b>Expected Output Image:</b>\n",
    "<img src=\"../../../images/py-logo-op.PNG\" style=\"width:25vw\">"
   ]
  },
  {
   "cell_type": "code",
   "execution_count": null,
   "metadata": {
    "ExecuteTime": {
     "end_time": "2018-11-06T17:24:23.362661Z",
     "start_time": "2018-11-06T17:24:23.123301Z"
    },
    "cell_id": "63d624adc2134887af37d5fc1be5dafa"
   },
   "outputs": [],
   "source": []
  },
  {
   "cell_type": "markdown",
   "metadata": {
    "ExecuteTime": {
     "end_time": "2018-11-27T23:32:10.310087Z",
     "start_time": "2018-11-27T23:32:10.117576Z"
    },
    "cell_id": "2869cd850aca4125b5c84a122e6e4b5e",
    "hide_input": true
   },
   "source": [
    "### Solution code\n",
    "\n",
    "```python\n",
    "import numpy as np\n",
    "# importing pyplot\n",
    "import matplotlib.pyplot as plt\n",
    "# importing image module from matplotlib\n",
    "import matplotlib.image as mpimg\n",
    "# Rendering all plots inline within the notebook\n",
    "%matplotlib inline\n",
    "\n",
    "# Reading the image file data into a variable\n",
    "py_img=mpimg.imread('../../data/python-logo.png')\n",
    "\n",
    "# Showing/Displaying the image data as a plot\n",
    "# plt.imshow(py_img)\n",
    "\n",
    "imarray = np.array(py_img) # Converting image data into n-dimensional array\n",
    "\n",
    "# Looping the 3D array to scan for RGB values of each pixel \n",
    "imarray = np.flip(imarray,axis=1)\n",
    "imarray = np.flip(imarray,axis=0)\n",
    "\n",
    "# Showing/Displaying the image data as a plot         \n",
    "plt.imshow(imarray)\n",
    "```"
   ]
  },
  {
   "cell_type": "markdown",
   "metadata": {
    "cell_id": "954f2fddca9c42df8c29b0e57ebb8fb4"
   },
   "source": [
    "## 7. MP3/WAV\n",
    "\n",
    "Data can also come in audio format. Audio files are generally a large collection of signals (waves) and signal analysis/processing is commonly used to manipulate, mine and analyze audio data.\n",
    "\n",
    "There are many python libraries which help in loading, playing, visualizing and analyzing various audio codecs. The built-in \"os\" library helps us play audio files using a default player. The \"startfile\" method of os library helps us play an audio file.\n",
    "\n",
    "An example:\n",
    "```python\n",
    "import os\n",
    "os.startfile(\"<Detailed path of the file to be played>\")\n",
    "```\n",
    "\n",
    "#### Exercise\n",
    "\n",
    "Try and execute the below code and play the file on your local player. \n",
    "* This code does not give any output on this Jupyter Notebook.\n",
    "* The code uses operating system settings to launch an audio player. Since such settings are absent in this server environment, this code is best tried on a local installation of Jupyter Notebook (or any Python terminal/IDE).\n",
    "* Upon successful execution of this code, a default music player opens in your system and will start playing the audio file."
   ]
  },
  {
   "cell_type": "code",
   "execution_count": null,
   "metadata": {
    "ExecuteTime": {
     "end_time": "2018-11-06T16:40:32.379129Z",
     "start_time": "2018-11-06T16:40:31.449Z"
    },
    "cell_id": "e80a8fcda6644e4aaccecb6efdf02ff5",
    "collapsed": true
   },
   "outputs": [],
   "source": [
    "import os\n",
    "os.startfile(\"../../../data/Matteo-Amandoi_(Official_Music_HD).mp3\")"
   ]
  },
  {
   "cell_type": "markdown",
   "metadata": {
    "ExecuteTime": {
     "end_time": "2018-08-30T15:13:51.460839Z",
     "start_time": "2018-08-30T15:13:51.439705Z"
    },
    "cell_id": "4d86df054d77420a83a680bb3df87d78",
    "hide_input": true
   },
   "source": [
    "### Solution code\n",
    "\n",
    "```python\n",
    "# Just run the above code on your local installation\n",
    "```"
   ]
  },
  {
   "cell_type": "markdown",
   "metadata": {
    "cell_id": "743a3731b35a4a038bafa17b7052adc6"
   },
   "source": [
    "### Opening a WAV file and analyzing it\n",
    "\n",
    "WAV files are another format of audio encoding. WAV files can be opened with 2 common libraries:\n",
    "1. scipy.io.wavfile\n",
    "2. wave\n",
    "\n",
    "<b>Opening a WAV file:</b>\n",
    "Examples:\n",
    "```python\n",
    "# Using scipy.io.wavfile\n",
    "from scipy.io.wavfile import read\n",
    "a = read(\"../../../data/Matteo-Amandoi__Official_Music_HD_.wav\")\n",
    "\n",
    "# Using wave\n",
    "import wave\n",
    "a = wave.open(\"../../../data/Matteo-Amandoi__Official_Music_HD_.wav\",'r') # 2nd parameter 'r' specifies 'read'mode\n",
    "```\n",
    "\n",
    "Note that the 'read' method from scipy module allows reading the entire audio file, which can be then transformed to other formats (such as an array), and analyzed. When the 'open' method from wave library is used, the file opens with a cursor, so we may read the audio source file, line by line or whole at a time, but in itself, the object 'a' (which is initialized with wave.open(\"Path to the file\")) cannot be converted into a different data format.\n",
    "\n",
    "#### Exercise\n",
    "\n",
    "Open the given audio file using scipy.io.wavefile library. Refer to the above example code."
   ]
  },
  {
   "cell_type": "code",
   "execution_count": null,
   "metadata": {
    "ExecuteTime": {
     "end_time": "2018-11-06T16:40:32.380124Z",
     "start_time": "2018-11-06T16:40:31.453Z"
    },
    "cell_id": "1778ae5b81144c24991e488635958758",
    "collapsed": true
   },
   "outputs": [],
   "source": [
    "from scipy.io.wavfile import read\n",
    "a = read(\"../../../data/Matteo-Amandoi__Official_Music_HD_.wav\")"
   ]
  },
  {
   "cell_type": "markdown",
   "metadata": {
    "ExecuteTime": {
     "end_time": "2018-09-05T14:00:40.946516Z",
     "start_time": "2018-09-05T14:00:39.752209Z"
    },
    "cell_id": "59f0340f4fff4d7b8873ce9f8ca093b8",
    "hide_input": true
   },
   "source": [
    "### Solution code\n",
    "\n",
    "```python\n",
    "# Just run the above cell\n",
    "```"
   ]
  },
  {
   "cell_type": "markdown",
   "metadata": {
    "cell_id": "5e9d45d76f054c4ebd23d567301114da"
   },
   "source": [
    "### Wave to Numpy Array and Signal Plotting\n",
    "\n",
    "When the audio file is read in its entirety using the 'scipy.io.wavfile' module, we can convert the file into a numpy object and understand the underlying programmable data that constitutes an audio file. \n",
    "\n",
    "<b>Parts of a wave file:</b> When a wave file is read using the read() method of 'scipy.io.wavfile' module, it reads the audio file in two parts:\n",
    "1. Audio sample rate - The first part of the data that is read, is an integer that conveys the sample rate of the audio data. The higher the sample rate, the more better the audio quality is said to be. The common sample rate could be around 44.1 kHz (or 44100) or higher. The significance and interpretation of this sample rate is that, every second of music/waves, are made up of 44,100 points of wave data.\n",
    "2. Audio wave data - The second part of the the data is a two dimensional array, which signifies the audio wave amplitudes. The audio can have multiple channels. Generally most audio waves have 2 channels - left and right, similar to left and right speakers. Each element of the 2D array is in itself an array with 2 elements - wave amplitudes of left and right channels.\n",
    "\n",
    "\n",
    "We can convert the amplitudes/wave data of the wave file into a numpy array, simply by using the numpy.array() method and specifying the data type as 'float' or any longer integer data types.\n",
    "\n",
    "Example:\n",
    "```python\n",
    "from scipy.io.wavfile import read\n",
    "a = read(\"../../../data/Matteo-Amandoi__Official_Music_HD_.wav\")\n",
    "\n",
    "import numpy as np\n",
    "np.array(a[1],dtype=float)\n",
    "\n",
    "# Output\n",
    ">>> array([[ 0.,  0.],\n",
    ">>>        [ 0.,  0.],\n",
    ">>>        [ 0.,  0.],\n",
    ">>>        ..., \n",
    ">>>        [ 0.,  0.],\n",
    ">>>        [ 0.,  0.],\n",
    ">>>        [ 0.,  0.]])\n",
    "```\n",
    "\n",
    "Note that the audio files' amplitudes may largely constitute zeroes or sometimes a constant number repeated across multiple time stamps. This indicates 'silence' (zero ammplitude) or 'white noise' (constant background noise amplitude).\n",
    "\n",
    "#### Exercise\n",
    "\n",
    "As mentioned above, most of the wave amplitudes are 'silent' - zero amplitudes. But when there the amplitude has some value that would mean that some sounds are being produced at that point of time.\n",
    "\n",
    "<b>Task:</b>\n",
    "* Use the link to the audio file provided.\n",
    "* Load the file using scipy.io.wavfile library and convert wave data into a numpy object. (Refer to above example code)\n",
    "* Print out the wave sample rate and first five wave amplitudes.\n",
    "* Filter out the first five non-zero amplitudes from the list of all amplitudes in the audio to verify that the audio file does have some sound in it. Use simple conditional decision statements and make sure that you limit the extraction process to first five non-zero data."
   ]
  },
  {
   "cell_type": "code",
   "execution_count": null,
   "metadata": {
    "ExecuteTime": {
     "end_time": "2018-11-06T16:40:32.381123Z",
     "start_time": "2018-11-06T16:40:31.458Z"
    },
    "cell_id": "962a1fde8ea346c6919d26facc008c08",
    "collapsed": true
   },
   "outputs": [],
   "source": [
    "audio_file_link = \"../../../data/Matteo-Amandoi__Official_Music_HD_.wav\"  "
   ]
  },
  {
   "cell_type": "markdown",
   "metadata": {
    "cell_id": "f13d08dfeb6646f2830f70f7eab68826",
    "hide_input": true
   },
   "source": [
    "### Solution code\n",
    "\n",
    "```python\n",
    "from scipy.io.wavfile import read\n",
    "import numpy as np\n",
    "\n",
    "a = read(audio_file_link)\n",
    "\n",
    "print(\"Sample rate is {:d} and wave amplitudes are {:}\".format(a[0],np.array(a[1],dtype=float)[:5]))\n",
    "\n",
    "i = 0\n",
    "\n",
    "for x in a[1]:\n",
    "    if x[0]!=0 or x[1]!=0:\n",
    "        print(x)\n",
    "        i+=1\n",
    "        if i==5:\n",
    "            break      \n",
    "```"
   ]
  },
  {
   "cell_type": "markdown",
   "metadata": {
    "cell_id": "93fd9ad8c21c45398778909c02dfb3c3"
   },
   "source": [
    "### Visualizing an audio wave\n",
    "\n",
    "We can visualize audio waves using plots. By observation we can see that the wave data, which is amplitudes, can be plotted as an index of time to see how the sound wave would look like over time. Also, the amplitude data has a value for each channel. In the above scenario we see 2 numbers - right channel value and left channel value. Each channel value is to be plotted as a distinct line plot. So amplitude values would be plotted on y-axis and index of the amplitude data can be plotted on x-axis.\n",
    "\n",
    "Now, as mentioned above, based on sample rate we can see how many amplitude data values make up one second of the audio wave. So when the scale of x-axis is adjusted to compress the sample rate number of data values into 1 second's audio data, we can visualize the sound wave on a relatively interpretable scale - the time scale. We do so by manipulating the x-ticks.\n",
    "\n",
    "In the below example, we will visualize the left and right channels wave data of the music file \"Matteo-Amandoi\\_\\_Official_Music\\_HD\\_.wav\". Note that as the file is too large, we will only try to plot the first 10 seconds of wave data (10 * 44100 wave data points). \n",
    "\n",
    "```python\n",
    "# Importing libraries\n",
    "from scipy.io.wavfile import read\n",
    "import numpy as np\n",
    "import matplotlib.pyplot as plt\n",
    "%matplotlib inline\n",
    "\n",
    "# Reading the wave file\n",
    "a = read(audio_file_link)\n",
    "\n",
    "# Clipping the first 10 seconds of wave data from the audio\n",
    "audio_clip = a[1][:441001]\n",
    "\n",
    "# Printing out sample rate and wave data\n",
    "print(\"Sample rate is {:d} and wave amplitudes are {:}\".format(a[0],np.array(audio_clip,dtype=float)[:5]))\n",
    "\n",
    "# Separating left and right channel data and making the time axis\n",
    "x = []\n",
    "y_left = []\n",
    "y_right = []\n",
    "\n",
    "for index,number in enumerate(np.array(audio_clip,dtype=float)):\n",
    "    x.append(index+1)\n",
    "    y_left.append(number[0])\n",
    "    y_right.append(number[1])\n",
    "\n",
    "# Creating the plots    \n",
    "plt.figure(figsize=(16, 4))\n",
    "plt.subplot(2, 1, 1)\n",
    "plt.plot(x, y_right, color='blue', alpha=0.5)\n",
    "\n",
    "# labels\n",
    "plt.ylabel('Wave amplitude')\n",
    "plt.xlabel('Time in seconds')\n",
    "\n",
    "# Modifying x-ticks to show wave data per second\n",
    "tick_loc = range(44100,(len(audio_clip))+1,44100)\n",
    "tick_lab = range(1,len(tick_loc)+1)\n",
    "\n",
    "plt.xticks(tick_loc,tick_lab)\n",
    "plt.title('Audio Wave of Amandoi - Right Channel')\n",
    "\n",
    "# Creating the plots\n",
    "plt.figure(figsize=(16, 4))\n",
    "plt.subplot(2, 1, 2)\n",
    "plt.plot(x, y_left, color='green', alpha=0.5)\n",
    "\n",
    "# labels\n",
    "plt.ylabel('Wave amplitude')\n",
    "plt.xlabel('Time in seconds')\n",
    "\n",
    "# Modifying x-ticks to show wave data per second\n",
    "tick_loc = range(44100,(len(audio_clip))+1,44100)\n",
    "tick_lab = range(1,len(tick_loc)+1)\n",
    "\n",
    "plt.xticks(tick_loc,tick_lab)\n",
    "plt.title('Audio Wave of Amandoi - Left Channel')\n",
    "\n",
    "# Output\n",
    "```\n",
    "\n",
    "<img src=\"../../../images/amandoi-audio.PNG\" style=\"width: 65vw;\"> <br>\n",
    "\n",
    "Note that the first 5 seconds of the audio is 0 amplitude, flat lines because it is silent and there is no music in these 5 seconds.\n",
    "\n",
    "#### Exercise\n",
    "\n",
    "* Replot the above audio file where you can overlap the left channel and right channel wave data.\n",
    "* Do not forget to clip only the first 10 seconds of the audio. (Hint: You may reuse most of the above example code).\n",
    "* Compare the two channel waves and visually identify some differences/similarities. Write down the conclusions."
   ]
  },
  {
   "cell_type": "code",
   "execution_count": null,
   "metadata": {
    "ExecuteTime": {
     "end_time": "2018-09-13T16:14:33.828268Z",
     "start_time": "2018-09-13T16:14:29.960931Z"
    },
    "cell_id": "75143fbfa7a6477f8b1aaca5f0d4fb2b",
    "collapsed": true
   },
   "outputs": [],
   "source": []
  },
  {
   "cell_type": "markdown",
   "metadata": {
    "cell_id": "644196fad2b1499281a6a94b78fc45c9",
    "hide_input": true
   },
   "source": [
    "### Solution code\n",
    "\n",
    "```python\n",
    "# Importing libraries\n",
    "from scipy.io.wavfile import read\n",
    "import numpy as np\n",
    "import matplotlib.pyplot as plt\n",
    "%matplotlib inline\n",
    "\n",
    "# Reading the wave file\n",
    "a = read(audio_file_link)\n",
    "\n",
    "# Clipping the first 10 seconds of wave data from the audio\n",
    "audio_clip = a[1][:441001]\n",
    "\n",
    "# Printing out sample rate and wave data\n",
    "print(\"Sample rate is {:d} and wave amplitudes are {:}\".format(a[0],np.array(audio_clip,dtype=float)[:5]))\n",
    "\n",
    "# Separating left and right channel data and making the time axis\n",
    "x = []\n",
    "y_left = []\n",
    "y_right = []\n",
    "\n",
    "for index,number in enumerate(np.array(audio_clip,dtype=float)):\n",
    "    x.append(index+1)\n",
    "    y_left.append(number[0])\n",
    "    y_right.append(number[1])\n",
    "\n",
    "# Creating the plots\n",
    "plt.subplots(figsize=(16, 4))\n",
    "plt.plot(x, y_right, color='blue', alpha=0.5)\n",
    "plt.plot(x, y_left, color='green', alpha=0.5)\n",
    "\n",
    "# labels\n",
    "plt.ylabel('Wave amplitude')\n",
    "plt.xlabel('Time in seconds')\n",
    "\n",
    "# Modifying x-ticks to show wave data per second\n",
    "tick_loc = range(44100,(len(audio_clip))+1,44100)\n",
    "tick_lab = range(1,len(tick_loc)+1)\n",
    "\n",
    "plt.xticks(tick_loc,tick_lab)\n",
    "plt.title('Audio Wave of Amandoi')\n",
    "\n",
    "\n",
    "# Conclusion\n",
    "# From the plot you will observe that for most part of the audio the left and right channels \n",
    "# have same amplitudes and wave patterns. However, from 6th second to 7.5 seconds the left channels\n",
    "# amplitudes are slightly higher than the right channels amplitudes. Similarly, from 7.5 seconds onwards \n",
    "# until 9th second, the right channel has slightly higher amplitudes than the left channel amplitudes. \n",
    "```"
   ]
  },
  {
   "cell_type": "markdown",
   "metadata": {
    "cell_id": "a9bca26ecff04dd18e66532357d58c09"
   },
   "source": [
    "## 8. Data Sources from the web\n",
    "\n",
    "Sometimes the data we want to use is not readily available, we will have to find it from web sources. These can be **url links** to csv, html, json or other files. Interestingly the functions in pandas support data sources from url links by default. You need to choose the appropriate function for that corresponding data source. Let's see some examples:\n",
    "\n",
    "* **Reading csv file from web**\n",
    "``` python\n",
    "pd.read_csv('https://archive.ics.uci.edu/ml/machine-learning-databases/iris/iris.data')\n",
    "```\n",
    "\n",
    "* **Reading html file from web**\n",
    "``` python\n",
    "tables = pd.read_html(\"https://www.fantasypros.com/nfl/reports/leaders/qb.php?year=2015\")\n",
    "df = tables[0]\n",
    "df.head()\n",
    "```\n",
    "\n",
    "* **Reading json file from web**\n",
    "``` python\n",
    "df = pd.read_json('http://maps.googleapis.com/maps/api/geocode/json?address=google')\n",
    "df.head()\n",
    "```\n",
    "\n",
    "In short, web sources are treated the same way as actual files.\n",
    "\n",
    "### Exercise\n",
    "\n",
    "Now analyze and import data from the following webpage using Python. <br>\n",
    "https://people.sc.fsu.edu/~jburkardt/data/csv/snakes_count_1000.csv <br>\n",
    "After importing, use *head()* function to print the rows in your dataframe."
   ]
  },
  {
   "cell_type": "code",
   "execution_count": null,
   "metadata": {
    "cell_id": "2a318a827fd84b5f807ecae4e7d2faed",
    "collapsed": true
   },
   "outputs": [],
   "source": []
  },
  {
   "cell_type": "markdown",
   "metadata": {
    "cell_id": "b7e2fabcd0c04e7d8344c271ef20a5b3",
    "hide_input": true
   },
   "source": [
    "### Solution code\n",
    "\n",
    "```python\n",
    "df = pd.read_csv('https://people.sc.fsu.edu/~jburkardt/data/csv/snakes_count_1000.csv')\n",
    "df.head()\n",
    "```"
   ]
  }
 ],
 "metadata": {
  "celltoolbar": "Edit Metadata",
  "kernelspec": {
   "display_name": "Python 3",
   "language": "python",
   "name": "python3"
  },
  "language_info": {
   "codemirror_mode": {
    "name": "ipython",
    "version": 3
   },
   "file_extension": ".py",
   "mimetype": "text/x-python",
   "name": "python",
   "nbconvert_exporter": "python",
   "pygments_lexer": "ipython3",
   "version": "3.6.6"
  }
 },
 "nbformat": 4,
 "nbformat_minor": 2
}
