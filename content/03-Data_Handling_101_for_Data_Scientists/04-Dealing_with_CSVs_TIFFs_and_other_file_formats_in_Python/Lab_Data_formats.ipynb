{
 "cells": [
  {
   "cell_type": "markdown",
   "metadata": {
    "cell_id": "cb0ac200e8dc45058df354ec6cfe8efc"
   },
   "source": [
    "# Lab:\n",
    "\n",
    "## a) Data Formats\n",
    "\n",
    "In this lab, you are required to write code to make sense of a json text and convert text to an XML format.\n",
    "\n",
    "Follow these instructions: \n",
    "\n",
    "1. Given a variable with json_input with a json text.\n",
    "2. The JSON text is a document representing elements and values. The values could be string, sub-documents or list. \n",
    "3. Each element with the document must converted to an XML format with names, being the tags and values being the inner text within the XML.\n",
    "5. Output must be saved as xml_output variable and print it.\n",
    "\n",
    "Reference : The input JSON is part of openweathermaps sample - https://samples.openweathermap.org/data/2.5/weather?id=2172797&appid=b6907d289e10d714a6e88b30761fae22\n",
    "\n",
    "\n",
    "## b) Image Flip\n",
    "\n",
    "Perform a vertical flip on a given image. The 'Pythonic' way of programming is to use minimum and most efficient code in order to acheive a certain output. Code a pythonic solution using numpy's flip function. Also, code the same solution without using numpy's flip function. The link to the image is \"../../../images/lenna.png\"."
   ]
  },
  {
   "cell_type": "code",
   "execution_count": 3,
   "metadata": {
    "cell_id": "869afac5558d4ad68aa48380770abbb7",
    "collapsed": true
   },
   "outputs": [],
   "source": [
    "input_json = '{\"coord\":{\"lon\":145.77,\"lat\":-16.92},\"weather\":[{\"id\":802,\"main\":\"Clouds\",\"description\":\"scattered clouds\",\"icon\":\"03n\"}],\"base\":\"stations\",\"main\":{\"temp\":300.15,\"pressure\":1007,\"humidity\":74,\"temp_min\":300.15,\"temp_max\":300.15},\"visibility\":10000,\"wind\":{\"speed\":3.6,\"deg\":160},\"clouds\":{\"all\":40},\"dt\":1485790200,\"sys\":{\"type\":1,\"id\":8166,\"message\":0.2064,\"country\":\"AU\",\"sunrise\":1485720272,\"sunset\":1485766550},\"id\":2172797,\"name\":\"Cairns\",\"cod\":200}'\n",
    "\n",
    "#Write/modify your code below:\n",
    "\n",
    "output_xml = ''"
   ]
  },
  {
   "cell_type": "code",
   "execution_count": null,
   "metadata": {
    "cell_id": "22ca74a2f37049d182afb859e5491eeb"
   },
   "outputs": [],
   "source": []
  },
  {
   "cell_type": "code",
   "execution_count": 1,
   "metadata": {
    "ExecuteTime": {
     "end_time": "2018-11-30T22:45:30.986529Z",
     "start_time": "2018-11-30T22:45:30.981567Z"
    },
    "cell_id": "d2c14917cc6245619030b33bfca5c9a1"
   },
   "outputs": [],
   "source": [
    "image_link = '../../../images/lenna.png'\n"
   ]
  }
 ],
 "metadata": {
  "kernelspec": {
   "display_name": "Python 3",
   "language": "python",
   "name": "python3"
  },
  "language_info": {
   "codemirror_mode": {
    "name": "ipython",
    "version": 3
   },
   "file_extension": ".py",
   "mimetype": "text/x-python",
   "name": "python",
   "nbconvert_exporter": "python",
   "pygments_lexer": "ipython3",
   "version": "3.6.6"
  }
 },
 "nbformat": 4,
 "nbformat_minor": 2
}
